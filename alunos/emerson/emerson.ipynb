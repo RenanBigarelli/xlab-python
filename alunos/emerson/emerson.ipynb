{
 "cells": [
  {
   "cell_type": "markdown",
   "id": "c8de8d8d",
   "metadata": {},
   "source": [
    "### Aula 1 - 28 de maio de 2021\n",
    "#### Revisão de Python - exercícios\n",
    "\n",
    "* **Conversa sobre dunder methods**\n",
    "    * Método `dir`\n",
    "    * Uso do `__repr__`\n",
    "    * Pq não dá para somar `str` e `int`? Dunder `__add__`.\n",
    "* **Listas e tipos de dados**\n",
    "    * Métodos de lista:\n",
    "        * `.append`\n",
    "        * `.pop`\n",
    "        * `.insert`\n",
    "        * `.sort`\n",
    "    * Verificar se um item existe na lista com `in`\n",
    "    * List comprehensions\n",
    "\n",
    "* **Duas formas de pedir ajuda no Jupyter**\n",
    "    * `lista.` e TAB para métodos de lista\n",
    "    * `lista.insert()` e Shift + TAB para help interativo da função\n",
    "\n",
    "* **Funções embutidas**\n",
    "    * `print()`\n",
    "    * `isinstance()`\n",
    "    * `sum()`\n",
    "    * [Documentação do Python](https://docs.python.org/pt-br/3/library/functions.html) \n",
    "    \n",
    "\n",
    "**Próxima aula: mensagens de erro, docstrings e aprofundar list comprehension**"
   ]
  },
  {
   "cell_type": "code",
   "execution_count": null,
   "id": "f982af70",
   "metadata": {},
   "outputs": [],
   "source": [
    "lista = [0, 1, 2, 3, 4, 5]\n",
    "\n",
    "# Verificar usando a palavra 'in'\n",
    "if 0 in lista:\n",
    "    print(\"Zero está na lista!\")\n",
    "\n",
    "for item in lista:\n",
    "    if item % 2 == 0:\n",
    "        print(item, \"é par!\")\n",
    "        \n",
    "# inserindo valores com append\n",
    "for n in range(6, 11):\n",
    "    lista.append(n)"
   ]
  },
  {
   "cell_type": "code",
   "execution_count": null,
   "id": "d8b64e1e",
   "metadata": {},
   "outputs": [],
   "source": [
    "class Book:\n",
    "    def __init__(self, title, author):\n",
    "        self.title = title\n",
    "        self.author = author\n",
    "        \n",
    "    def __repr__(self):\n",
    "        return f\"Livro '{self.title}' escrito por {self.author}.\"\n",
    "\n",
    "    \n",
    "livro = Book(\"Harry Potter\", \"JK Rowling\")\n",
    "\n",
    "# dunder repr em ação\n",
    "print(livro)"
   ]
  },
  {
   "cell_type": "code",
   "execution_count": null,
   "id": "d915a2fc",
   "metadata": {},
   "outputs": [],
   "source": []
  },
  {
   "cell_type": "code",
   "execution_count": null,
   "id": "705b6938",
   "metadata": {},
   "outputs": [],
   "source": []
  },
  {
   "cell_type": "markdown",
   "id": "48042990",
   "metadata": {},
   "source": [
    "### Exercícios\n",
    "\n",
    "#### 1. Escreva uma função que remova todos os elementos com um determinado valor de uma lista.\n",
    "\n",
    "**Exemplo**\n",
    "```python\n",
    "lista = ['a', 'b', 'c', 'a']\n",
    "remove(lista, 'a')  # retorna ['b','c'].\n",
    "```"
   ]
  },
  {
   "cell_type": "code",
   "execution_count": null,
   "id": "4ea6f27b",
   "metadata": {},
   "outputs": [],
   "source": [
    "lista = [0, 1, 2, 3, 4, 5, 'a']"
   ]
  },
  {
   "cell_type": "code",
   "execution_count": null,
   "id": "0a3aabcc",
   "metadata": {},
   "outputs": [],
   "source": [
    "def remove(lista, elemento):\n",
    "    return [item for item in lista if item != elemento]\n",
    "\n",
    "\n",
    "remove(lista, 5)"
   ]
  },
  {
   "cell_type": "markdown",
   "id": "6dde0946",
   "metadata": {},
   "source": [
    "#### 2. Escreva um programa que receba uma lista e retorna a soma de cada elemento elevado ao cubo. Caso haja um elemento que não seja numero, deve retornar uma mensagem de erro."
   ]
  },
  {
   "cell_type": "code",
   "execution_count": null,
   "id": "6318e41f",
   "metadata": {},
   "outputs": [],
   "source": [
    "def soma_ao_cubo(lista):\n",
    "    cubo = [n**3 for n in lista]\n",
    "    return sum(cubo)\n",
    "\n",
    "\n",
    "soma_ao_cubo(lista[:-1])"
   ]
  },
  {
   "cell_type": "markdown",
   "id": "28ecae68",
   "metadata": {},
   "source": [
    "#### 3. Escreva um programa que receba uma frase e retorne a palavra com mais letras `'e'`."
   ]
  },
  {
   "cell_type": "code",
   "execution_count": null,
   "id": "7a104d94",
   "metadata": {},
   "outputs": [],
   "source": [
    "frase = \"Uma frase\""
   ]
  },
  {
   "cell_type": "code",
   "execution_count": null,
   "id": "24e69d27",
   "metadata": {},
   "outputs": [],
   "source": [
    "def encontrar_palavra_com_mais_letras(frase, letra=\"e\"):\n",
    "    palavras = frase.split()\n",
    "    maior_numero_letras, palavra_com_mais_letras = 0, \"\"\n",
    "    for palavra in palavras:\n",
    "        numero_letras = palavra.lower().count(letra)\n",
    "        if numero_letras > maior_numero_letras:\n",
    "            maior_numero_letras = numero_letras\n",
    "            palavra_com_mais_letras = palavra\n",
    "           \n",
    "    print(\"A palavra com mais letras\", letra, \"é\", palavra_com_mais_letras)\n",
    "    return palavra_com_mais_letras"
   ]
  },
  {
   "cell_type": "code",
   "execution_count": null,
   "id": "c4e11360",
   "metadata": {},
   "outputs": [],
   "source": [
    "frase = \"Elefante incomoda muita gentee.\"\n",
    "encontrar_palavra_com_mais_letras(frase)"
   ]
  },
  {
   "cell_type": "markdown",
   "id": "5c6f82bf",
   "metadata": {},
   "source": [
    "#### 4. Escreva um programa que receba uma lista e retorne o valor mínimo e máximo da lista."
   ]
  },
  {
   "cell_type": "code",
   "execution_count": null,
   "id": "a392a545",
   "metadata": {},
   "outputs": [],
   "source": [
    "def min_max(lista):\n",
    "    minimo, maximo = None, None\n",
    "    for valor in lista:\n",
    "        if minimo is None or valor < minimo:\n",
    "            minimo = valor\n",
    "        if maximo is None or valor > maximo:\n",
    "            maximo = valor\n",
    "            \n",
    "    return minimo, maximo"
   ]
  },
  {
   "cell_type": "code",
   "execution_count": null,
   "id": "702e8845",
   "metadata": {},
   "outputs": [],
   "source": [
    "min_max([0,1,2,3,4,5])"
   ]
  },
  {
   "cell_type": "markdown",
   "id": "651fdf51",
   "metadata": {},
   "source": [
    "#### 5. Escreva um programa que receba uma lista de strings e depois imprima quantos elementos contenham uma substring qualquer."
   ]
  },
  {
   "cell_type": "code",
   "execution_count": null,
   "id": "044932b9",
   "metadata": {},
   "outputs": [],
   "source": [
    "def contar_substrings(lista, substring):`\n",
    "    ocorrencias_substring = 0\n",
    "    for string in lista:\n",
    "        if substring in string:\n",
    "            ocorrencias_substring += 1\n",
    "            \n",
    "    return ocorrencias_substring"
   ]
  },
  {
   "cell_type": "markdown",
   "id": "a95efb9e",
   "metadata": {},
   "source": [
    "### Aula 2 - 11 junho de 2021\n",
    "\n",
    "* Fatiando e indexando listas e strings\n",
    "    * Duas pegadinhas\n",
    "        * Indexação baseada em zero\n",
    "        * Fatia não-inclusiva\n",
    "    * `lista[inicio:fim]`\n",
    "    * `lista[inicio:fim:degrau]`\n",
    "    * `lista[::-1]` para inverter sem ser in-place\n",
    "* Cuidado ao usar métodos de lista!\n",
    "    * Modificar a lista in-place\n",
    "* Condicionais\n",
    "* Funções embutidas `min()` e `max()`\n",
    "* List comprehensions"
   ]
  },
  {
   "cell_type": "code",
   "execution_count": null,
   "id": "2733f3b6",
   "metadata": {},
   "outputs": [],
   "source": [
    "copia_lista = lista_strings[:]"
   ]
  },
  {
   "cell_type": "code",
   "execution_count": null,
   "id": "6c8b237f",
   "metadata": {},
   "outputs": [],
   "source": [
    "lista_strings[::-1]"
   ]
  },
  {
   "cell_type": "code",
   "execution_count": null,
   "id": "949c4f4f",
   "metadata": {},
   "outputs": [],
   "source": [
    "lista_strings.reverse()"
   ]
  },
  {
   "cell_type": "code",
   "execution_count": null,
   "id": "0b886556",
   "metadata": {},
   "outputs": [],
   "source": [
    "lista_strings.sort()"
   ]
  },
  {
   "cell_type": "code",
   "execution_count": null,
   "id": "07463bd2",
   "metadata": {},
   "outputs": [],
   "source": [
    "lista_strings.sort()"
   ]
  },
  {
   "cell_type": "code",
   "execution_count": null,
   "id": "7eff413d",
   "metadata": {},
   "outputs": [],
   "source": [
    "lista_strings[0] = \"um\" "
   ]
  },
  {
   "cell_type": "code",
   "execution_count": null,
   "id": "3b3d8a5e",
   "metadata": {},
   "outputs": [],
   "source": [
    "lista_strings.sort()"
   ]
  },
  {
   "cell_type": "code",
   "execution_count": null,
   "id": "cd950095",
   "metadata": {},
   "outputs": [],
   "source": [
    "lista_strings"
   ]
  },
  {
   "cell_type": "code",
   "execution_count": null,
   "id": "f31c180e",
   "metadata": {},
   "outputs": [],
   "source": [
    "ord(\"*\")"
   ]
  },
  {
   "cell_type": "code",
   "execution_count": null,
   "id": "6ce0ff50",
   "metadata": {},
   "outputs": [],
   "source": []
  }
 ],
 "metadata": {
  "kernelspec": {
   "display_name": "Python [conda env:xlab]",
   "language": "python",
   "name": "conda-env-xlab-py"
  },
  "language_info": {
   "codemirror_mode": {
    "name": "ipython",
    "version": 3
   },
   "file_extension": ".py",
   "mimetype": "text/x-python",
   "name": "python",
   "nbconvert_exporter": "python",
   "pygments_lexer": "ipython3",
   "version": "3.9.2"
  }
 },
 "nbformat": 4,
 "nbformat_minor": 5
}
