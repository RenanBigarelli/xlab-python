{
 "cells": [
  {
   "cell_type": "markdown",
   "id": "e23b50e3",
   "metadata": {},
   "source": [
    "### Aula 1 - 28 de maio de 2021\n",
    "#### Revisão de Python - exercícios\n",
    "\n",
    "* **Conversa sobre dunder methods**\n",
    "    * Método `dir`\n",
    "    * Uso do `__repr__`\n",
    "    * Pq não dá para somar `str` e `int`? Dunder `__add__`.\n",
    "* **Listas e tipos de dados**\n",
    "    * Métodos de lista:\n",
    "        * `.append`\n",
    "        * `.pop`\n",
    "        * `.insert`\n",
    "        * `.sort`\n",
    "    * Verificar se um item existe na lista com `in`\n",
    "    * List comprehensions\n",
    "\n",
    "* **Duas formas de pedir ajuda no Jupyter**\n",
    "    * `lista.` e TAB para métodos de lista\n",
    "    * `lista.insert()` e Shift + TAB para help interativo da função\n",
    "\n",
    "* **Funções embutidas**\n",
    "    * `print()`\n",
    "    * `isinstance()`\n",
    "    * `sum()`\n",
    "    * [Documentação do Python](https://docs.python.org/pt-br/3/library/functions.html) \n",
    "    \n",
    "\n",
    "**Próxima aula: mensagens de erro, docstrings e aprofundar list comprehension**"
   ]
  },
  {
   "cell_type": "code",
   "execution_count": null,
   "id": "5c85db57",
   "metadata": {},
   "outputs": [],
   "source": [
    "lista = [0, 1, 2, 3, 4, 5]\n",
    "\n",
    "# Verificar usando a palavra 'in'\n",
    "if 0 in lista:\n",
    "    print(\"Zero está na lista!\")\n",
    "\n",
    "for item in lista:\n",
    "    if item % 2 == 0:\n",
    "        print(item, \"é par!\")\n",
    "        \n",
    "# inserindo valores com append\n",
    "for n in range(6, 11):\n",
    "    lista.append(n)"
   ]
  },
  {
   "cell_type": "code",
   "execution_count": null,
   "id": "b5add900",
   "metadata": {},
   "outputs": [],
   "source": [
    "class Book:\n",
    "    def __init__(self, title, author):\n",
    "        self.title = title\n",
    "        self.author = author\n",
    "        \n",
    "    def __repr__(self):\n",
    "        return f\"Livro '{self.title}' escrito por {self.author}.\"\n",
    "\n",
    "    \n",
    "livro = Book(\"Harry Potter\", \"JK Rowling\")\n",
    "\n",
    "# dunder repr em ação\n",
    "print(livro)"
   ]
  },
  {
   "cell_type": "code",
   "execution_count": null,
   "id": "e644ab9d",
   "metadata": {},
   "outputs": [],
   "source": []
  },
  {
   "cell_type": "code",
   "execution_count": null,
   "id": "8f4fd828",
   "metadata": {},
   "outputs": [],
   "source": []
  },
  {
   "cell_type": "markdown",
   "id": "21e60f70",
   "metadata": {},
   "source": [
    "### Exercícios\n",
    "\n",
    "#### 1. Escreva uma função que remova todos os elementos com um determinado valor de uma lista.\n",
    "\n",
    "**Exemplo**\n",
    "```python\n",
    "lista = ['a', 'b', 'c', 'a']\n",
    "remove(lista, 'a')  # retorna ['b','c'].\n",
    "```"
   ]
  },
  {
   "cell_type": "code",
   "execution_count": null,
   "id": "a63d5850",
   "metadata": {},
   "outputs": [],
   "source": [
    "lista = [0, 1, 2, 3, 4, 5, 'a']"
   ]
  },
  {
   "cell_type": "code",
   "execution_count": null,
   "id": "502598e8",
   "metadata": {},
   "outputs": [],
   "source": [
    "def remove(lista, elemento):\n",
    "    return [item for item in lista if item != elemento]\n",
    "\n",
    "\n",
    "remove(lista, 5)"
   ]
  },
  {
   "cell_type": "markdown",
   "id": "064d956e",
   "metadata": {},
   "source": [
    "#### 2. Escreva um programa que receba uma lista e retorna a soma de cada elemento elevado ao cubo. Caso haja um elemento que não seja numero, deve retornar uma mensagem de erro."
   ]
  },
  {
   "cell_type": "code",
   "execution_count": null,
   "id": "a6b3db81",
   "metadata": {},
   "outputs": [],
   "source": [
    "def soma_ao_cubo(lista):\n",
    "    cubo = [n**3 for n in lista]\n",
    "    return sum(cubo)\n",
    "\n",
    "\n",
    "soma_ao_cubo(lista[:-1])"
   ]
  },
  {
   "cell_type": "markdown",
   "id": "491f05f7",
   "metadata": {},
   "source": [
    "#### 3. Escreva um programa que receba uma frase e retorne a palavra com mais letras `'e'`."
   ]
  },
  {
   "cell_type": "code",
   "execution_count": null,
   "id": "6d901b86",
   "metadata": {},
   "outputs": [],
   "source": [
    "frase = \"Uma frase\""
   ]
  },
  {
   "cell_type": "code",
   "execution_count": null,
   "id": "5d700d09",
   "metadata": {},
   "outputs": [],
   "source": [
    "def encontrar_palavra_com_mais_letras(frase, letra=\"e\"):\n",
    "    palavras = frase.split()\n",
    "    maior_numero_letras, palavra_com_mais_letras = 0, \"\"\n",
    "    for palavra in palavras:\n",
    "        numero_letras = palavra.lower().count(letra)\n",
    "        if numero_letras > maior_numero_letras:\n",
    "            maior_numero_letras = numero_letras\n",
    "            palavra_com_mais_letras = palavra\n",
    "           \n",
    "    print(\"A palavra com mais letras\", letra, \"é\", palavra_com_mais_letras)\n",
    "    return palavra_com_mais_letras"
   ]
  },
  {
   "cell_type": "code",
   "execution_count": null,
   "id": "5703d00f",
   "metadata": {},
   "outputs": [],
   "source": [
    "frase = \"Elefante incomoda muita gentee.\"\n",
    "encontrar_palavra_com_mais_letras(frase)"
   ]
  },
  {
   "cell_type": "markdown",
   "id": "249a167b",
   "metadata": {},
   "source": [
    "#### 4. Escreva um programa que receba uma lista e retorne o valor mínimo e máximo da lista."
   ]
  },
  {
   "cell_type": "code",
   "execution_count": null,
   "id": "d1bcb71e",
   "metadata": {},
   "outputs": [],
   "source": [
    "def min_max(lista):\n",
    "    minimo, maximo = None, None\n",
    "    for valor in lista:\n",
    "        if minimo is None or valor < minimo:\n",
    "            minimo = valor\n",
    "        if maximo is None or valor > maximo:\n",
    "            maximo = valor\n",
    "            \n",
    "    return minimo, maximo"
   ]
  },
  {
   "cell_type": "code",
   "execution_count": null,
   "id": "3e92de47",
   "metadata": {},
   "outputs": [],
   "source": [
    "min_max([0,1,2,3,4,5])"
   ]
  },
  {
   "cell_type": "markdown",
   "id": "903e35de",
   "metadata": {},
   "source": [
    "#### 5. Escreva um programa que receba uma lista de strings e depois imprima quantos elementos contenham uma substring qualquer."
   ]
  },
  {
   "cell_type": "code",
   "execution_count": null,
   "id": "7b0c7dca",
   "metadata": {},
   "outputs": [],
   "source": [
    "def contar_substrings(lista, substring):`\n",
    "    ocorrencias_substring = 0\n",
    "    for string in lista:\n",
    "        if substring in string:\n",
    "            ocorrencias_substring += 1\n",
    "            \n",
    "    return ocorrencias_substring"
   ]
  },
  {
   "cell_type": "markdown",
   "id": "faf4eabb",
   "metadata": {},
   "source": [
    "### Aula 2 - 11 junho de 2021\n",
    "\n",
    "* Fatiando e indexando listas e strings\n",
    "    * Duas pegadinhas\n",
    "        * Indexação baseada em zero\n",
    "        * Fatia não-inclusiva\n",
    "    * `lista[inicio:fim]`\n",
    "    * `lista[inicio:fim:degrau]`\n",
    "    * `lista[::-1]` para inverter sem ser in-place\n",
    "* Cuidado ao usar métodos de lista!\n",
    "    * Modificar a lista in-place\n",
    "* Condicionais\n",
    "* Funções embutidas `min()` e `max()`\n",
    "* List comprehensions"
   ]
  },
  {
   "cell_type": "code",
   "execution_count": null,
   "id": "588c5c0f",
   "metadata": {},
   "outputs": [],
   "source": [
    "copia_lista = lista_strings[:]"
   ]
  },
  {
   "cell_type": "code",
   "execution_count": null,
   "id": "e49a99b5",
   "metadata": {},
   "outputs": [],
   "source": [
    "lista_strings[::-1]"
   ]
  },
  {
   "cell_type": "code",
   "execution_count": null,
   "id": "a9482286",
   "metadata": {},
   "outputs": [],
   "source": [
    "lista_strings.reverse()"
   ]
  },
  {
   "cell_type": "code",
   "execution_count": null,
   "id": "25c3205f",
   "metadata": {},
   "outputs": [],
   "source": [
    "lista_strings.sort()"
   ]
  },
  {
   "cell_type": "code",
   "execution_count": null,
   "id": "591bd23b",
   "metadata": {},
   "outputs": [],
   "source": [
    "lista_strings.sort()"
   ]
  },
  {
   "cell_type": "code",
   "execution_count": null,
   "id": "a64ae7d3",
   "metadata": {},
   "outputs": [],
   "source": [
    "lista_strings[0] = \"um\" "
   ]
  },
  {
   "cell_type": "code",
   "execution_count": null,
   "id": "1bdc4a7c",
   "metadata": {},
   "outputs": [],
   "source": [
    "lista_strings.sort()"
   ]
  },
  {
   "cell_type": "code",
   "execution_count": null,
   "id": "b67887e2",
   "metadata": {},
   "outputs": [],
   "source": [
    "lista_strings"
   ]
  },
  {
   "cell_type": "code",
   "execution_count": null,
   "id": "5d14d655",
   "metadata": {},
   "outputs": [],
   "source": [
    "ord(\"*\")"
   ]
  },
  {
   "cell_type": "markdown",
   "id": "6c9cb77e",
   "metadata": {},
   "source": [
    "### Encontro 3 - 18 de junho de 2021\n",
    "\n",
    "* Exceptions\n",
    "    * [Docs do Python](https://docs.python.org/pt-br/3/library/exceptions.html)\n",
    "    * Python tem diferentes tipos de erro\n",
    "    * Todos derivam da exceção base (class `Exception`)\n",
    "    * Posso definir classes de erro customizadas para minha aplicação\n",
    "        * Mensagens de erro específicas\n",
    "        * Comportamentos para lidar com os erros\n",
    "* Classes\n",
    "    * Uso do `self`\n",
    "    * Class methods\n",
    "    * Método `__init__`\n",
    "\n",
    "\n",
    "### Pontos-chave:\n",
    "* Programas devem 'morrer cedo'\n",
    "    * Assert blocks no início das funções\n",
    "    \n",
    "### Semana que vem\n",
    "\n",
    "* Retomar métodos, métodos de classe e métodos estáticos\n",
    "* Aprofundar modelo de dados do Python"
   ]
  },
  {
   "cell_type": "code",
   "execution_count": null,
   "id": "6e4d29d1",
   "metadata": {},
   "outputs": [],
   "source": [
    "2 + \"2\""
   ]
  },
  {
   "cell_type": "code",
   "execution_count": null,
   "id": "a5c005da",
   "metadata": {},
   "outputs": [],
   "source": [
    "a + b"
   ]
  },
  {
   "cell_type": "code",
   "execution_count": null,
   "id": "1d193362",
   "metadata": {},
   "outputs": [],
   "source": [
    "dicionario = {\"a\": 0, \"b\": 1}"
   ]
  },
  {
   "cell_type": "code",
   "execution_count": null,
   "id": "5bece9eb",
   "metadata": {},
   "outputs": [],
   "source": [
    "dicionario[\"c\"]"
   ]
  },
  {
   "cell_type": "code",
   "execution_count": null,
   "id": "df1f12f9",
   "metadata": {},
   "outputs": [],
   "source": [
    "lista = [0, 1, 2]"
   ]
  },
  {
   "cell_type": "code",
   "execution_count": null,
   "id": "a1db2998",
   "metadata": {},
   "outputs": [],
   "source": [
    "lista[9230]"
   ]
  },
  {
   "cell_type": "code",
   "execution_count": null,
   "id": "3ebde479",
   "metadata": {},
   "outputs": [],
   "source": [
    "import math"
   ]
  },
  {
   "cell_type": "code",
   "execution_count": null,
   "id": "cf4ad317",
   "metadata": {},
   "outputs": [],
   "source": [
    "math.sqrt(-2)"
   ]
  },
  {
   "cell_type": "code",
   "execution_count": null,
   "id": "2b009f8d",
   "metadata": {},
   "outputs": [],
   "source": [
    "def soma(a, b):\n",
    "    \"\"\"\n",
    "    Soma / concatena os valores 'a' e 'b'.\n",
    "    \n",
    "    'a' e 'b' precisam ser ambos numéricos, ou ambos strings.\n",
    "    \"\"\"\n",
    "    try:\n",
    "        resultado = a + b\n",
    "        return resultado\n",
    "    except TypeError:\n",
    "        print(\"Você forneceu tipos inválidos!\")"
   ]
  },
  {
   "cell_type": "code",
   "execution_count": null,
   "id": "6ed307f2",
   "metadata": {},
   "outputs": [],
   "source": [
    "def soma_numeros(a, b):\n",
    "    \"\"\"\n",
    "    Soma os valores 'a' e 'b'.\n",
    "    \n",
    "    'a' e 'b' precisam ser ambos numéricos. NÃO PODEM SER STRINGS.\n",
    "    \"\"\"\n",
    "    # assertion block\n",
    "    assert isinstance(a, (int, float)), f'{a} não é numérico!'\n",
    "    assert type(b) != str, f'{b} é uma string!'\n",
    "        \n",
    "    try:\n",
    "        resultado = a + b\n",
    "        return resultado\n",
    "    except TypeError:\n",
    "        print(\"Você forneceu tipos inválidos!\")    "
   ]
  },
  {
   "cell_type": "code",
   "execution_count": null,
   "id": "e2a1e826",
   "metadata": {},
   "outputs": [],
   "source": [
    "soma_numeros(\"a\", \"b\")"
   ]
  },
  {
   "cell_type": "code",
   "execution_count": null,
   "id": "c4c1f179",
   "metadata": {},
   "outputs": [],
   "source": [
    "def soma_item_lista(a, b, c):\n",
    "    \"\"\"\n",
    "    Soma o item a[c] com b.\n",
    "    \"\"\"\n",
    "    try:\n",
    "        resultado = a[c] + b\n",
    "        return resultado\n",
    "    except IndexError:\n",
    "        print(\"Índice inválido na lista!\")\n",
    "    except TypeError as error:\n",
    "        print(\"Tipo inválido para soma.\")\n",
    "        print(error)\n"
   ]
  },
  {
   "cell_type": "code",
   "execution_count": null,
   "id": "7589509f",
   "metadata": {},
   "outputs": [],
   "source": [
    "lista = [0, 1, 2, \"3\"]"
   ]
  },
  {
   "cell_type": "code",
   "execution_count": null,
   "id": "77f4c04c",
   "metadata": {},
   "outputs": [],
   "source": [
    "with open(\"arquivo.txt\", \"w\") as f:\n",
    "    for item in lista:\n",
    "        f.write(str(item))"
   ]
  },
  {
   "cell_type": "code",
   "execution_count": null,
   "id": "6f22dd71",
   "metadata": {},
   "outputs": [],
   "source": [
    "o = open(\"arquivo.txt\", \"w\")\n",
    "\n",
    "for item in lista:\n",
    "    o.write(str(item))\n",
    "    \n",
    "# o.close()"
   ]
  },
  {
   "cell_type": "code",
   "execution_count": null,
   "id": "0af80523",
   "metadata": {},
   "outputs": [],
   "source": [
    "soma_item_lista(lista, 5, 3)"
   ]
  },
  {
   "cell_type": "code",
   "execution_count": null,
   "id": "e112a5a4",
   "metadata": {},
   "outputs": [],
   "source": [
    "import this"
   ]
  },
  {
   "cell_type": "code",
   "execution_count": null,
   "id": "f7665267",
   "metadata": {},
   "outputs": [],
   "source": [
    "isinstance(KeyError(), Exception)"
   ]
  },
  {
   "cell_type": "code",
   "execution_count": null,
   "id": "9f198a62",
   "metadata": {},
   "outputs": [],
   "source": [
    "class Publication:\n",
    "    def __init__(self, title):\n",
    "        self.title = title"
   ]
  },
  {
   "cell_type": "code",
   "execution_count": null,
   "id": "4893cd09",
   "metadata": {},
   "outputs": [],
   "source": [
    "p = Publication(\"Senhor dos Anéis\")"
   ]
  },
  {
   "cell_type": "code",
   "execution_count": null,
   "id": "b25794e7",
   "metadata": {},
   "outputs": [],
   "source": [
    "p.title"
   ]
  },
  {
   "cell_type": "code",
   "execution_count": null,
   "id": "3a711318",
   "metadata": {},
   "outputs": [],
   "source": [
    "class Author:\n",
    "    def __init__(self, name):\n",
    "        self.name = name\n",
    "        \n",
    "    def imprimir_nome(self):\n",
    "        # faça alguma coisa\n",
    "        print(\"O nome do(a) autor(a) é\", self.name, \".\")"
   ]
  },
  {
   "cell_type": "code",
   "execution_count": null,
   "id": "2e377b3a",
   "metadata": {},
   "outputs": [],
   "source": [
    "a.imprimir_nome()"
   ]
  },
  {
   "cell_type": "code",
   "execution_count": null,
   "id": "fbfca026",
   "metadata": {},
   "outputs": [],
   "source": [
    "a = Author(\"JRR Tolkien\")"
   ]
  },
  {
   "cell_type": "code",
   "execution_count": null,
   "id": "d6094b86",
   "metadata": {},
   "outputs": [],
   "source": [
    "class Book(Publication):\n",
    "    pass"
   ]
  },
  {
   "cell_type": "code",
   "execution_count": null,
   "id": "6e47c4df",
   "metadata": {},
   "outputs": [],
   "source": [
    "class BooksByElsevier(Book):\n",
    "    \n",
    "    editor = \"Elsevier\"\n",
    "    \n",
    "    def __init__(self, title):\n",
    "        self.title = title\n",
    "        \n",
    "    @classmethod\n",
    "    def change_editor(cls, editor):\n",
    "        cls.editor = editor"
   ]
  },
  {
   "cell_type": "code",
   "execution_count": null,
   "id": "0fd33062",
   "metadata": {},
   "outputs": [],
   "source": [
    "l = BooksByElsevier(\"Python para Iniciantes\")"
   ]
  },
  {
   "cell_type": "code",
   "execution_count": null,
   "id": "70fabd3d",
   "metadata": {},
   "outputs": [],
   "source": [
    "l.editor"
   ]
  },
  {
   "cell_type": "code",
   "execution_count": null,
   "id": "197d4f8c",
   "metadata": {},
   "outputs": [],
   "source": [
    "l.change_editor(\"Livros de Bolso\")"
   ]
  },
  {
   "cell_type": "code",
   "execution_count": null,
   "id": "75ede36d",
   "metadata": {},
   "outputs": [],
   "source": [
    "l.editor"
   ]
  },
  {
   "cell_type": "code",
   "execution_count": null,
   "id": "2d235671",
   "metadata": {},
   "outputs": [],
   "source": [
    "livro_dois = BooksByElsevier(\"Outro livro\")"
   ]
  },
  {
   "cell_type": "code",
   "execution_count": null,
   "id": "8a49e9aa",
   "metadata": {},
   "outputs": [],
   "source": [
    "livro_dois"
   ]
  },
  {
   "cell_type": "code",
   "execution_count": null,
   "id": "b56da9d7",
   "metadata": {},
   "outputs": [],
   "source": [
    "#### p = Book(\"Senhor dos Anéis\")\n",
    "\n",
    "isinstance(a, (Publication, Author))"
   ]
  },
  {
   "cell_type": "markdown",
   "id": "6a169937",
   "metadata": {},
   "source": [
    "### Encontro 4 - 25 de junho de 2021\n",
    "\n",
    "* O Modelo de Dados do Python\n",
    "* Baseado no Cap. 1 do livro Python Fluente\n",
    "* Docstrings\n",
    "    * Fornecem prompt de `help()`\n",
    "    * Podem ser usadas para gerar documentação automática\n",
    "        * Com Sphinx, por exemplo.\n",
    "        \n",
    "### Ponto-chave\n",
    "* Como funciona o modelo de dados do Python\n",
    "* Diferentes métodos:\n",
    "    * Dunder\n",
    "    * Métodos 'normais'\n",
    "    * `@staticmethod`\n",
    "    * `@classmethod`\n",
    "    \n",
    "### Semana que vem:\n",
    "* Property\n",
    "* + Dunder métodos"
   ]
  },
  {
   "cell_type": "code",
   "execution_count": null,
   "id": "c6a21d91",
   "metadata": {},
   "outputs": [],
   "source": [
    "from collections import namedtuple\n",
    "from random import choice"
   ]
  },
  {
   "cell_type": "code",
   "execution_count": null,
   "id": "55282aef",
   "metadata": {},
   "outputs": [],
   "source": [
    "Card = namedtuple('Card', ['rank', 'suit'])"
   ]
  },
  {
   "cell_type": "code",
   "execution_count": null,
   "id": "36848573",
   "metadata": {},
   "outputs": [],
   "source": [
    "class Deck:\n",
    "    \n",
    "    \"\"\"\n",
    "    Modelo para representar um deck de cartas.\n",
    "    \"\"\"\n",
    "       \n",
    "    ranks = [str(n) for n in range(2, 11)] + list('JQKA')\n",
    "    suits = 'espadas ouros paus copas'.split()\n",
    "    \n",
    "    def __init__(self, nome=None, marca=None, pais_de_fabricacao=None):\n",
    "        \"\"\"\n",
    "        Inicializa um Deck padrão (52 cartas.)\n",
    "        \"\"\"\n",
    "        self._cards = [Card(rank, suit) for suit in self.suits for rank in self.ranks]\n",
    "        self.nome = nome\n",
    "        self.marca = marca\n",
    "        self.pais_de_fabricacao = pais_de_fabricacao\n",
    "        print(f\"Você criou o baralho {self.nome}.\")\n",
    "        print(f\"Com as seguintes cartas:\\n\")\n",
    "        self.print_cards()\n",
    "    \n",
    "    def __len__(self):\n",
    "        return len(self._cards)\n",
    "    \n",
    "    def __getitem__(self, position):\n",
    "        return self._cards[position]\n",
    "    \n",
    "    def __repr__(self):\n",
    "        return \"Instância da classe Deck.\"\n",
    "    \n",
    "    def __str__(self):\n",
    "        return f\"Deck com {len(self)} cartas.\" \n",
    "    \n",
    "    @staticmethod\n",
    "    def ranquear_carta(carta, arg_2):\n",
    "        \"\"\"\n",
    "        Calcula o rank da Card baseado no naipe e no número/figura.\n",
    "        \n",
    "        Args:\n",
    "        carta: uma instância de Card (namedtuple)\n",
    "        \n",
    "        Returns:\n",
    "        rank da Card baseado nas regras do Truco.\n",
    "        \"\"\"\n",
    "        valor_rank = Deck.ranks.index(carta.rank)\n",
    "        print(carta)\n",
    "        return valor_rank * len(suit_valores) + suit_valores[carta.suit]\n",
    "    \n",
    "    def print_cards(self):\n",
    "        \"\"\"\n",
    "        Imprime as cartas contidas no Deck.\n",
    "        \"\"\"\n",
    "        for card in self._cards:\n",
    "            print(card)"
   ]
  },
  {
   "cell_type": "code",
   "execution_count": null,
   "id": "f0d964dc",
   "metadata": {},
   "outputs": [],
   "source": [
    "um_deck = Deck(\"Baralho Especial 3000\", \"Faber Castell\", \"China\")"
   ]
  },
  {
   "cell_type": "code",
   "execution_count": null,
   "id": "7ef7537e",
   "metadata": {},
   "outputs": [],
   "source": [
    "um_deck.nome\n",
    "um_deck.marca\n",
    "um_deck.pais_de_fabricacao"
   ]
  },
  {
   "cell_type": "code",
   "execution_count": null,
   "id": "5a80137f",
   "metadata": {},
   "outputs": [],
   "source": [
    "um_deck.ranquear_carta(um_deck[46])"
   ]
  },
  {
   "cell_type": "code",
   "execution_count": null,
   "id": "31ce5416",
   "metadata": {},
   "outputs": [],
   "source": [
    "import math"
   ]
  },
  {
   "cell_type": "markdown",
   "id": "c3cd317d",
   "metadata": {},
   "source": [
    "### Duck typing\n",
    "\n",
    "\"Se anda como um pato e faz quack como um pato, deve ser um pato.\"\n",
    "\n",
    "Se a nossa classe `Deck` tem comportamentos de sequência (no caso, o método `__getitem__`, podemos tratar como uma sequência."
   ]
  },
  {
   "cell_type": "code",
   "execution_count": null,
   "id": "55f27c1e",
   "metadata": {},
   "outputs": [],
   "source": [
    "um_deck[:10]"
   ]
  },
  {
   "cell_type": "code",
   "execution_count": null,
   "id": "0b62dbba",
   "metadata": {},
   "outputs": [],
   "source": [
    "uma_carta = Card('10', 'espadas')"
   ]
  },
  {
   "cell_type": "code",
   "execution_count": null,
   "id": "696cdc7a",
   "metadata": {},
   "outputs": [],
   "source": [
    "uma_carta in um_deck"
   ]
  },
  {
   "cell_type": "code",
   "execution_count": null,
   "id": "0cbe6e89",
   "metadata": {},
   "outputs": [],
   "source": [
    "suit_valores = dict(paus=3, copas=2, espadas=1, ouros=0)"
   ]
  },
  {
   "cell_type": "code",
   "execution_count": null,
   "id": "ef9a3685",
   "metadata": {},
   "outputs": [],
   "source": [
    "suit_valores"
   ]
  },
  {
   "cell_type": "code",
   "execution_count": null,
   "id": "31ca5cab",
   "metadata": {},
   "outputs": [],
   "source": [
    "def ranquear_carta(carta):\n",
    "    valor_rank = Deck.ranks.index(carta.rank)\n",
    "    return valor_rank * len(suit_valores) + suit_valores[carta.suit]"
   ]
  },
  {
   "cell_type": "code",
   "execution_count": null,
   "id": "e25baccb",
   "metadata": {},
   "outputs": [],
   "source": [
    "ranquear_carta(uma_carta)"
   ]
  },
  {
   "cell_type": "code",
   "execution_count": null,
   "id": "5f31c05d",
   "metadata": {},
   "outputs": [],
   "source": []
  }
 ],
 "metadata": {
  "kernelspec": {
   "display_name": "Python [conda env:xlab]",
   "language": "python",
   "name": "conda-env-xlab-py"
  },
  "language_info": {
   "codemirror_mode": {
    "name": "ipython",
    "version": 3
   },
   "file_extension": ".py",
   "mimetype": "text/x-python",
   "name": "python",
   "nbconvert_exporter": "python",
   "pygments_lexer": "ipython3",
   "version": "3.9.2"
  }
 },
 "nbformat": 4,
 "nbformat_minor": 5
}
