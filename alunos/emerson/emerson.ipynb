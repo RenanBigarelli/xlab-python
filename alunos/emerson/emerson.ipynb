{
 "cells": [
  {
   "cell_type": "markdown",
   "id": "7e7a6cbd",
   "metadata": {},
   "source": [
    "### Aula 1 - 28 de maio de 2021\n",
    "#### Revisão de Python - exercícios\n",
    "\n",
    "* **Conversa sobre dunder methods**\n",
    "    * Método `dir`\n",
    "    * Uso do `__repr__`\n",
    "    * Pq não dá para somar `str` e `int`? Dunder `__add__`.\n",
    "* **Listas e tipos de dados**\n",
    "    * Métodos de lista:\n",
    "        * `.append`\n",
    "        * `.pop`\n",
    "        * `.insert`\n",
    "        * `.sort`\n",
    "    * Verificar se um item existe na lista com `in`\n",
    "    * List comprehensions\n",
    "\n",
    "* **Duas formas de pedir ajuda no Jupyter**\n",
    "    * `lista.` e TAB para métodos de lista\n",
    "    * `lista.insert()` e Shift + TAB para help interativo da função\n",
    "\n",
    "* **Funções embutidas**\n",
    "    * `print()`\n",
    "    * `isinstance()`\n",
    "    * `sum()`\n",
    "    * [Documentação do Python](https://docs.python.org/pt-br/3/library/functions.html) \n",
    "    \n",
    "\n",
    "**Próxima aula: mensagens de erro, docstrings e aprofundar list comprehension**"
   ]
  },
  {
   "cell_type": "code",
   "execution_count": null,
   "id": "d315fd9a",
   "metadata": {},
   "outputs": [],
   "source": [
    "lista = [0, 1, 2, 3, 4, 5]\n",
    "\n",
    "# Verificar usando a palavra 'in'\n",
    "if 0 in lista:\n",
    "    print(\"Zero está na lista!\")\n",
    "\n",
    "for item in lista:\n",
    "    if item % 2 == 0:\n",
    "        print(item, \"é par!\")\n",
    "        \n",
    "# inserindo valores com append\n",
    "for n in range(6, 11):\n",
    "    lista.append(n)"
   ]
  },
  {
   "cell_type": "code",
   "execution_count": null,
   "id": "0013a7cc",
   "metadata": {},
   "outputs": [],
   "source": [
    "class Book:\n",
    "    def __init__(self, title, author):\n",
    "        self.title = title\n",
    "        self.author = author\n",
    "        \n",
    "    def __repr__(self):\n",
    "        return f\"Livro '{self.title}' escrito por {self.author}.\"\n",
    "\n",
    "    \n",
    "livro = Book(\"Harry Potter\", \"JK Rowling\")\n",
    "\n",
    "# dunder repr em ação\n",
    "print(livro)"
   ]
  },
  {
   "cell_type": "code",
   "execution_count": null,
   "id": "8004da95",
   "metadata": {},
   "outputs": [],
   "source": []
  },
  {
   "cell_type": "code",
   "execution_count": null,
   "id": "b09e11ff",
   "metadata": {},
   "outputs": [],
   "source": []
  },
  {
   "cell_type": "markdown",
   "id": "8d565354",
   "metadata": {},
   "source": [
    "### Exercícios\n",
    "\n",
    "#### 1. Escreva uma função que remova todos os elementos com um determinado valor de uma lista.\n",
    "\n",
    "**Exemplo**\n",
    "```python\n",
    "lista = ['a', 'b', 'c', 'a']\n",
    "remove(lista, 'a')  # retorna ['b','c'].\n",
    "```"
   ]
  },
  {
   "cell_type": "code",
   "execution_count": null,
   "id": "86d14f53",
   "metadata": {},
   "outputs": [],
   "source": [
    "lista = [0, 1, 2, 3, 4, 5, 'a']"
   ]
  },
  {
   "cell_type": "code",
   "execution_count": null,
   "id": "61f7b6b9",
   "metadata": {},
   "outputs": [],
   "source": [
    "def remove(lista, elemento):\n",
    "    return [item for item in lista if item != elemento]\n",
    "\n",
    "\n",
    "remove(lista, 5)"
   ]
  },
  {
   "cell_type": "markdown",
   "id": "de82b7fc",
   "metadata": {},
   "source": [
    "#### 2. Escreva um programa que receba uma lista e retorna a soma de cada elemento elevado ao cubo. Caso haja um elemento que não seja numero, deve retornar uma mensagem de erro."
   ]
  },
  {
   "cell_type": "code",
   "execution_count": null,
   "id": "cef6fb52",
   "metadata": {},
   "outputs": [],
   "source": [
    "def soma_ao_cubo(lista):\n",
    "    cubo = [n**3 for n in lista]\n",
    "    return sum(cubo)\n",
    "\n",
    "\n",
    "soma_ao_cubo(lista[:-1])"
   ]
  },
  {
   "cell_type": "markdown",
   "id": "f182fe5c",
   "metadata": {},
   "source": [
    "#### 3. Escreva um programa que receba uma frase e retorne a palavra com mais letras `'e'`."
   ]
  },
  {
   "cell_type": "code",
   "execution_count": null,
   "id": "edb504ec",
   "metadata": {},
   "outputs": [],
   "source": []
  },
  {
   "cell_type": "markdown",
   "id": "1446eddc",
   "metadata": {},
   "source": [
    "#### 4. Escreva um programa que receba uma lista e retorne o valor mínimo e máximo da lista."
   ]
  },
  {
   "cell_type": "code",
   "execution_count": null,
   "id": "4a9af407",
   "metadata": {},
   "outputs": [],
   "source": []
  },
  {
   "cell_type": "markdown",
   "id": "5815cc0a",
   "metadata": {},
   "source": [
    "#### 5. Escreva um programa que receba uma lista de strings e depois imprima quantos elementos contenham uma substring qualquer."
   ]
  },
  {
   "cell_type": "code",
   "execution_count": null,
   "id": "8d89fcb1",
   "metadata": {},
   "outputs": [],
   "source": []
  }
 ],
 "metadata": {
  "kernelspec": {
   "display_name": "Python [conda env:xlab]",
   "language": "python",
   "name": "conda-env-xlab-py"
  },
  "language_info": {
   "codemirror_mode": {
    "name": "ipython",
    "version": 3
   },
   "file_extension": ".py",
   "mimetype": "text/x-python",
   "name": "python",
   "nbconvert_exporter": "python",
   "pygments_lexer": "ipython3",
   "version": "3.9.2"
  }
 },
 "nbformat": 4,
 "nbformat_minor": 5
}
