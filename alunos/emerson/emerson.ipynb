{
 "cells": [
  {
   "cell_type": "markdown",
   "id": "f9294fae",
   "metadata": {},
   "source": [
    "### Aula 1 - 28 de maio de 2021\n",
    "#### Revisão de Python - exercícios\n",
    "\n",
    "* **Conversa sobre dunder methods**\n",
    "    * Método `dir`\n",
    "    * Uso do `__repr__`\n",
    "    * Pq não dá para somar `str` e `int`? Dunder `__add__`.\n",
    "* **Listas e tipos de dados**\n",
    "    * Métodos de lista:\n",
    "        * `.append`\n",
    "        * `.pop`\n",
    "        * `.insert`\n",
    "        * `.sort`\n",
    "    * Verificar se um item existe na lista com `in`\n",
    "    * List comprehensions\n",
    "\n",
    "* **Duas formas de pedir ajuda no Jupyter**\n",
    "    * `lista.` e TAB para métodos de lista\n",
    "    * `lista.insert()` e Shift + TAB para help interativo da função\n",
    "\n",
    "* **Funções embutidas**\n",
    "    * `print()`\n",
    "    * `isinstance()`\n",
    "    * `sum()`\n",
    "    * [Documentação do Python](https://docs.python.org/pt-br/3/library/functions.html) \n",
    "    \n",
    "\n",
    "**Próxima aula: mensagens de erro, docstrings e aprofundar list comprehension**"
   ]
  },
  {
   "cell_type": "code",
   "execution_count": null,
   "id": "4dad0151",
   "metadata": {},
   "outputs": [],
   "source": [
    "lista = [0, 1, 2, 3, 4, 5]\n",
    "\n",
    "# Verificar usando a palavra 'in'\n",
    "if 0 in lista:\n",
    "    print(\"Zero está na lista!\")\n",
    "\n",
    "for item in lista:\n",
    "    if item % 2 == 0:\n",
    "        print(item, \"é par!\")\n",
    "        \n",
    "# inserindo valores com append\n",
    "for n in range(6, 11):\n",
    "    lista.append(n)"
   ]
  },
  {
   "cell_type": "code",
   "execution_count": null,
   "id": "94d9faae",
   "metadata": {},
   "outputs": [],
   "source": [
    "class Book:\n",
    "    def __init__(self, title, author):\n",
    "        self.title = title\n",
    "        self.author = author\n",
    "        \n",
    "    def __repr__(self):\n",
    "        return f\"Livro '{self.title}' escrito por {self.author}.\"\n",
    "\n",
    "    \n",
    "livro = Book(\"Harry Potter\", \"JK Rowling\")\n",
    "\n",
    "# dunder repr em ação\n",
    "print(livro)"
   ]
  },
  {
   "cell_type": "code",
   "execution_count": null,
   "id": "d425f1a2",
   "metadata": {},
   "outputs": [],
   "source": []
  },
  {
   "cell_type": "code",
   "execution_count": null,
   "id": "37451eee",
   "metadata": {},
   "outputs": [],
   "source": []
  },
  {
   "cell_type": "markdown",
   "id": "d8c5666d",
   "metadata": {},
   "source": [
    "### Exercícios\n",
    "\n",
    "#### 1. Escreva uma função que remova todos os elementos com um determinado valor de uma lista.\n",
    "\n",
    "**Exemplo**\n",
    "```python\n",
    "lista = ['a', 'b', 'c', 'a']\n",
    "remove(lista, 'a')  # retorna ['b','c'].\n",
    "```"
   ]
  },
  {
   "cell_type": "code",
   "execution_count": null,
   "id": "94fa091e",
   "metadata": {},
   "outputs": [],
   "source": [
    "lista = [0, 1, 2, 3, 4, 5, 'a']"
   ]
  },
  {
   "cell_type": "code",
   "execution_count": null,
   "id": "0bb020b6",
   "metadata": {},
   "outputs": [],
   "source": [
    "def remove(lista, elemento):\n",
    "    return [item for item in lista if item != elemento]\n",
    "\n",
    "\n",
    "remove(lista, 5)"
   ]
  },
  {
   "cell_type": "markdown",
   "id": "a284bde8",
   "metadata": {},
   "source": [
    "#### 2. Escreva um programa que receba uma lista e retorna a soma de cada elemento elevado ao cubo. Caso haja um elemento que não seja numero, deve retornar uma mensagem de erro."
   ]
  },
  {
   "cell_type": "code",
   "execution_count": null,
   "id": "6c620b52",
   "metadata": {},
   "outputs": [],
   "source": [
    "def soma_ao_cubo(lista):\n",
    "    cubo = [n**3 for n in lista]\n",
    "    return sum(cubo)\n",
    "\n",
    "\n",
    "soma_ao_cubo(lista[:-1])"
   ]
  },
  {
   "cell_type": "markdown",
   "id": "9dfff242",
   "metadata": {},
   "source": [
    "#### 3. Escreva um programa que receba uma frase e retorne a palavra com mais letras `'e'`."
   ]
  },
  {
   "cell_type": "code",
   "execution_count": null,
   "id": "9c007d66",
   "metadata": {},
   "outputs": [],
   "source": [
    "frase = \"Uma frase\""
   ]
  },
  {
   "cell_type": "code",
   "execution_count": null,
   "id": "8506d8d5",
   "metadata": {},
   "outputs": [],
   "source": [
    "def encontrar_palavra_com_mais_letras(frase, letra=\"e\"):\n",
    "    palavras = frase.split()\n",
    "    maior_numero_letras, palavra_com_mais_letras = 0, \"\"\n",
    "    for palavra in palavras:\n",
    "        numero_letras = palavra.lower().count(letra)\n",
    "        if numero_letras > maior_numero_letras:\n",
    "            maior_numero_letras = numero_letras\n",
    "            palavra_com_mais_letras = palavra\n",
    "           \n",
    "    print(\"A palavra com mais letras\", letra, \"é\", palavra_com_mais_letras)\n",
    "    return palavra_com_mais_letras"
   ]
  },
  {
   "cell_type": "code",
   "execution_count": null,
   "id": "4ce62340",
   "metadata": {},
   "outputs": [],
   "source": [
    "frase = \"Elefante incomoda muita gentee.\"\n",
    "encontrar_palavra_com_mais_letras(frase)"
   ]
  },
  {
   "cell_type": "markdown",
   "id": "8332f9e8",
   "metadata": {},
   "source": [
    "#### 4. Escreva um programa que receba uma lista e retorne o valor mínimo e máximo da lista."
   ]
  },
  {
   "cell_type": "code",
   "execution_count": null,
   "id": "a7e221e9",
   "metadata": {},
   "outputs": [],
   "source": [
    "def min_max(lista):\n",
    "    minimo, maximo = None, None\n",
    "    for valor in lista:\n",
    "        if minimo is None or valor < minimo:\n",
    "            minimo = valor\n",
    "        if maximo is None or valor > maximo:\n",
    "            maximo = valor\n",
    "            \n",
    "    return minimo, maximo"
   ]
  },
  {
   "cell_type": "code",
   "execution_count": null,
   "id": "8af64ec9",
   "metadata": {},
   "outputs": [],
   "source": [
    "min_max([0,1,2,3,4,5])"
   ]
  },
  {
   "cell_type": "markdown",
   "id": "4a585d44",
   "metadata": {},
   "source": [
    "#### 5. Escreva um programa que receba uma lista de strings e depois imprima quantos elementos contenham uma substring qualquer."
   ]
  },
  {
   "cell_type": "code",
   "execution_count": null,
   "id": "c9d769a0",
   "metadata": {},
   "outputs": [],
   "source": [
    "def contar_substrings(lista, substring):`\n",
    "    ocorrencias_substring = 0\n",
    "    for string in lista:\n",
    "        if substring in string:\n",
    "            ocorrencias_substring += 1\n",
    "            \n",
    "    return ocorrencias_substring"
   ]
  },
  {
   "cell_type": "markdown",
   "id": "ea8a648a",
   "metadata": {},
   "source": [
    "### Aula 2 - 11 junho de 2021\n",
    "\n",
    "* Fatiando e indexando listas e strings\n",
    "    * Duas pegadinhas\n",
    "        * Indexação baseada em zero\n",
    "        * Fatia não-inclusiva\n",
    "    * `lista[inicio:fim]`\n",
    "    * `lista[inicio:fim:degrau]`\n",
    "    * `lista[::-1]` para inverter sem ser in-place\n",
    "* Cuidado ao usar métodos de lista!\n",
    "    * Modificar a lista in-place\n",
    "* Condicionais\n",
    "* Funções embutidas `min()` e `max()`\n",
    "* List comprehensions"
   ]
  },
  {
   "cell_type": "code",
   "execution_count": null,
   "id": "fd2fc924",
   "metadata": {},
   "outputs": [],
   "source": [
    "copia_lista = lista_strings[:]"
   ]
  },
  {
   "cell_type": "code",
   "execution_count": null,
   "id": "9778057f",
   "metadata": {},
   "outputs": [],
   "source": [
    "lista_strings[::-1]"
   ]
  },
  {
   "cell_type": "code",
   "execution_count": null,
   "id": "ac29d36c",
   "metadata": {},
   "outputs": [],
   "source": [
    "lista_strings.reverse()"
   ]
  },
  {
   "cell_type": "code",
   "execution_count": null,
   "id": "fc951830",
   "metadata": {},
   "outputs": [],
   "source": [
    "lista_strings.sort()"
   ]
  },
  {
   "cell_type": "code",
   "execution_count": null,
   "id": "26e95f8b",
   "metadata": {},
   "outputs": [],
   "source": [
    "lista_strings.sort()"
   ]
  },
  {
   "cell_type": "code",
   "execution_count": null,
   "id": "d7112f1f",
   "metadata": {},
   "outputs": [],
   "source": [
    "lista_strings[0] = \"um\" "
   ]
  },
  {
   "cell_type": "code",
   "execution_count": null,
   "id": "b3b30587",
   "metadata": {},
   "outputs": [],
   "source": [
    "lista_strings.sort()"
   ]
  },
  {
   "cell_type": "code",
   "execution_count": null,
   "id": "5f5fa4ab",
   "metadata": {},
   "outputs": [],
   "source": [
    "lista_strings"
   ]
  },
  {
   "cell_type": "code",
   "execution_count": null,
   "id": "c577168c",
   "metadata": {},
   "outputs": [],
   "source": [
    "ord(\"*\")"
   ]
  },
  {
   "cell_type": "markdown",
   "id": "8edf00fd",
   "metadata": {},
   "source": [
    "### Encontro 3 - 18 de junho de 2021\n",
    "\n",
    "* Exceptions\n",
    "    * [Docs do Python](https://docs.python.org/pt-br/3/library/exceptions.html)\n",
    "    * Python tem diferentes tipos de erro\n",
    "    * Todos derivam da exceção base (class `Exception`)\n",
    "    * Posso definir classes de erro customizadas para minha aplicação\n",
    "        * Mensagens de erro específicas\n",
    "        * Comportamentos para lidar com os erros\n",
    "* Classes\n",
    "    * Uso do `self`\n",
    "    * Class methods\n",
    "    * Método `__init__`\n",
    "\n",
    "\n",
    "### Pontos-chave:\n",
    "* Programas devem 'morrer cedo'\n",
    "    * Assert blocks no início das funções\n",
    "    \n",
    "### Semana que vem\n",
    "\n",
    "* Retomar métodos, métodos de classe e métodos estáticos\n",
    "* Aprofundar modelo de dados do Python"
   ]
  },
  {
   "cell_type": "code",
   "execution_count": 1,
   "id": "94a7f934",
   "metadata": {},
   "outputs": [
    {
     "ename": "TypeError",
     "evalue": "unsupported operand type(s) for +: 'int' and 'str'",
     "output_type": "error",
     "traceback": [
      "\u001b[0;31m---------------------------------------------------------------------------\u001b[0m",
      "\u001b[0;31mTypeError\u001b[0m                                 Traceback (most recent call last)",
      "\u001b[0;32m<ipython-input-1-80052203e394>\u001b[0m in \u001b[0;36m<module>\u001b[0;34m\u001b[0m\n\u001b[0;32m----> 1\u001b[0;31m \u001b[0;36m2\u001b[0m \u001b[0;34m+\u001b[0m \u001b[0;34m\"2\"\u001b[0m\u001b[0;34m\u001b[0m\u001b[0;34m\u001b[0m\u001b[0m\n\u001b[0m",
      "\u001b[0;31mTypeError\u001b[0m: unsupported operand type(s) for +: 'int' and 'str'"
     ]
    }
   ],
   "source": [
    "2 + \"2\""
   ]
  },
  {
   "cell_type": "code",
   "execution_count": 2,
   "id": "b9067931",
   "metadata": {},
   "outputs": [
    {
     "ename": "NameError",
     "evalue": "name 'a' is not defined",
     "output_type": "error",
     "traceback": [
      "\u001b[0;31m---------------------------------------------------------------------------\u001b[0m",
      "\u001b[0;31mNameError\u001b[0m                                 Traceback (most recent call last)",
      "\u001b[0;32m<ipython-input-2-bd58363a63fc>\u001b[0m in \u001b[0;36m<module>\u001b[0;34m\u001b[0m\n\u001b[0;32m----> 1\u001b[0;31m \u001b[0ma\u001b[0m \u001b[0;34m+\u001b[0m \u001b[0mb\u001b[0m\u001b[0;34m\u001b[0m\u001b[0;34m\u001b[0m\u001b[0m\n\u001b[0m",
      "\u001b[0;31mNameError\u001b[0m: name 'a' is not defined"
     ]
    }
   ],
   "source": [
    "a + b"
   ]
  },
  {
   "cell_type": "code",
   "execution_count": 3,
   "id": "c16e61dd",
   "metadata": {},
   "outputs": [],
   "source": [
    "dicionario = {\"a\": 0, \"b\": 1}"
   ]
  },
  {
   "cell_type": "code",
   "execution_count": 4,
   "id": "9896c8f9",
   "metadata": {},
   "outputs": [
    {
     "ename": "KeyError",
     "evalue": "'c'",
     "output_type": "error",
     "traceback": [
      "\u001b[0;31m---------------------------------------------------------------------------\u001b[0m",
      "\u001b[0;31mKeyError\u001b[0m                                  Traceback (most recent call last)",
      "\u001b[0;32m<ipython-input-4-60201ef22cc4>\u001b[0m in \u001b[0;36m<module>\u001b[0;34m\u001b[0m\n\u001b[0;32m----> 1\u001b[0;31m \u001b[0mdicionario\u001b[0m\u001b[0;34m[\u001b[0m\u001b[0;34m\"c\"\u001b[0m\u001b[0;34m]\u001b[0m\u001b[0;34m\u001b[0m\u001b[0;34m\u001b[0m\u001b[0m\n\u001b[0m",
      "\u001b[0;31mKeyError\u001b[0m: 'c'"
     ]
    }
   ],
   "source": [
    "dicionario[\"c\"]"
   ]
  },
  {
   "cell_type": "code",
   "execution_count": 5,
   "id": "0d371ba7",
   "metadata": {},
   "outputs": [],
   "source": [
    "lista = [0, 1, 2]"
   ]
  },
  {
   "cell_type": "code",
   "execution_count": 6,
   "id": "9d5b8345",
   "metadata": {},
   "outputs": [
    {
     "ename": "IndexError",
     "evalue": "list index out of range",
     "output_type": "error",
     "traceback": [
      "\u001b[0;31m---------------------------------------------------------------------------\u001b[0m",
      "\u001b[0;31mIndexError\u001b[0m                                Traceback (most recent call last)",
      "\u001b[0;32m<ipython-input-6-a7402fea3368>\u001b[0m in \u001b[0;36m<module>\u001b[0;34m\u001b[0m\n\u001b[0;32m----> 1\u001b[0;31m \u001b[0mlista\u001b[0m\u001b[0;34m[\u001b[0m\u001b[0;36m9230\u001b[0m\u001b[0;34m]\u001b[0m\u001b[0;34m\u001b[0m\u001b[0;34m\u001b[0m\u001b[0m\n\u001b[0m",
      "\u001b[0;31mIndexError\u001b[0m: list index out of range"
     ]
    }
   ],
   "source": [
    "lista[9230]"
   ]
  },
  {
   "cell_type": "code",
   "execution_count": 7,
   "id": "4c23eb81",
   "metadata": {},
   "outputs": [],
   "source": [
    "import math"
   ]
  },
  {
   "cell_type": "code",
   "execution_count": 8,
   "id": "a5dbdd91",
   "metadata": {},
   "outputs": [
    {
     "ename": "ValueError",
     "evalue": "math domain error",
     "output_type": "error",
     "traceback": [
      "\u001b[0;31m---------------------------------------------------------------------------\u001b[0m",
      "\u001b[0;31mValueError\u001b[0m                                Traceback (most recent call last)",
      "\u001b[0;32m<ipython-input-8-750cdbc9cc40>\u001b[0m in \u001b[0;36m<module>\u001b[0;34m\u001b[0m\n\u001b[0;32m----> 1\u001b[0;31m \u001b[0mmath\u001b[0m\u001b[0;34m.\u001b[0m\u001b[0msqrt\u001b[0m\u001b[0;34m(\u001b[0m\u001b[0;34m-\u001b[0m\u001b[0;36m2\u001b[0m\u001b[0;34m)\u001b[0m\u001b[0;34m\u001b[0m\u001b[0;34m\u001b[0m\u001b[0m\n\u001b[0m",
      "\u001b[0;31mValueError\u001b[0m: math domain error"
     ]
    }
   ],
   "source": [
    "math.sqrt(-2)"
   ]
  },
  {
   "cell_type": "code",
   "execution_count": 48,
   "id": "effaf0af",
   "metadata": {},
   "outputs": [],
   "source": [
    "def soma(a, b):\n",
    "    \"\"\"\n",
    "    Soma / concatena os valores 'a' e 'b'.\n",
    "    \n",
    "    'a' e 'b' precisam ser ambos numéricos, ou ambos strings.\n",
    "    \"\"\"\n",
    "    try:\n",
    "        resultado = a + b\n",
    "        return resultado\n",
    "    except TypeError:\n",
    "        print(\"Você forneceu tipos inválidos!\")"
   ]
  },
  {
   "cell_type": "code",
   "execution_count": 58,
   "id": "a921287f",
   "metadata": {},
   "outputs": [],
   "source": [
    "def soma_numeros(a, b):\n",
    "    \"\"\"\n",
    "    Soma os valores 'a' e 'b'.\n",
    "    \n",
    "    'a' e 'b' precisam ser ambos numéricos. NÃO PODEM SER STRINGS.\n",
    "    \"\"\"\n",
    "    # assertion block\n",
    "    assert isinstance(a, (int, float)), f'{a} não é numérico!'\n",
    "    assert type(b) != str, f'{b} é uma string!'\n",
    "        \n",
    "    try:\n",
    "        resultado = a + b\n",
    "        return resultado\n",
    "    except TypeError:\n",
    "        print(\"Você forneceu tipos inválidos!\")    "
   ]
  },
  {
   "cell_type": "code",
   "execution_count": 59,
   "id": "3f8228a2",
   "metadata": {},
   "outputs": [
    {
     "ename": "AssertionError",
     "evalue": "a não é numérico!",
     "output_type": "error",
     "traceback": [
      "\u001b[0;31m---------------------------------------------------------------------------\u001b[0m",
      "\u001b[0;31mAssertionError\u001b[0m                            Traceback (most recent call last)",
      "\u001b[0;32m<ipython-input-59-4d1394e2af1b>\u001b[0m in \u001b[0;36m<module>\u001b[0;34m\u001b[0m\n\u001b[0;32m----> 1\u001b[0;31m \u001b[0msoma_numeros\u001b[0m\u001b[0;34m(\u001b[0m\u001b[0;34m\"a\"\u001b[0m\u001b[0;34m,\u001b[0m \u001b[0;34m\"b\"\u001b[0m\u001b[0;34m)\u001b[0m\u001b[0;34m\u001b[0m\u001b[0;34m\u001b[0m\u001b[0m\n\u001b[0m",
      "\u001b[0;32m<ipython-input-58-425573e706a4>\u001b[0m in \u001b[0;36msoma_numeros\u001b[0;34m(a, b)\u001b[0m\n\u001b[1;32m      6\u001b[0m     \"\"\"\n\u001b[1;32m      7\u001b[0m     \u001b[0;31m# assertion block\u001b[0m\u001b[0;34m\u001b[0m\u001b[0;34m\u001b[0m\u001b[0;34m\u001b[0m\u001b[0m\n\u001b[0;32m----> 8\u001b[0;31m     \u001b[0;32massert\u001b[0m \u001b[0misinstance\u001b[0m\u001b[0;34m(\u001b[0m\u001b[0ma\u001b[0m\u001b[0;34m,\u001b[0m \u001b[0;34m(\u001b[0m\u001b[0mint\u001b[0m\u001b[0;34m,\u001b[0m \u001b[0mfloat\u001b[0m\u001b[0;34m)\u001b[0m\u001b[0;34m)\u001b[0m\u001b[0;34m,\u001b[0m \u001b[0;34mf'{a} não é numérico!'\u001b[0m\u001b[0;34m\u001b[0m\u001b[0;34m\u001b[0m\u001b[0m\n\u001b[0m\u001b[1;32m      9\u001b[0m     \u001b[0;32massert\u001b[0m \u001b[0mtype\u001b[0m\u001b[0;34m(\u001b[0m\u001b[0mb\u001b[0m\u001b[0;34m)\u001b[0m \u001b[0;34m!=\u001b[0m \u001b[0mstr\u001b[0m\u001b[0;34m,\u001b[0m \u001b[0;34mf'{b} é uma string!'\u001b[0m\u001b[0;34m\u001b[0m\u001b[0;34m\u001b[0m\u001b[0m\n\u001b[1;32m     10\u001b[0m \u001b[0;34m\u001b[0m\u001b[0m\n",
      "\u001b[0;31mAssertionError\u001b[0m: a não é numérico!"
     ]
    }
   ],
   "source": [
    "soma_numeros(\"a\", \"b\")"
   ]
  },
  {
   "cell_type": "code",
   "execution_count": 37,
   "id": "0471c4e2",
   "metadata": {},
   "outputs": [],
   "source": [
    "def soma_item_lista(a, b, c):\n",
    "    \"\"\"\n",
    "    Soma o item a[c] com b.\n",
    "    \"\"\"\n",
    "    try:\n",
    "        resultado = a[c] + b\n",
    "        return resultado\n",
    "    except IndexError:\n",
    "        print(\"Índice inválido na lista!\")\n",
    "    except TypeError as error:\n",
    "        print(\"Tipo inválido para soma.\")\n",
    "        print(error)\n"
   ]
  },
  {
   "cell_type": "code",
   "execution_count": 30,
   "id": "5d3e450a",
   "metadata": {},
   "outputs": [],
   "source": [
    "lista = [0, 1, 2, \"3\"]"
   ]
  },
  {
   "cell_type": "code",
   "execution_count": 41,
   "id": "dffaf90e",
   "metadata": {},
   "outputs": [],
   "source": [
    "with open(\"arquivo.txt\", \"w\") as f:\n",
    "    for item in lista:\n",
    "        f.write(str(item))"
   ]
  },
  {
   "cell_type": "code",
   "execution_count": 46,
   "id": "2da8f6be",
   "metadata": {},
   "outputs": [],
   "source": [
    "o = open(\"arquivo.txt\", \"w\")\n",
    "\n",
    "for item in lista:\n",
    "    o.write(str(item))\n",
    "    \n",
    "# o.close()"
   ]
  },
  {
   "cell_type": "code",
   "execution_count": 38,
   "id": "9e10ae04",
   "metadata": {},
   "outputs": [
    {
     "name": "stdout",
     "output_type": "stream",
     "text": [
      "Tipo inválido para soma.\n",
      "can only concatenate str (not \"int\") to str\n"
     ]
    }
   ],
   "source": [
    "soma_item_lista(lista, 5, 3)"
   ]
  },
  {
   "cell_type": "code",
   "execution_count": 17,
   "id": "af98d57a",
   "metadata": {},
   "outputs": [
    {
     "name": "stdout",
     "output_type": "stream",
     "text": [
      "The Zen of Python, by Tim Peters\n",
      "\n",
      "Beautiful is better than ugly.\n",
      "Explicit is better than implicit.\n",
      "Simple is better than complex.\n",
      "Complex is better than complicated.\n",
      "Flat is better than nested.\n",
      "Sparse is better than dense.\n",
      "Readability counts.\n",
      "Special cases aren't special enough to break the rules.\n",
      "Although practicality beats purity.\n",
      "Errors should never pass silently.\n",
      "Unless explicitly silenced.\n",
      "In the face of ambiguity, refuse the temptation to guess.\n",
      "There should be one-- and preferably only one --obvious way to do it.\n",
      "Although that way may not be obvious at first unless you're Dutch.\n",
      "Now is better than never.\n",
      "Although never is often better than *right* now.\n",
      "If the implementation is hard to explain, it's a bad idea.\n",
      "If the implementation is easy to explain, it may be a good idea.\n",
      "Namespaces are one honking great idea -- let's do more of those!\n"
     ]
    }
   ],
   "source": [
    "import this"
   ]
  },
  {
   "cell_type": "code",
   "execution_count": 61,
   "id": "631872ad",
   "metadata": {},
   "outputs": [
    {
     "data": {
      "text/plain": [
       "True"
      ]
     },
     "execution_count": 61,
     "metadata": {},
     "output_type": "execute_result"
    }
   ],
   "source": [
    "isinstance(KeyError(), Exception)"
   ]
  },
  {
   "cell_type": "code",
   "execution_count": 62,
   "id": "920789e8",
   "metadata": {},
   "outputs": [],
   "source": [
    "class Publication:\n",
    "    def __init__(self, title):\n",
    "        self.title = title"
   ]
  },
  {
   "cell_type": "code",
   "execution_count": 64,
   "id": "90c7fea6",
   "metadata": {},
   "outputs": [],
   "source": [
    "p = Publication(\"Senhor dos Anéis\")"
   ]
  },
  {
   "cell_type": "code",
   "execution_count": 65,
   "id": "843b7f9b",
   "metadata": {},
   "outputs": [
    {
     "data": {
      "text/plain": [
       "'Senhor dos Anéis'"
      ]
     },
     "execution_count": 65,
     "metadata": {},
     "output_type": "execute_result"
    }
   ],
   "source": [
    "p.title"
   ]
  },
  {
   "cell_type": "code",
   "execution_count": 103,
   "id": "f289a657",
   "metadata": {},
   "outputs": [],
   "source": [
    "class Author:\n",
    "    def __init__(self, name):\n",
    "        self.name = name\n",
    "        \n",
    "    def imprimir_nome(self):\n",
    "        # faça alguma coisa\n",
    "        print(\"O nome do(a) autor(a) é\", self.name, \".\")"
   ]
  },
  {
   "cell_type": "code",
   "execution_count": 102,
   "id": "881ad5db",
   "metadata": {},
   "outputs": [
    {
     "name": "stdout",
     "output_type": "stream",
     "text": [
      "O nome do(a) autor(a) é JRR Tolkien\n"
     ]
    }
   ],
   "source": [
    "a.imprimir_nome()"
   ]
  },
  {
   "cell_type": "code",
   "execution_count": 100,
   "id": "eb08ec99",
   "metadata": {},
   "outputs": [],
   "source": [
    "a = Author(\"JRR Tolkien\")"
   ]
  },
  {
   "cell_type": "code",
   "execution_count": 66,
   "id": "53ff0896",
   "metadata": {},
   "outputs": [],
   "source": [
    "class Book(Publication):\n",
    "    pass"
   ]
  },
  {
   "cell_type": "code",
   "execution_count": 92,
   "id": "6bd27941",
   "metadata": {},
   "outputs": [],
   "source": [
    "class BooksByElsevier(Book):\n",
    "    \n",
    "    editor = \"Elsevier\"\n",
    "    \n",
    "    def __init__(self, title):\n",
    "        self.title = title\n",
    "        \n",
    "    @classmethod\n",
    "    def change_editor(cls, editor):\n",
    "        cls.editor = editor"
   ]
  },
  {
   "cell_type": "code",
   "execution_count": 93,
   "id": "f119682f",
   "metadata": {},
   "outputs": [],
   "source": [
    "l = BooksByElsevier(\"Python para Iniciantes\")"
   ]
  },
  {
   "cell_type": "code",
   "execution_count": 94,
   "id": "0e216b2e",
   "metadata": {},
   "outputs": [
    {
     "data": {
      "text/plain": [
       "'Elsevier'"
      ]
     },
     "execution_count": 94,
     "metadata": {},
     "output_type": "execute_result"
    }
   ],
   "source": [
    "l.editor"
   ]
  },
  {
   "cell_type": "code",
   "execution_count": 95,
   "id": "cfd2dda4",
   "metadata": {},
   "outputs": [],
   "source": [
    "l.change_editor(\"Livros de Bolso\")"
   ]
  },
  {
   "cell_type": "code",
   "execution_count": 96,
   "id": "81e8108c",
   "metadata": {},
   "outputs": [
    {
     "data": {
      "text/plain": [
       "'Livros de Bolso'"
      ]
     },
     "execution_count": 96,
     "metadata": {},
     "output_type": "execute_result"
    }
   ],
   "source": [
    "l.editor"
   ]
  },
  {
   "cell_type": "code",
   "execution_count": 97,
   "id": "a2d29cb0",
   "metadata": {},
   "outputs": [],
   "source": [
    "livro_dois = BooksByElsevier(\"Outro livro\")"
   ]
  },
  {
   "cell_type": "code",
   "execution_count": 98,
   "id": "95b57593",
   "metadata": {},
   "outputs": [
    {
     "data": {
      "text/plain": [
       "<__main__.BooksByElsevier at 0x10d05e790>"
      ]
     },
     "execution_count": 98,
     "metadata": {},
     "output_type": "execute_result"
    }
   ],
   "source": [
    "livro_dois"
   ]
  },
  {
   "cell_type": "code",
   "execution_count": 74,
   "id": "5ae7c0d6",
   "metadata": {},
   "outputs": [
    {
     "data": {
      "text/plain": [
       "True"
      ]
     },
     "execution_count": 74,
     "metadata": {},
     "output_type": "execute_result"
    }
   ],
   "source": [
    "p = Book(\"Senhor dos Anéis\")\n",
    "\n",
    "isinstance(a, (Publication, Author))"
   ]
  },
  {
   "cell_type": "code",
   "execution_count": null,
   "id": "907def3c",
   "metadata": {},
   "outputs": [],
   "source": []
  }
 ],
 "metadata": {
  "kernelspec": {
   "display_name": "Python [conda env:xlab]",
   "language": "python",
   "name": "conda-env-xlab-py"
  },
  "language_info": {
   "codemirror_mode": {
    "name": "ipython",
    "version": 3
   },
   "file_extension": ".py",
   "mimetype": "text/x-python",
   "name": "python",
   "nbconvert_exporter": "python",
   "pygments_lexer": "ipython3",
   "version": "3.9.2"
  }
 },
 "nbformat": 4,
 "nbformat_minor": 5
}
