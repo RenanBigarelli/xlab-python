{
 "cells": [
  {
   "cell_type": "markdown",
   "id": "2506fd32",
   "metadata": {},
   "source": [
    "### Aula 1 - 7 de abril de 2021\n",
    "#### Introdução ao Python\n",
    "\n",
    "Uso básico do Jupyter. Tópicos:\n",
    "* Variáveis\n",
    "* Tipos de dados\n",
    "* Operações matemáticas\n",
    "* Funções\n",
    "\n",
    "**Desafio:** criar uma função para converter Kelvin para Celsius?"
   ]
  },
  {
   "cell_type": "markdown",
   "id": "463e188d",
   "metadata": {},
   "source": [
    "### Aula 2 - 9 de abril de 2021\n",
    "#### Tipos de dados e funções builtin\n",
    "\n",
    "Tópicos:\n",
    "* Quais são os principais tipos de dados?\n",
    "* Como descobrir os tipos de dados -> função `type`\n",
    "* Funções `type` e `len`\n",
    "* Diferença entre `print` e `return` em funções\n",
    "* Como melhorar funções: docstrings e checks de input"
   ]
  },
  {
   "cell_type": "code",
   "execution_count": null,
   "id": "6d004d3f",
   "metadata": {},
   "outputs": [],
   "source": [
    "def cel_to_kel_print(cel):\n",
    "    kel = cel + 273.15\n",
    "    print(kel)\n",
    "    \n",
    "    \n",
    "def cel_to_kel_return(cel):\n",
    "    kel = cel + 273.15\n",
    "    return kel\n",
    "\n",
    "\n",
    "def cel_to_kel_virgula(cel):\n",
    "    kel = (cel+273,15)\n",
    "    return kel"
   ]
  },
  {
   "cell_type": "code",
   "execution_count": null,
   "id": "8591fd20",
   "metadata": {},
   "outputs": [],
   "source": [
    "cel_to_kel_virgula(30)"
   ]
  },
  {
   "cell_type": "code",
   "execution_count": null,
   "id": "80cc3a3c",
   "metadata": {},
   "outputs": [],
   "source": [
    "type(cel_to_kel_virgula(30))\n",
    "\n",
    "# função len - length, comprimento em inglês\n",
    "len(cel_to_kel_virgula(30))"
   ]
  },
  {
   "cell_type": "code",
   "execution_count": null,
   "id": "6a7bb0e9",
   "metadata": {},
   "outputs": [],
   "source": [
    "lista_print = []\n",
    "list_return = []\n",
    "\n",
    "temps = list(range(50))\n",
    "\n",
    "for t in temps:\n",
    "    lista_print.append(cel_to_kel_print(t))\n",
    "    list_return.append(cel_to_kel_return(t))"
   ]
  },
  {
   "cell_type": "code",
   "execution_count": null,
   "id": "bc68156e",
   "metadata": {},
   "outputs": [],
   "source": [
    "def operacao_basica_r():\n",
    "    return 2 + 2\n",
    "\n",
    "def operacao_basica_p():\n",
    "    print(2 + 2)"
   ]
  },
  {
   "cell_type": "code",
   "execution_count": null,
   "id": "4c5f9b19",
   "metadata": {},
   "outputs": [],
   "source": [
    "a = operacao_basica_r()"
   ]
  },
  {
   "cell_type": "code",
   "execution_count": null,
   "id": "453d8066",
   "metadata": {},
   "outputs": [],
   "source": [
    "operacao_basica_r()"
   ]
  },
  {
   "cell_type": "code",
   "execution_count": null,
   "id": "81a88965",
   "metadata": {},
   "outputs": [],
   "source": [
    "b = operacao_basica_p()"
   ]
  },
  {
   "cell_type": "code",
   "execution_count": null,
   "id": "f222653e",
   "metadata": {},
   "outputs": [],
   "source": [
    "b = None"
   ]
  },
  {
   "cell_type": "code",
   "execution_count": null,
   "id": "889eb2cc",
   "metadata": {},
   "outputs": [],
   "source": [
    "# Diferença lista e tupla: a primeira é mutável\n",
    "l = ['a', 'b', 42, 9320.2, ['RJ', 'SP']]"
   ]
  },
  {
   "cell_type": "code",
   "execution_count": null,
   "id": "0200e868",
   "metadata": {},
   "outputs": [],
   "source": [
    "float_ = 273.15\n",
    "inteiro = 273\n",
    "string = \"273\""
   ]
  },
  {
   "cell_type": "code",
   "execution_count": null,
   "id": "907378b2",
   "metadata": {},
   "outputs": [],
   "source": [
    "for variavel in (float_, inteiro, string):\n",
    "    print(type(variavel))"
   ]
  },
  {
   "cell_type": "code",
   "execution_count": null,
   "id": "a2cd24fa",
   "metadata": {},
   "outputs": [],
   "source": [
    "str(49)"
   ]
  },
  {
   "cell_type": "code",
   "execution_count": null,
   "id": "bf59586b",
   "metadata": {},
   "outputs": [],
   "source": [
    "numeros = [4, 49, 100]\n",
    "\n",
    "for n in numeros:\n",
    "    print(int(math.sqrt(n)))"
   ]
  },
  {
   "cell_type": "code",
   "execution_count": null,
   "id": "ba3f7e4f",
   "metadata": {},
   "outputs": [],
   "source": [
    "variavel_com_nome_misterioso = 273.15"
   ]
  },
  {
   "cell_type": "code",
   "execution_count": null,
   "id": "bab99526",
   "metadata": {},
   "outputs": [],
   "source": [
    "type(variavel_com_nome_misterioso)"
   ]
  },
  {
   "cell_type": "code",
   "execution_count": null,
   "id": "edaecccb",
   "metadata": {},
   "outputs": [],
   "source": [
    "# Celsius to Kelvin conversion\n",
    "def cel_to_kel(c):\n",
    "    k = c + 273.15\n",
    "    return k"
   ]
  },
  {
   "cell_type": "code",
   "execution_count": null,
   "id": "054aa846",
   "metadata": {},
   "outputs": [],
   "source": [
    "def celsius_to_kelvin(celsius):\n",
    "    \"\"\"\n",
    "    Realiza conversão de temperatura de graus Celsius\n",
    "    para Kelvin. Precisa receber um número como entrada.\n",
    "    \n",
    "    celsius: temperatura em graus Celsius.\n",
    "    return: temperatura em graus Kelvin.\n",
    "    \"\"\"\n",
    "    if type(celsius) == str:\n",
    "        return \"Entrada inválida. Dê um número!\"\n",
    "    \n",
    "    kelvin = celsius + 273.15\n",
    "    return kelvin"
   ]
  },
  {
   "cell_type": "code",
   "execution_count": null,
   "id": "f4554287",
   "metadata": {},
   "outputs": [],
   "source": [
    "help(celsius_to_kelvin)"
   ]
  },
  {
   "cell_type": "markdown",
   "id": "6588c76a",
   "metadata": {},
   "source": [
    "### Aula 3 - 14 de abril de 2021\n",
    "\n",
    "**Desafio da última aula:** pensar em um problema para resolver com programação\n",
    "* Calculadora de valorização de moedas (regra de 3)\n",
    "\n",
    "**Funções builtin:**\n",
    "- `print()`\n",
    "- `help()`\n",
    "- `type()`\n",
    "- `len()`\n",
    "- `input()`\n",
    "- `zip()`\n",
    "\n",
    "#### Tópicos\n",
    "* Como melhorar funções\n",
    "    * Docstrings\n",
    "    * Comentários\n",
    "* `for` loop"
   ]
  },
  {
   "cell_type": "code",
   "execution_count": null,
   "id": "e5d2dd66",
   "metadata": {},
   "outputs": [],
   "source": [
    "def regra_3(a, b, c):\n",
    "    \"\"\"\n",
    "    Calcula uma regra de 3:\n",
    "    \n",
    "    a - b\n",
    "    c - x\n",
    "    \n",
    "    Como a está para b, c está para x.\n",
    "    \n",
    "    Retorna o valor de x.\n",
    "    \"\"\"\n",
    "    x = b*c/a\n",
    "    return x"
   ]
  },
  {
   "cell_type": "code",
   "execution_count": null,
   "id": "069c2ec3",
   "metadata": {},
   "outputs": [],
   "source": [
    "regra_3(1,2,2)"
   ]
  },
  {
   "cell_type": "code",
   "execution_count": null,
   "id": "e103029b",
   "metadata": {},
   "outputs": [],
   "source": [
    "def calculadora_regra_3():\n",
    "    \"\"\"\n",
    "    Calculadora interativa de regra de 3:\n",
    "    \n",
    "    a - b\n",
    "    c - x\n",
    "    \n",
    "    Como a está para b, c está para x.\n",
    "    \n",
    "    Retorna o valor de x.\n",
    "    \"\"\"\n",
    "    \n",
    "    # Obter valores de entrada\n",
    "    a = input(\"Qual é o valor de A?\")\n",
    "    b = input(\"Qual é o valor de B?\")\n",
    "    c = input(\"Qual é o valor de C?\")\n",
    "    \n",
    "    # Converter para número\n",
    "    a, b, c = float(a), float(b), float(c)\n",
    "    \n",
    "    # Calcular regra de 3\n",
    "    x = b*c/a\n",
    "    \n",
    "    print(\"O valor de X é\", x)\n",
    "    return x"
   ]
  },
  {
   "cell_type": "markdown",
   "id": "964e4d4a",
   "metadata": {},
   "source": [
    "**Gerando listas aleatórias**"
   ]
  },
  {
   "cell_type": "code",
   "execution_count": null,
   "id": "510549d4",
   "metadata": {},
   "outputs": [],
   "source": [
    "from random import randint\n",
    "quantidades_iniciais = [1/randint(1,10) for i in range(30)]\n",
    "valores_iniciais = [randint(10**2, 10**6) for i in range(30)]\n",
    "quantidades_finais = [randint(1,10) for i in range(30)]\n",
    "valores_finais = []"
   ]
  },
  {
   "cell_type": "markdown",
   "id": "4e5958fe",
   "metadata": {},
   "source": [
    "**Criando listas na mão**"
   ]
  },
  {
   "cell_type": "code",
   "execution_count": null,
   "id": "b323b279",
   "metadata": {},
   "outputs": [],
   "source": [
    "cel = [32, 34, 22, 12, 25]\n",
    "kel = []"
   ]
  },
  {
   "cell_type": "markdown",
   "id": "c4c597d6",
   "metadata": {},
   "source": [
    "### Pergunta: como aplicar a função `regra_3()` nas 3 listas de valores?"
   ]
  },
  {
   "cell_type": "code",
   "execution_count": null,
   "id": "c1fea824",
   "metadata": {},
   "outputs": [],
   "source": [
    "# Usando a função zip\n",
    "for a, b, c in zip(quantidades_iniciais, valores_iniciais, quantidades_finais):\n",
    "    x = regra_3(a, b, c)\n",
    "    valores_finais.append(x)"
   ]
  },
  {
   "cell_type": "markdown",
   "id": "9388db3d",
   "metadata": {},
   "source": [
    "### Aula 4 - 16 de abril de 2021\n",
    "#### Listas e slicing\n",
    "\n",
    "**Pergunta:**\n",
    "* Por que listas são importantes?\n",
    "\n",
    "\n",
    "**Objetivos**\n",
    "* Acessar itens em uma lista\n",
    "* Acessar fatias da lista\n",
    "* Inserir itens na lista\n",
    "* Modificar listas com funções\n",
    "\n",
    "**Funções builtin**\n",
    "* `dir()`\n",
    "\n",
    "**Lembretes**\n",
    "* `return` só vai dentro de funções"
   ]
  },
  {
   "cell_type": "code",
   "execution_count": null,
   "id": "7be3243b",
   "metadata": {},
   "outputs": [],
   "source": [
    "temps = [32, 34, 22, 12, 25]\n",
    "\n",
    "print(\"Temperaturas:\", temps)\n",
    "print(\"Quantidade:\", len(temps))"
   ]
  },
  {
   "cell_type": "code",
   "execution_count": null,
   "id": "99c894f3",
   "metadata": {},
   "outputs": [],
   "source": [
    "tamanho_da_lista = len(temps)\n",
    "tamanho_da_lista"
   ]
  },
  {
   "cell_type": "code",
   "execution_count": null,
   "id": "2619a97d",
   "metadata": {},
   "outputs": [],
   "source": [
    "temps[tamanho_da_lista - 1]"
   ]
  },
  {
   "cell_type": "code",
   "execution_count": null,
   "id": "df0e5580",
   "metadata": {},
   "outputs": [],
   "source": [
    "temps[-1]  # acessar começando do fim: coloca sinal negativo"
   ]
  },
  {
   "cell_type": "code",
   "execution_count": null,
   "id": "a5aa5d7c",
   "metadata": {},
   "outputs": [],
   "source": [
    "temps[1:4]"
   ]
  },
  {
   "cell_type": "markdown",
   "id": "66237416",
   "metadata": {},
   "source": [
    "**\"Pegadinhas\" de listas**"
   ]
  },
  {
   "cell_type": "code",
   "execution_count": null,
   "id": "59d706bc",
   "metadata": {},
   "outputs": [],
   "source": [
    "temps[1:4]  #  fatia \"não-inclusiva\"\n",
    "temps[0]  # contagem começa no zero"
   ]
  },
  {
   "cell_type": "markdown",
   "id": "60af0b27",
   "metadata": {},
   "source": [
    "Os métodos de fatia e acesso das listas, também valem para strings (ou textos)"
   ]
  },
  {
   "cell_type": "code",
   "execution_count": null,
   "id": "2b419e47",
   "metadata": {},
   "outputs": [],
   "source": [
    "temp_txt = \"Temperaturas\"\n",
    "temp_txt[:4]  # se não boto nada antes, do ':', significa que começa do 0"
   ]
  },
  {
   "cell_type": "markdown",
   "id": "7f0afdbb",
   "metadata": {},
   "source": [
    "Funções (métodos) de lista:\n",
    "* `append()`\n",
    "* `pop()`\n",
    "* `insert()`\n",
    "\n",
    "**Como descobrir os métodos de uma lista (ou qualquer objeto)?**\n",
    "\n",
    "Com a função builtin `dir()`"
   ]
  },
  {
   "cell_type": "code",
   "execution_count": null,
   "id": "afa5aeb1",
   "metadata": {},
   "outputs": [],
   "source": [
    "temps.append(56);\n",
    "temps"
   ]
  },
  {
   "cell_type": "code",
   "execution_count": null,
   "id": "7e54afef",
   "metadata": {},
   "outputs": [],
   "source": [
    "temps.pop()"
   ]
  },
  {
   "cell_type": "code",
   "execution_count": null,
   "id": "da760613",
   "metadata": {},
   "outputs": [],
   "source": [
    "temps"
   ]
  },
  {
   "cell_type": "code",
   "execution_count": null,
   "id": "a7f8478c",
   "metadata": {},
   "outputs": [],
   "source": [
    "temps.insert(1, 105)"
   ]
  },
  {
   "cell_type": "code",
   "execution_count": null,
   "id": "4a483abf",
   "metadata": {},
   "outputs": [],
   "source": [
    "temps.append(\"Texto qualquer\")"
   ]
  },
  {
   "cell_type": "code",
   "execution_count": null,
   "id": "2de96c00",
   "metadata": {},
   "outputs": [],
   "source": [
    "temps"
   ]
  },
  {
   "cell_type": "code",
   "execution_count": null,
   "id": "8e4a6ffa",
   "metadata": {},
   "outputs": [],
   "source": [
    "temps.reverse()"
   ]
  },
  {
   "cell_type": "code",
   "execution_count": null,
   "id": "3d5f33fb",
   "metadata": {},
   "outputs": [],
   "source": [
    "temps.pop(0)"
   ]
  },
  {
   "cell_type": "code",
   "execution_count": null,
   "id": "59d69364",
   "metadata": {},
   "outputs": [],
   "source": [
    "temps.sort(reverse=True)"
   ]
  },
  {
   "cell_type": "code",
   "execution_count": null,
   "id": "ee2afd6a",
   "metadata": {},
   "outputs": [],
   "source": [
    "temps"
   ]
  },
  {
   "cell_type": "markdown",
   "id": "de373744",
   "metadata": {},
   "source": [
    "### Desafio\n",
    "\n",
    "Converter os itens da lista `cel` em Kelvin em inserir na lista `kel`:"
   ]
  },
  {
   "cell_type": "code",
   "execution_count": null,
   "id": "1f70f4a0",
   "metadata": {},
   "outputs": [],
   "source": [
    "for temp in cel:\n",
    "    k = cel_to_kel(temp)\n",
    "    kel.append(k)"
   ]
  },
  {
   "cell_type": "markdown",
   "id": "2de4847a",
   "metadata": {},
   "source": [
    "### Aula 5 - 20 de abril de 2021\n",
    "#### Continuação Python básico\n",
    "\n",
    "**Objetivos**\n",
    "- Usar funções e listas\n",
    "    - Funções `builtin` para conversão de tipos\n",
    "        - `float()`\n",
    "        - `int()`\n",
    "        - `str()`\n",
    "        - `list()`\n",
    "    - Compreensão de lista (*list comprehension*)\n",
    "\n",
    "**Desafios**\n",
    "- Calcular a raíz quadrada de uma lista de números"
   ]
  },
  {
   "cell_type": "code",
   "execution_count": null,
   "id": "ac0b16f7",
   "metadata": {},
   "outputs": [],
   "source": [
    "import math"
   ]
  },
  {
   "cell_type": "code",
   "execution_count": null,
   "id": "a1278e8e",
   "metadata": {},
   "outputs": [],
   "source": [
    "numeros = [4, 169, 625, 1369, 1764, 2500]\n",
    "\n",
    "# Maneira 1: for loop\n",
    "raiz_numeros = []\n",
    "for n in numeros:\n",
    "    raiz = math.sqrt(n)\n",
    "    raiz = int(raiz)\n",
    "    raiz_numeros.append(raiz)\n",
    "    \n",
    "raiz_numeros"
   ]
  },
  {
   "cell_type": "code",
   "execution_count": null,
   "id": "d61753b0",
   "metadata": {},
   "outputs": [],
   "source": [
    "# Maneira 2: list comprehension\n",
    "raiz_numeros = [math.sqrt(n) for n in numeros]\n",
    "\n",
    "raiz_numeros"
   ]
  },
  {
   "cell_type": "code",
   "execution_count": null,
   "id": "fa5e6098",
   "metadata": {},
   "outputs": [],
   "source": [
    "# List comprehension + condicionais\n",
    "\n",
    "# Calcular sqrt() para n < 1000\n",
    "# Se n > 1000, só incluir n\n",
    "numeros = [4, 169, 625, 1369, 1764, 2500]\n",
    "\n",
    "raiz_numeros = []\n",
    "for n in numeros:\n",
    "    if n < 1000:\n",
    "        raiz = math.sqrt(n)\n",
    "        raiz_numeros.append(raiz)\n",
    "    else:\n",
    "        raiz_numeros.append(n)\n",
    "        \n",
    "# Desafio: modifique a list comprehension para incluir a condicional\n",
    "raiz_numeros = [math.sqrt(n) if n < 1000 else n for n in numeros]\n",
    "raiz_numeros"
   ]
  },
  {
   "cell_type": "markdown",
   "id": "f9e914a8",
   "metadata": {},
   "source": [
    "**Cuidar com pegadinha de condicionais:** quando adicionamos um `else`, mudamos a ordem da list comprehension"
   ]
  },
  {
   "cell_type": "markdown",
   "id": "06b6cfbb",
   "metadata": {},
   "source": [
    "### Aula 6 - 23 de abril de 2021\n",
    "\n",
    "## Ideias de projeto\n",
    "* Leitura de gráfico\n",
    "* Automatizar mensagens\n",
    "* Gerador de senhas\n",
    "\n",
    "### API do TradingView\n",
    "* https://pypi.org/project/tradingview-ta/\n",
    "* https://python-tradingview-ta.readthedocs.io/en/latest/usage.html\n",
    "\n",
    "### Notas\n",
    "* Lembrar de usar auto-compleção\n",
    "\n",
    "# Exercícios"
   ]
  },
  {
   "cell_type": "markdown",
   "id": "d84ffe95",
   "metadata": {},
   "source": [
    "#### 1. Escreva uma função que remova todos os elementos com um determinado valor de uma lista.\n",
    "\n",
    "**Exemplo**\n",
    "```python\n",
    "lista = ['a', 'b', 'c', 'a']\n",
    "remove(lista, 'a')  # retorna ['b','c'].\n",
    "```"
   ]
  },
  {
   "cell_type": "code",
   "execution_count": null,
   "id": "d1e4da6f",
   "metadata": {},
   "outputs": [],
   "source": []
  },
  {
   "cell_type": "markdown",
   "id": "1b0a96e8",
   "metadata": {},
   "source": [
    "#### 2. Escreva um programa que receba uma lista e retorna a soma de cada elemento elevado ao cubo. Caso haja um elemento que não seja numero, deve retornar uma mensagem de erro."
   ]
  },
  {
   "cell_type": "code",
   "execution_count": null,
   "id": "dd39e7db",
   "metadata": {},
   "outputs": [],
   "source": []
  },
  {
   "cell_type": "markdown",
   "id": "84d7ffc5",
   "metadata": {},
   "source": [
    "#### 3. Escreva um programa que receba uma frase e retorne a palavra com mais letras `'e'`."
   ]
  },
  {
   "cell_type": "code",
   "execution_count": null,
   "id": "fe2cd084",
   "metadata": {},
   "outputs": [],
   "source": []
  },
  {
   "cell_type": "markdown",
   "id": "1ef1e4f8",
   "metadata": {},
   "source": [
    "#### 4. Escreva um programa que receba uma lista e retorne o valor mínimo e máximo da lista."
   ]
  },
  {
   "cell_type": "code",
   "execution_count": null,
   "id": "b188e859",
   "metadata": {},
   "outputs": [],
   "source": []
  },
  {
   "cell_type": "markdown",
   "id": "19acfe6e",
   "metadata": {},
   "source": [
    "#### 5. Escreva um programa que receba uma lista de strings e depois imprima quantos elementos contenham uma substring qualquer."
   ]
  },
  {
   "cell_type": "code",
   "execution_count": null,
   "id": "fba1635e",
   "metadata": {},
   "outputs": [],
   "source": []
  },
  {
   "cell_type": "markdown",
   "id": "1d00114f",
   "metadata": {},
   "source": [
    "#### 6. Ler o arquivo abaixo, armazenar os valores em uma lista e fazer algum tipo de operação (média, valor mínimo, valor máximo, etc.)"
   ]
  },
  {
   "cell_type": "code",
   "execution_count": null,
   "id": "ae325bd4",
   "metadata": {},
   "outputs": [],
   "source": [
    "from random import randint\n",
    "numeros = []\n",
    "\n",
    "for i in range(1, 366):\n",
    "    numeros.append(randint(10, 50))\n",
    "    \n",
    "with open(\"numeros.txt\", \"w\") as f:\n",
    "    for n in numeros:\n",
    "        f.write(str(n) + \"\\n\")"
   ]
  },
  {
   "cell_type": "code",
   "execution_count": null,
   "id": "26cee4cd",
   "metadata": {},
   "outputs": [],
   "source": []
  },
  {
   "cell_type": "code",
   "execution_count": null,
   "id": "ca32eb7c",
   "metadata": {},
   "outputs": [],
   "source": []
  }
 ],
 "metadata": {
  "kernelspec": {
   "display_name": "Python 3",
   "language": "python",
   "name": "python3"
  },
  "language_info": {
   "codemirror_mode": {
    "name": "ipython",
    "version": 3
   },
   "file_extension": ".py",
   "mimetype": "text/x-python",
   "name": "python",
   "nbconvert_exporter": "python",
   "pygments_lexer": "ipython3",
   "version": "3.7.10"
  }
 },
 "nbformat": 4,
 "nbformat_minor": 5
}
