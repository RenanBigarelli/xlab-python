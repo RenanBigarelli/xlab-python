{
 "cells": [
  {
   "cell_type": "markdown",
   "id": "8bd6381b",
   "metadata": {},
   "source": [
    "### Aula 1 - 7 de abril de 2021\n",
    "#### Introdução ao Python\n",
    "\n",
    "Uso básico do Jupyter. Tópicos:\n",
    "* Variáveis\n",
    "* Tipos de dados\n",
    "* Operações matemáticas\n",
    "* Funções\n",
    "\n",
    "**Desafio:** criar uma função para converter Kelvin para Celsius?"
   ]
  },
  {
   "cell_type": "markdown",
   "id": "2aaa258f",
   "metadata": {},
   "source": [
    "### Aula 2 - 9 de abril de 2021\n",
    "#### Tipos de dados e funções builtin\n",
    "\n",
    "Tópicos:\n",
    "* Quais são os principais tipos de dados?\n",
    "* Como descobrir os tipos de dados -> função `type`\n",
    "* Funções `type` e `len`\n",
    "* Diferença entre `print` e `return` em funções\n",
    "* Como melhorar funções: docstrings e checks de input"
   ]
  },
  {
   "cell_type": "code",
   "execution_count": 1,
   "id": "58db559d",
   "metadata": {},
   "outputs": [],
   "source": [
    "def cel_to_kel_print(cel):\n",
    "    kel = cel + 273.15\n",
    "    print(kel)\n",
    "    \n",
    "    \n",
    "def cel_to_kel_return(cel):\n",
    "    kel = cel + 273.15\n",
    "    return kel\n",
    "\n",
    "\n",
    "def cel_to_kel_virgula(cel):\n",
    "    kel = (cel+273,15)\n",
    "    return kel"
   ]
  },
  {
   "cell_type": "code",
   "execution_count": 2,
   "id": "0b5f9f4a",
   "metadata": {},
   "outputs": [
    {
     "data": {
      "text/plain": [
       "(303, 15)"
      ]
     },
     "execution_count": 2,
     "metadata": {},
     "output_type": "execute_result"
    }
   ],
   "source": [
    "cel_to_kel_virgula(30)"
   ]
  },
  {
   "cell_type": "code",
   "execution_count": 3,
   "id": "e2ed883a",
   "metadata": {},
   "outputs": [
    {
     "data": {
      "text/plain": [
       "2"
      ]
     },
     "execution_count": 3,
     "metadata": {},
     "output_type": "execute_result"
    }
   ],
   "source": [
    "type(cel_to_kel_virgula(30))\n",
    "\n",
    "# função len - length, comprimento em inglês\n",
    "len(cel_to_kel_virgula(30))"
   ]
  },
  {
   "cell_type": "code",
   "execution_count": 4,
   "id": "e4622b42",
   "metadata": {},
   "outputs": [
    {
     "name": "stdout",
     "output_type": "stream",
     "text": [
      "273.15\n",
      "274.15\n",
      "275.15\n",
      "276.15\n",
      "277.15\n",
      "278.15\n",
      "279.15\n",
      "280.15\n",
      "281.15\n",
      "282.15\n",
      "283.15\n",
      "284.15\n",
      "285.15\n",
      "286.15\n",
      "287.15\n",
      "288.15\n",
      "289.15\n",
      "290.15\n",
      "291.15\n",
      "292.15\n",
      "293.15\n",
      "294.15\n",
      "295.15\n",
      "296.15\n",
      "297.15\n",
      "298.15\n",
      "299.15\n",
      "300.15\n",
      "301.15\n",
      "302.15\n",
      "303.15\n",
      "304.15\n",
      "305.15\n",
      "306.15\n",
      "307.15\n",
      "308.15\n",
      "309.15\n",
      "310.15\n",
      "311.15\n",
      "312.15\n",
      "313.15\n",
      "314.15\n",
      "315.15\n",
      "316.15\n",
      "317.15\n",
      "318.15\n",
      "319.15\n",
      "320.15\n",
      "321.15\n",
      "322.15\n"
     ]
    }
   ],
   "source": [
    "lista_print = []\n",
    "list_return = []\n",
    "\n",
    "temps = list(range(50))\n",
    "\n",
    "for t in temps:\n",
    "    lista_print.append(cel_to_kel_print(t))\n",
    "    list_return.append(cel_to_kel_return(t))"
   ]
  },
  {
   "cell_type": "code",
   "execution_count": 5,
   "id": "a7a5aac1",
   "metadata": {},
   "outputs": [],
   "source": [
    "def operacao_basica_r():\n",
    "    return 2 + 2\n",
    "\n",
    "def operacao_basica_p():\n",
    "    print(2 + 2)"
   ]
  },
  {
   "cell_type": "code",
   "execution_count": 6,
   "id": "03804045",
   "metadata": {},
   "outputs": [],
   "source": [
    "a = operacao_basica_r()"
   ]
  },
  {
   "cell_type": "code",
   "execution_count": 7,
   "id": "fe3241af",
   "metadata": {},
   "outputs": [
    {
     "data": {
      "text/plain": [
       "4"
      ]
     },
     "execution_count": 7,
     "metadata": {},
     "output_type": "execute_result"
    }
   ],
   "source": [
    "operacao_basica_r()"
   ]
  },
  {
   "cell_type": "code",
   "execution_count": 8,
   "id": "ac7c8bdf",
   "metadata": {},
   "outputs": [
    {
     "name": "stdout",
     "output_type": "stream",
     "text": [
      "4\n"
     ]
    }
   ],
   "source": [
    "b = operacao_basica_p()"
   ]
  },
  {
   "cell_type": "code",
   "execution_count": 9,
   "id": "2a4595ab",
   "metadata": {},
   "outputs": [],
   "source": [
    "b = None"
   ]
  },
  {
   "cell_type": "code",
   "execution_count": 10,
   "id": "23cb108d",
   "metadata": {},
   "outputs": [],
   "source": [
    "# Diferença lista e tupla: a primeira é mutável\n",
    "l = ['a', 'b', 42, 9320.2, ['RJ', 'SP']]"
   ]
  },
  {
   "cell_type": "code",
   "execution_count": 11,
   "id": "107947f3",
   "metadata": {},
   "outputs": [],
   "source": [
    "float_ = 273.15\n",
    "inteiro = 273\n",
    "string = \"273\""
   ]
  },
  {
   "cell_type": "code",
   "execution_count": 12,
   "id": "278b876d",
   "metadata": {},
   "outputs": [
    {
     "name": "stdout",
     "output_type": "stream",
     "text": [
      "<class 'float'>\n",
      "<class 'int'>\n",
      "<class 'str'>\n"
     ]
    }
   ],
   "source": [
    "for variavel in (float_, inteiro, string):\n",
    "    print(type(variavel))"
   ]
  },
  {
   "cell_type": "code",
   "execution_count": 13,
   "id": "890e4056",
   "metadata": {},
   "outputs": [],
   "source": [
    "variavel_com_nome_misterioso = 273.15"
   ]
  },
  {
   "cell_type": "code",
   "execution_count": 14,
   "id": "90e34a89",
   "metadata": {},
   "outputs": [
    {
     "data": {
      "text/plain": [
       "float"
      ]
     },
     "execution_count": 14,
     "metadata": {},
     "output_type": "execute_result"
    }
   ],
   "source": [
    "type(variavel_com_nome_misterioso)"
   ]
  },
  {
   "cell_type": "code",
   "execution_count": 15,
   "id": "e1676bfa",
   "metadata": {},
   "outputs": [],
   "source": [
    "# Celsius to Kelvin conversion\n",
    "def cel_to_kel(c):\n",
    "    k = c + 273.15\n",
    "    return k"
   ]
  },
  {
   "cell_type": "code",
   "execution_count": 16,
   "id": "3413d841",
   "metadata": {},
   "outputs": [],
   "source": [
    "def celsius_to_kelvin(celsius):\n",
    "    \"\"\"\n",
    "    Realiza conversão de temperatura de graus Celsius\n",
    "    para Kelvin. Precisa receber um número como entrada.\n",
    "    \n",
    "    celsius: temperatura em graus Celsius.\n",
    "    return: temperatura em graus Kelvin.\n",
    "    \"\"\"\n",
    "    if type(celsius) == str:\n",
    "        return \"Entrada inválida. Dê um número!\"\n",
    "    \n",
    "    kelvin = celsius + 273.15\n",
    "    return kelvin"
   ]
  },
  {
   "cell_type": "code",
   "execution_count": 17,
   "id": "582d5c80",
   "metadata": {},
   "outputs": [
    {
     "name": "stdout",
     "output_type": "stream",
     "text": [
      "Help on function celsius_to_kelvin in module __main__:\n",
      "\n",
      "celsius_to_kelvin(celsius)\n",
      "    Realiza conversão de temperatura de graus Celsius\n",
      "    para Kelvin. Precisa receber um número como entrada.\n",
      "    \n",
      "    celsius: temperatura em graus Celsius.\n",
      "    return: temperatura em graus Kelvin.\n",
      "\n"
     ]
    }
   ],
   "source": [
    "help(celsius_to_kelvin)"
   ]
  },
  {
   "cell_type": "markdown",
   "id": "f9685e84",
   "metadata": {},
   "source": [
    "### Aula 3 - 14 de abril de 2021\n",
    "\n",
    "**Desafio da última aula:** pensar em um problema para resolver com programação\n",
    "* Calculadora de valorização de moedas (regra de 3)\n",
    "\n",
    "**Funções builtin:**\n",
    "- `print()`\n",
    "- `help()`\n",
    "- `type()`\n",
    "- `len()`\n",
    "- `input()`\n",
    "- `zip()`\n",
    "\n",
    "#### Tópicos\n",
    "* Como melhorar funções\n",
    "    * Docstrings\n",
    "    * Comentários\n",
    "* `for` loop"
   ]
  },
  {
   "cell_type": "code",
   "execution_count": 18,
   "id": "f578f70e",
   "metadata": {},
   "outputs": [],
   "source": [
    "def regra_3(a, b, c):\n",
    "    \"\"\"\n",
    "    Calcula uma regra de 3:\n",
    "    \n",
    "    a - b\n",
    "    c - x\n",
    "    \n",
    "    Como a está para b, c está para x.\n",
    "    \n",
    "    Retorna o valor de x.\n",
    "    \"\"\"\n",
    "    x = b*c/a\n",
    "    return x"
   ]
  },
  {
   "cell_type": "code",
   "execution_count": 19,
   "id": "b94c9def",
   "metadata": {},
   "outputs": [
    {
     "data": {
      "text/plain": [
       "4.0"
      ]
     },
     "execution_count": 19,
     "metadata": {},
     "output_type": "execute_result"
    }
   ],
   "source": [
    "regra_3(1,2,2)"
   ]
  },
  {
   "cell_type": "code",
   "execution_count": 20,
   "id": "5c741862",
   "metadata": {},
   "outputs": [],
   "source": [
    "def calculadora_regra_3():\n",
    "    \"\"\"\n",
    "    Calculadora interativa de regra de 3:\n",
    "    \n",
    "    a - b\n",
    "    c - x\n",
    "    \n",
    "    Como a está para b, c está para x.\n",
    "    \n",
    "    Retorna o valor de x.\n",
    "    \"\"\"\n",
    "    \n",
    "    # Obter valores de entrada\n",
    "    a = input(\"Qual é o valor de A?\")\n",
    "    b = input(\"Qual é o valor de B?\")\n",
    "    c = input(\"Qual é o valor de C?\")\n",
    "    \n",
    "    # Converter para número\n",
    "    a, b, c = float(a), float(b), float(c)\n",
    "    \n",
    "    # Calcular regra de 3\n",
    "    x = b*c/a\n",
    "    \n",
    "    print(\"O valor de X é\", x)\n",
    "    return x"
   ]
  },
  {
   "cell_type": "markdown",
   "id": "d1f62529",
   "metadata": {},
   "source": [
    "**Gerando listas aleatórias**"
   ]
  },
  {
   "cell_type": "code",
   "execution_count": 21,
   "id": "961cdd10",
   "metadata": {},
   "outputs": [],
   "source": [
    "from random import randint\n",
    "quantidades_iniciais = [1/randint(1,10) for i in range(30)]\n",
    "valores_iniciais = [randint(10**2, 10**6) for i in range(30)]\n",
    "quantidades_finais = [randint(1,10) for i in range(30)]\n",
    "valores_finais = []"
   ]
  },
  {
   "cell_type": "markdown",
   "id": "079f9bb4",
   "metadata": {},
   "source": [
    "**Criando listas na mão**"
   ]
  },
  {
   "cell_type": "code",
   "execution_count": 22,
   "id": "616e1fde",
   "metadata": {},
   "outputs": [],
   "source": [
    "cel = [32, 34, 22, 12, 25]\n",
    "kel = []"
   ]
  },
  {
   "cell_type": "markdown",
   "id": "3d8a87cb",
   "metadata": {},
   "source": [
    "### Pergunta: como aplicar a função `regra_3()` nas 3 listas de valores?"
   ]
  },
  {
   "cell_type": "code",
   "execution_count": 23,
   "id": "07404b8b",
   "metadata": {},
   "outputs": [],
   "source": [
    "# Usando a função zip\n",
    "for a, b, c in zip(quantidades_iniciais, valores_iniciais, quantidades_finais):\n",
    "    x = regra_3(a, b, c)\n",
    "    valores_finais.append(x)"
   ]
  },
  {
   "cell_type": "markdown",
   "id": "2ac94bb8",
   "metadata": {},
   "source": [
    "### Aula 4 - 16 de abril de 2021\n",
    "#### Listas e slicing\n",
    "\n",
    "**Pergunta:**\n",
    "* Por que listas são importantes?\n",
    "\n",
    "\n",
    "**Objetivos**\n",
    "* Acessar itens em uma lista\n",
    "* Acessar fatias da lista\n",
    "* Inserir itens na lista\n",
    "* Modificar listas com funções\n",
    "\n",
    "**Funções builtin**\n",
    "* `dir()`\n",
    "\n",
    "**Lembretes**\n",
    "* `return` só vai dentro de funções"
   ]
  },
  {
   "cell_type": "code",
   "execution_count": 24,
   "id": "a7d4ac11",
   "metadata": {},
   "outputs": [
    {
     "name": "stdout",
     "output_type": "stream",
     "text": [
      "Temperaturas: [32, 34, 22, 12, 25]\n",
      "Quantidade: 5\n"
     ]
    }
   ],
   "source": [
    "temps = [32, 34, 22, 12, 25]\n",
    "\n",
    "print(\"Temperaturas:\", temps)\n",
    "print(\"Quantidade:\", len(temps))"
   ]
  },
  {
   "cell_type": "code",
   "execution_count": 25,
   "id": "4fe90e50",
   "metadata": {},
   "outputs": [
    {
     "data": {
      "text/plain": [
       "5"
      ]
     },
     "execution_count": 25,
     "metadata": {},
     "output_type": "execute_result"
    }
   ],
   "source": [
    "tamanho_da_lista = len(temps)\n",
    "tamanho_da_lista"
   ]
  },
  {
   "cell_type": "code",
   "execution_count": 26,
   "id": "85d0a5f2",
   "metadata": {},
   "outputs": [
    {
     "data": {
      "text/plain": [
       "25"
      ]
     },
     "execution_count": 26,
     "metadata": {},
     "output_type": "execute_result"
    }
   ],
   "source": [
    "temps[tamanho_da_lista - 1]"
   ]
  },
  {
   "cell_type": "code",
   "execution_count": 27,
   "id": "580df227",
   "metadata": {},
   "outputs": [
    {
     "data": {
      "text/plain": [
       "25"
      ]
     },
     "execution_count": 27,
     "metadata": {},
     "output_type": "execute_result"
    }
   ],
   "source": [
    "temps[-1]  # acessar começando do fim: coloca sinal negativo"
   ]
  },
  {
   "cell_type": "code",
   "execution_count": 28,
   "id": "23be2771",
   "metadata": {},
   "outputs": [
    {
     "data": {
      "text/plain": [
       "[34, 22, 12]"
      ]
     },
     "execution_count": 28,
     "metadata": {},
     "output_type": "execute_result"
    }
   ],
   "source": [
    "temps[1:4]"
   ]
  },
  {
   "cell_type": "markdown",
   "id": "a626b732",
   "metadata": {},
   "source": [
    "**\"Pegadinhas\" de listas**"
   ]
  },
  {
   "cell_type": "code",
   "execution_count": 29,
   "id": "1d2ff3fb",
   "metadata": {},
   "outputs": [
    {
     "data": {
      "text/plain": [
       "32"
      ]
     },
     "execution_count": 29,
     "metadata": {},
     "output_type": "execute_result"
    }
   ],
   "source": [
    "temps[1:4]  #  fatia \"não-inclusiva\"\n",
    "temps[0]  # contagem começa no zero"
   ]
  },
  {
   "cell_type": "markdown",
   "id": "d5e8553f",
   "metadata": {},
   "source": [
    "Os métodos de fatia e acesso das listas, também valem para strings (ou textos)"
   ]
  },
  {
   "cell_type": "code",
   "execution_count": 30,
   "id": "527a5f05",
   "metadata": {},
   "outputs": [
    {
     "data": {
      "text/plain": [
       "'Temp'"
      ]
     },
     "execution_count": 30,
     "metadata": {},
     "output_type": "execute_result"
    }
   ],
   "source": [
    "temp_txt = \"Temperaturas\"\n",
    "temp_txt[:4]  # se não boto nada antes, do ':', significa que começa do 0"
   ]
  },
  {
   "cell_type": "markdown",
   "id": "71af5d18",
   "metadata": {},
   "source": [
    "Funções (métodos) de lista:\n",
    "* `append()`\n",
    "* `pop()`\n",
    "* `insert()`\n",
    "\n",
    "**Como descobrir os métodos de uma lista (ou qualquer objeto)?**\n",
    "\n",
    "Com a função builtin `dir()`"
   ]
  },
  {
   "cell_type": "code",
   "execution_count": 31,
   "id": "682b2eb2",
   "metadata": {},
   "outputs": [
    {
     "data": {
      "text/plain": [
       "[32, 34, 22, 12, 25, 56]"
      ]
     },
     "execution_count": 31,
     "metadata": {},
     "output_type": "execute_result"
    }
   ],
   "source": [
    "temps.append(56);\n",
    "temps"
   ]
  },
  {
   "cell_type": "code",
   "execution_count": 32,
   "id": "475d4380",
   "metadata": {},
   "outputs": [
    {
     "data": {
      "text/plain": [
       "56"
      ]
     },
     "execution_count": 32,
     "metadata": {},
     "output_type": "execute_result"
    }
   ],
   "source": [
    "temps.pop()"
   ]
  },
  {
   "cell_type": "code",
   "execution_count": 33,
   "id": "5256bf55",
   "metadata": {},
   "outputs": [
    {
     "data": {
      "text/plain": [
       "[32, 34, 22, 12, 25]"
      ]
     },
     "execution_count": 33,
     "metadata": {},
     "output_type": "execute_result"
    }
   ],
   "source": [
    "temps"
   ]
  },
  {
   "cell_type": "code",
   "execution_count": 34,
   "id": "05ecdfb2",
   "metadata": {},
   "outputs": [],
   "source": [
    "temps.insert(1, 105)"
   ]
  },
  {
   "cell_type": "code",
   "execution_count": 35,
   "id": "67868ede",
   "metadata": {},
   "outputs": [],
   "source": [
    "temps.append(\"Texto qualquer\")"
   ]
  },
  {
   "cell_type": "code",
   "execution_count": 36,
   "id": "c4a6c6d3",
   "metadata": {},
   "outputs": [
    {
     "data": {
      "text/plain": [
       "[32, 105, 34, 22, 12, 25, 'Texto qualquer']"
      ]
     },
     "execution_count": 36,
     "metadata": {},
     "output_type": "execute_result"
    }
   ],
   "source": [
    "temps"
   ]
  },
  {
   "cell_type": "code",
   "execution_count": 37,
   "id": "19419a8b",
   "metadata": {},
   "outputs": [],
   "source": [
    "temps.reverse()"
   ]
  },
  {
   "cell_type": "code",
   "execution_count": 38,
   "id": "82487910",
   "metadata": {},
   "outputs": [
    {
     "data": {
      "text/plain": [
       "'Texto qualquer'"
      ]
     },
     "execution_count": 38,
     "metadata": {},
     "output_type": "execute_result"
    }
   ],
   "source": [
    "temps.pop(0)"
   ]
  },
  {
   "cell_type": "code",
   "execution_count": 39,
   "id": "202c9832",
   "metadata": {},
   "outputs": [],
   "source": [
    "temps.sort(reverse=True)"
   ]
  },
  {
   "cell_type": "code",
   "execution_count": 40,
   "id": "083cb2b7",
   "metadata": {},
   "outputs": [
    {
     "data": {
      "text/plain": [
       "[105, 34, 32, 25, 22, 12]"
      ]
     },
     "execution_count": 40,
     "metadata": {},
     "output_type": "execute_result"
    }
   ],
   "source": [
    "temps"
   ]
  },
  {
   "cell_type": "markdown",
   "id": "bae9d275",
   "metadata": {},
   "source": [
    "### Desafio\n",
    "\n",
    "Converter os itens da lista `cel` em Kelvin em inserir na lista `kel`:"
   ]
  },
  {
   "cell_type": "code",
   "execution_count": 41,
   "id": "6775f47c",
   "metadata": {},
   "outputs": [],
   "source": [
    "for temp in cel:\n",
    "    k = cel_to_kel(temp)\n",
    "    kel.append(k)"
   ]
  }
 ],
 "metadata": {
  "kernelspec": {
   "display_name": "Python 3",
   "language": "python",
   "name": "python3"
  },
  "language_info": {
   "codemirror_mode": {
    "name": "ipython",
    "version": 3
   },
   "file_extension": ".py",
   "mimetype": "text/x-python",
   "name": "python",
   "nbconvert_exporter": "python",
   "pygments_lexer": "ipython3",
   "version": "3.7.10"
  }
 },
 "nbformat": 4,
 "nbformat_minor": 5
}
