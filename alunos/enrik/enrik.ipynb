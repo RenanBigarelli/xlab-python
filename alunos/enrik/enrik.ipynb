{
 "cells": [
  {
   "cell_type": "markdown",
   "id": "9a184742",
   "metadata": {},
   "source": [
    "### Aula 1 - 7 de abril de 2021\n",
    "#### Introdução ao Python\n",
    "\n",
    "Uso básico do Jupyter. Tópicos:\n",
    "* Variáveis\n",
    "* Tipos de dados\n",
    "* Operações matemáticas\n",
    "* Funções\n",
    "\n",
    "**Desafio:** criar uma função para converter Kelvin para Celsius?"
   ]
  },
  {
   "cell_type": "markdown",
   "id": "52552ec6",
   "metadata": {},
   "source": [
    "### Aula 2 - 9 de abril de 2021\n",
    "#### Tipos de dados e funções builtin\n",
    "\n",
    "Tópicos:\n",
    "* Quais são os principais tipos de dados?\n",
    "* Como descobrir os tipos de dados -> função `type`\n",
    "* Funções `type` e `len`\n",
    "* Diferença entre `print` e `return` em funções\n",
    "* Como melhorar funções: docstrings e checks de input"
   ]
  },
  {
   "cell_type": "code",
   "execution_count": null,
   "id": "00461ccb",
   "metadata": {},
   "outputs": [],
   "source": [
    "def cel_to_kel_print(cel):\n",
    "    kel = cel + 273.15\n",
    "    print(kel)\n",
    "    \n",
    "    \n",
    "def cel_to_kel_return(cel):\n",
    "    kel = cel + 273.15\n",
    "    return kel\n",
    "\n",
    "\n",
    "def cel_to_kel_virgula(cel):\n",
    "    kel = (cel+273,15)\n",
    "    return kel"
   ]
  },
  {
   "cell_type": "code",
   "execution_count": null,
   "id": "5c8f89be",
   "metadata": {},
   "outputs": [],
   "source": [
    "cel_to_kel_virgula(30)"
   ]
  },
  {
   "cell_type": "code",
   "execution_count": null,
   "id": "3edd201a",
   "metadata": {},
   "outputs": [],
   "source": [
    "type(cel_to_kel_virgula(30))\n",
    "\n",
    "# função len - length, comprimento em inglês\n",
    "len(cel_to_kel_virgula(30))"
   ]
  },
  {
   "cell_type": "code",
   "execution_count": null,
   "id": "b62bbcb1",
   "metadata": {},
   "outputs": [],
   "source": [
    "lista_print = []\n",
    "list_return = []\n",
    "\n",
    "temps = list(range(50))\n",
    "\n",
    "for t in temps:\n",
    "    lista_print.append(cel_to_kel_print(t))\n",
    "    list_return.append(cel_to_kel_return(t))"
   ]
  },
  {
   "cell_type": "code",
   "execution_count": null,
   "id": "6c9a7061",
   "metadata": {},
   "outputs": [],
   "source": [
    "def operacao_basica_r():\n",
    "    return 2 + 2\n",
    "\n",
    "def operacao_basica_p():\n",
    "    print(2 + 2)"
   ]
  },
  {
   "cell_type": "code",
   "execution_count": null,
   "id": "c5cd2b27",
   "metadata": {},
   "outputs": [],
   "source": [
    "a = operacao_basica_r()"
   ]
  },
  {
   "cell_type": "code",
   "execution_count": null,
   "id": "e0420ee3",
   "metadata": {},
   "outputs": [],
   "source": [
    "operacao_basica_r()"
   ]
  },
  {
   "cell_type": "code",
   "execution_count": null,
   "id": "b670bf92",
   "metadata": {},
   "outputs": [],
   "source": [
    "b = operacao_basica_p()"
   ]
  },
  {
   "cell_type": "code",
   "execution_count": null,
   "id": "d7febc3f",
   "metadata": {},
   "outputs": [],
   "source": [
    "b = None"
   ]
  },
  {
   "cell_type": "code",
   "execution_count": null,
   "id": "327874c3",
   "metadata": {},
   "outputs": [],
   "source": [
    "# Diferença lista e tupla: a primeira é mutável\n",
    "l = ['a', 'b', 42, 9320.2, ['RJ', 'SP']]"
   ]
  },
  {
   "cell_type": "code",
   "execution_count": null,
   "id": "aae3cb92",
   "metadata": {},
   "outputs": [],
   "source": [
    "float_ = 273.15\n",
    "inteiro = 273\n",
    "string = \"273\""
   ]
  },
  {
   "cell_type": "code",
   "execution_count": null,
   "id": "fac1c505",
   "metadata": {},
   "outputs": [],
   "source": [
    "for variavel in (float_, inteiro, string):\n",
    "    print(type(variavel))"
   ]
  },
  {
   "cell_type": "code",
   "execution_count": null,
   "id": "fb385aad",
   "metadata": {},
   "outputs": [],
   "source": [
    "str(49)"
   ]
  },
  {
   "cell_type": "code",
   "execution_count": null,
   "id": "ec89409b",
   "metadata": {},
   "outputs": [],
   "source": [
    "numeros = [4, 49, 100]\n",
    "\n",
    "for n in numeros:\n",
    "    print(int(math.sqrt(n)))"
   ]
  },
  {
   "cell_type": "code",
   "execution_count": null,
   "id": "c974176f",
   "metadata": {},
   "outputs": [],
   "source": [
    "variavel_com_nome_misterioso = 273.15"
   ]
  },
  {
   "cell_type": "code",
   "execution_count": null,
   "id": "5c2554c0",
   "metadata": {},
   "outputs": [],
   "source": [
    "type(variavel_com_nome_misterioso)"
   ]
  },
  {
   "cell_type": "code",
   "execution_count": null,
   "id": "83f46049",
   "metadata": {},
   "outputs": [],
   "source": [
    "# Celsius to Kelvin conversion\n",
    "def cel_to_kel(c):\n",
    "    k = c + 273.15\n",
    "    return k"
   ]
  },
  {
   "cell_type": "code",
   "execution_count": null,
   "id": "3aef236c",
   "metadata": {},
   "outputs": [],
   "source": [
    "def celsius_to_kelvin(celsius):\n",
    "    \"\"\"\n",
    "    Realiza conversão de temperatura de graus Celsius\n",
    "    para Kelvin. Precisa receber um número como entrada.\n",
    "    \n",
    "    celsius: temperatura em graus Celsius.\n",
    "    return: temperatura em graus Kelvin.\n",
    "    \"\"\"\n",
    "    if type(celsius) == str:\n",
    "        return \"Entrada inválida. Dê um número!\"\n",
    "    \n",
    "    kelvin = celsius + 273.15\n",
    "    return kelvin"
   ]
  },
  {
   "cell_type": "code",
   "execution_count": null,
   "id": "10d17836",
   "metadata": {},
   "outputs": [],
   "source": [
    "help(celsius_to_kelvin)"
   ]
  },
  {
   "cell_type": "markdown",
   "id": "8464020f",
   "metadata": {},
   "source": [
    "### Aula 3 - 14 de abril de 2021\n",
    "\n",
    "**Desafio da última aula:** pensar em um problema para resolver com programação\n",
    "* Calculadora de valorização de moedas (regra de 3)\n",
    "\n",
    "**Funções builtin:**\n",
    "- `print()`\n",
    "- `help()`\n",
    "- `type()`\n",
    "- `len()`\n",
    "- `input()`\n",
    "- `zip()`\n",
    "\n",
    "#### Tópicos\n",
    "* Como melhorar funções\n",
    "    * Docstrings\n",
    "    * Comentários\n",
    "* `for` loop"
   ]
  },
  {
   "cell_type": "code",
   "execution_count": null,
   "id": "434ff3c3",
   "metadata": {},
   "outputs": [],
   "source": [
    "def regra_3(a, b, c):\n",
    "    \"\"\"\n",
    "    Calcula uma regra de 3:\n",
    "    \n",
    "    a - b\n",
    "    c - x\n",
    "    \n",
    "    Como a está para b, c está para x.\n",
    "    \n",
    "    Retorna o valor de x.\n",
    "    \"\"\"\n",
    "    x = b*c/a\n",
    "    return x"
   ]
  },
  {
   "cell_type": "code",
   "execution_count": null,
   "id": "fce87384",
   "metadata": {},
   "outputs": [],
   "source": [
    "regra_3(1,2,2)"
   ]
  },
  {
   "cell_type": "code",
   "execution_count": null,
   "id": "5541289c",
   "metadata": {},
   "outputs": [],
   "source": [
    "def calculadora_regra_3():\n",
    "    \"\"\"\n",
    "    Calculadora interativa de regra de 3:\n",
    "    \n",
    "    a - b\n",
    "    c - x\n",
    "    \n",
    "    Como a está para b, c está para x.\n",
    "    \n",
    "    Retorna o valor de x.\n",
    "    \"\"\"\n",
    "    \n",
    "    # Obter valores de entrada\n",
    "    a = input(\"Qual é o valor de A?\")\n",
    "    b = input(\"Qual é o valor de B?\")\n",
    "    c = input(\"Qual é o valor de C?\")\n",
    "    \n",
    "    # Converter para número\n",
    "    a, b, c = float(a), float(b), float(c)\n",
    "    \n",
    "    # Calcular regra de 3\n",
    "    x = b*c/a\n",
    "    \n",
    "    print(\"O valor de X é\", x)\n",
    "    return x"
   ]
  },
  {
   "cell_type": "markdown",
   "id": "dc61d131",
   "metadata": {},
   "source": [
    "**Gerando listas aleatórias**"
   ]
  },
  {
   "cell_type": "code",
   "execution_count": null,
   "id": "a4b0d75f",
   "metadata": {},
   "outputs": [],
   "source": [
    "from random import randint\n",
    "quantidades_iniciais = [1/randint(1,10) for i in range(30)]\n",
    "valores_iniciais = [randint(10**2, 10**6) for i in range(30)]\n",
    "quantidades_finais = [randint(1,10) for i in range(30)]\n",
    "valores_finais = []"
   ]
  },
  {
   "cell_type": "markdown",
   "id": "e344f0d6",
   "metadata": {},
   "source": [
    "**Criando listas na mão**"
   ]
  },
  {
   "cell_type": "code",
   "execution_count": null,
   "id": "3c183e30",
   "metadata": {},
   "outputs": [],
   "source": [
    "cel = [32, 34, 22, 12, 25]\n",
    "kel = []"
   ]
  },
  {
   "cell_type": "markdown",
   "id": "9c127cf2",
   "metadata": {},
   "source": [
    "### Pergunta: como aplicar a função `regra_3()` nas 3 listas de valores?"
   ]
  },
  {
   "cell_type": "code",
   "execution_count": null,
   "id": "9715cf67",
   "metadata": {},
   "outputs": [],
   "source": [
    "# Usando a função zip\n",
    "for a, b, c in zip(quantidades_iniciais, valores_iniciais, quantidades_finais):\n",
    "    x = regra_3(a, b, c)\n",
    "    valores_finais.append(x)"
   ]
  },
  {
   "cell_type": "markdown",
   "id": "a4141048",
   "metadata": {},
   "source": [
    "### Aula 4 - 16 de abril de 2021\n",
    "#### Listas e slicing\n",
    "\n",
    "**Pergunta:**\n",
    "* Por que listas são importantes?\n",
    "\n",
    "\n",
    "**Objetivos**\n",
    "* Acessar itens em uma lista\n",
    "* Acessar fatias da lista\n",
    "* Inserir itens na lista\n",
    "* Modificar listas com funções\n",
    "\n",
    "**Funções builtin**\n",
    "* `dir()`\n",
    "\n",
    "**Lembretes**\n",
    "* `return` só vai dentro de funções"
   ]
  },
  {
   "cell_type": "code",
   "execution_count": null,
   "id": "0b65a112",
   "metadata": {},
   "outputs": [],
   "source": [
    "temps = [32, 34, 22, 12, 25]\n",
    "\n",
    "print(\"Temperaturas:\", temps)\n",
    "print(\"Quantidade:\", len(temps))"
   ]
  },
  {
   "cell_type": "code",
   "execution_count": null,
   "id": "badfe62c",
   "metadata": {},
   "outputs": [],
   "source": [
    "tamanho_da_lista = len(temps)\n",
    "tamanho_da_lista"
   ]
  },
  {
   "cell_type": "code",
   "execution_count": null,
   "id": "5aecd02f",
   "metadata": {},
   "outputs": [],
   "source": [
    "temps[tamanho_da_lista - 1]"
   ]
  },
  {
   "cell_type": "code",
   "execution_count": null,
   "id": "bfb969f0",
   "metadata": {},
   "outputs": [],
   "source": [
    "temps[-1]  # acessar começando do fim: coloca sinal negativo"
   ]
  },
  {
   "cell_type": "code",
   "execution_count": null,
   "id": "961027c2",
   "metadata": {},
   "outputs": [],
   "source": [
    "temps[1:4]"
   ]
  },
  {
   "cell_type": "markdown",
   "id": "5b72f8ab",
   "metadata": {},
   "source": [
    "**\"Pegadinhas\" de listas**"
   ]
  },
  {
   "cell_type": "code",
   "execution_count": null,
   "id": "1d275833",
   "metadata": {},
   "outputs": [],
   "source": [
    "temps[1:4]  #  fatia \"não-inclusiva\"\n",
    "temps[0]  # contagem começa no zero"
   ]
  },
  {
   "cell_type": "markdown",
   "id": "daa4338a",
   "metadata": {},
   "source": [
    "Os métodos de fatia e acesso das listas, também valem para strings (ou textos)"
   ]
  },
  {
   "cell_type": "code",
   "execution_count": null,
   "id": "b4e6d612",
   "metadata": {},
   "outputs": [],
   "source": [
    "temp_txt = \"Temperaturas\"\n",
    "temp_txt[:4]  # se não boto nada antes, do ':', significa que começa do 0"
   ]
  },
  {
   "cell_type": "markdown",
   "id": "d63c860f",
   "metadata": {},
   "source": [
    "Funções (métodos) de lista:\n",
    "* `append()`\n",
    "* `pop()`\n",
    "* `insert()`\n",
    "\n",
    "**Como descobrir os métodos de uma lista (ou qualquer objeto)?**\n",
    "\n",
    "Com a função builtin `dir()`"
   ]
  },
  {
   "cell_type": "code",
   "execution_count": null,
   "id": "d03a4f47",
   "metadata": {},
   "outputs": [],
   "source": [
    "temps.append(56);\n",
    "temps"
   ]
  },
  {
   "cell_type": "code",
   "execution_count": null,
   "id": "47a7c14b",
   "metadata": {},
   "outputs": [],
   "source": [
    "temps.pop()"
   ]
  },
  {
   "cell_type": "code",
   "execution_count": null,
   "id": "987bec14",
   "metadata": {},
   "outputs": [],
   "source": [
    "temps"
   ]
  },
  {
   "cell_type": "code",
   "execution_count": null,
   "id": "ce38e71e",
   "metadata": {},
   "outputs": [],
   "source": [
    "temps.insert(1, 105)"
   ]
  },
  {
   "cell_type": "code",
   "execution_count": null,
   "id": "590ba183",
   "metadata": {},
   "outputs": [],
   "source": [
    "temps.append(\"Texto qualquer\")"
   ]
  },
  {
   "cell_type": "code",
   "execution_count": null,
   "id": "432684a0",
   "metadata": {},
   "outputs": [],
   "source": [
    "temps"
   ]
  },
  {
   "cell_type": "code",
   "execution_count": null,
   "id": "be560676",
   "metadata": {},
   "outputs": [],
   "source": [
    "temps.reverse()"
   ]
  },
  {
   "cell_type": "code",
   "execution_count": null,
   "id": "85dce84d",
   "metadata": {},
   "outputs": [],
   "source": [
    "temps.pop(0)"
   ]
  },
  {
   "cell_type": "code",
   "execution_count": null,
   "id": "5748bbcf",
   "metadata": {},
   "outputs": [],
   "source": [
    "temps.sort(reverse=True)"
   ]
  },
  {
   "cell_type": "code",
   "execution_count": null,
   "id": "6b75940f",
   "metadata": {},
   "outputs": [],
   "source": [
    "temps"
   ]
  },
  {
   "cell_type": "markdown",
   "id": "a5adbdf6",
   "metadata": {},
   "source": [
    "### Desafio\n",
    "\n",
    "Converter os itens da lista `cel` em Kelvin em inserir na lista `kel`:"
   ]
  },
  {
   "cell_type": "code",
   "execution_count": null,
   "id": "847950e3",
   "metadata": {},
   "outputs": [],
   "source": [
    "for temp in cel:\n",
    "    k = cel_to_kel(temp)\n",
    "    kel.append(k)"
   ]
  },
  {
   "cell_type": "markdown",
   "id": "e7e9e497",
   "metadata": {},
   "source": [
    "### Aula 5 - 20 de abril de 2021\n",
    "#### Continuação Python básico\n",
    "\n",
    "**Objetivos**\n",
    "- Usar funções e listas\n",
    "    - Funções `builtin` para conversão de tipos\n",
    "        - `float()`\n",
    "        - `int()`\n",
    "        - `str()`\n",
    "        - `list()`\n",
    "    - Compreensão de lista (*list comprehension*)\n",
    "\n",
    "**Desafios**\n",
    "- Calcular a raíz quadrada de uma lista de números"
   ]
  },
  {
   "cell_type": "code",
   "execution_count": null,
   "id": "14ec474a",
   "metadata": {},
   "outputs": [],
   "source": [
    "import math"
   ]
  },
  {
   "cell_type": "code",
   "execution_count": null,
   "id": "21e2b92d",
   "metadata": {},
   "outputs": [],
   "source": [
    "numeros = [4, 169, 625, 1369, 1764, 2500]\n",
    "\n",
    "# Maneira 1: for loop\n",
    "raiz_numeros = []\n",
    "for n in numeros:\n",
    "    raiz = math.sqrt(n)\n",
    "    raiz = int(raiz)\n",
    "    raiz_numeros.append(raiz)\n",
    "    \n",
    "raiz_numeros"
   ]
  },
  {
   "cell_type": "code",
   "execution_count": null,
   "id": "9b470085",
   "metadata": {},
   "outputs": [],
   "source": [
    "# Maneira 2: list comprehension\n",
    "raiz_numeros = [math.sqrt(n) for n in numeros]\n",
    "\n",
    "raiz_numeros"
   ]
  },
  {
   "cell_type": "code",
   "execution_count": null,
   "id": "8f2ee32f",
   "metadata": {},
   "outputs": [],
   "source": [
    "# List comprehension + condicionais\n",
    "\n",
    "# Calcular sqrt() para n < 1000\n",
    "# Se n > 1000, só incluir n\n",
    "numeros = [4, 169, 625, 1369, 1764, 2500]\n",
    "\n",
    "raiz_numeros = []\n",
    "for n in numeros:\n",
    "    if n < 1000:\n",
    "        raiz = math.sqrt(n)\n",
    "        raiz_numeros.append(raiz)\n",
    "    else:\n",
    "        raiz_numeros.append(n)\n",
    "        \n",
    "# Desafio: modifique a list comprehension para incluir a condicional\n",
    "raiz_numeros = [math.sqrt(n) if n < 1000 else n for n in numeros]\n",
    "raiz_numeros"
   ]
  },
  {
   "cell_type": "markdown",
   "id": "c64e613c",
   "metadata": {},
   "source": [
    "**Cuidar com pegadinha de condicionais:** quando adicionamos um `else`, mudamos a ordem da list comprehension"
   ]
  },
  {
   "cell_type": "markdown",
   "id": "44348aed",
   "metadata": {},
   "source": [
    "### Aula 6 - 23 de abril de 2021\n",
    "\n",
    "# Exercícios"
   ]
  },
  {
   "cell_type": "markdown",
   "id": "65b83be8",
   "metadata": {},
   "source": [
    "#### 1. Escreva uma função que remova todos os elementos com um determinado valor de uma lista.\n",
    "\n",
    "**Exemplo**\n",
    "```python\n",
    "lista = ['a', 'b', 'c', 'a']\n",
    "remove(lista, 'a')  # retorna ['b','c'].\n",
    "```"
   ]
  },
  {
   "cell_type": "code",
   "execution_count": null,
   "id": "76d21a97",
   "metadata": {},
   "outputs": [],
   "source": []
  },
  {
   "cell_type": "markdown",
   "id": "b47b4fd5",
   "metadata": {},
   "source": [
    "#### 2. Escreva um programa que receba uma lista e retorna a soma de cada elemento elevado ao cubo. Caso haja um elemento que não seja numero, deve retornar uma mensagem de erro."
   ]
  },
  {
   "cell_type": "code",
   "execution_count": null,
   "id": "7ceaab0e",
   "metadata": {},
   "outputs": [],
   "source": []
  },
  {
   "cell_type": "markdown",
   "id": "d0151284",
   "metadata": {},
   "source": [
    "#### 3. Escreva um programa que receba uma frase e retorne a palavra com mais letras `'e'`."
   ]
  },
  {
   "cell_type": "code",
   "execution_count": null,
   "id": "7173547e",
   "metadata": {},
   "outputs": [],
   "source": []
  },
  {
   "cell_type": "markdown",
   "id": "fabfcbc3",
   "metadata": {},
   "source": [
    "#### 4. Escreva um programa que receba uma lista e retorne o valor mínimo e máximo da lista."
   ]
  },
  {
   "cell_type": "code",
   "execution_count": null,
   "id": "accb9ee7",
   "metadata": {},
   "outputs": [],
   "source": []
  },
  {
   "cell_type": "markdown",
   "id": "befe8cb7",
   "metadata": {},
   "source": [
    "#### 5. Escreva um programa que receba uma lista de strings e depois imprima quantos elementos contenham uma substring qualquer."
   ]
  },
  {
   "cell_type": "code",
   "execution_count": null,
   "id": "34959366",
   "metadata": {},
   "outputs": [],
   "source": []
  }
 ],
 "metadata": {
  "kernelspec": {
   "display_name": "Python 3",
   "language": "python",
   "name": "python3"
  },
  "language_info": {
   "codemirror_mode": {
    "name": "ipython",
    "version": 3
   },
   "file_extension": ".py",
   "mimetype": "text/x-python",
   "name": "python",
   "nbconvert_exporter": "python",
   "pygments_lexer": "ipython3",
   "version": "3.7.10"
  }
 },
 "nbformat": 4,
 "nbformat_minor": 5
}
