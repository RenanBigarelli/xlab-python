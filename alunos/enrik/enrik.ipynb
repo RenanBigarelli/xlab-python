{
 "cells": [
  {
   "cell_type": "markdown",
   "id": "48140da6",
   "metadata": {},
   "source": [
    "### Aula 1 - Introdução ao Python\n",
    "\n",
    "Uso básico do Jupyter. Tópicos:\n",
    "* Variáveis\n",
    "* Tipos de dados\n",
    "* Operações matemáticas\n",
    "* Funções\n",
    "\n",
    "**Desafio:** criar uma função para converter Kelvin para Celsius?"
   ]
  },
  {
   "cell_type": "markdown",
   "id": "e8a9aa25",
   "metadata": {},
   "source": [
    "### Aula 2 - tipos de dados e funções builtin\n",
    "\n",
    "Tópicos:\n",
    "* Quais são os principais tipos de dados?\n",
    "* Como descobrir os tipos de dados -> função `type`\n",
    "* Funções `type` e `len`\n",
    "* Diferença entre `print` e `return` em funções\n",
    "* Como melhorar funções: docstrings e checks de input"
   ]
  },
  {
   "cell_type": "code",
   "execution_count": null,
   "id": "6118763f",
   "metadata": {},
   "outputs": [],
   "source": [
    "def cel_to_kel_print(cel):\n",
    "    kel = cel + 273.15\n",
    "    print(kel)\n",
    "    \n",
    "    \n",
    "def cel_to_kel_return(cel):\n",
    "    kel = cel + 273.15\n",
    "    return kel\n",
    "\n",
    "\n",
    "def cel_to_kel_virgula(cel):\n",
    "    kel = (cel+273,15)\n",
    "    return kel"
   ]
  },
  {
   "cell_type": "code",
   "execution_count": null,
   "id": "39fce103",
   "metadata": {},
   "outputs": [],
   "source": [
    "cel_to_kel_virgula(30)"
   ]
  },
  {
   "cell_type": "code",
   "execution_count": null,
   "id": "7e9544cf",
   "metadata": {},
   "outputs": [],
   "source": [
    "type(cel_to_kel_virgula(30))\n",
    "\n",
    "# função len - length, comprimento em inglês\n",
    "len(cel_to_kel_virgula(30))"
   ]
  },
  {
   "cell_type": "code",
   "execution_count": null,
   "id": "e0032c7c",
   "metadata": {},
   "outputs": [],
   "source": [
    "lista_print = []\n",
    "list_return = []\n",
    "\n",
    "temps = list(range(50))\n",
    "\n",
    "for t in temps:\n",
    "    lista_print.append(cel_to_kel_print(t))\n",
    "    list_return.append(cel_to_kel_return(t))"
   ]
  },
  {
   "cell_type": "code",
   "execution_count": null,
   "id": "f5fb6b36",
   "metadata": {},
   "outputs": [],
   "source": [
    "def operacao_basica_r():\n",
    "    return 2 + 2\n",
    "\n",
    "def operacao_basica_p():\n",
    "    print(2 + 2)"
   ]
  },
  {
   "cell_type": "code",
   "execution_count": null,
   "id": "91a9fb49",
   "metadata": {},
   "outputs": [],
   "source": [
    "a = operacao_basica_r()"
   ]
  },
  {
   "cell_type": "code",
   "execution_count": null,
   "id": "aafd1b67",
   "metadata": {},
   "outputs": [],
   "source": [
    "operacao_basica_r()"
   ]
  },
  {
   "cell_type": "code",
   "execution_count": null,
   "id": "291bf5c8",
   "metadata": {},
   "outputs": [],
   "source": [
    "b = operacao_basica_p()"
   ]
  },
  {
   "cell_type": "code",
   "execution_count": null,
   "id": "c7b5bdcd",
   "metadata": {},
   "outputs": [],
   "source": [
    "b = None"
   ]
  },
  {
   "cell_type": "code",
   "execution_count": null,
   "id": "952aab98",
   "metadata": {},
   "outputs": [],
   "source": [
    "# Diferença lista e tupla: a primeira é mutável\n",
    "l = ['a', 'b', 42, 9320.2, ['RJ', 'SP']]"
   ]
  },
  {
   "cell_type": "code",
   "execution_count": null,
   "id": "8f193de0",
   "metadata": {},
   "outputs": [],
   "source": [
    "float_ = 273.15\n",
    "inteiro = 273\n",
    "string = \"273\""
   ]
  },
  {
   "cell_type": "code",
   "execution_count": null,
   "id": "1e3a5e5c",
   "metadata": {},
   "outputs": [],
   "source": [
    "for variavel in (float_, inteiro, string):\n",
    "    print(type(variavel))"
   ]
  },
  {
   "cell_type": "code",
   "execution_count": null,
   "id": "549a91da",
   "metadata": {},
   "outputs": [],
   "source": [
    "variavel_com_nome_misterioso = 273.15"
   ]
  },
  {
   "cell_type": "code",
   "execution_count": null,
   "id": "fed7c283",
   "metadata": {},
   "outputs": [],
   "source": [
    "type(variavel_com_nome_misterioso)"
   ]
  },
  {
   "cell_type": "code",
   "execution_count": null,
   "id": "d8141dd1",
   "metadata": {},
   "outputs": [],
   "source": [
    "# Celsius to Kelvin conversion\n",
    "def c_to_k(c):\n",
    "    k = c + 273.15\n",
    "    return k"
   ]
  },
  {
   "cell_type": "code",
   "execution_count": null,
   "id": "16a430b2",
   "metadata": {},
   "outputs": [],
   "source": [
    "def celsius_to_kelvin(celsius):\n",
    "    \"\"\"\n",
    "    Realiza conversão de temperatura de graus Celsius\n",
    "    para Kelvin. Precisa receber um número como entrada.\n",
    "    \n",
    "    celsius: temperatura em graus Celsius.\n",
    "    return: temperatura em graus Kelvin.\n",
    "    \"\"\"\n",
    "    if type(celsius) == str:\n",
    "        return \"Entrada inválida. Dê um número!\"\n",
    "    \n",
    "    kelvin = celsius + 273.15\n",
    "    return kelvin"
   ]
  },
  {
   "cell_type": "code",
   "execution_count": null,
   "id": "5efe3e6f",
   "metadata": {},
   "outputs": [],
   "source": [
    "help(celsius_to_kelvin)"
   ]
  },
  {
   "cell_type": "markdown",
   "id": "344f990e",
   "metadata": {},
   "source": [
    "### Aula 3\n",
    "\n",
    "**Desafio da última aula:** pensar em um problema para resolver com programação\n",
    "* Calculadora de valorização de moedas (regra de 3)\n",
    "\n",
    "**Funções builtin:**\n",
    "- `print()`\n",
    "- `help()`\n",
    "- `type()`\n",
    "- `len()`\n",
    "- `input()`\n",
    "- `zip()`\n",
    "\n",
    "#### Tópicos\n",
    "* Como melhorar funções\n",
    "    * Docstrings\n",
    "    * Comentários\n",
    "* `for` loop"
   ]
  },
  {
   "cell_type": "code",
   "execution_count": null,
   "id": "c77f4338",
   "metadata": {},
   "outputs": [],
   "source": [
    "def regra_3(a, b, c):\n",
    "    \"\"\"\n",
    "    Calcula uma regra de 3:\n",
    "    \n",
    "    a - b\n",
    "    c - x\n",
    "    \n",
    "    Como a está para b, c está para x.\n",
    "    \n",
    "    Retorna o valor de x.\n",
    "    \"\"\"\n",
    "    x = b*c/a\n",
    "    return x"
   ]
  },
  {
   "cell_type": "code",
   "execution_count": null,
   "id": "dbdcb99e",
   "metadata": {},
   "outputs": [],
   "source": [
    "regra_3(1,2,2)"
   ]
  },
  {
   "cell_type": "code",
   "execution_count": null,
   "id": "838456ba",
   "metadata": {},
   "outputs": [],
   "source": [
    "def calculadora_regra_3():\n",
    "    \"\"\"\n",
    "    Calculadora interativa de regra de 3:\n",
    "    \n",
    "    a - b\n",
    "    c - x\n",
    "    \n",
    "    Como a está para b, c está para x.\n",
    "    \n",
    "    Retorna o valor de x.\n",
    "    \"\"\"\n",
    "    \n",
    "    # Obter valores de entrada\n",
    "    a = input(\"Qual é o valor de A?\")\n",
    "    b = input(\"Qual é o valor de B?\")\n",
    "    c = input(\"Qual é o valor de C?\")\n",
    "    \n",
    "    # Converter para número\n",
    "    a, b, c = float(a), float(b), float(c)\n",
    "    \n",
    "    # Calcular regra de 3\n",
    "    x = b*c/a\n",
    "    \n",
    "    print(\"O valor de X é\", x)\n",
    "    return x"
   ]
  },
  {
   "cell_type": "markdown",
   "id": "560908b6",
   "metadata": {},
   "source": [
    "**Gerando listas aleatórias**"
   ]
  },
  {
   "cell_type": "code",
   "execution_count": null,
   "id": "9c64e9bc",
   "metadata": {},
   "outputs": [],
   "source": [
    "from random import randint\n",
    "quantidades_iniciais = [1/randint(1,10) for i in range(30)]\n",
    "valores_iniciais = [randint(10**2, 10**6) for i in range(30)]\n",
    "quantidades_finais = [randint(1,10) for i in range(30)]\n",
    "valores_finais = []"
   ]
  },
  {
   "cell_type": "markdown",
   "id": "6e83e42e",
   "metadata": {},
   "source": [
    "**Criando listas na mão**"
   ]
  },
  {
   "cell_type": "code",
   "execution_count": null,
   "id": "e3f976da",
   "metadata": {},
   "outputs": [],
   "source": [
    "cel = [32, 34, 22, 12, 25]\n",
    "kel = []"
   ]
  },
  {
   "cell_type": "markdown",
   "id": "1d5f5ed9",
   "metadata": {},
   "source": [
    "### Pergunta: como aplicar a função `regra_3()` nas 3 listas de valores?"
   ]
  },
  {
   "cell_type": "code",
   "execution_count": null,
   "id": "b676b6a7",
   "metadata": {},
   "outputs": [],
   "source": [
    "# Usando a função zip\n",
    "for a, b, c in zip(quantidades_iniciais, valores_iniciais, quantidades_finais):\n",
    "    x = regra_3(a, b, c)\n",
    "    valores_finais.append(x)"
   ]
  },
  {
   "cell_type": "code",
   "execution_count": null,
   "id": "b19b81c4",
   "metadata": {},
   "outputs": [],
   "source": []
  }
 ],
 "metadata": {
  "kernelspec": {
   "display_name": "Python 3",
   "language": "python",
   "name": "python3"
  },
  "language_info": {
   "codemirror_mode": {
    "name": "ipython",
    "version": 3
   },
   "file_extension": ".py",
   "mimetype": "text/x-python",
   "name": "python",
   "nbconvert_exporter": "python",
   "pygments_lexer": "ipython3",
   "version": "3.7.10"
  }
 },
 "nbformat": 4,
 "nbformat_minor": 5
}
