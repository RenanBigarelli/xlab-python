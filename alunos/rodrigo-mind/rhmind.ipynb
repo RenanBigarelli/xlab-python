{
 "cells": [
  {
   "cell_type": "markdown",
   "id": "69dd0e3b",
   "metadata": {},
   "source": [
    "### Encontro 1 - 16 de junho de 2021\n",
    "\n",
    "* Python como calculadora\n",
    "    * Operadores aritméticos\n",
    "        * Básicos: `+`, `-`, `*`, `/`\n",
    "        * Avançados: `**`, `%`, `//`\n",
    "* Atalhos do Jupyter\n",
    "    * A, B, DD, Esc para modo de comando\n",
    "* Diferença do `print` e `return`\n",
    "* Tipos de dados\n",
    "    * Numéricos: `int` e `float`\n",
    "    * Texto: `str`\n",
    "* Variáveis\n",
    "* Funções embutidas\n",
    "    * [Documentação do Python](https://docs.python.org/pt-br/3/library/functions.html)\n",
    "    * `print()`\n",
    "    * `type()`\n",
    "* Bibliotecas\n",
    "    * Diferentes formas de importar\n",
    "        * `import math`\n",
    "        * `import math as m`\n",
    "        * `from math import cos, pi`\n",
    "        \n",
    "* Uso do `TAB`\n",
    "    * Olhar dentro de bibliotecas/módulos: `math.` + TAB mostra os objetos do módulo `math`\n",
    "    * Shift + TAB\n",
    "    \n",
    "* Buscando ajuda\n",
    "    * Função embutida `help()`\n",
    "    * `objeto?`\n",
    "    * `objeto??` <- mais detalhada\n",
    "\n",
    "### Ponto-chave\n",
    "**O tipo de dado determina que operações posso fazer com um determinado valor. Temos três tipos básicos: `int`, `float` e `str`.**\n",
    "\n",
    "### Próxima aula\n",
    "* Pandas e DataFrames"
   ]
  },
  {
   "cell_type": "code",
   "execution_count": null,
   "id": "ee1b9439",
   "metadata": {},
   "outputs": [],
   "source": [
    "divisao = 21 / 5\n",
    "print(\"O valor da divisão é\", divisao)"
   ]
  },
  {
   "cell_type": "code",
   "execution_count": null,
   "id": "50e41e29",
   "metadata": {},
   "outputs": [],
   "source": [
    "divisao = print(21 / 5)\n",
    "print(\"O valor da divisão é\", divisao)"
   ]
  },
  {
   "cell_type": "code",
   "execution_count": null,
   "id": "8d1d5495",
   "metadata": {},
   "outputs": [],
   "source": [
    "x = \"10.5\"\n",
    "y = 10.5\n",
    "z = 10"
   ]
  },
  {
   "cell_type": "code",
   "execution_count": null,
   "id": "00175466",
   "metadata": {},
   "outputs": [],
   "source": [
    "print(type(x))\n",
    "print(type(y))\n",
    "print(type(z))"
   ]
  },
  {
   "cell_type": "code",
   "execution_count": null,
   "id": "1a2abd57",
   "metadata": {},
   "outputs": [],
   "source": [
    "type(2 + 2)"
   ]
  },
  {
   "cell_type": "code",
   "execution_count": null,
   "id": "b5e11ad2",
   "metadata": {},
   "outputs": [],
   "source": [
    "int(\"10\")"
   ]
  },
  {
   "cell_type": "code",
   "execution_count": null,
   "id": "5a4e0381",
   "metadata": {},
   "outputs": [],
   "source": [
    "2 + float(\"2\") "
   ]
  },
  {
   "cell_type": "code",
   "execution_count": null,
   "id": "bd65eae4",
   "metadata": {},
   "outputs": [],
   "source": [
    "str(3829)"
   ]
  },
  {
   "cell_type": "code",
   "execution_count": null,
   "id": "82c1be01",
   "metadata": {},
   "outputs": [],
   "source": [
    "valor_da_venda = 321\n",
    "minha_string = \"Valor da venda foi\"\n",
    "print(minha_string, valor_da_venda)"
   ]
  },
  {
   "cell_type": "code",
   "execution_count": 4,
   "id": "0f999d19",
   "metadata": {},
   "outputs": [],
   "source": [
    "# import math\n",
    "# import math as m\n",
    "from math import cos, pi\n",
    "from functools import reduce"
   ]
  },
  {
   "cell_type": "code",
   "execution_count": 10,
   "id": "a80ac7cf",
   "metadata": {},
   "outputs": [
    {
     "data": {
      "text/plain": [
       "\u001b[0;31mType:\u001b[0m        float\n",
       "\u001b[0;31mString form:\u001b[0m 3.141592653589793\n",
       "\u001b[0;31mDocstring:\u001b[0m   Convert a string or number to a floating point number, if possible.\n"
      ]
     },
     "metadata": {},
     "output_type": "display_data"
    }
   ],
   "source": [
    "pi??"
   ]
  },
  {
   "cell_type": "code",
   "execution_count": 11,
   "id": "87a5ba79",
   "metadata": {},
   "outputs": [],
   "source": [
    "def soma(a, b):\n",
    "    \"\"\"\n",
    "    Soma os elementos (a, b).\n",
    "    \"\"\"\n",
    "    soma = a + b\n",
    "    return soma"
   ]
  },
  {
   "cell_type": "code",
   "execution_count": 12,
   "id": "1bd74007",
   "metadata": {},
   "outputs": [
    {
     "name": "stdout",
     "output_type": "stream",
     "text": [
      "Help on function soma in module __main__:\n",
      "\n",
      "soma(a, b)\n",
      "    Soma os elementos (a, b).\n",
      "\n"
     ]
    }
   ],
   "source": [
    "help(soma)"
   ]
  },
  {
   "cell_type": "code",
   "execution_count": 13,
   "id": "2cdecb05",
   "metadata": {},
   "outputs": [
    {
     "data": {
      "text/plain": [
       "\u001b[0;31mSignature:\u001b[0m \u001b[0msoma\u001b[0m\u001b[0;34m(\u001b[0m\u001b[0ma\u001b[0m\u001b[0;34m,\u001b[0m \u001b[0mb\u001b[0m\u001b[0;34m)\u001b[0m\u001b[0;34m\u001b[0m\u001b[0;34m\u001b[0m\u001b[0m\n",
       "\u001b[0;31mDocstring:\u001b[0m Soma os elementos (a, b).\n",
       "\u001b[0;31mFile:\u001b[0m      ~/Bio/xlab/alunos/rodrigo-mind/<ipython-input-11-f9ed03b3593d>\n",
       "\u001b[0;31mType:\u001b[0m      function\n"
      ]
     },
     "metadata": {},
     "output_type": "display_data"
    }
   ],
   "source": [
    "soma?"
   ]
  },
  {
   "cell_type": "code",
   "execution_count": 14,
   "id": "1942412a",
   "metadata": {},
   "outputs": [
    {
     "data": {
      "text/plain": [
       "\u001b[0;31mSignature:\u001b[0m \u001b[0msoma\u001b[0m\u001b[0;34m(\u001b[0m\u001b[0ma\u001b[0m\u001b[0;34m,\u001b[0m \u001b[0mb\u001b[0m\u001b[0;34m)\u001b[0m\u001b[0;34m\u001b[0m\u001b[0;34m\u001b[0m\u001b[0m\n",
       "\u001b[0;31mSource:\u001b[0m   \n",
       "\u001b[0;32mdef\u001b[0m \u001b[0msoma\u001b[0m\u001b[0;34m(\u001b[0m\u001b[0ma\u001b[0m\u001b[0;34m,\u001b[0m \u001b[0mb\u001b[0m\u001b[0;34m)\u001b[0m\u001b[0;34m:\u001b[0m\u001b[0;34m\u001b[0m\n",
       "\u001b[0;34m\u001b[0m    \u001b[0;34m\"\"\"\u001b[0m\n",
       "\u001b[0;34m    Soma os elementos (a, b).\u001b[0m\n",
       "\u001b[0;34m    \"\"\"\u001b[0m\u001b[0;34m\u001b[0m\n",
       "\u001b[0;34m\u001b[0m    \u001b[0msoma\u001b[0m \u001b[0;34m=\u001b[0m \u001b[0ma\u001b[0m \u001b[0;34m+\u001b[0m \u001b[0mb\u001b[0m\u001b[0;34m\u001b[0m\n",
       "\u001b[0;34m\u001b[0m    \u001b[0;32mreturn\u001b[0m \u001b[0msoma\u001b[0m\u001b[0;34m\u001b[0m\u001b[0;34m\u001b[0m\u001b[0m\n",
       "\u001b[0;31mFile:\u001b[0m      ~/Bio/xlab/alunos/rodrigo-mind/<ipython-input-11-f9ed03b3593d>\n",
       "\u001b[0;31mType:\u001b[0m      function\n"
      ]
     },
     "metadata": {},
     "output_type": "display_data"
    }
   ],
   "source": [
    "soma??"
   ]
  }
 ],
 "metadata": {
  "kernelspec": {
   "display_name": "Python [conda env:xlab]",
   "language": "python",
   "name": "conda-env-xlab-py"
  },
  "language_info": {
   "codemirror_mode": {
    "name": "ipython",
    "version": 3
   },
   "file_extension": ".py",
   "mimetype": "text/x-python",
   "name": "python",
   "nbconvert_exporter": "python",
   "pygments_lexer": "ipython3",
   "version": "3.9.2"
  }
 },
 "nbformat": 4,
 "nbformat_minor": 5
}
