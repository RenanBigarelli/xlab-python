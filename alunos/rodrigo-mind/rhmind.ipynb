{
 "cells": [
  {
   "cell_type": "markdown",
   "id": "d8ac66c3",
   "metadata": {},
   "source": [
    "### Encontro 1 - 16 de junho de 2021\n",
    "\n",
    "* Python como calculadora\n",
    "    * Operadores aritméticos\n",
    "        * Básicos: `+`, `-`, `*`, `/`\n",
    "        * Avançados: `**`, `%`, `//`\n",
    "* Atalhos do Jupyter\n",
    "    * A, B, DD, Esc para modo de comando\n",
    "* Diferença do `print` e `return`\n",
    "* Tipos de dados\n",
    "    * Numéricos: `int` e `float`\n",
    "    * Texto: `str`\n",
    "* Variáveis\n",
    "* Funções embutidas\n",
    "    * [Documentação do Python](https://docs.python.org/pt-br/3/library/functions.html)\n",
    "    * `print()`\n",
    "    * `type()`\n",
    "* Bibliotecas\n",
    "    * Diferentes formas de importar\n",
    "        * `import math`\n",
    "        * `import math as m`\n",
    "        * `from math import cos, pi`\n",
    "        \n",
    "* Uso do `TAB`\n",
    "    * Olhar dentro de bibliotecas/módulos: `math.` + TAB mostra os objetos do módulo `math`\n",
    "    * Shift + TAB\n",
    "    \n",
    "* Buscando ajuda\n",
    "    * Função embutida `help()`\n",
    "    * `objeto?`\n",
    "    * `objeto??` <- mais detalhada\n",
    "\n",
    "### Ponto-chave\n",
    "**O tipo de dado determina que operações posso fazer com um determinado valor. Temos três tipos básicos: `int`, `float` e `str`.**\n",
    "\n",
    "### Próxima aula\n",
    "* Pandas e DataFrames"
   ]
  },
  {
   "cell_type": "code",
   "execution_count": null,
   "id": "99c141ab",
   "metadata": {},
   "outputs": [],
   "source": [
    "divisao = 21 / 5\n",
    "print(\"O valor da divisão é\", divisao)"
   ]
  },
  {
   "cell_type": "code",
   "execution_count": null,
   "id": "3961e1ef",
   "metadata": {},
   "outputs": [],
   "source": [
    "divisao = print(21 / 5)\n",
    "print(\"O valor da divisão é\", divisao)"
   ]
  },
  {
   "cell_type": "code",
   "execution_count": null,
   "id": "93f49f38",
   "metadata": {},
   "outputs": [],
   "source": [
    "x = \"10.5\"\n",
    "y = 10.5\n",
    "z = 10"
   ]
  },
  {
   "cell_type": "code",
   "execution_count": null,
   "id": "f97ea51a",
   "metadata": {},
   "outputs": [],
   "source": [
    "print(type(x))\n",
    "print(type(y))\n",
    "print(type(z))"
   ]
  },
  {
   "cell_type": "code",
   "execution_count": null,
   "id": "930a6e44",
   "metadata": {},
   "outputs": [],
   "source": [
    "type(2 + 2)"
   ]
  },
  {
   "cell_type": "code",
   "execution_count": null,
   "id": "03edb367",
   "metadata": {},
   "outputs": [],
   "source": [
    "int(\"10\")"
   ]
  },
  {
   "cell_type": "code",
   "execution_count": null,
   "id": "5ba8e7f8",
   "metadata": {},
   "outputs": [],
   "source": [
    "2 + float(\"2\") "
   ]
  },
  {
   "cell_type": "code",
   "execution_count": null,
   "id": "7766f2aa",
   "metadata": {},
   "outputs": [],
   "source": [
    "str(3829)"
   ]
  },
  {
   "cell_type": "code",
   "execution_count": null,
   "id": "995d6035",
   "metadata": {},
   "outputs": [],
   "source": [
    "valor_da_venda = 321\n",
    "minha_string = \"Valor da venda foi\"\n",
    "print(minha_string, valor_da_venda)"
   ]
  },
  {
   "cell_type": "code",
   "execution_count": null,
   "id": "141967d0",
   "metadata": {},
   "outputs": [],
   "source": [
    "# import math\n",
    "# import math as m\n",
    "from math import cos, pi\n",
    "from functools import reduce"
   ]
  },
  {
   "cell_type": "code",
   "execution_count": null,
   "id": "d20a0118",
   "metadata": {},
   "outputs": [],
   "source": [
    "pi??"
   ]
  },
  {
   "cell_type": "code",
   "execution_count": null,
   "id": "0e16885f",
   "metadata": {},
   "outputs": [],
   "source": [
    "def soma(a, b):\n",
    "    \"\"\"\n",
    "    Soma os elementos (a, b).\n",
    "    \"\"\"\n",
    "    soma = a + b\n",
    "    return soma"
   ]
  },
  {
   "cell_type": "code",
   "execution_count": null,
   "id": "5a81a6cd",
   "metadata": {},
   "outputs": [],
   "source": [
    "help(soma)"
   ]
  },
  {
   "cell_type": "code",
   "execution_count": null,
   "id": "36b46316",
   "metadata": {},
   "outputs": [],
   "source": [
    "soma?"
   ]
  },
  {
   "cell_type": "code",
   "execution_count": null,
   "id": "72e16e31",
   "metadata": {},
   "outputs": [],
   "source": [
    "soma??"
   ]
  },
  {
   "cell_type": "markdown",
   "id": "b72ac32c",
   "metadata": {},
   "source": [
    "### Encontro 2 - 23 de junho de 2021\n",
    "\n",
    "* Introdução ao Pandas\n",
    "    * Importância do NumPy\n",
    "        * Permite operações numéricas (vetor x scalar, vetor x vetor, multiplicação de matrizes, etc)\n",
    "        * Rápido (apoiado em libs baixo nível)\n",
    "* DataFrames\n",
    "* Indexando e selecionando objetos em um DataFrame\n",
    "    * `df.loc[]` -> nome de linha e nome de columa\n",
    "    * `df.iloc[]` -> posição numérica da linha e da coluna \n",
    "\n",
    "### Ponto-chave\n",
    "- **Conceito de DataFrame: uma matriz (`numpy.ndarray`) com nomes de linhas e nomes de colunas.**\n",
    "- **O objeto que retorna de uma consulta com `.loc` ou `.iloc` pode ser um scalar (célula única), um vetor (pd.Series) ou uma tabela (pd.DataFrame).**"
   ]
  },
  {
   "cell_type": "code",
   "execution_count": null,
   "id": "ab77ee6b",
   "metadata": {},
   "outputs": [],
   "source": [
    "import numpy as np"
   ]
  },
  {
   "cell_type": "code",
   "execution_count": null,
   "id": "aaff581f",
   "metadata": {},
   "outputs": [],
   "source": [
    "# Python antigo - sem NumPy: dificuldade para lidar com coleções de valores\n",
    "numeros = [23, 544, 79, 21, 12, -390, 32]"
   ]
  },
  {
   "cell_type": "code",
   "execution_count": null,
   "id": "a25d0386",
   "metadata": {},
   "outputs": [],
   "source": [
    "%time\n",
    "numeros_x_2 = []\n",
    "for n in numeros:\n",
    "    numeros_x_2.append(n * 2)"
   ]
  },
  {
   "cell_type": "code",
   "execution_count": null,
   "id": "be598794",
   "metadata": {},
   "outputs": [],
   "source": [
    "numeros = np.array(numeros)"
   ]
  },
  {
   "cell_type": "code",
   "execution_count": null,
   "id": "33b2216a",
   "metadata": {},
   "outputs": [],
   "source": [
    "# Com NumPy: operações vetorizadas = mais rápido\n",
    "%time\n",
    "numeros * 2"
   ]
  },
  {
   "cell_type": "code",
   "execution_count": null,
   "id": "d8715e14",
   "metadata": {},
   "outputs": [],
   "source": [
    "dois = np.array([2, 2])\n",
    "tres = np.array([[3, 3], [3, 3]])\n",
    "\n",
    "dois * tres"
   ]
  },
  {
   "cell_type": "code",
   "execution_count": null,
   "id": "0115c0df",
   "metadata": {},
   "outputs": [],
   "source": [
    "import pandas as pd"
   ]
  },
  {
   "cell_type": "code",
   "execution_count": null,
   "id": "a16e4859",
   "metadata": {},
   "outputs": [],
   "source": [
    "df = pd.read_csv(\"gapminder_all.csv\", index_col=\"country\")"
   ]
  },
  {
   "cell_type": "code",
   "execution_count": null,
   "id": "e65ea933",
   "metadata": {},
   "outputs": [],
   "source": [
    "df.values"
   ]
  },
  {
   "cell_type": "code",
   "execution_count": null,
   "id": "6fcf1e6d",
   "metadata": {},
   "outputs": [],
   "source": [
    "df.columns"
   ]
  },
  {
   "cell_type": "code",
   "execution_count": null,
   "id": "84bc6561",
   "metadata": {},
   "outputs": [],
   "source": [
    "df.index"
   ]
  },
  {
   "cell_type": "code",
   "execution_count": null,
   "id": "f231dc98",
   "metadata": {},
   "outputs": [],
   "source": [
    "df"
   ]
  },
  {
   "cell_type": "code",
   "execution_count": null,
   "id": "6db557d4",
   "metadata": {},
   "outputs": [],
   "source": [
    "df.loc['Brazil', 'continent']"
   ]
  },
  {
   "cell_type": "code",
   "execution_count": null,
   "id": "5172988b",
   "metadata": {},
   "outputs": [],
   "source": [
    "df.iloc[1, 0] == df.loc['Angola', 'continent']"
   ]
  },
  {
   "cell_type": "code",
   "execution_count": null,
   "id": "5ca67566",
   "metadata": {},
   "outputs": [],
   "source": [
    "# Como usar loc para múltiplas linhas\n",
    "countries = ['United States', 'Jamaica']\n",
    "df.loc[countries, 'continent']"
   ]
  },
  {
   "cell_type": "code",
   "execution_count": null,
   "id": "34691ade",
   "metadata": {},
   "outputs": [],
   "source": [
    "df.loc['Brazil', anos_exp_vida]"
   ]
  },
  {
   "cell_type": "code",
   "execution_count": null,
   "id": "7b9eee17",
   "metadata": {},
   "outputs": [],
   "source": [
    "df.iloc[50:100, 5:10]"
   ]
  },
  {
   "cell_type": "code",
   "execution_count": null,
   "id": "6578934f",
   "metadata": {},
   "outputs": [],
   "source": [
    "df.loc['Brazil', 'continent']"
   ]
  },
  {
   "cell_type": "code",
   "execution_count": null,
   "id": "875354a6",
   "metadata": {},
   "outputs": [],
   "source": [
    "type(df.loc['Brazil', 'continent'])"
   ]
  },
  {
   "cell_type": "code",
   "execution_count": null,
   "id": "c3e92a39",
   "metadata": {},
   "outputs": [],
   "source": [
    "df.loc[['United States', 'Jamaica'], 'continent']"
   ]
  },
  {
   "cell_type": "code",
   "execution_count": null,
   "id": "c360e766",
   "metadata": {},
   "outputs": [],
   "source": [
    "type(df.loc[['United States', 'Jamaica'], 'continent'])"
   ]
  },
  {
   "cell_type": "code",
   "execution_count": null,
   "id": "323a99d7",
   "metadata": {},
   "outputs": [],
   "source": [
    "df.loc[[\"United States\", \"Jamaica\"], ['lifeExp_1957', 'lifeExp_1987', 'lifeExp_2007']]"
   ]
  },
  {
   "cell_type": "code",
   "execution_count": null,
   "id": "8cd84271",
   "metadata": {},
   "outputs": [],
   "source": [
    "type(df.loc[[\"United States\", \"Jamaica\"], ['lifeExp_1957', 'lifeExp_1987', 'lifeExp_2007']])"
   ]
  },
  {
   "cell_type": "code",
   "execution_count": null,
   "id": "96b8520d",
   "metadata": {},
   "outputs": [],
   "source": [
    "df.loc[['Brazil'], ['continent']]"
   ]
  },
  {
   "cell_type": "code",
   "execution_count": null,
   "id": "3fb2097c",
   "metadata": {},
   "outputs": [],
   "source": [
    "lista = ['a', 'b', 'c', 'd']"
   ]
  },
  {
   "cell_type": "code",
   "execution_count": null,
   "id": "052da103",
   "metadata": {},
   "outputs": [],
   "source": [
    "lista[0]"
   ]
  },
  {
   "cell_type": "code",
   "execution_count": null,
   "id": "ced08c40",
   "metadata": {},
   "outputs": [],
   "source": []
  }
 ],
 "metadata": {
  "kernelspec": {
   "display_name": "Python [conda env:xlab]",
   "language": "python",
   "name": "conda-env-xlab-py"
  },
  "language_info": {
   "codemirror_mode": {
    "name": "ipython",
    "version": 3
   },
   "file_extension": ".py",
   "mimetype": "text/x-python",
   "name": "python",
   "nbconvert_exporter": "python",
   "pygments_lexer": "ipython3",
   "version": "3.9.2"
  }
 },
 "nbformat": 4,
 "nbformat_minor": 5
}
