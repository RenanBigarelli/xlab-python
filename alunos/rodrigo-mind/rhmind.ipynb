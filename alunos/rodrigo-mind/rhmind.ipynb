{
 "cells": [
  {
   "cell_type": "markdown",
   "id": "190a95ea",
   "metadata": {},
   "source": [
    "### Encontro 1 - 16 de junho de 2021\n",
    "\n",
    "* Python como calculadora\n",
    "    * Operadores aritméticos\n",
    "        * Básicos: `+`, `-`, `*`, `/`\n",
    "        * Avançados: `**`, `%`, `//`\n",
    "* Atalhos do Jupyter\n",
    "    * A, B, DD, Esc para modo de comando\n",
    "* Diferença do `print` e `return`\n",
    "* Tipos de dados\n",
    "    * Numéricos: `int` e `float`\n",
    "    * Texto: `str`\n",
    "* Variáveis\n",
    "* Funções embutidas\n",
    "    * [Documentação do Python](https://docs.python.org/pt-br/3/library/functions.html)\n",
    "    * `print()`\n",
    "    * `type()`\n",
    "* Bibliotecas\n",
    "    * Diferentes formas de importar\n",
    "        * `import math`\n",
    "        * `import math as m`\n",
    "        * `from math import cos, pi`\n",
    "        \n",
    "* Uso do `TAB`\n",
    "    * Olhar dentro de bibliotecas/módulos: `math.` + TAB mostra os objetos do módulo `math`\n",
    "    * Shift + TAB\n",
    "    \n",
    "* Buscando ajuda\n",
    "    * Função embutida `help()`\n",
    "    * `objeto?`\n",
    "    * `objeto??` <- mais detalhada\n",
    "\n",
    "### Ponto-chave\n",
    "**O tipo de dado determina que operações posso fazer com um determinado valor. Temos três tipos básicos: `int`, `float` e `str`.**\n",
    "\n",
    "### Próxima aula\n",
    "* Pandas e DataFrames"
   ]
  },
  {
   "cell_type": "code",
   "execution_count": null,
   "id": "9571758a",
   "metadata": {},
   "outputs": [],
   "source": [
    "divisao = 21 / 5\n",
    "print(\"O valor da divisão é\", divisao)"
   ]
  },
  {
   "cell_type": "code",
   "execution_count": null,
   "id": "f93d8e64",
   "metadata": {},
   "outputs": [],
   "source": [
    "divisao = print(21 / 5)\n",
    "print(\"O valor da divisão é\", divisao)"
   ]
  },
  {
   "cell_type": "code",
   "execution_count": null,
   "id": "c836e48c",
   "metadata": {},
   "outputs": [],
   "source": [
    "x = \"10.5\"\n",
    "y = 10.5\n",
    "z = 10"
   ]
  },
  {
   "cell_type": "code",
   "execution_count": null,
   "id": "ec00c228",
   "metadata": {},
   "outputs": [],
   "source": [
    "print(type(x))\n",
    "print(type(y))\n",
    "print(type(z))"
   ]
  },
  {
   "cell_type": "code",
   "execution_count": null,
   "id": "efc73c35",
   "metadata": {},
   "outputs": [],
   "source": [
    "type(2 + 2)"
   ]
  },
  {
   "cell_type": "code",
   "execution_count": null,
   "id": "1e36fdcd",
   "metadata": {},
   "outputs": [],
   "source": [
    "int(\"10\")"
   ]
  },
  {
   "cell_type": "code",
   "execution_count": null,
   "id": "e5df1ebf",
   "metadata": {},
   "outputs": [],
   "source": [
    "2 + float(\"2\") "
   ]
  },
  {
   "cell_type": "code",
   "execution_count": null,
   "id": "3e1d5fdb",
   "metadata": {},
   "outputs": [],
   "source": [
    "str(3829)"
   ]
  },
  {
   "cell_type": "code",
   "execution_count": null,
   "id": "a4a0b50b",
   "metadata": {},
   "outputs": [],
   "source": [
    "valor_da_venda = 321\n",
    "minha_string = \"Valor da venda foi\"\n",
    "print(minha_string, valor_da_venda)"
   ]
  },
  {
   "cell_type": "code",
   "execution_count": null,
   "id": "f321f706",
   "metadata": {},
   "outputs": [],
   "source": [
    "# import math\n",
    "# import math as m\n",
    "from math import cos, pi\n",
    "from functools import reduce"
   ]
  },
  {
   "cell_type": "code",
   "execution_count": null,
   "id": "d7b2fd3f",
   "metadata": {},
   "outputs": [],
   "source": [
    "pi??"
   ]
  },
  {
   "cell_type": "code",
   "execution_count": null,
   "id": "b938f9ef",
   "metadata": {},
   "outputs": [],
   "source": [
    "def soma(a, b):\n",
    "    \"\"\"\n",
    "    Soma os elementos (a, b).\n",
    "    \"\"\"\n",
    "    soma = a + b\n",
    "    return soma"
   ]
  },
  {
   "cell_type": "code",
   "execution_count": null,
   "id": "6976173e",
   "metadata": {},
   "outputs": [],
   "source": [
    "help(soma)"
   ]
  },
  {
   "cell_type": "code",
   "execution_count": null,
   "id": "7b3f35c7",
   "metadata": {},
   "outputs": [],
   "source": [
    "soma?"
   ]
  },
  {
   "cell_type": "code",
   "execution_count": null,
   "id": "e642dd6d",
   "metadata": {},
   "outputs": [],
   "source": [
    "soma??"
   ]
  },
  {
   "cell_type": "markdown",
   "id": "b902ea41",
   "metadata": {},
   "source": [
    "### Encontro 2 - 23 de junho de 2021\n",
    "\n",
    "* Introdução ao Pandas\n",
    "    * Importância do NumPy\n",
    "        * Permite operações numéricas (vetor x scalar, vetor x vetor, multiplicação de matrizes, etc)\n",
    "        * Rápido (apoiado em libs baixo nível)\n",
    "* DataFrames\n",
    "* Indexando e selecionando objetos em um DataFrame\n",
    "    * `df.loc[]` -> nome de linha e nome de columa\n",
    "    * `df.iloc[]` -> posição numérica da linha e da coluna \n",
    "\n",
    "### Ponto-chave\n",
    "- **Conceito de DataFrame: uma matriz (`numpy.ndarray`) com nomes de linhas e nomes de colunas.**\n",
    "- **O objeto que retorna de uma consulta com `.loc` ou `.iloc` pode ser um scalar (célula única), um vetor (pd.Series) ou uma tabela (pd.DataFrame).**"
   ]
  },
  {
   "cell_type": "code",
   "execution_count": null,
   "id": "8cda5612",
   "metadata": {},
   "outputs": [],
   "source": [
    "import numpy as np"
   ]
  },
  {
   "cell_type": "code",
   "execution_count": null,
   "id": "a13d6843",
   "metadata": {},
   "outputs": [],
   "source": [
    "# Python antigo - sem NumPy: dificuldade para lidar com coleções de valores\n",
    "numeros = [23, 544, 79, 21, 12, -390, 32]"
   ]
  },
  {
   "cell_type": "code",
   "execution_count": null,
   "id": "89cf68b5",
   "metadata": {},
   "outputs": [],
   "source": [
    "%time\n",
    "numeros_x_2 = []\n",
    "for n in numeros:\n",
    "    numeros_x_2.append(n * 2)"
   ]
  },
  {
   "cell_type": "code",
   "execution_count": null,
   "id": "3183aa99",
   "metadata": {},
   "outputs": [],
   "source": [
    "numeros = np.array(numeros)"
   ]
  },
  {
   "cell_type": "code",
   "execution_count": null,
   "id": "bc465c12",
   "metadata": {},
   "outputs": [],
   "source": [
    "# Com NumPy: operações vetorizadas = mais rápido\n",
    "%time\n",
    "numeros * 2"
   ]
  },
  {
   "cell_type": "code",
   "execution_count": null,
   "id": "a76dd9d2",
   "metadata": {},
   "outputs": [],
   "source": [
    "dois = np.array([2, 2])\n",
    "tres = np.array([[3, 3], [3, 3]])\n",
    "\n",
    "dois * tres"
   ]
  },
  {
   "cell_type": "code",
   "execution_count": null,
   "id": "48588ab0",
   "metadata": {},
   "outputs": [],
   "source": [
    "import pandas as pd"
   ]
  },
  {
   "cell_type": "code",
   "execution_count": null,
   "id": "10d87527",
   "metadata": {},
   "outputs": [],
   "source": [
    "df = pd.read_csv(\"gapminder_all.csv\", index_col=\"country\")"
   ]
  },
  {
   "cell_type": "code",
   "execution_count": null,
   "id": "dcb7f77d",
   "metadata": {},
   "outputs": [],
   "source": [
    "df.values"
   ]
  },
  {
   "cell_type": "code",
   "execution_count": null,
   "id": "bdc142f8",
   "metadata": {},
   "outputs": [],
   "source": [
    "df.columns"
   ]
  },
  {
   "cell_type": "code",
   "execution_count": null,
   "id": "a0b23924",
   "metadata": {},
   "outputs": [],
   "source": [
    "df.index"
   ]
  },
  {
   "cell_type": "code",
   "execution_count": null,
   "id": "7799e09b",
   "metadata": {},
   "outputs": [],
   "source": [
    "df"
   ]
  },
  {
   "cell_type": "code",
   "execution_count": null,
   "id": "b2717db2",
   "metadata": {},
   "outputs": [],
   "source": [
    "df.loc['Brazil', 'continent']"
   ]
  },
  {
   "cell_type": "code",
   "execution_count": null,
   "id": "d9d4aede",
   "metadata": {},
   "outputs": [],
   "source": [
    "df.iloc[1, 0] == df.loc['Angola', 'continent']"
   ]
  },
  {
   "cell_type": "code",
   "execution_count": null,
   "id": "37474d30",
   "metadata": {},
   "outputs": [],
   "source": [
    "# Como usar loc para múltiplas linhas\n",
    "countries = ['United States', 'Jamaica']\n",
    "df.loc[countries, 'continent']"
   ]
  },
  {
   "cell_type": "code",
   "execution_count": null,
   "id": "f2d3a15f",
   "metadata": {},
   "outputs": [],
   "source": [
    "df.loc['Brazil', anos_exp_vida]"
   ]
  },
  {
   "cell_type": "code",
   "execution_count": null,
   "id": "0bd37114",
   "metadata": {},
   "outputs": [],
   "source": [
    "df.iloc[50:100, 5:10]"
   ]
  },
  {
   "cell_type": "code",
   "execution_count": null,
   "id": "c09d12bb",
   "metadata": {},
   "outputs": [],
   "source": [
    "df.loc['Brazil', 'continent']"
   ]
  },
  {
   "cell_type": "code",
   "execution_count": null,
   "id": "45fa4978",
   "metadata": {},
   "outputs": [],
   "source": [
    "type(df.loc['Brazil', 'continent'])"
   ]
  },
  {
   "cell_type": "code",
   "execution_count": null,
   "id": "20d49423",
   "metadata": {},
   "outputs": [],
   "source": [
    "df.loc[['United States', 'Jamaica'], 'continent']"
   ]
  },
  {
   "cell_type": "code",
   "execution_count": null,
   "id": "f989362c",
   "metadata": {},
   "outputs": [],
   "source": [
    "type(df.loc[['United States', 'Jamaica'], 'continent'])"
   ]
  },
  {
   "cell_type": "code",
   "execution_count": null,
   "id": "4030cffa",
   "metadata": {},
   "outputs": [],
   "source": [
    "df.loc[[\"United States\", \"Jamaica\"], ['lifeExp_1957', 'lifeExp_1987', 'lifeExp_2007']]"
   ]
  },
  {
   "cell_type": "code",
   "execution_count": null,
   "id": "d10a0aa3",
   "metadata": {},
   "outputs": [],
   "source": [
    "type(df.loc[[\"United States\", \"Jamaica\"], ['lifeExp_1957', 'lifeExp_1987', 'lifeExp_2007']])"
   ]
  },
  {
   "cell_type": "code",
   "execution_count": null,
   "id": "ecc5ce07",
   "metadata": {},
   "outputs": [],
   "source": [
    "df.loc[['Brazil'], ['continent']]"
   ]
  },
  {
   "cell_type": "code",
   "execution_count": null,
   "id": "05482f56",
   "metadata": {},
   "outputs": [],
   "source": [
    "lista = ['a', 'b', 'c', 'd']"
   ]
  },
  {
   "cell_type": "code",
   "execution_count": null,
   "id": "253523d5",
   "metadata": {},
   "outputs": [],
   "source": [
    "lista[0]"
   ]
  },
  {
   "cell_type": "markdown",
   "id": "1bc96b8b",
   "metadata": {},
   "source": [
    "### Encontro 3 - 30 de junho de 2021\n",
    "\n",
    "* Sincronizando a aula com Git\n",
    "* Caminhos de arquivo UNIX\n",
    "    * `/` -> raíz do sistema, equivalente ao `C://`\n",
    "    * `/Users/<username>` -> minha pasta do usuário\n",
    "* Pandas: continuação\n",
    "    * Condicionais\n",
    "        * Posso combinar condições usando os operadores `&` e `|`\n",
    "    * `merge` e `concat`"
   ]
  },
  {
   "cell_type": "code",
   "execution_count": null,
   "id": "c6df149c",
   "metadata": {},
   "outputs": [],
   "source": [
    "import pandas as pd"
   ]
  },
  {
   "cell_type": "code",
   "execution_count": null,
   "id": "d92608e7",
   "metadata": {},
   "outputs": [],
   "source": [
    "df = pd.read_csv(\"gapminder_all.csv\", index_col=\"country\")"
   ]
  },
  {
   "cell_type": "code",
   "execution_count": null,
   "id": "b6a46877",
   "metadata": {},
   "outputs": [],
   "source": [
    "1 == 1"
   ]
  },
  {
   "cell_type": "code",
   "execution_count": null,
   "id": "25831464",
   "metadata": {},
   "outputs": [],
   "source": [
    "cond_1 = df['continent'] == 'Europe'\n",
    "cond_2 = df['pop_2007'] > 10e6\n",
    "cond_3 = df['continent'] == 'Americas'\n",
    "view_1 = df[cond_1 & cond_3]  # operador AND\n",
    "view_2 = df[cond_1 | cond_2]  # operador OR"
   ]
  },
  {
   "cell_type": "code",
   "execution_count": null,
   "id": "d4521ed1",
   "metadata": {},
   "outputs": [],
   "source": [
    "europa = df[cond_1]\n",
    "americas = df[cond_3]"
   ]
  },
  {
   "cell_type": "code",
   "execution_count": null,
   "id": "00f6bb51",
   "metadata": {},
   "outputs": [],
   "source": [
    "uniao_eu_americas = pd.concat([europa, americas])"
   ]
  },
  {
   "cell_type": "code",
   "execution_count": null,
   "id": "e8cca14e",
   "metadata": {},
   "outputs": [],
   "source": [
    "gdp_cols = [i for i in df.columns if 'gdp' in i]\n",
    "pop_cols = [i for i in df.columns if 'pop' in i]"
   ]
  },
  {
   "cell_type": "code",
   "execution_count": null,
   "id": "a9de98f1",
   "metadata": {},
   "outputs": [],
   "source": [
    "tabela_gdp = df[gdp_cols]\n",
    "tabela_pop = df[pop_cols]"
   ]
  },
  {
   "cell_type": "code",
   "execution_count": null,
   "id": "09c073a4",
   "metadata": {},
   "outputs": [],
   "source": [
    "pd.concat([tabela_gdp, tabela_pop], axis=1)"
   ]
  },
  {
   "cell_type": "code",
   "execution_count": null,
   "id": "75159c83",
   "metadata": {},
   "outputs": [],
   "source": [
    "df = pd.read_csv(\"gapminder_all.csv\")"
   ]
  },
  {
   "cell_type": "code",
   "execution_count": null,
   "id": "6b93a0fa",
   "metadata": {},
   "outputs": [],
   "source": [
    "df1 = df[['country', 'pop_1987', 'pop_2007']]\n",
    "df2 = df[['country', 'gdpPercap_1987', 'gdpPercap_2007']]"
   ]
  },
  {
   "cell_type": "code",
   "execution_count": null,
   "id": "48a8e83d",
   "metadata": {},
   "outputs": [],
   "source": [
    "df_mergeado = df1.merge(df2, on='country')"
   ]
  },
  {
   "cell_type": "code",
   "execution_count": null,
   "id": "b6b20855",
   "metadata": {},
   "outputs": [],
   "source": [
    "df2.columns = 'pais', 'pib_1987', 'pib_2007'"
   ]
  },
  {
   "cell_type": "code",
   "execution_count": null,
   "id": "f445fe1c",
   "metadata": {},
   "outputs": [],
   "source": [
    "df_mergeado = df1.merge(df2, left_on='country', right_on='pais')"
   ]
  },
  {
   "cell_type": "code",
   "execution_count": null,
   "id": "337aa972",
   "metadata": {},
   "outputs": [],
   "source": [
    "del df_mergeado[\"pais\"]"
   ]
  },
  {
   "cell_type": "code",
   "execution_count": null,
   "id": "b061599d",
   "metadata": {},
   "outputs": [],
   "source": [
    "df_mergeado"
   ]
  },
  {
   "cell_type": "markdown",
   "id": "9b012d5a-b1a6-4322-a54d-5f3173878772",
   "metadata": {},
   "source": [
    "### Encontro 4 - 07 de julho de 2021\n",
    "\n",
    "- Semana passada: merge e concat\n",
    "- Retomada sintaxe básica\n",
    "    - Listas\n",
    "    - Strings\n",
    "- Métodos de string no Pandas\n",
    "    \n",
    "### Ponto-chave\n",
    "Ambas listas e strings são 'sequências', e portanto têm propriedades em comum.\n",
    "    \n",
    "### Semana que vem:\n",
    "- Loops\n",
    "- Condicionais\n",
    "- Funções"
   ]
  },
  {
   "cell_type": "code",
   "execution_count": null,
   "id": "1c96da58-edc0-442e-8853-b91e0b34577f",
   "metadata": {},
   "outputs": [],
   "source": [
    "# Listas são coleções de valores de qualquer tipo\n",
    "lista = [\"a\", 3.14, 100, ['outra_lista', 'outro_valor']]"
   ]
  },
  {
   "cell_type": "code",
   "execution_count": null,
   "id": "507203dd-45f2-496a-83b1-264bebb14dba",
   "metadata": {},
   "outputs": [],
   "source": [
    "# Listas são ordenadas, logo consigo pegar um valor pela sua posição (index)\n",
    "lista[0]"
   ]
  },
  {
   "cell_type": "code",
   "execution_count": null,
   "id": "f82b8a59-f4cb-4b4c-96ad-aa21125a29c7",
   "metadata": {},
   "outputs": [],
   "source": [
    "# Também posso selecionar fatias\n",
    "lista[1:3]  # fatia não-inclusiva"
   ]
  },
  {
   "cell_type": "code",
   "execution_count": null,
   "id": "5f65ef30-7517-41d2-882e-588aa09cb4ff",
   "metadata": {},
   "outputs": [],
   "source": [
    "# Sintaxe para fatiar listas\n",
    "lista = [0, 'a', 1, 'b', 2, 'c']\n",
    "inicio = 1\n",
    "fim = 6\n",
    "degrau = 2\n",
    "print(lista[inicio:fim])\n",
    "print(lista[:fim])\n",
    "print(lista[inicio:])\n",
    "print(lista[inicio:fim:degrau])"
   ]
  },
  {
   "cell_type": "code",
   "execution_count": null,
   "id": "153c5db2-21cd-4701-87a7-5934ed3c6bea",
   "metadata": {},
   "outputs": [],
   "source": [
    "# Uso len() para obter o tamanho da lista \n",
    "tamanho = len(lista)\n",
    "\n",
    "# Posso pegar a partir do fim com números negativos\n",
    "lista[-1]"
   ]
  },
  {
   "cell_type": "code",
   "execution_count": null,
   "id": "a894a66e-6627-4d79-ae0b-5327b96ed8e2",
   "metadata": {},
   "outputs": [],
   "source": [
    "lista[::-1]  # Invertendo uma lista usando o degrau"
   ]
  },
  {
   "cell_type": "code",
   "execution_count": null,
   "id": "ef5d7113-90e4-4438-a2e5-f535e2c014bc",
   "metadata": {},
   "outputs": [],
   "source": [
    "lista.append(3)"
   ]
  },
  {
   "cell_type": "code",
   "execution_count": null,
   "id": "5b6b7731-9270-4235-9ba3-007452543fe2",
   "metadata": {},
   "outputs": [],
   "source": [
    "ultimo_item = lista.pop()"
   ]
  },
  {
   "cell_type": "code",
   "execution_count": null,
   "id": "83890dc3-3c40-419d-a9fa-7030a74660c3",
   "metadata": {},
   "outputs": [],
   "source": [
    "lista.insert()"
   ]
  },
  {
   "cell_type": "code",
   "execution_count": null,
   "id": "2675d2ed-39bd-45ed-b54f-7cd8e26cdd45",
   "metadata": {},
   "outputs": [],
   "source": [
    "# Series também são coleções\n",
    "import pandas as pd\n",
    "df = pd.read_csv(\"gapminder_all.csv\")"
   ]
  },
  {
   "cell_type": "code",
   "execution_count": null,
   "id": "4d1c724f-334e-46f0-8323-009b05dcc8de",
   "metadata": {},
   "outputs": [],
   "source": [
    "# Strings também são coleções ordenadas de valores\n",
    "# Porém de um único tipo - caracter\n",
    "cidade = \"São Paulo - SP\""
   ]
  },
  {
   "cell_type": "code",
   "execution_count": null,
   "id": "c9b1c729-e4c5-477e-876a-c848b07e3e0e",
   "metadata": {},
   "outputs": [],
   "source": [
    "cidade[0]"
   ]
  },
  {
   "cell_type": "code",
   "execution_count": null,
   "id": "b79dc068-05bb-4b4a-a29e-44114ea092a1",
   "metadata": {},
   "outputs": [],
   "source": [
    "# Listas são mutáveis, mas strings não\n",
    "lista[0] = 'zero'\n",
    "lista"
   ]
  },
  {
   "cell_type": "code",
   "execution_count": null,
   "id": "8d5b7dd3-5f74-43c5-8730-ca4c120154e5",
   "metadata": {},
   "outputs": [],
   "source": [
    "cidade[0] = 's'"
   ]
  },
  {
   "cell_type": "code",
   "execution_count": null,
   "id": "8de02ee7-0c81-483a-83c5-25422ce12a67",
   "metadata": {},
   "outputs": [],
   "source": [
    "cidade[-2:]"
   ]
  },
  {
   "cell_type": "code",
   "execution_count": null,
   "id": "8f10fd71-c99f-4b6d-8178-3fef3a993297",
   "metadata": {},
   "outputs": [],
   "source": [
    "type(cidade)"
   ]
  },
  {
   "cell_type": "code",
   "execution_count": null,
   "id": "d7da1cbb-84ab-4f85-907b-3d211e63ab27",
   "metadata": {},
   "outputs": [],
   "source": [
    "cidade.upper()"
   ]
  },
  {
   "cell_type": "code",
   "execution_count": null,
   "id": "eeb7e725-78b2-4287-ad75-ace1fb81cd6a",
   "metadata": {},
   "outputs": [],
   "source": [
    "cidade.lower()"
   ]
  },
  {
   "cell_type": "code",
   "execution_count": null,
   "id": "d0854273-d3ed-4274-9cd1-bf06cdc3be2c",
   "metadata": {},
   "outputs": [],
   "source": [
    "cidade.split(\" - \")"
   ]
  },
  {
   "cell_type": "code",
   "execution_count": null,
   "id": "6c3f9cd3-d022-4812-a791-a2810dee7719",
   "metadata": {},
   "outputs": [],
   "source": [
    "minha_lista = [\"primeiro\", \"segundo\", \"terceiro\"]\n",
    "minha_lista = \"primeiro segundo terceiro\".split()"
   ]
  },
  {
   "cell_type": "code",
   "execution_count": null,
   "id": "3b290c41-0292-4e64-b826-759835146b45",
   "metadata": {},
   "outputs": [],
   "source": [
    "lista_cidades = [\"Rio de Janeiro/RJ\", \"São Paulo/SP\", \"Florianópolis/SC\"]\n",
    "cidades = pd.DataFrame(lista_cidades)"
   ]
  },
  {
   "cell_type": "code",
   "execution_count": null,
   "id": "58930148-6475-434b-abc7-e75319a06957",
   "metadata": {},
   "outputs": [],
   "source": [
    "cidades.columns = \"localidade\", "
   ]
  },
  {
   "cell_type": "code",
   "execution_count": null,
   "id": "110e04f9-d55d-4a76-b386-a6c7dac9f867",
   "metadata": {},
   "outputs": [],
   "source": [
    "type(cidades[\"localidade\"])"
   ]
  },
  {
   "cell_type": "code",
   "execution_count": null,
   "id": "d49b168d-bd27-4dee-a7a6-0a8764c2cf1a",
   "metadata": {},
   "outputs": [],
   "source": [
    "novas_colunas = [\"município\", \"UF\"]\n",
    "cidades[novas_colunas] = cidades[\"localidade\"].str.split(\"/\", expand=True)"
   ]
  },
  {
   "cell_type": "code",
   "execution_count": null,
   "id": "a3e88192-5925-4183-852d-1ed130cedddc",
   "metadata": {},
   "outputs": [],
   "source": [
    "lista_numeros = [0, 1, 2]\n",
    "lista_letras = ['a', 'b', 'c']\n",
    "lista_numeros + lista_letras"
   ]
  },
  {
   "cell_type": "code",
   "execution_count": null,
   "id": "aa45b52a-f5b4-460d-b7f4-8de26476bf1a",
   "metadata": {},
   "outputs": [],
   "source": [
    "sp = \"São Paulo\"\n",
    "rj = \"Rio de Janeiro\"\n",
    "sp + rj"
   ]
  },
  {
   "cell_type": "code",
   "execution_count": null,
   "id": "e322e73d-557f-40dc-bcce-16631b64cda2",
   "metadata": {},
   "outputs": [],
   "source": [
    "lista_numeros * 3"
   ]
  },
  {
   "cell_type": "code",
   "execution_count": null,
   "id": "5647defd-6648-4606-8a7b-c7e6315ccd34",
   "metadata": {},
   "outputs": [],
   "source": [
    "sp * 3"
   ]
  },
  {
   "cell_type": "code",
   "execution_count": null,
   "id": "c2cec4de-5a42-4c23-9bc5-c276249ef56b",
   "metadata": {},
   "outputs": [],
   "source": [
    "lista_numeros * 3.0"
   ]
  },
  {
   "cell_type": "code",
   "execution_count": null,
   "id": "bc1f540a-2611-486c-a83b-1ae12a3e5203",
   "metadata": {},
   "outputs": [],
   "source": [
    "sp * 3.0"
   ]
  },
  {
   "cell_type": "code",
   "execution_count": null,
   "id": "e86f2c07-dc07-472c-acb0-26bdce88c220",
   "metadata": {},
   "outputs": [],
   "source": []
  }
 ],
 "metadata": {
  "kernelspec": {
   "display_name": "Python [conda env:xlab]",
   "language": "python",
   "name": "conda-env-xlab-py"
  },
  "language_info": {
   "codemirror_mode": {
    "name": "ipython",
    "version": 3
   },
   "file_extension": ".py",
   "mimetype": "text/x-python",
   "name": "python",
   "nbconvert_exporter": "python",
   "pygments_lexer": "ipython3",
   "version": "3.9.2"
  }
 },
 "nbformat": 4,
 "nbformat_minor": 5
}
