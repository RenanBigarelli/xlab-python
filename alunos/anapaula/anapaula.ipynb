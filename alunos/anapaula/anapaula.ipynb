{
 "cells": [
  {
   "cell_type": "markdown",
   "id": "3128b70a",
   "metadata": {},
   "source": [
    "### Encontro 1 - 11 de junho de 2021\n",
    "* Controles básicos do Jupyter\n",
    "    * Modo de comando: `ESC`\n",
    "    * Criar célula: `A` ou `B`\n",
    "    * Deleter célula: `DD`\n",
    "* Exemplo: aplicação TM1\n",
    "    * [Biblioteca TM1py](https://code.cubewise.com/tm1py-overview)\n",
    "* Operadores aritméticos\n",
    "    * `+`\n",
    "    * `*`\n",
    "    * `-`\n",
    "    * `/`\n",
    "    * `%`  # módulo, ou resto de divisão\n",
    "    * `//`  # 'floor' division, maior número inteiro\n",
    "    * `**`\n",
    "* Tipos de dados\n",
    "    * **Tipos de dados determinam as operações**\n",
    "    * Numéricos: `float` e `int`\n",
    "    * Texto: `str`\n",
    "    * Posso verificar o tipo de dado com a função `type()`\n",
    "    * Os tipos básicos são tanto tipos, quanto funções embutidas para converter de um tipo em outro (ver abaixo)\n",
    "* Funções embutidas - [Docs do Python](https://docs.python.org/pt-br/3/library/functions.html)\n",
    "    * `print()`\n",
    "    * `type()`\n",
    "    * `int()`\n",
    "    * `str()`\n",
    "    * `float()`\n",
    "* Variáveis"
   ]
  },
  {
   "cell_type": "code",
   "execution_count": null,
   "id": "376ed97c",
   "metadata": {},
   "outputs": [],
   "source": [
    "2 + 2"
   ]
  },
  {
   "cell_type": "code",
   "execution_count": null,
   "id": "04cb21b2",
   "metadata": {},
   "outputs": [],
   "source": [
    "2 * 4"
   ]
  },
  {
   "cell_type": "code",
   "execution_count": null,
   "id": "201b766f",
   "metadata": {},
   "outputs": [],
   "source": [
    "2 - 2"
   ]
  },
  {
   "cell_type": "code",
   "execution_count": null,
   "id": "67c4f527",
   "metadata": {},
   "outputs": [],
   "source": [
    "resultado = 10 / 4"
   ]
  },
  {
   "cell_type": "code",
   "execution_count": null,
   "id": "9b3089af",
   "metadata": {},
   "outputs": [],
   "source": [
    "print(resultado)"
   ]
  },
  {
   "cell_type": "code",
   "execution_count": null,
   "id": "3c6e0e09",
   "metadata": {},
   "outputs": [],
   "source": [
    "type(2.5)"
   ]
  },
  {
   "cell_type": "code",
   "execution_count": null,
   "id": "c2d2abb1",
   "metadata": {},
   "outputs": [],
   "source": [
    "type(3)"
   ]
  },
  {
   "cell_type": "code",
   "execution_count": null,
   "id": "93c66d6a",
   "metadata": {},
   "outputs": [],
   "source": [
    "type(\"Vini\")"
   ]
  },
  {
   "cell_type": "code",
   "execution_count": null,
   "id": "a344cf09",
   "metadata": {},
   "outputs": [],
   "source": [
    "nome = \"Vini\"\n",
    "print(nome)"
   ]
  },
  {
   "cell_type": "code",
   "execution_count": null,
   "id": "f66d2b2f",
   "metadata": {},
   "outputs": [],
   "source": [
    "print(\"Primeira linha\")\n",
    "print(\"Segunda linha\")\n",
    "print(10 / 4)\n",
    "print(\"Quarta linha\")"
   ]
  },
  {
   "cell_type": "code",
   "execution_count": null,
   "id": "28bc1c88",
   "metadata": {},
   "outputs": [],
   "source": [
    "resultado = 10 / 4\n",
    "print(\"Resultado é\", resultado)"
   ]
  },
  {
   "cell_type": "code",
   "execution_count": null,
   "id": "b781d22d",
   "metadata": {},
   "outputs": [],
   "source": [
    "resultado = print(10 / 4)\n",
    "print(\"Resultado é\", resultado)"
   ]
  },
  {
   "cell_type": "code",
   "execution_count": null,
   "id": "bfb17217",
   "metadata": {},
   "outputs": [],
   "source": [
    "print(10 / 4)"
   ]
  },
  {
   "cell_type": "code",
   "execution_count": null,
   "id": "c4853e54",
   "metadata": {},
   "outputs": [],
   "source": [
    "2 + 2"
   ]
  },
  {
   "cell_type": "code",
   "execution_count": null,
   "id": "03252321",
   "metadata": {},
   "outputs": [],
   "source": [
    "\"2\" + \"2\""
   ]
  },
  {
   "cell_type": "code",
   "execution_count": null,
   "id": "937c0ce5",
   "metadata": {},
   "outputs": [],
   "source": [
    "12.0 / 4.0"
   ]
  },
  {
   "cell_type": "code",
   "execution_count": null,
   "id": "4a01bfbc",
   "metadata": {},
   "outputs": [],
   "source": [
    "print(\"DDD do Rio é\", 21)"
   ]
  },
  {
   "cell_type": "code",
   "execution_count": null,
   "id": "82507cdd",
   "metadata": {},
   "outputs": [],
   "source": [
    "\"DDD do Rio é \" + str(21)"
   ]
  },
  {
   "cell_type": "code",
   "execution_count": null,
   "id": "d06f93ae",
   "metadata": {},
   "outputs": [],
   "source": [
    "type(\"Vini\")"
   ]
  },
  {
   "cell_type": "code",
   "execution_count": null,
   "id": "7ee93e60",
   "metadata": {},
   "outputs": [],
   "source": [
    "int(2.5)"
   ]
  },
  {
   "cell_type": "code",
   "execution_count": null,
   "id": "d07c2354",
   "metadata": {},
   "outputs": [],
   "source": [
    "float(\"2\")"
   ]
  },
  {
   "cell_type": "code",
   "execution_count": null,
   "id": "438a6eee",
   "metadata": {},
   "outputs": [],
   "source": [
    "str(10e-3)"
   ]
  },
  {
   "cell_type": "code",
   "execution_count": null,
   "id": "23bbe63d",
   "metadata": {},
   "outputs": [],
   "source": [
    "\"abc \" * 3"
   ]
  },
  {
   "cell_type": "markdown",
   "id": "cce6efa3",
   "metadata": {},
   "source": [
    "### Encontro 2 - 18 de junho de 2021\n",
    "\n",
    "* Revisão da última aula\n",
    "* Funções embutidas\n",
    "    * `help()`\n",
    "        * Outras formas de chamar o help: com `?` ou `??`\n",
    "        * Para funções: Shift + TAB\n",
    "* Bibliotecas\n",
    "    * `math.` + TAB para olhar os objetos de uma biblioteca\n",
    "    * Diferentes formas de importar os objetos de uma biblioteca\n",
    "        * `import math`\n",
    "        * `from math import cos, pi`\n",
    "        * `import math as m`\n",
    "* Importar dados com o Pandas\n",
    "    * Função `pd.read_csv()`\n",
    "\n",
    "\n",
    "### Pontos-chave\n",
    "\n",
    "Como usar bibliotecas. Como ver a ajuda para a função/biblioteca. O que são DataFrames: **matrizes com nome nas linhas e nas colunas.**\n",
    "\n",
    "### Semana que vem\n",
    "* Explicação do `numpy` e `ndarray`\n",
    "* Filtrando e selecionando dados"
   ]
  },
  {
   "cell_type": "code",
   "execution_count": 3,
   "id": "0c59a572",
   "metadata": {},
   "outputs": [],
   "source": [
    "# import math\n",
    "# from math import cos, pi\n",
    "# import math as m\n",
    "import pandas as pd"
   ]
  },
  {
   "cell_type": "code",
   "execution_count": 31,
   "id": "d5eb9ad1",
   "metadata": {},
   "outputs": [],
   "source": [
    "df = pd.read_csv('gapminder_all.csv', index_col='country')"
   ]
  },
  {
   "cell_type": "code",
   "execution_count": 42,
   "id": "db5c9551",
   "metadata": {},
   "outputs": [
    {
     "data": {
      "text/plain": [
       "numpy.ndarray"
      ]
     },
     "execution_count": 42,
     "metadata": {},
     "output_type": "execute_result"
    }
   ],
   "source": [
    "# type(df.index)\n",
    "# type(df.index)\n",
    "type(df.values)"
   ]
  },
  {
   "cell_type": "code",
   "execution_count": 33,
   "id": "c975cad0",
   "metadata": {},
   "outputs": [
    {
     "name": "stdout",
     "output_type": "stream",
     "text": [
      "Index(['continent', 'gdpPercap_1952', 'gdpPercap_1957', 'gdpPercap_1962',\n",
      "       'gdpPercap_1967', 'gdpPercap_1972', 'gdpPercap_1977', 'gdpPercap_1982',\n",
      "       'gdpPercap_1987', 'gdpPercap_1992', 'gdpPercap_1997', 'gdpPercap_2002',\n",
      "       'gdpPercap_2007', 'lifeExp_1952', 'lifeExp_1957', 'lifeExp_1962',\n",
      "       'lifeExp_1967', 'lifeExp_1972', 'lifeExp_1977', 'lifeExp_1982',\n",
      "       'lifeExp_1987', 'lifeExp_1992', 'lifeExp_1997', 'lifeExp_2002',\n",
      "       'lifeExp_2007', 'pop_1952', 'pop_1957', 'pop_1962', 'pop_1967',\n",
      "       'pop_1972', 'pop_1977', 'pop_1982', 'pop_1987', 'pop_1992', 'pop_1997',\n",
      "       'pop_2002', 'pop_2007'],\n",
      "      dtype='object')\n",
      "Index(['Algeria', 'Angola', 'Benin', 'Botswana', 'Burkina Faso', 'Burundi',\n",
      "       'Cameroon', 'Central African Republic', 'Chad', 'Comoros',\n",
      "       ...\n",
      "       'Serbia', 'Slovak Republic', 'Slovenia', 'Spain', 'Sweden',\n",
      "       'Switzerland', 'Turkey', 'United Kingdom', 'Australia', 'New Zealand'],\n",
      "      dtype='object', name='country', length=142)\n",
      "[['Africa' 2449.008185 3013.976023 ... 29072015.0 31287142 33333216]\n",
      " ['Africa' 3520.610273 3827.940465 ... 9875024.0 10866106 12420476]\n",
      " ['Africa' 1062.7522 959.6010805 ... 6066080.0 7026113 8078314]\n",
      " ...\n",
      " ['Europe' 9979.508487 11283.17795 ... 58808266.0 59912431 60776238]\n",
      " ['Oceania' 10039.59564 10949.64959 ... 18565243.0 19546792 20434176]\n",
      " ['Oceania' 10556.57566 12247.39532 ... 3676187.0 3908037 4115771]]\n"
     ]
    }
   ],
   "source": [
    "print(df.columns)\n",
    "print(df.index)\n",
    "print(df.values)"
   ]
  },
  {
   "cell_type": "code",
   "execution_count": null,
   "id": "e5c87269",
   "metadata": {},
   "outputs": [],
   "source": []
  }
 ],
 "metadata": {
  "kernelspec": {
   "display_name": "Python [conda env:xlab]",
   "language": "python",
   "name": "conda-env-xlab-py"
  },
  "language_info": {
   "codemirror_mode": {
    "name": "ipython",
    "version": 3
   },
   "file_extension": ".py",
   "mimetype": "text/x-python",
   "name": "python",
   "nbconvert_exporter": "python",
   "pygments_lexer": "ipython3",
   "version": "3.9.2"
  }
 },
 "nbformat": 4,
 "nbformat_minor": 5
}
