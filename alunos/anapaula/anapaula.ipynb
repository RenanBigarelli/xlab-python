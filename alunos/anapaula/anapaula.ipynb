{
 "cells": [
  {
   "cell_type": "markdown",
   "id": "de7b9ad2",
   "metadata": {},
   "source": [
    "### Encontro 1 - 11 de junho de 2021\n",
    "* Controles básicos do Jupyter\n",
    "    * Modo de comando: `ESC`\n",
    "    * Criar célula: `A` ou `B`\n",
    "    * Deleter célula: `DD`\n",
    "* Exemplo: aplicação TM1\n",
    "    * [Biblioteca TM1py](https://code.cubewise.com/tm1py-overview)\n",
    "* Operadores aritméticos\n",
    "    * `+`\n",
    "    * `*`\n",
    "    * `-`\n",
    "    * `/`\n",
    "    * `%`  # módulo, ou resto de divisão\n",
    "    * `//`  # 'floor' division, maior número inteiro\n",
    "    * `**`\n",
    "* Tipos de dados\n",
    "    * **Tipos de dados determinam as operações**\n",
    "    * Numéricos: `float` e `int`\n",
    "    * Texto: `str`\n",
    "    * Posso verificar o tipo de dado com a função `type()`\n",
    "    * Os tipos básicos são tanto tipos, quanto funções embutidas para converter de um tipo em outro (ver abaixo)\n",
    "* Funções embutidas - [Docs do Python](https://docs.python.org/pt-br/3/library/functions.html)\n",
    "    * `print()`\n",
    "    * `type()`\n",
    "    * `int()`\n",
    "    * `str()`\n",
    "    * `float()`\n",
    "* Variáveis"
   ]
  },
  {
   "cell_type": "code",
   "execution_count": null,
   "id": "0bffd5ca",
   "metadata": {},
   "outputs": [],
   "source": [
    "2 + 2"
   ]
  },
  {
   "cell_type": "code",
   "execution_count": null,
   "id": "c2d7180d",
   "metadata": {},
   "outputs": [],
   "source": [
    "2 * 4"
   ]
  },
  {
   "cell_type": "code",
   "execution_count": null,
   "id": "35219074",
   "metadata": {},
   "outputs": [],
   "source": [
    "2 - 2"
   ]
  },
  {
   "cell_type": "code",
   "execution_count": null,
   "id": "9c177f9e",
   "metadata": {},
   "outputs": [],
   "source": [
    "resultado = 10 / 4"
   ]
  },
  {
   "cell_type": "code",
   "execution_count": null,
   "id": "2d88a8c1",
   "metadata": {},
   "outputs": [],
   "source": [
    "print(resultado)"
   ]
  },
  {
   "cell_type": "code",
   "execution_count": null,
   "id": "5c601834",
   "metadata": {},
   "outputs": [],
   "source": [
    "type(2.5)"
   ]
  },
  {
   "cell_type": "code",
   "execution_count": null,
   "id": "99b143e6",
   "metadata": {},
   "outputs": [],
   "source": [
    "type(3)"
   ]
  },
  {
   "cell_type": "code",
   "execution_count": null,
   "id": "216568b6",
   "metadata": {},
   "outputs": [],
   "source": [
    "type(\"Vini\")"
   ]
  },
  {
   "cell_type": "code",
   "execution_count": null,
   "id": "0c4d847b",
   "metadata": {},
   "outputs": [],
   "source": [
    "nome = \"Vini\"\n",
    "print(nome)"
   ]
  },
  {
   "cell_type": "code",
   "execution_count": null,
   "id": "3a1bce92",
   "metadata": {},
   "outputs": [],
   "source": [
    "print(\"Primeira linha\")\n",
    "print(\"Segunda linha\")\n",
    "print(10 / 4)\n",
    "print(\"Quarta linha\")"
   ]
  },
  {
   "cell_type": "code",
   "execution_count": null,
   "id": "aac97787",
   "metadata": {},
   "outputs": [],
   "source": [
    "resultado = 10 / 4\n",
    "print(\"Resultado é\", resultado)"
   ]
  },
  {
   "cell_type": "code",
   "execution_count": null,
   "id": "093cfe35",
   "metadata": {},
   "outputs": [],
   "source": [
    "resultado = print(10 / 4)\n",
    "print(\"Resultado é\", resultado)"
   ]
  },
  {
   "cell_type": "code",
   "execution_count": null,
   "id": "0845453b",
   "metadata": {},
   "outputs": [],
   "source": [
    "print(10 / 4)"
   ]
  },
  {
   "cell_type": "code",
   "execution_count": null,
   "id": "72cf8c52",
   "metadata": {},
   "outputs": [],
   "source": [
    "2 + 2"
   ]
  },
  {
   "cell_type": "code",
   "execution_count": null,
   "id": "bbe6ae56",
   "metadata": {},
   "outputs": [],
   "source": [
    "\"2\" + \"2\""
   ]
  },
  {
   "cell_type": "code",
   "execution_count": null,
   "id": "23f97408",
   "metadata": {},
   "outputs": [],
   "source": [
    "12.0 / 4.0"
   ]
  },
  {
   "cell_type": "code",
   "execution_count": null,
   "id": "98a0d54d",
   "metadata": {},
   "outputs": [],
   "source": [
    "print(\"DDD do Rio é\", 21)"
   ]
  },
  {
   "cell_type": "code",
   "execution_count": null,
   "id": "5c0049a4",
   "metadata": {},
   "outputs": [],
   "source": [
    "\"DDD do Rio é \" + str(21)"
   ]
  },
  {
   "cell_type": "code",
   "execution_count": null,
   "id": "11c8b82e",
   "metadata": {},
   "outputs": [],
   "source": [
    "type(\"Vini\")"
   ]
  },
  {
   "cell_type": "code",
   "execution_count": null,
   "id": "eedcf935",
   "metadata": {},
   "outputs": [],
   "source": [
    "int(2.5)"
   ]
  },
  {
   "cell_type": "code",
   "execution_count": null,
   "id": "d54052d9",
   "metadata": {},
   "outputs": [],
   "source": [
    "float(\"2\")"
   ]
  },
  {
   "cell_type": "code",
   "execution_count": null,
   "id": "3476f1ec",
   "metadata": {},
   "outputs": [],
   "source": [
    "str(10e-3)"
   ]
  },
  {
   "cell_type": "code",
   "execution_count": null,
   "id": "a2bc4378",
   "metadata": {},
   "outputs": [],
   "source": [
    "\"abc \" * 3"
   ]
  },
  {
   "cell_type": "code",
   "execution_count": null,
   "id": "e5115bf6",
   "metadata": {},
   "outputs": [],
   "source": []
  }
 ],
 "metadata": {
  "kernelspec": {
   "display_name": "Python [conda env:xlab]",
   "language": "python",
   "name": "conda-env-xlab-py"
  },
  "language_info": {
   "codemirror_mode": {
    "name": "ipython",
    "version": 3
   },
   "file_extension": ".py",
   "mimetype": "text/x-python",
   "name": "python",
   "nbconvert_exporter": "python",
   "pygments_lexer": "ipython3",
   "version": "3.9.2"
  }
 },
 "nbformat": 4,
 "nbformat_minor": 5
}
