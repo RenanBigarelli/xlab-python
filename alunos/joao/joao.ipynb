{
 "cells": [
  {
   "cell_type": "markdown",
   "id": "9ec03ab7",
   "metadata": {},
   "source": [
    "### Aula 1 - 09 de abril de 2021\n",
    "\n",
    "####  Introdução ao Jupyter\n",
    "\n",
    "Tópicos:\n",
    "* Uso do Jupyter\n",
    "* Células de código e texto\n",
    "* Interpretador Python como uma calculadora\n",
    "* Acesso em disco vs. acesso em memória (RAM)\n",
    "* Funções **builtin:** `print()`\n",
    "* Diferença entre strings e variáveis\n",
    "* Tipos de dados\n",
    "    * Importância de saber o tipo de dado\n",
    "    * Operadores (exemplo: `+` se comportam diferentemente)\n",
    "    \n",
    "Desafio:\n",
    "* Criar um código, usando operadores matemáticos e variáveis, que converta graus Fahrenheit para Celsius.\n",
    "\n",
    "Para próxima aula:\n",
    "* Criar conta no GitHub"
   ]
  },
  {
   "cell_type": "code",
   "execution_count": null,
   "id": "b1d670a2",
   "metadata": {},
   "outputs": [],
   "source": [
    "2 + 2\n",
    "10 - 5\n",
    "5 * 5\n",
    "64 / 4\n",
    "2 ** 3\n",
    "10 % 3\n",
    "25 // 4"
   ]
  },
  {
   "cell_type": "code",
   "execution_count": null,
   "id": "49a7bbed",
   "metadata": {},
   "outputs": [],
   "source": [
    "nome = \"Vini\"\n",
    "idade = 26"
   ]
  },
  {
   "cell_type": "code",
   "execution_count": null,
   "id": "cf757a70",
   "metadata": {},
   "outputs": [],
   "source": [
    "print(\"Meu nome é:\", nome, \", tenho\", idade, \"anos.\")"
   ]
  },
  {
   "cell_type": "code",
   "execution_count": null,
   "id": "30da8cfb",
   "metadata": {},
   "outputs": [],
   "source": [
    "nome = \"João\""
   ]
  },
  {
   "cell_type": "code",
   "execution_count": null,
   "id": "9e6146b9",
   "metadata": {},
   "outputs": [],
   "source": [
    "print(nome)"
   ]
  },
  {
   "cell_type": "markdown",
   "id": "d2ad0e14",
   "metadata": {},
   "source": [
    "### Tipos de dados:\n",
    "\n",
    "`str` -> string, texto  \n",
    "`int` -> número inteiro  \n",
    "`float` -> número com vírgula"
   ]
  },
  {
   "cell_type": "code",
   "execution_count": null,
   "id": "c3d202d6",
   "metadata": {},
   "outputs": [],
   "source": [
    "nome_misterioso = \"3.14\""
   ]
  },
  {
   "cell_type": "code",
   "execution_count": null,
   "id": "626b39e3",
   "metadata": {},
   "outputs": [],
   "source": [
    "print(nome_misterioso); type(nome_misterioso)"
   ]
  },
  {
   "cell_type": "code",
   "execution_count": null,
   "id": "0f6e67c6",
   "metadata": {},
   "outputs": [],
   "source": [
    "rj, *cidades_rj, sp = \"RJ\", \"Rio de Janeiro\", \"Macaé\", \"Niterói\", \"SP\""
   ]
  },
  {
   "cell_type": "markdown",
   "id": "4232003e",
   "metadata": {},
   "source": [
    "### Aula 2 - 14 de abril de 2021\n",
    "\n",
    "#### Continuação Python básico\n",
    "* Funções Builtin\n",
    "    * `print()`\n",
    "    * `type()`\n",
    "    * `len()`\n",
    "    * `help()`\n",
    "* Variáveis só mudam de valor quando declaramos novamente\n",
    "* Condicionais\n",
    "* Operadores lógicos\n",
    "* Zen of Python\n",
    "* Statements (def, return, etc)\n",
    "\n",
    "\n",
    "**Por que definir funções? Por que não colocar tudo em variáveis?**"
   ]
  },
  {
   "cell_type": "code",
   "execution_count": null,
   "id": "0188b286",
   "metadata": {},
   "outputs": [],
   "source": [
    "def fahr_to_celsius(fahr):\n",
    "    \"\"\"\n",
    "    Docstring: uma string para 'documentar' nosso código.\n",
    "    Explica o que a função faz e como utilizá-la.\n",
    "    \n",
    "    fahr_to_celsius: converte Fahrenheit para celsius.\n",
    "    \n",
    "    fahr: graus Fahrenheit\n",
    "    \n",
    "    retorna: graus Celsius\n",
    "    \"\"\"\n",
    "    \n",
    "    celsius = (fahr - 32) / 1.8\n",
    "    return celsius"
   ]
  },
  {
   "cell_type": "markdown",
   "id": "48c42d99",
   "metadata": {},
   "source": [
    "### Desafio para próxima aula\n",
    "* Criar função que, dado uma temperatura em Kelvin, retorn em C, em F, e se está \"Calor\", \"Frio\", \"De boa\"."
   ]
  },
  {
   "cell_type": "markdown",
   "id": "61e92cec",
   "metadata": {},
   "source": [
    "### Aula 3 - 30 de abril de 2021\n",
    "* Retomar desafio\n",
    "* Diferenciar `print` e `return`\n",
    "* Listas e tuplas\n",
    "    * Tuplas: imutáveis e definidas com parêntese\n",
    "    * Lista: mutáveis e definidas com colchetes\n",
    "* O que são métodos?\n",
    "    * **Funções próprias de uma classe de objetos**\n",
    "    \n",
    "* Listas e strings podem ser fatiadas da mesma forma\n",
    "    **Cuidado com as pegadinhas!**"
   ]
  },
  {
   "cell_type": "code",
   "execution_count": null,
   "id": "f3c6f440",
   "metadata": {},
   "outputs": [],
   "source": [
    "tupla = (0, 1, \"a\")\n",
    "\n",
    "lista = ['a', 'b', 'c', 'd', 'e']"
   ]
  },
  {
   "cell_type": "code",
   "execution_count": null,
   "id": "141b1e79",
   "metadata": {},
   "outputs": [],
   "source": [
    "print(lista)"
   ]
  },
  {
   "cell_type": "code",
   "execution_count": null,
   "id": "484f9747",
   "metadata": {},
   "outputs": [],
   "source": [
    "# Duas pegadinhas de indexação de listas\n",
    "lista[0]  # zero-based index\n",
    "lista[0:3]  # non-inclusive slicing"
   ]
  },
  {
   "cell_type": "code",
   "execution_count": null,
   "id": "a2b35489",
   "metadata": {},
   "outputs": [],
   "source": [
    "tamanho = len(lista)\n",
    "lista[-1]"
   ]
  },
  {
   "cell_type": "code",
   "execution_count": null,
   "id": "b6a21587",
   "metadata": {},
   "outputs": [],
   "source": [
    "lista[:3]"
   ]
  },
  {
   "cell_type": "code",
   "execution_count": null,
   "id": "8ed3cc06",
   "metadata": {},
   "outputs": [],
   "source": [
    "estado = \"São Paulo\""
   ]
  },
  {
   "cell_type": "markdown",
   "id": "2553d7e9",
   "metadata": {},
   "source": [
    "### Aula 4 - 06 de maio de 2021\n",
    "\n",
    "#### For loops e condicionais\n",
    "* Função builtin `range()`\n",
    "* Desafio: inverter palavra\n",
    "* Slicing com `[::]`"
   ]
  },
  {
   "cell_type": "code",
   "execution_count": null,
   "id": "b6985548",
   "metadata": {},
   "outputs": [],
   "source": [
    "numeros = [2, 3, 5]"
   ]
  },
  {
   "cell_type": "code",
   "execution_count": null,
   "id": "efac5451",
   "metadata": {},
   "outputs": [],
   "source": [
    "for n in [1, 4, 7]:\n",
    "    # quantas operações eu quiser\n",
    "    quadrado = n ** 2\n",
    "    cubo = n ** 3\n",
    "    print(n, quadrado, cubo)"
   ]
  },
  {
   "cell_type": "code",
   "execution_count": null,
   "id": "41a92fab",
   "metadata": {},
   "outputs": [],
   "source": [
    "for n in range(1, 13, 3):\n",
    "    print(n)"
   ]
  },
  {
   "cell_type": "code",
   "execution_count": null,
   "id": "1d592d55",
   "metadata": {},
   "outputs": [],
   "source": [
    "# variáveis acumuladoras\n",
    "total = 0\n",
    "for number in range(1,11):\n",
    "    total = total + number\n",
    "    \n",
    "print(total)"
   ]
  },
  {
   "cell_type": "code",
   "execution_count": null,
   "id": "ea048e82",
   "metadata": {},
   "outputs": [],
   "source": [
    "palavra = \"atum\"\n",
    "resultado = \"\"\n",
    "\n",
    "for letra in palavra:\n",
    "    resultado = letra + resultado\n",
    "    \n",
    "print(resultado)"
   ]
  },
  {
   "cell_type": "code",
   "execution_count": null,
   "id": "1c870075",
   "metadata": {},
   "outputs": [],
   "source": [
    "# invertendo strings/lists\n",
    "palavra[::-1]  # sintaxe [start:stop:step]"
   ]
  },
  {
   "cell_type": "markdown",
   "id": "d5cabee7",
   "metadata": {},
   "source": [
    "### Exercícios\n",
    "\n",
    "#### 1. Escreva uma função que remova todos os elementos com um determinado valor de uma lista.\n",
    "\n",
    "**Exemplo**\n",
    "```python\n",
    "lista = ['a', 'b', 'c', 'a']\n",
    "remove(lista, 'a')  # retorna ['b','c'].\n",
    "```"
   ]
  },
  {
   "cell_type": "code",
   "execution_count": null,
   "id": "21d5fd60",
   "metadata": {},
   "outputs": [],
   "source": []
  },
  {
   "cell_type": "markdown",
   "id": "e01991ab",
   "metadata": {},
   "source": [
    "#### 2. Escreva um programa que receba uma lista e retorna a soma de cada elemento elevado ao cubo. Caso haja um elemento que não seja numero, deve retornar uma mensagem de erro."
   ]
  },
  {
   "cell_type": "code",
   "execution_count": null,
   "id": "f00fa761",
   "metadata": {},
   "outputs": [],
   "source": []
  },
  {
   "cell_type": "markdown",
   "id": "b781da57",
   "metadata": {},
   "source": [
    "#### 3. Escreva um programa que receba uma frase e retorne a palavra com mais letras `'e'`."
   ]
  },
  {
   "cell_type": "code",
   "execution_count": null,
   "id": "6e0eb3a2",
   "metadata": {},
   "outputs": [],
   "source": []
  },
  {
   "cell_type": "markdown",
   "id": "7f3f9956",
   "metadata": {},
   "source": [
    "#### 4. Escreva um programa que receba uma lista e retorne o valor mínimo e máximo da lista."
   ]
  },
  {
   "cell_type": "code",
   "execution_count": null,
   "id": "4841e038",
   "metadata": {},
   "outputs": [],
   "source": []
  },
  {
   "cell_type": "markdown",
   "id": "3bcb364b",
   "metadata": {},
   "source": [
    "#### 5. Escreva um programa que receba uma lista de strings e depois imprima quantos elementos contenham uma substring qualquer."
   ]
  },
  {
   "cell_type": "code",
   "execution_count": null,
   "id": "8e932c65",
   "metadata": {},
   "outputs": [],
   "source": []
  },
  {
   "cell_type": "markdown",
   "id": "ba20e641",
   "metadata": {},
   "source": [
    "### Aula 5 - 14 de maio de 2021\n",
    "\n",
    "* Exercícios\n",
    "* Operadores lógicos\n",
    "* Revisão de funções\n",
    "* "
   ]
  },
  {
   "cell_type": "code",
   "execution_count": 3,
   "id": "f32f2df8",
   "metadata": {},
   "outputs": [
    {
     "name": "stdout",
     "output_type": "stream",
     "text": [
      "False\n",
      "True\n",
      "True\n",
      "False\n",
      "True\n",
      "True\n"
     ]
    }
   ],
   "source": [
    "print(1 > 2)\n",
    "print(2 < 3)\n",
    "print(2 >= 1)\n",
    "print(2 <= 1)\n",
    "print(2 == 2)\n",
    "print(0 != 1)"
   ]
  }
 ],
 "metadata": {
  "kernelspec": {
   "display_name": "Python 3",
   "language": "python",
   "name": "python3"
  },
  "language_info": {
   "codemirror_mode": {
    "name": "ipython",
    "version": 3
   },
   "file_extension": ".py",
   "mimetype": "text/x-python",
   "name": "python",
   "nbconvert_exporter": "python",
   "pygments_lexer": "ipython3",
   "version": "3.7.10"
  }
 },
 "nbformat": 4,
 "nbformat_minor": 5
}
