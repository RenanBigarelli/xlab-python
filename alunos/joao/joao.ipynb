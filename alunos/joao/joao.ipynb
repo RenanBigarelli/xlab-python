{
 "cells": [
  {
   "cell_type": "markdown",
   "id": "3dab6f1d",
   "metadata": {},
   "source": [
    "### Aula 1 - 09 de abril de 2021\n",
    "\n",
    "####  Introdução ao Jupyter\n",
    "\n",
    "Tópicos:\n",
    "* Uso do Jupyter\n",
    "* Células de código e texto\n",
    "* Interpretador Python como uma calculadora\n",
    "* Acesso em disco vs. acesso em memória (RAM)\n",
    "* Funções **builtin:** `print()`\n",
    "* Diferença entre strings e variáveis\n",
    "* Tipos de dados\n",
    "    * Importância de saber o tipo de dado\n",
    "    * Operadores (exemplo: `+` se comportam diferentemente)\n",
    "    \n",
    "Desafio:\n",
    "* Criar um código, usando operadores matemáticos e variáveis, que converta graus Fahrenheit para Celsius.\n",
    "\n",
    "Para próxima aula:\n",
    "* Criar conta no GitHub"
   ]
  },
  {
   "cell_type": "code",
   "execution_count": null,
   "id": "0cb2a8a8",
   "metadata": {},
   "outputs": [],
   "source": [
    "2 + 2\n",
    "10 - 5\n",
    "5 * 5\n",
    "64 / 4\n",
    "2 ** 3\n",
    "10 % 3\n",
    "25 // 4"
   ]
  },
  {
   "cell_type": "code",
   "execution_count": null,
   "id": "02ad2b0c",
   "metadata": {},
   "outputs": [],
   "source": [
    "nome = \"Vini\"\n",
    "idade = 26"
   ]
  },
  {
   "cell_type": "code",
   "execution_count": null,
   "id": "7b70573c",
   "metadata": {},
   "outputs": [],
   "source": [
    "print(\"Meu nome é:\", nome, \", tenho\", idade, \"anos.\")"
   ]
  },
  {
   "cell_type": "code",
   "execution_count": null,
   "id": "bba2eaa8",
   "metadata": {},
   "outputs": [],
   "source": [
    "nome = \"João\""
   ]
  },
  {
   "cell_type": "code",
   "execution_count": null,
   "id": "2fa17a2e",
   "metadata": {},
   "outputs": [],
   "source": [
    "print(nome)"
   ]
  },
  {
   "cell_type": "markdown",
   "id": "daa18b4b",
   "metadata": {},
   "source": [
    "### Tipos de dados:\n",
    "\n",
    "`str` -> string, texto  \n",
    "`int` -> número inteiro  \n",
    "`float` -> número com vírgula"
   ]
  },
  {
   "cell_type": "code",
   "execution_count": null,
   "id": "07d4f8c3",
   "metadata": {},
   "outputs": [],
   "source": [
    "nome_misterioso = \"3.14\""
   ]
  },
  {
   "cell_type": "code",
   "execution_count": null,
   "id": "d0bac015",
   "metadata": {},
   "outputs": [],
   "source": [
    "print(nome_misterioso); type(nome_misterioso)"
   ]
  },
  {
   "cell_type": "code",
   "execution_count": null,
   "id": "7b44464f",
   "metadata": {},
   "outputs": [],
   "source": [
    "rj, *cidades_rj, sp = \"RJ\", \"Rio de Janeiro\", \"Macaé\", \"Niterói\", \"SP\""
   ]
  },
  {
   "cell_type": "markdown",
   "id": "7d84618f",
   "metadata": {},
   "source": [
    "### Aula 2 - 14 de abril de 2021\n",
    "\n",
    "#### Continuação Python básico\n",
    "* Funções Builtin\n",
    "    * `print()`\n",
    "    * `type()`\n",
    "    * `len()`\n",
    "    * `help()`\n",
    "* Variáveis só mudam de valor quando declaramos novamente\n",
    "* Condicionais\n",
    "* Operadores lógicos\n",
    "* Zen of Python\n",
    "* Statements (def, return, etc)\n",
    "\n",
    "\n",
    "**Por que definir funções? Por que não colocar tudo em variáveis?**"
   ]
  },
  {
   "cell_type": "code",
   "execution_count": null,
   "id": "bc244713",
   "metadata": {},
   "outputs": [],
   "source": [
    "def fahr_to_celsius(fahr):\n",
    "    \"\"\"\n",
    "    Docstring: uma string para 'documentar' nosso código.\n",
    "    Explica o que a função faz e como utilizá-la.\n",
    "    \n",
    "    fahr_to_celsius: converte Fahrenheit para celsius.\n",
    "    \n",
    "    fahr: graus Fahrenheit\n",
    "    \n",
    "    retorna: graus Celsius\n",
    "    \"\"\"\n",
    "    \n",
    "    celsius = (fahr - 32) / 1.8\n",
    "    return celsius"
   ]
  },
  {
   "cell_type": "markdown",
   "id": "cae39f1c",
   "metadata": {},
   "source": [
    "### Desafio para próxima aula\n",
    "* Criar função que, dado uma temperatura em Kelvin, retorn em C, em F, e se está \"Calor\", \"Frio\", \"De boa\"."
   ]
  },
  {
   "cell_type": "markdown",
   "id": "147d9da9",
   "metadata": {},
   "source": [
    "### Aula 3 - 30 de abril de 2021\n",
    "* Retomar desafio\n",
    "* Diferenciar `print` e `return`\n",
    "* Listas e tuplas\n",
    "    * Tuplas: imutáveis e definidas com parêntese\n",
    "    * Lista: mutáveis e definidas com colchetes\n",
    "* O que são métodos?\n",
    "    * **Funções próprias de uma classe de objetos**\n",
    "    \n",
    "* Listas e strings podem ser fatiadas da mesma forma\n",
    "    **Cuidado com as pegadinhas!**"
   ]
  },
  {
   "cell_type": "code",
   "execution_count": null,
   "id": "bb51cb8f",
   "metadata": {},
   "outputs": [],
   "source": [
    "tupla = (0, 1, \"a\")\n",
    "\n",
    "lista = ['a', 'b', 'c', 'd', 'e']"
   ]
  },
  {
   "cell_type": "code",
   "execution_count": null,
   "id": "50f4d07b",
   "metadata": {},
   "outputs": [],
   "source": [
    "print(lista)"
   ]
  },
  {
   "cell_type": "code",
   "execution_count": null,
   "id": "8410b4c7",
   "metadata": {},
   "outputs": [],
   "source": [
    "# Duas pegadinhas de indexação de listas\n",
    "lista[0]  # zero-based index\n",
    "lista[0:3]  # non-inclusive slicing"
   ]
  },
  {
   "cell_type": "code",
   "execution_count": null,
   "id": "96e51457",
   "metadata": {},
   "outputs": [],
   "source": [
    "tamanho = len(lista)\n",
    "lista[-1]"
   ]
  },
  {
   "cell_type": "code",
   "execution_count": null,
   "id": "a2130a9e",
   "metadata": {},
   "outputs": [],
   "source": [
    "lista[:3]"
   ]
  },
  {
   "cell_type": "code",
   "execution_count": null,
   "id": "ec2cb935",
   "metadata": {},
   "outputs": [],
   "source": [
    "estado = \"São Paulo\""
   ]
  },
  {
   "cell_type": "code",
   "execution_count": null,
   "id": "a8aac4a0",
   "metadata": {},
   "outputs": [],
   "source": []
  }
 ],
 "metadata": {
  "kernelspec": {
   "display_name": "Python 3",
   "language": "python",
   "name": "python3"
  },
  "language_info": {
   "codemirror_mode": {
    "name": "ipython",
    "version": 3
   },
   "file_extension": ".py",
   "mimetype": "text/x-python",
   "name": "python",
   "nbconvert_exporter": "python",
   "pygments_lexer": "ipython3",
   "version": "3.7.10"
  }
 },
 "nbformat": 4,
 "nbformat_minor": 5
}
