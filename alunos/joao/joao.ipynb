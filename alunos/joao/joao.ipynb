{
 "cells": [
  {
   "cell_type": "markdown",
   "id": "a2c5e509",
   "metadata": {},
   "source": [
    "### Aula 1 - 09 de abril de 2021\n",
    "\n",
    "####  Introdução ao Jupyter\n",
    "\n",
    "Tópicos:\n",
    "* Uso do Jupyter\n",
    "* Células de código e texto\n",
    "* Interpretador Python como uma calculadora\n",
    "* Acesso em disco vs. acesso em memória (RAM)\n",
    "* Funções **builtin:** `print()`\n",
    "* Diferença entre strings e variáveis\n",
    "* Tipos de dados\n",
    "    * Importância de saber o tipo de dado\n",
    "    * Operadores (exemplo: `+` se comportam diferentemente)\n",
    "    \n",
    "Desafio:\n",
    "* Criar um código, usando operadores matemáticos e variáveis, que converta graus Fahrenheit para Celsius.\n",
    "\n",
    "Para próxima aula:\n",
    "* Criar conta no GitHub"
   ]
  },
  {
   "cell_type": "code",
   "execution_count": null,
   "id": "3a856458",
   "metadata": {},
   "outputs": [],
   "source": [
    "2 + 2\n",
    "10 - 5\n",
    "5 * 5\n",
    "64 / 4\n",
    "2 ** 3\n",
    "10 % 3\n",
    "25 // 4"
   ]
  },
  {
   "cell_type": "code",
   "execution_count": null,
   "id": "2af11c4f",
   "metadata": {},
   "outputs": [],
   "source": [
    "nome = \"Vini\"\n",
    "idade = 26"
   ]
  },
  {
   "cell_type": "code",
   "execution_count": null,
   "id": "c72c4e7e",
   "metadata": {},
   "outputs": [],
   "source": [
    "print(\"Meu nome é:\", nome, \", tenho\", idade, \"anos.\")"
   ]
  },
  {
   "cell_type": "code",
   "execution_count": null,
   "id": "48945b8c",
   "metadata": {},
   "outputs": [],
   "source": [
    "nome = \"João\""
   ]
  },
  {
   "cell_type": "code",
   "execution_count": null,
   "id": "c38a38ca",
   "metadata": {},
   "outputs": [],
   "source": [
    "print(nome)"
   ]
  },
  {
   "cell_type": "markdown",
   "id": "358491fa",
   "metadata": {},
   "source": [
    "### Tipos de dados:\n",
    "\n",
    "`str` -> string, texto  \n",
    "`int` -> número inteiro  \n",
    "`float` -> número com vírgula"
   ]
  },
  {
   "cell_type": "code",
   "execution_count": null,
   "id": "90533166",
   "metadata": {},
   "outputs": [],
   "source": [
    "nome_misterioso = \"3.14\""
   ]
  },
  {
   "cell_type": "code",
   "execution_count": null,
   "id": "9aa41ea5",
   "metadata": {},
   "outputs": [],
   "source": [
    "print(nome_misterioso); type(nome_misterioso)"
   ]
  },
  {
   "cell_type": "code",
   "execution_count": null,
   "id": "8557a29f",
   "metadata": {},
   "outputs": [],
   "source": [
    "rj, *cidades_rj, sp = \"RJ\", \"Rio de Janeiro\", \"Macaé\", \"Niterói\", \"SP\""
   ]
  },
  {
   "cell_type": "markdown",
   "id": "2c97f9c5",
   "metadata": {},
   "source": [
    "### Aula 2 - 14 de abril de 2021\n",
    "\n",
    "#### Continuação Python básico\n",
    "* Funções Builtin\n",
    "    * `print()`\n",
    "    * `type()`\n",
    "    * `len()`\n",
    "    * `help()`\n",
    "* Variáveis só mudam de valor quando declaramos novamente\n",
    "* Condicionais\n",
    "* Operadores lógicos\n",
    "* Zen of Python\n",
    "* Statements (def, return, etc)\n",
    "\n",
    "\n",
    "**Por que definir funções? Por que não colocar tudo em variáveis?**"
   ]
  },
  {
   "cell_type": "code",
   "execution_count": null,
   "id": "a3b38f82",
   "metadata": {},
   "outputs": [],
   "source": [
    "def fahr_to_celsius(fahr):\n",
    "    \"\"\"\n",
    "    Docstring: uma string para 'documentar' nosso código.\n",
    "    Explica o que a função faz e como utilizá-la.\n",
    "    \n",
    "    fahr_to_celsius: converte Fahrenheit para celsius.\n",
    "    \n",
    "    fahr: graus Fahrenheit\n",
    "    \n",
    "    retorna: graus Celsius\n",
    "    \"\"\"\n",
    "    \n",
    "    celsius = (fahr - 32) / 1.8\n",
    "    return celsius"
   ]
  },
  {
   "cell_type": "markdown",
   "id": "d6bf03de",
   "metadata": {},
   "source": [
    "### Desafio para próxima aula\n",
    "* Criar função que, dado uma temperatura em Kelvin, retorn em C, em F, e se está \"Calor\", \"Frio\", \"De boa\"."
   ]
  },
  {
   "cell_type": "markdown",
   "id": "dcd9405a",
   "metadata": {},
   "source": [
    "### Aula 3 - 30 de abril de 2021\n",
    "* Retomar desafio\n",
    "* Diferenciar `print` e `return`\n",
    "* Listas e tuplas\n",
    "    * Tuplas: imutáveis e definidas com parêntese\n",
    "    * Lista: mutáveis e definidas com colchetes\n",
    "* O que são métodos?\n",
    "    * **Funções próprias de uma classe de objetos**\n",
    "    \n",
    "* Listas e strings podem ser fatiadas da mesma forma\n",
    "    **Cuidado com as pegadinhas!**"
   ]
  },
  {
   "cell_type": "code",
   "execution_count": null,
   "id": "e88cd337",
   "metadata": {},
   "outputs": [],
   "source": [
    "tupla = (0, 1, \"a\")\n",
    "\n",
    "lista = ['a', 'b', 'c', 'd', 'e']"
   ]
  },
  {
   "cell_type": "code",
   "execution_count": null,
   "id": "3234ce26",
   "metadata": {},
   "outputs": [],
   "source": [
    "print(lista)"
   ]
  },
  {
   "cell_type": "code",
   "execution_count": null,
   "id": "0bae9c30",
   "metadata": {},
   "outputs": [],
   "source": [
    "# Duas pegadinhas de indexação de listas\n",
    "lista[0]  # zero-based index\n",
    "lista[0:3]  # non-inclusive slicing"
   ]
  },
  {
   "cell_type": "code",
   "execution_count": null,
   "id": "c8d4b312",
   "metadata": {},
   "outputs": [],
   "source": [
    "tamanho = len(lista)\n",
    "lista[-1]"
   ]
  },
  {
   "cell_type": "code",
   "execution_count": null,
   "id": "27ae1211",
   "metadata": {},
   "outputs": [],
   "source": [
    "lista[:3]"
   ]
  },
  {
   "cell_type": "code",
   "execution_count": null,
   "id": "31a8f1d4",
   "metadata": {},
   "outputs": [],
   "source": [
    "estado = \"São Paulo\""
   ]
  },
  {
   "cell_type": "markdown",
   "id": "2eafcbb1",
   "metadata": {},
   "source": [
    "### Aula 4 - 06 de maio de 2021\n",
    "\n",
    "#### For loops e condicionais\n",
    "* Função builtin `range()`\n",
    "* Desafio: inverter palavra\n",
    "* Slicing com `[::]`"
   ]
  },
  {
   "cell_type": "code",
   "execution_count": null,
   "id": "6361d463",
   "metadata": {},
   "outputs": [],
   "source": [
    "numeros = [2, 3, 5]"
   ]
  },
  {
   "cell_type": "code",
   "execution_count": null,
   "id": "f70e7a2c",
   "metadata": {},
   "outputs": [],
   "source": [
    "for n in [1, 4, 7]:\n",
    "    # quantas operações eu quiser\n",
    "    quadrado = n ** 2\n",
    "    cubo = n ** 3\n",
    "    print(n, quadrado, cubo)"
   ]
  },
  {
   "cell_type": "code",
   "execution_count": null,
   "id": "146354eb",
   "metadata": {},
   "outputs": [],
   "source": [
    "for n in range(1, 13, 3):\n",
    "    print(n)"
   ]
  },
  {
   "cell_type": "code",
   "execution_count": null,
   "id": "8f431883",
   "metadata": {},
   "outputs": [],
   "source": [
    "# variáveis acumuladoras\n",
    "total = 0\n",
    "for number in range(1,11):\n",
    "    total = total + number\n",
    "    \n",
    "print(total)"
   ]
  },
  {
   "cell_type": "code",
   "execution_count": null,
   "id": "605ea441",
   "metadata": {},
   "outputs": [],
   "source": [
    "palavra = \"atum\"\n",
    "resultado = \"\"\n",
    "\n",
    "for letra in palavra:\n",
    "    resultado = letra + resultado\n",
    "    \n",
    "print(resultado)"
   ]
  },
  {
   "cell_type": "code",
   "execution_count": null,
   "id": "9184a71b",
   "metadata": {},
   "outputs": [],
   "source": [
    "# invertendo strings/lists\n",
    "palavra[::-1]  # sintaxe [start:stop:step]"
   ]
  },
  {
   "cell_type": "markdown",
   "id": "5ca9001c",
   "metadata": {},
   "source": [
    "### Exercícios\n",
    "\n",
    "#### 1. Escreva uma função que remova todos os elementos com um determinado valor de uma lista.\n",
    "\n",
    "**Exemplo**\n",
    "```python\n",
    "lista = ['a', 'b', 'c', 'a']\n",
    "remove(lista, 'a')  # retorna ['b','c'].\n",
    "```"
   ]
  },
  {
   "cell_type": "code",
   "execution_count": null,
   "id": "41f4d712",
   "metadata": {},
   "outputs": [],
   "source": []
  },
  {
   "cell_type": "markdown",
   "id": "5ab004ba",
   "metadata": {},
   "source": [
    "#### 2. Escreva um programa que receba uma lista e retorna a soma de cada elemento elevado ao cubo. Caso haja um elemento que não seja numero, deve retornar uma mensagem de erro."
   ]
  },
  {
   "cell_type": "code",
   "execution_count": null,
   "id": "1668026e",
   "metadata": {},
   "outputs": [],
   "source": []
  },
  {
   "cell_type": "markdown",
   "id": "bfbb822f",
   "metadata": {},
   "source": [
    "#### 3. Escreva um programa que receba uma frase e retorne a palavra com mais letras `'e'`."
   ]
  },
  {
   "cell_type": "code",
   "execution_count": null,
   "id": "98f0bfc8",
   "metadata": {},
   "outputs": [],
   "source": []
  },
  {
   "cell_type": "markdown",
   "id": "837c39cd",
   "metadata": {},
   "source": [
    "#### 4. Escreva um programa que receba uma lista e retorne o valor mínimo e máximo da lista."
   ]
  },
  {
   "cell_type": "code",
   "execution_count": null,
   "id": "8723fcd3",
   "metadata": {},
   "outputs": [],
   "source": []
  },
  {
   "cell_type": "markdown",
   "id": "b5c29c6e",
   "metadata": {},
   "source": [
    "#### 5. Escreva um programa que receba uma lista de strings e depois imprima quantos elementos contenham uma substring qualquer."
   ]
  },
  {
   "cell_type": "code",
   "execution_count": null,
   "id": "74c5d1cb",
   "metadata": {},
   "outputs": [],
   "source": []
  },
  {
   "cell_type": "markdown",
   "id": "97ea4939",
   "metadata": {},
   "source": [
    "### Aula 5 - 14 de maio de 2021\n",
    "\n",
    "* Exercícios\n",
    "* Operadores lógicos\n",
    "* Revisão de funções\n",
    "* Introdução à DataFrames\n",
    "    * `df.loc`\n",
    "    * `df.iloc`"
   ]
  },
  {
   "cell_type": "code",
   "execution_count": 3,
   "id": "875906ad",
   "metadata": {},
   "outputs": [
    {
     "name": "stdout",
     "output_type": "stream",
     "text": [
      "False\n",
      "True\n",
      "True\n",
      "False\n",
      "True\n",
      "True\n"
     ]
    }
   ],
   "source": [
    "print(1 > 2)\n",
    "print(2 < 3)\n",
    "print(2 >= 1)\n",
    "print(2 <= 1)\n",
    "print(2 == 2)\n",
    "print(0 != 1)"
   ]
  }
 ],
 "metadata": {
  "kernelspec": {
   "display_name": "Python 3",
   "language": "python",
   "name": "python3"
  },
  "language_info": {
   "codemirror_mode": {
    "name": "ipython",
    "version": 3
   },
   "file_extension": ".py",
   "mimetype": "text/x-python",
   "name": "python",
   "nbconvert_exporter": "python",
   "pygments_lexer": "ipython3",
   "version": "3.7.10"
  }
 },
 "nbformat": 4,
 "nbformat_minor": 5
}
