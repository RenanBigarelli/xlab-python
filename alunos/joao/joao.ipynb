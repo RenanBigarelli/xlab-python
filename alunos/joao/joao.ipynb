{
 "cells": [
  {
   "cell_type": "markdown",
   "id": "d471e2a7",
   "metadata": {},
   "source": [
    "### Aula 1 - 09 de abril de 2021\n",
    "\n",
    "####  Introdução ao Jupyter\n",
    "\n",
    "Tópicos:\n",
    "* Uso do Jupyter\n",
    "* Células de código e texto\n",
    "* Interpretador Python como uma calculadora\n",
    "* Acesso em disco vs. acesso em memória (RAM)\n",
    "* Funções **builtin:** `print()`\n",
    "* Diferença entre strings e variáveis\n",
    "* Tipos de dados\n",
    "    * Importância de saber o tipo de dado\n",
    "    * Operadores (exemplo: `+` se comportam diferentemente)\n",
    "    \n",
    "Desafio:\n",
    "* Criar um código, usando operadores matemáticos e variáveis, que converta graus Fahrenheit para Celsius.\n",
    "\n",
    "Para próxima aula:\n",
    "* Criar conta no GitHub"
   ]
  },
  {
   "cell_type": "code",
   "execution_count": null,
   "id": "0f1c81b2",
   "metadata": {},
   "outputs": [],
   "source": [
    "2 + 2\n",
    "10 - 5\n",
    "5 * 5\n",
    "64 / 4\n",
    "2 ** 3\n",
    "10 % 3\n",
    "25 // 4"
   ]
  },
  {
   "cell_type": "code",
   "execution_count": null,
   "id": "fdcc6b36",
   "metadata": {},
   "outputs": [],
   "source": [
    "nome = \"Vini\"\n",
    "idade = 26"
   ]
  },
  {
   "cell_type": "code",
   "execution_count": null,
   "id": "fcedf3e5",
   "metadata": {},
   "outputs": [],
   "source": [
    "print(\"Meu nome é:\", nome, \", tenho\", idade, \"anos.\")"
   ]
  },
  {
   "cell_type": "code",
   "execution_count": null,
   "id": "ce52a746",
   "metadata": {},
   "outputs": [],
   "source": [
    "nome = \"João\""
   ]
  },
  {
   "cell_type": "code",
   "execution_count": null,
   "id": "1eb788ac",
   "metadata": {},
   "outputs": [],
   "source": [
    "print(nome)"
   ]
  },
  {
   "cell_type": "markdown",
   "id": "78f43050",
   "metadata": {},
   "source": [
    "### Tipos de dados:\n",
    "\n",
    "`str` -> string, texto  \n",
    "`int` -> número inteiro  \n",
    "`float` -> número com vírgula"
   ]
  },
  {
   "cell_type": "code",
   "execution_count": null,
   "id": "e8115200",
   "metadata": {},
   "outputs": [],
   "source": [
    "nome_misterioso = \"3.14\""
   ]
  },
  {
   "cell_type": "code",
   "execution_count": null,
   "id": "a33f27a0",
   "metadata": {},
   "outputs": [],
   "source": [
    "print(nome_misterioso); type(nome_misterioso)"
   ]
  },
  {
   "cell_type": "code",
   "execution_count": null,
   "id": "a186d605",
   "metadata": {},
   "outputs": [],
   "source": [
    "rj, *cidades_rj, sp = \"RJ\", \"Rio de Janeiro\", \"Macaé\", \"Niterói\", \"SP\""
   ]
  },
  {
   "cell_type": "markdown",
   "id": "eb4dc39f",
   "metadata": {},
   "source": [
    "### Aula 2 - 14 de abril de 2021\n",
    "\n",
    "#### Continuação Python básico\n",
    "* Funções Builtin\n",
    "    * `print()`\n",
    "    * `type()`\n",
    "    * `len()`\n",
    "    * `help()`\n",
    "* Variáveis só mudam de valor quando declaramos novamente\n",
    "* Condicionais\n",
    "* Operadores lógicos\n",
    "* Zen of Python\n",
    "* Statements (def, return, etc)\n",
    "\n",
    "\n",
    "**Por que definir funções? Por que não colocar tudo em variáveis?**"
   ]
  },
  {
   "cell_type": "code",
   "execution_count": null,
   "id": "986e8aed",
   "metadata": {},
   "outputs": [],
   "source": [
    "def fahr_to_celsius(fahr):\n",
    "    \"\"\"\n",
    "    Docstring: uma string para 'documentar' nosso código.\n",
    "    Explica o que a função faz e como utilizá-la.\n",
    "    \n",
    "    fahr_to_celsius: converte Fahrenheit para celsius.\n",
    "    \n",
    "    fahr: graus Fahrenheit\n",
    "    \n",
    "    retorna: graus Celsius\n",
    "    \"\"\"\n",
    "    \n",
    "    celsius = (fahr - 32) / 1.8\n",
    "    return celsius"
   ]
  },
  {
   "cell_type": "markdown",
   "id": "ce34be2d",
   "metadata": {},
   "source": [
    "### Desafio para próxima aula\n",
    "* Criar função que, dado uma temperatura em Kelvin, retorn em C, em F, e se está \"Calor\", \"Frio\", \"De boa\"."
   ]
  },
  {
   "cell_type": "markdown",
   "id": "cea1895e",
   "metadata": {},
   "source": [
    "### Aula 3 - 30 de abril de 2021\n",
    "* Retomar desafio\n",
    "* Diferenciar `print` e `return`\n",
    "* Listas e tuplas\n",
    "    * Tuplas: imutáveis e definidas com parêntese\n",
    "    * Lista: mutáveis e definidas com colchetes\n",
    "* O que são métodos?\n",
    "    * **Funções próprias de uma classe de objetos**\n",
    "    \n",
    "* Listas e strings podem ser fatiadas da mesma forma\n",
    "    **Cuidado com as pegadinhas!**"
   ]
  },
  {
   "cell_type": "code",
   "execution_count": null,
   "id": "3351fc41",
   "metadata": {},
   "outputs": [],
   "source": [
    "tupla = (0, 1, \"a\")\n",
    "\n",
    "lista = ['a', 'b', 'c', 'd', 'e']"
   ]
  },
  {
   "cell_type": "code",
   "execution_count": null,
   "id": "63bfa6a7",
   "metadata": {},
   "outputs": [],
   "source": [
    "print(lista)"
   ]
  },
  {
   "cell_type": "code",
   "execution_count": null,
   "id": "fee9e997",
   "metadata": {},
   "outputs": [],
   "source": [
    "# Duas pegadinhas de indexação de listas\n",
    "lista[0]  # zero-based index\n",
    "lista[0:3]  # non-inclusive slicing"
   ]
  },
  {
   "cell_type": "code",
   "execution_count": null,
   "id": "9ef791ee",
   "metadata": {},
   "outputs": [],
   "source": [
    "tamanho = len(lista)\n",
    "lista[-1]"
   ]
  },
  {
   "cell_type": "code",
   "execution_count": null,
   "id": "3fac79f6",
   "metadata": {},
   "outputs": [],
   "source": [
    "lista[:3]"
   ]
  },
  {
   "cell_type": "code",
   "execution_count": null,
   "id": "d7628618",
   "metadata": {},
   "outputs": [],
   "source": [
    "estado = \"São Paulo\""
   ]
  },
  {
   "cell_type": "markdown",
   "id": "02223247",
   "metadata": {},
   "source": [
    "### Aula 4 - 06 de maio de 2021\n",
    "\n",
    "#### For loops e condicionais\n",
    "* Função builtin `range()`\n",
    "* Desafio: inverter palavra\n",
    "* Slicing com `[::]`"
   ]
  },
  {
   "cell_type": "code",
   "execution_count": null,
   "id": "6defe142",
   "metadata": {},
   "outputs": [],
   "source": [
    "numeros = [2, 3, 5]"
   ]
  },
  {
   "cell_type": "code",
   "execution_count": null,
   "id": "7efbfbf0",
   "metadata": {},
   "outputs": [],
   "source": [
    "for n in [1, 4, 7]:\n",
    "    # quantas operações eu quiser\n",
    "    quadrado = n ** 2\n",
    "    cubo = n ** 3\n",
    "    print(n, quadrado, cubo)"
   ]
  },
  {
   "cell_type": "code",
   "execution_count": null,
   "id": "7292f463",
   "metadata": {},
   "outputs": [],
   "source": [
    "for n in range(1, 13, 3):\n",
    "    print(n)"
   ]
  },
  {
   "cell_type": "code",
   "execution_count": null,
   "id": "5aafe32a",
   "metadata": {},
   "outputs": [],
   "source": [
    "# variáveis acumuladoras\n",
    "total = 0\n",
    "for number in range(1,11):\n",
    "    total = total + number\n",
    "    \n",
    "print(total)"
   ]
  },
  {
   "cell_type": "code",
   "execution_count": null,
   "id": "8cf17688",
   "metadata": {},
   "outputs": [],
   "source": [
    "palavra = \"atum\"\n",
    "resultado = \"\"\n",
    "\n",
    "for letra in palavra:\n",
    "    resultado = letra + resultado\n",
    "    \n",
    "print(resultado)"
   ]
  },
  {
   "cell_type": "code",
   "execution_count": null,
   "id": "705d82f5",
   "metadata": {},
   "outputs": [],
   "source": [
    "# invertendo strings/lists\n",
    "palavra[::-1]  # sintaxe [start:stop:step]"
   ]
  },
  {
   "cell_type": "markdown",
   "id": "9d5872c6",
   "metadata": {},
   "source": [
    "### Exercícios\n",
    "\n",
    "#### 1. Escreva uma função que remova todos os elementos com um determinado valor de uma lista.\n",
    "\n",
    "**Exemplo**\n",
    "```python\n",
    "lista = ['a', 'b', 'c', 'a']\n",
    "remove(lista, 'a')  # retorna ['b','c'].\n",
    "```"
   ]
  },
  {
   "cell_type": "code",
   "execution_count": null,
   "id": "36edce53",
   "metadata": {},
   "outputs": [],
   "source": []
  },
  {
   "cell_type": "markdown",
   "id": "fbc81215",
   "metadata": {},
   "source": [
    "#### 2. Escreva um programa que receba uma lista e retorna a soma de cada elemento elevado ao cubo. Caso haja um elemento que não seja numero, deve retornar uma mensagem de erro."
   ]
  },
  {
   "cell_type": "code",
   "execution_count": null,
   "id": "59581e51",
   "metadata": {},
   "outputs": [],
   "source": []
  },
  {
   "cell_type": "markdown",
   "id": "564ce4db",
   "metadata": {},
   "source": [
    "#### 3. Escreva um programa que receba uma frase e retorne a palavra com mais letras `'e'`."
   ]
  },
  {
   "cell_type": "code",
   "execution_count": null,
   "id": "f93911bf",
   "metadata": {},
   "outputs": [],
   "source": []
  },
  {
   "cell_type": "markdown",
   "id": "794e16e3",
   "metadata": {},
   "source": [
    "#### 4. Escreva um programa que receba uma lista e retorne o valor mínimo e máximo da lista."
   ]
  },
  {
   "cell_type": "code",
   "execution_count": null,
   "id": "3d3e0576",
   "metadata": {},
   "outputs": [],
   "source": []
  },
  {
   "cell_type": "markdown",
   "id": "de3e16ba",
   "metadata": {},
   "source": [
    "#### 5. Escreva um programa que receba uma lista de strings e depois imprima quantos elementos contenham uma substring qualquer."
   ]
  },
  {
   "cell_type": "code",
   "execution_count": null,
   "id": "70e057d1",
   "metadata": {},
   "outputs": [],
   "source": []
  },
  {
   "cell_type": "markdown",
   "id": "7b3b5bcd",
   "metadata": {},
   "source": [
    "### Aula 5 - 14 de maio de 2021\n",
    "\n",
    "* Exercícios\n",
    "* Operadores lógicos\n",
    "* Revisão de funções\n",
    "* Introdução à DataFrames\n",
    "    * `df.loc`\n",
    "    * `df.iloc`"
   ]
  },
  {
   "cell_type": "code",
   "execution_count": null,
   "id": "bb425386",
   "metadata": {},
   "outputs": [],
   "source": [
    "print(1 > 2)\n",
    "print(2 < 3)\n",
    "print(2 >= 1)\n",
    "print(2 <= 1)\n",
    "print(2 == 2)\n",
    "print(0 != 1)"
   ]
  },
  {
   "cell_type": "markdown",
   "id": "6f82d23b",
   "metadata": {},
   "source": [
    "### Aula 6 - 21 de maio de 2021\n",
    "\n",
    "* Pandas: continuação\n",
    "* Localização e condicionais em DataFrames\n",
    "* Análise exploratória de dados\n",
    "    * Métodos de DataFrame\n",
    "    * `head()`\n",
    "    * `tail()`\n",
    "    * `shape`\n",
    "    * `.describe()`\n",
    "    * `.columns`\n",
    "    * `.groupby()`\n",
    "    * Condicionais\n",
    "        * Operador `&`: and\n",
    "        * Operador `|`: or\n",
    "        * Método `.isin`: dentro de alguma coleção (lista, tupla, etc)\n",
    "* Função embutida `dir()`: métodos e atributos em um objeto/biblioteca/módulo\n",
    "    * Equivalente a apertar TAB"
   ]
  },
  {
   "cell_type": "code",
   "execution_count": 2,
   "id": "6b9d1d65",
   "metadata": {},
   "outputs": [],
   "source": [
    "import pandas as pd"
   ]
  },
  {
   "cell_type": "code",
   "execution_count": 12,
   "id": "ee6ef9f8",
   "metadata": {},
   "outputs": [],
   "source": [
    "df = pd.read_excel(\"base_teste.xlsx\", )"
   ]
  },
  {
   "cell_type": "code",
   "execution_count": null,
   "id": "e83957d2",
   "metadata": {},
   "outputs": [],
   "source": [
    "df.head()"
   ]
  },
  {
   "cell_type": "code",
   "execution_count": null,
   "id": "3e9618eb",
   "metadata": {},
   "outputs": [],
   "source": [
    "# primeira linha, colunas: laboratório, marca, data\n",
    "df.loc[0, [\"Laboratório\", \"Marca\", \"Data\"]]"
   ]
  },
  {
   "cell_type": "code",
   "execution_count": null,
   "id": "31383747",
   "metadata": {},
   "outputs": [],
   "source": [
    "# condicional\n",
    "df[df[\"Tipo Canal\"] == \"Público\"]"
   ]
  },
  {
   "cell_type": "code",
   "execution_count": null,
   "id": "856709f3",
   "metadata": {},
   "outputs": [],
   "source": [
    "df.groupby([\"Tipo Canal\", \"Tipo Auditoria\"]).describe()"
   ]
  },
  {
   "cell_type": "code",
   "execution_count": 14,
   "id": "d2036a06",
   "metadata": {},
   "outputs": [
    {
     "data": {
      "text/plain": [
       "0         Jan 2020\n",
       "1         Fev 2020\n",
       "2         Mar 2020\n",
       "3         Abr 2020\n",
       "4         Mai 2020\n",
       "            ...   \n",
       "209071    Ago 2020\n",
       "209072    Set 2020\n",
       "209073    Out 2020\n",
       "209074    Nov 2020\n",
       "209075    Dez 2020\n",
       "Name: Data, Length: 209076, dtype: object"
      ]
     },
     "execution_count": 14,
     "metadata": {},
     "output_type": "execute_result"
    }
   ],
   "source": [
    "df[\"Data\"]"
   ]
  },
  {
   "cell_type": "code",
   "execution_count": 21,
   "id": "1d673909",
   "metadata": {},
   "outputs": [
    {
     "data": {
      "text/plain": [
       "0         False\n",
       "1         False\n",
       "2         False\n",
       "3         False\n",
       "4         False\n",
       "          ...  \n",
       "209071    False\n",
       "209072    False\n",
       "209073    False\n",
       "209074     True\n",
       "209075    False\n",
       "Name: Data, Length: 209076, dtype: bool"
      ]
     },
     "execution_count": 21,
     "metadata": {},
     "output_type": "execute_result"
    }
   ],
   "source": [
    "df[\"Data\"].isin()"
   ]
  },
  {
   "cell_type": "code",
   "execution_count": 20,
   "id": "d3946de4",
   "metadata": {},
   "outputs": [
    {
     "data": {
      "text/html": [
       "<div>\n",
       "<style scoped>\n",
       "    .dataframe tbody tr th:only-of-type {\n",
       "        vertical-align: middle;\n",
       "    }\n",
       "\n",
       "    .dataframe tbody tr th {\n",
       "        vertical-align: top;\n",
       "    }\n",
       "\n",
       "    .dataframe thead th {\n",
       "        text-align: right;\n",
       "    }\n",
       "</style>\n",
       "<table border=\"1\" class=\"dataframe\">\n",
       "  <thead>\n",
       "    <tr style=\"text-align: right;\">\n",
       "      <th></th>\n",
       "      <th>Laboratório</th>\n",
       "      <th>Marca</th>\n",
       "      <th>Tipo Auditoria</th>\n",
       "      <th>Tipo Canal</th>\n",
       "      <th>Data</th>\n",
       "      <th>Período</th>\n",
       "      <th>Absoluto \\nValor Real com Desconto</th>\n",
       "      <th>is_in_quarter_movel</th>\n",
       "    </tr>\n",
       "  </thead>\n",
       "  <tbody>\n",
       "    <tr>\n",
       "      <th>0</th>\n",
       "      <td>ABBOTT</td>\n",
       "      <td>AMOXICILINA MG (ABT)</td>\n",
       "      <td>Retail</td>\n",
       "      <td>Privado</td>\n",
       "      <td>Jan 2020</td>\n",
       "      <td>MTH</td>\n",
       "      <td>13571.04</td>\n",
       "      <td>False</td>\n",
       "    </tr>\n",
       "    <tr>\n",
       "      <th>1</th>\n",
       "      <td>ABBOTT</td>\n",
       "      <td>AMOXICILINA MG (ABT)</td>\n",
       "      <td>Retail</td>\n",
       "      <td>Privado</td>\n",
       "      <td>Fev 2020</td>\n",
       "      <td>MTH</td>\n",
       "      <td>11354.90</td>\n",
       "      <td>False</td>\n",
       "    </tr>\n",
       "    <tr>\n",
       "      <th>2</th>\n",
       "      <td>ABBOTT</td>\n",
       "      <td>AMOXICILINA MG (ABT)</td>\n",
       "      <td>Retail</td>\n",
       "      <td>Privado</td>\n",
       "      <td>Mar 2020</td>\n",
       "      <td>MTH</td>\n",
       "      <td>8906.82</td>\n",
       "      <td>False</td>\n",
       "    </tr>\n",
       "    <tr>\n",
       "      <th>3</th>\n",
       "      <td>ABBOTT</td>\n",
       "      <td>AMOXICILINA MG (ABT)</td>\n",
       "      <td>Retail</td>\n",
       "      <td>Privado</td>\n",
       "      <td>Abr 2020</td>\n",
       "      <td>MTH</td>\n",
       "      <td>4860.00</td>\n",
       "      <td>False</td>\n",
       "    </tr>\n",
       "    <tr>\n",
       "      <th>4</th>\n",
       "      <td>ABBOTT</td>\n",
       "      <td>AMOXICILINA MG (ABT)</td>\n",
       "      <td>Retail</td>\n",
       "      <td>Privado</td>\n",
       "      <td>Mai 2020</td>\n",
       "      <td>MTH</td>\n",
       "      <td>7656.37</td>\n",
       "      <td>False</td>\n",
       "    </tr>\n",
       "    <tr>\n",
       "      <th>...</th>\n",
       "      <td>...</td>\n",
       "      <td>...</td>\n",
       "      <td>...</td>\n",
       "      <td>...</td>\n",
       "      <td>...</td>\n",
       "      <td>...</td>\n",
       "      <td>...</td>\n",
       "      <td>...</td>\n",
       "    </tr>\n",
       "    <tr>\n",
       "      <th>209071</th>\n",
       "      <td>ZYDUS BRASIL</td>\n",
       "      <td>ZYVALPREX (ZY-)</td>\n",
       "      <td>Retail</td>\n",
       "      <td>Privado</td>\n",
       "      <td>Ago 2020</td>\n",
       "      <td>MTH</td>\n",
       "      <td>8633.32</td>\n",
       "      <td>False</td>\n",
       "    </tr>\n",
       "    <tr>\n",
       "      <th>209072</th>\n",
       "      <td>ZYDUS BRASIL</td>\n",
       "      <td>ZYVALPREX (ZY-)</td>\n",
       "      <td>Retail</td>\n",
       "      <td>Privado</td>\n",
       "      <td>Set 2020</td>\n",
       "      <td>MTH</td>\n",
       "      <td>6675.07</td>\n",
       "      <td>False</td>\n",
       "    </tr>\n",
       "    <tr>\n",
       "      <th>209073</th>\n",
       "      <td>ZYDUS BRASIL</td>\n",
       "      <td>ZYVALPREX (ZY-)</td>\n",
       "      <td>Retail</td>\n",
       "      <td>Privado</td>\n",
       "      <td>Out 2020</td>\n",
       "      <td>MTH</td>\n",
       "      <td>4336.98</td>\n",
       "      <td>True</td>\n",
       "    </tr>\n",
       "    <tr>\n",
       "      <th>209074</th>\n",
       "      <td>ZYDUS BRASIL</td>\n",
       "      <td>ZYVALPREX (ZY-)</td>\n",
       "      <td>Retail</td>\n",
       "      <td>Privado</td>\n",
       "      <td>Nov 2020</td>\n",
       "      <td>MTH</td>\n",
       "      <td>2803.32</td>\n",
       "      <td>True</td>\n",
       "    </tr>\n",
       "    <tr>\n",
       "      <th>209075</th>\n",
       "      <td>ZYDUS BRASIL</td>\n",
       "      <td>ZYVALPREX (ZY-)</td>\n",
       "      <td>Retail</td>\n",
       "      <td>Privado</td>\n",
       "      <td>Dez 2020</td>\n",
       "      <td>MTH</td>\n",
       "      <td>1182.85</td>\n",
       "      <td>True</td>\n",
       "    </tr>\n",
       "  </tbody>\n",
       "</table>\n",
       "<p>209076 rows × 8 columns</p>\n",
       "</div>"
      ],
      "text/plain": [
       "         Laboratório                 Marca Tipo Auditoria Tipo Canal  \\\n",
       "0             ABBOTT  AMOXICILINA MG (ABT)         Retail    Privado   \n",
       "1             ABBOTT  AMOXICILINA MG (ABT)         Retail    Privado   \n",
       "2             ABBOTT  AMOXICILINA MG (ABT)         Retail    Privado   \n",
       "3             ABBOTT  AMOXICILINA MG (ABT)         Retail    Privado   \n",
       "4             ABBOTT  AMOXICILINA MG (ABT)         Retail    Privado   \n",
       "...              ...                   ...            ...        ...   \n",
       "209071  ZYDUS BRASIL       ZYVALPREX (ZY-)         Retail    Privado   \n",
       "209072  ZYDUS BRASIL       ZYVALPREX (ZY-)         Retail    Privado   \n",
       "209073  ZYDUS BRASIL       ZYVALPREX (ZY-)         Retail    Privado   \n",
       "209074  ZYDUS BRASIL       ZYVALPREX (ZY-)         Retail    Privado   \n",
       "209075  ZYDUS BRASIL       ZYVALPREX (ZY-)         Retail    Privado   \n",
       "\n",
       "            Data Período  Absoluto \\nValor Real com Desconto  \\\n",
       "0       Jan 2020     MTH                            13571.04   \n",
       "1       Fev 2020     MTH                            11354.90   \n",
       "2       Mar 2020     MTH                             8906.82   \n",
       "3       Abr 2020     MTH                             4860.00   \n",
       "4       Mai 2020     MTH                             7656.37   \n",
       "...          ...     ...                                 ...   \n",
       "209071  Ago 2020     MTH                             8633.32   \n",
       "209072  Set 2020     MTH                             6675.07   \n",
       "209073  Out 2020     MTH                             4336.98   \n",
       "209074  Nov 2020     MTH                             2803.32   \n",
       "209075  Dez 2020     MTH                             1182.85   \n",
       "\n",
       "        is_in_quarter_movel  \n",
       "0                     False  \n",
       "1                     False  \n",
       "2                     False  \n",
       "3                     False  \n",
       "4                     False  \n",
       "...                     ...  \n",
       "209071                False  \n",
       "209072                False  \n",
       "209073                 True  \n",
       "209074                 True  \n",
       "209075                 True  \n",
       "\n",
       "[209076 rows x 8 columns]"
      ]
     },
     "execution_count": 20,
     "metadata": {},
     "output_type": "execute_result"
    }
   ],
   "source": [
    "meses_quarter_movel = [\"Out 2020\", \"Nov 2020\", \"Dez 2020\"]\n",
    "df[\"is_in_quarter_movel\"] = df[\"Data\"].isin(meses_quarter_movel)\n",
    "df"
   ]
  },
  {
   "cell_type": "code",
   "execution_count": 22,
   "id": "72463c66",
   "metadata": {},
   "outputs": [],
   "source": [
    "df[\"Quarter_Movel\"] = \"\"\n",
    "qmovel_true_index = df[df[\"Data\"].isin(meses_quarter_movel)].index\n",
    "qmovel_false_index = df[~df[\"Data\"].isin(meses_quarter_movel)].index\n",
    "df.loc[qmovel_true_index, \"Quarter_Movel\"] = \"Está no quarter móvel\"\n",
    "df.loc[qmovel_false_index, \"Quarter_Movel\"] = \"Ou não.\""
   ]
  },
  {
   "cell_type": "code",
   "execution_count": null,
   "id": "12a1563a",
   "metadata": {},
   "outputs": [],
   "source": [
    "for ix, row in df.iterrows():\n",
    "    if row[\"Data\"] in meses_quarter_movel:\n",
    "        df.loc[ix, \"Quarter_Movel\"] = True\n",
    "    else:\n",
    "        df.loc[ix, \"Quarter_Movel\"] = False"
   ]
  }
 ],
 "metadata": {
  "kernelspec": {
   "display_name": "Python 3",
   "language": "python",
   "name": "python3"
  },
  "language_info": {
   "codemirror_mode": {
    "name": "ipython",
    "version": 3
   },
   "file_extension": ".py",
   "mimetype": "text/x-python",
   "name": "python",
   "nbconvert_exporter": "python",
   "pygments_lexer": "ipython3",
   "version": "3.7.10"
  }
 },
 "nbformat": 4,
 "nbformat_minor": 5
}
