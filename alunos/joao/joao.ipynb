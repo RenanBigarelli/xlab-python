{
 "cells": [
  {
   "cell_type": "markdown",
   "id": "b6ccbe75",
   "metadata": {},
   "source": [
    "### Aula 1 - 09 de abril de 2021\n",
    "\n",
    "####  Introdução ao Jupyter\n",
    "\n",
    "Tópicos:\n",
    "* Uso do Jupyter\n",
    "* Células de código e texto\n",
    "* Interpretador Python como uma calculadora\n",
    "* Acesso em disco vs. acesso em memória (RAM)\n",
    "* Funções **builtin:** `print()`\n",
    "* Diferença entre strings e variáveis\n",
    "* Tipos de dados\n",
    "    * Importância de saber o tipo de dado\n",
    "    * Operadores (exemplo: `+` se comportam diferentemente)\n",
    "    \n",
    "Desafio:\n",
    "* Criar um código, usando operadores matemáticos e variáveis, que converta graus Fahrenheit para Celsius.\n",
    "\n",
    "Para próxima aula:\n",
    "* Criar conta no GitHub"
   ]
  },
  {
   "cell_type": "code",
   "execution_count": null,
   "id": "894d3bbf",
   "metadata": {},
   "outputs": [],
   "source": [
    "2 + 2\n",
    "10 - 5\n",
    "5 * 5\n",
    "64 / 4\n",
    "2 ** 3\n",
    "10 % 3\n",
    "25 // 4"
   ]
  },
  {
   "cell_type": "code",
   "execution_count": null,
   "id": "49658578",
   "metadata": {},
   "outputs": [],
   "source": [
    "nome = \"Vini\"\n",
    "idade = 26"
   ]
  },
  {
   "cell_type": "code",
   "execution_count": null,
   "id": "960367a6",
   "metadata": {},
   "outputs": [],
   "source": [
    "print(\"Meu nome é:\", nome, \", tenho\", idade, \"anos.\")"
   ]
  },
  {
   "cell_type": "code",
   "execution_count": null,
   "id": "25acdd33",
   "metadata": {},
   "outputs": [],
   "source": [
    "nome = \"João\""
   ]
  },
  {
   "cell_type": "code",
   "execution_count": null,
   "id": "f274c1a4",
   "metadata": {},
   "outputs": [],
   "source": [
    "print(nome)"
   ]
  },
  {
   "cell_type": "markdown",
   "id": "d96d2196",
   "metadata": {},
   "source": [
    "### Tipos de dados:\n",
    "\n",
    "`str` -> string, texto  \n",
    "`int` -> número inteiro  \n",
    "`float` -> número com vírgula"
   ]
  },
  {
   "cell_type": "code",
   "execution_count": null,
   "id": "a0686640",
   "metadata": {},
   "outputs": [],
   "source": [
    "nome_misterioso = \"3.14\""
   ]
  },
  {
   "cell_type": "code",
   "execution_count": null,
   "id": "816f37ec",
   "metadata": {},
   "outputs": [],
   "source": [
    "print(nome_misterioso); type(nome_misterioso)"
   ]
  },
  {
   "cell_type": "code",
   "execution_count": null,
   "id": "035b5a6a",
   "metadata": {},
   "outputs": [],
   "source": [
    "rj, *cidades_rj, sp = \"RJ\", \"Rio de Janeiro\", \"Macaé\", \"Niterói\", \"SP\""
   ]
  },
  {
   "cell_type": "markdown",
   "id": "d7a681b2",
   "metadata": {},
   "source": [
    "### Aula 2 - 14 de abril de 2021\n",
    "\n",
    "#### Continuação Python básico\n",
    "* Funções Builtin\n",
    "    * `print()`\n",
    "    * `type()`\n",
    "    * `len()`\n",
    "    * `help()`\n",
    "* Variáveis só mudam de valor quando declaramos novamente\n",
    "* Condicionais\n",
    "* Operadores lógicos\n",
    "* Zen of Python\n",
    "* Statements (def, return, etc)\n",
    "\n",
    "\n",
    "**Por que definir funções? Por que não colocar tudo em variáveis?**"
   ]
  },
  {
   "cell_type": "code",
   "execution_count": null,
   "id": "c60bfdd6",
   "metadata": {},
   "outputs": [],
   "source": [
    "def fahr_to_celsius(fahr):\n",
    "    \"\"\"\n",
    "    Docstring: uma string para 'documentar' nosso código.\n",
    "    Explica o que a função faz e como utilizá-la.\n",
    "    \n",
    "    fahr_to_celsius: converte Fahrenheit para celsius.\n",
    "    \n",
    "    fahr: graus Fahrenheit\n",
    "    \n",
    "    retorna: graus Celsius\n",
    "    \"\"\"\n",
    "    \n",
    "    celsius = (fahr - 32) / 1.8\n",
    "    return celsius"
   ]
  },
  {
   "cell_type": "markdown",
   "id": "e272d9a7",
   "metadata": {},
   "source": [
    "### Desafio para próxima aula\n",
    "* Criar função que, dado uma temperatura em Kelvin, retorn em C, em F, e se está \"Calor\", \"Frio\", \"De boa\"."
   ]
  },
  {
   "cell_type": "markdown",
   "id": "6f4c011c",
   "metadata": {},
   "source": [
    "### Aula 3 - 30 de abril de 2021\n",
    "* Retomar desafio\n",
    "* Diferenciar `print` e `return`\n",
    "* Listas e tuplas\n",
    "    * Tuplas: imutáveis e definidas com parêntese\n",
    "    * Lista: mutáveis e definidas com colchetes\n",
    "* O que são métodos?\n",
    "    * **Funções próprias de uma classe de objetos**\n",
    "    \n",
    "* Listas e strings podem ser fatiadas da mesma forma\n",
    "    **Cuidado com as pegadinhas!**"
   ]
  },
  {
   "cell_type": "code",
   "execution_count": null,
   "id": "cc515c38",
   "metadata": {},
   "outputs": [],
   "source": [
    "tupla = (0, 1, \"a\")\n",
    "\n",
    "lista = ['a', 'b', 'c', 'd', 'e']"
   ]
  },
  {
   "cell_type": "code",
   "execution_count": null,
   "id": "f0d68a76",
   "metadata": {},
   "outputs": [],
   "source": [
    "print(lista)"
   ]
  },
  {
   "cell_type": "code",
   "execution_count": null,
   "id": "c7810966",
   "metadata": {},
   "outputs": [],
   "source": [
    "# Duas pegadinhas de indexação de listas\n",
    "lista[0]  # zero-based index\n",
    "lista[0:3]  # non-inclusive slicing"
   ]
  },
  {
   "cell_type": "code",
   "execution_count": null,
   "id": "c6ca6d2b",
   "metadata": {},
   "outputs": [],
   "source": [
    "tamanho = len(lista)\n",
    "lista[-1]"
   ]
  },
  {
   "cell_type": "code",
   "execution_count": null,
   "id": "4e57ee0d",
   "metadata": {},
   "outputs": [],
   "source": [
    "lista[:3]"
   ]
  },
  {
   "cell_type": "code",
   "execution_count": null,
   "id": "35a808b8",
   "metadata": {},
   "outputs": [],
   "source": [
    "estado = \"São Paulo\""
   ]
  },
  {
   "cell_type": "markdown",
   "id": "748cdaad",
   "metadata": {},
   "source": [
    "### Aula 4 - 06 de maio de 2021\n",
    "\n",
    "#### For loops e condicionais\n",
    "* Função builtin `range()`\n",
    "* Desafio: inverter palavra\n",
    "* Slicing com `[::]`"
   ]
  },
  {
   "cell_type": "code",
   "execution_count": null,
   "id": "44d255e0",
   "metadata": {},
   "outputs": [],
   "source": [
    "numeros = [2, 3, 5]"
   ]
  },
  {
   "cell_type": "code",
   "execution_count": null,
   "id": "ecf27ac2",
   "metadata": {},
   "outputs": [],
   "source": [
    "for n in [1, 4, 7]:\n",
    "    # quantas operações eu quiser\n",
    "    quadrado = n ** 2\n",
    "    cubo = n ** 3\n",
    "    print(n, quadrado, cubo)"
   ]
  },
  {
   "cell_type": "code",
   "execution_count": null,
   "id": "822a03fc",
   "metadata": {},
   "outputs": [],
   "source": [
    "for n in range(1, 13, 3):\n",
    "    print(n)"
   ]
  },
  {
   "cell_type": "code",
   "execution_count": null,
   "id": "3ad2c66e",
   "metadata": {},
   "outputs": [],
   "source": [
    "# variáveis acumuladoras\n",
    "total = 0\n",
    "for number in range(1,11):\n",
    "    total = total + number\n",
    "    \n",
    "print(total)"
   ]
  },
  {
   "cell_type": "code",
   "execution_count": null,
   "id": "e98f5d70",
   "metadata": {},
   "outputs": [],
   "source": [
    "palavra = \"atum\"\n",
    "resultado = \"\"\n",
    "\n",
    "for letra in palavra:\n",
    "    resultado = letra + resultado\n",
    "    \n",
    "print(resultado)"
   ]
  },
  {
   "cell_type": "code",
   "execution_count": null,
   "id": "bb90e9b2",
   "metadata": {},
   "outputs": [],
   "source": [
    "# invertendo strings/lists\n",
    "palavra[::-1]  # sintaxe [start:stop:step]"
   ]
  },
  {
   "cell_type": "markdown",
   "id": "211c293c",
   "metadata": {},
   "source": [
    "### Exercícios\n",
    "\n",
    "#### 1. Escreva uma função que remova todos os elementos com um determinado valor de uma lista.\n",
    "\n",
    "**Exemplo**\n",
    "```python\n",
    "lista = ['a', 'b', 'c', 'a']\n",
    "remove(lista, 'a')  # retorna ['b','c'].\n",
    "```"
   ]
  },
  {
   "cell_type": "code",
   "execution_count": null,
   "id": "fb345611",
   "metadata": {},
   "outputs": [],
   "source": []
  },
  {
   "cell_type": "markdown",
   "id": "69345865",
   "metadata": {},
   "source": [
    "#### 2. Escreva um programa que receba uma lista e retorna a soma de cada elemento elevado ao cubo. Caso haja um elemento que não seja numero, deve retornar uma mensagem de erro."
   ]
  },
  {
   "cell_type": "code",
   "execution_count": null,
   "id": "dc1835be",
   "metadata": {},
   "outputs": [],
   "source": []
  },
  {
   "cell_type": "markdown",
   "id": "249a07ef",
   "metadata": {},
   "source": [
    "#### 3. Escreva um programa que receba uma frase e retorne a palavra com mais letras `'e'`."
   ]
  },
  {
   "cell_type": "code",
   "execution_count": null,
   "id": "b8a31ea1",
   "metadata": {},
   "outputs": [],
   "source": []
  },
  {
   "cell_type": "markdown",
   "id": "8e77d0f7",
   "metadata": {},
   "source": [
    "#### 4. Escreva um programa que receba uma lista e retorne o valor mínimo e máximo da lista."
   ]
  },
  {
   "cell_type": "code",
   "execution_count": null,
   "id": "9d920934",
   "metadata": {},
   "outputs": [],
   "source": []
  },
  {
   "cell_type": "markdown",
   "id": "2b7e1ed5",
   "metadata": {},
   "source": [
    "#### 5. Escreva um programa que receba uma lista de strings e depois imprima quantos elementos contenham uma substring qualquer."
   ]
  },
  {
   "cell_type": "code",
   "execution_count": null,
   "id": "bf10cc84",
   "metadata": {},
   "outputs": [],
   "source": []
  },
  {
   "cell_type": "markdown",
   "id": "659b5adb",
   "metadata": {},
   "source": [
    "### Aula 5 - 14 de maio de 2021\n",
    "\n",
    "* Exercícios\n",
    "* Operadores lógicos\n",
    "* Revisão de funções\n",
    "* Introdução à DataFrames\n",
    "    * `df.loc`\n",
    "    * `df.iloc`"
   ]
  },
  {
   "cell_type": "code",
   "execution_count": null,
   "id": "5fe09b45",
   "metadata": {},
   "outputs": [],
   "source": [
    "print(1 > 2)\n",
    "print(2 < 3)\n",
    "print(2 >= 1)\n",
    "print(2 <= 1)\n",
    "print(2 == 2)\n",
    "print(0 != 1)"
   ]
  },
  {
   "cell_type": "markdown",
   "id": "369ad754",
   "metadata": {},
   "source": [
    "### Aula 6 - 21 de maio de 2021\n",
    "\n",
    "* Pandas: continuação\n",
    "* Localização e condicionais em DataFrames\n",
    "* Análise exploratória de dados\n",
    "    * Métodos de DataFrame\n",
    "    * `head()`\n",
    "    * `tail()`\n",
    "    * `shape`\n",
    "    * `.describe()`\n",
    "    * `.columns`\n",
    "    * `.groupby()`\n",
    "    * Condicionais\n",
    "        * Operador `&`: and\n",
    "        * Operador `|`: or\n",
    "        * Método `.isin`: dentro de alguma coleção (lista, tupla, etc)\n",
    "* Função embutida `dir()`: métodos e atributos em um objeto/biblioteca/módulo\n",
    "    * Equivalente a apertar TAB"
   ]
  },
  {
   "cell_type": "code",
   "execution_count": 2,
   "id": "957ff471",
   "metadata": {},
   "outputs": [],
   "source": [
    "import pandas as pd"
   ]
  },
  {
   "cell_type": "code",
   "execution_count": 12,
   "id": "af17d835",
   "metadata": {},
   "outputs": [],
   "source": [
    "df = pd.read_excel(\"base_teste.xlsx\", )"
   ]
  },
  {
   "cell_type": "code",
   "execution_count": null,
   "id": "dca5b166",
   "metadata": {},
   "outputs": [],
   "source": [
    "df.head()"
   ]
  },
  {
   "cell_type": "code",
   "execution_count": null,
   "id": "92521447",
   "metadata": {},
   "outputs": [],
   "source": [
    "# primeira linha, colunas: laboratório, marca, data\n",
    "df.loc[0, [\"Laboratório\", \"Marca\", \"Data\"]]"
   ]
  },
  {
   "cell_type": "code",
   "execution_count": null,
   "id": "fc0624f0",
   "metadata": {},
   "outputs": [],
   "source": [
    "# condicional\n",
    "df[df[\"Tipo Canal\"] == \"Público\"]"
   ]
  },
  {
   "cell_type": "code",
   "execution_count": null,
   "id": "ee15d3da",
   "metadata": {},
   "outputs": [],
   "source": [
    "df.groupby([\"Tipo Canal\", \"Tipo Auditoria\"]).describe()"
   ]
  },
  {
   "cell_type": "code",
   "execution_count": 14,
   "id": "c87eee48",
   "metadata": {},
   "outputs": [
    {
     "data": {
      "text/plain": [
       "0         Jan 2020\n",
       "1         Fev 2020\n",
       "2         Mar 2020\n",
       "3         Abr 2020\n",
       "4         Mai 2020\n",
       "            ...   \n",
       "209071    Ago 2020\n",
       "209072    Set 2020\n",
       "209073    Out 2020\n",
       "209074    Nov 2020\n",
       "209075    Dez 2020\n",
       "Name: Data, Length: 209076, dtype: object"
      ]
     },
     "execution_count": 14,
     "metadata": {},
     "output_type": "execute_result"
    }
   ],
   "source": [
    "df[\"Data\"]"
   ]
  },
  {
   "cell_type": "code",
   "execution_count": 21,
   "id": "92090752",
   "metadata": {},
   "outputs": [
    {
     "data": {
      "text/plain": [
       "0         False\n",
       "1         False\n",
       "2         False\n",
       "3         False\n",
       "4         False\n",
       "          ...  \n",
       "209071    False\n",
       "209072    False\n",
       "209073    False\n",
       "209074     True\n",
       "209075    False\n",
       "Name: Data, Length: 209076, dtype: bool"
      ]
     },
     "execution_count": 21,
     "metadata": {},
     "output_type": "execute_result"
    }
   ],
   "source": [
    "df[\"Data\"].isin()"
   ]
  },
  {
   "cell_type": "code",
   "execution_count": 46,
   "id": "21a48e0d",
   "metadata": {},
   "outputs": [],
   "source": [
    "meses_quarter_movel = [\"Out 2020\", \"Nov 2020\", \"Dez 2020\"]\n",
    "df[\"is_in_quarter_movel\"] = df[\"Data\"].isin(meses_quarter_movel)"
   ]
  },
  {
   "cell_type": "code",
   "execution_count": 22,
   "id": "60cb9213",
   "metadata": {},
   "outputs": [],
   "source": [
    "df[\"Quarter_Movel\"] = \"\"\n",
    "qmovel_true_index = df[df[\"Data\"].isin(meses_quarter_movel)].index\n",
    "qmovel_false_index = df[~df[\"Data\"].isin(meses_quarter_movel)].index\n",
    "df.loc[qmovel_true_index, \"Quarter_Movel\"] = \"Está no quarter móvel\"\n",
    "df.loc[qmovel_false_index, \"Quarter_Movel\"] = \"Ou não.\""
   ]
  },
  {
   "cell_type": "code",
   "execution_count": null,
   "id": "d30fe1b9",
   "metadata": {},
   "outputs": [],
   "source": [
    "for ix, row in df.iterrows():\n",
    "    if row[\"Data\"] in meses_quarter_movel:\n",
    "        df.loc[ix, \"Quarter_Movel\"] = True\n",
    "    else:\n",
    "        df.loc[ix, \"Quarter_Movel\"] = False"
   ]
  },
  {
   "cell_type": "markdown",
   "id": "67aa8f56",
   "metadata": {},
   "source": [
    "### Aula 7 - 28 de maio de 2021\n",
    "\n",
    "* Continuação Pandas\n",
    "* Métodos do Pandas\n",
    "    * `.sample`\n",
    "    * `.reset_index`\n",
    "    * `.to_csv`\n",
    "    * Métodos `.str` -> métodos de string para uma coluna do Pandas\n",
    "    * `upper`, `lower`, `replace`, `startswith`\n",
    "* **Lambdas: funções anônimas**\n",
    "    * Uso do `apply` com **lambda**\n",
    "    \n",
    "* **Desafio**\n",
    "    * Usando a coluna `Marca` de `base_teste.xlsx`, crie uma função que retorna somente os valores entre os parênteses e aplique ela na coluna toda usando `apply` "
   ]
  },
  {
   "cell_type": "code",
   "execution_count": 3,
   "id": "837b6116",
   "metadata": {},
   "outputs": [],
   "source": [
    "import pandas as pd"
   ]
  },
  {
   "cell_type": "code",
   "execution_count": 4,
   "id": "97544ba3",
   "metadata": {},
   "outputs": [],
   "source": [
    "df = pd.read_excel(\"base_teste.xlsx\")"
   ]
  },
  {
   "cell_type": "code",
   "execution_count": 12,
   "id": "68fcf432",
   "metadata": {},
   "outputs": [],
   "source": [
    "df.sample(1000).reset_index(drop=True).to_csv(\"amostra_1000.csv\", index=False)"
   ]
  },
  {
   "cell_type": "code",
   "execution_count": 15,
   "id": "c0375ddd",
   "metadata": {},
   "outputs": [],
   "source": [
    "df = pd.read_csv(\"amostra_1000.csv\")"
   ]
  },
  {
   "cell_type": "code",
   "execution_count": 33,
   "id": "e25c9aa3",
   "metadata": {},
   "outputs": [
    {
     "data": {
      "text/plain": [
       "0      Out\n",
       "1      Out\n",
       "2      Abr\n",
       "3      Dez\n",
       "4      Jun\n",
       "      ... \n",
       "995    Abr\n",
       "996    Ago\n",
       "997    Jul\n",
       "998    Jul\n",
       "999    Jun\n",
       "Name: Data, Length: 1000, dtype: object"
      ]
     },
     "execution_count": 33,
     "metadata": {},
     "output_type": "execute_result"
    }
   ],
   "source": [
    "df[\"Data\"].apply(lambda x: x.split()[0])  # é igual\n",
    "df[\"Data\"].apply(pegar_mes)"
   ]
  },
  {
   "cell_type": "code",
   "execution_count": 40,
   "id": "cde5c3cc",
   "metadata": {},
   "outputs": [],
   "source": [
    "qtm = [\"Out\", \"Nov\", \"Dez\"]"
   ]
  },
  {
   "cell_type": "code",
   "execution_count": 41,
   "id": "fb7e048a",
   "metadata": {},
   "outputs": [],
   "source": [
    "def is_quarter_movel(string):\n",
    "    if pegar_mes(string) in qtm:\n",
    "        return \"QTM\"\n",
    "    else:\n",
    "        return \"No\""
   ]
  },
  {
   "cell_type": "code",
   "execution_count": 42,
   "id": "de000077",
   "metadata": {},
   "outputs": [
    {
     "data": {
      "text/plain": [
       "0      QTM\n",
       "1      QTM\n",
       "2       No\n",
       "3      QTM\n",
       "4       No\n",
       "      ... \n",
       "995     No\n",
       "996     No\n",
       "997     No\n",
       "998     No\n",
       "999     No\n",
       "Name: Data, Length: 1000, dtype: object"
      ]
     },
     "execution_count": 42,
     "metadata": {},
     "output_type": "execute_result"
    }
   ],
   "source": [
    "df[\"Data\"].apply(lambda s: \"QTM\" if pegar_mes(s) in qtm else \"No\")  # é igual a\n",
    "df[\"Data\"].apply(is_quarter_movel)"
   ]
  },
  {
   "cell_type": "code",
   "execution_count": 71,
   "id": "a442e872",
   "metadata": {},
   "outputs": [
    {
     "data": {
      "text/plain": [
       "0       True\n",
       "1       True\n",
       "2      False\n",
       "3      False\n",
       "4      False\n",
       "       ...  \n",
       "995    False\n",
       "996    False\n",
       "997    False\n",
       "998    False\n",
       "999    False\n",
       "Name: Data, Length: 1000, dtype: bool"
      ]
     },
     "execution_count": 71,
     "metadata": {},
     "output_type": "execute_result"
    }
   ],
   "source": [
    "df[\"Data\"].str.startswith(\"Out\")"
   ]
  },
  {
   "cell_type": "code",
   "execution_count": 72,
   "id": "0e676463",
   "metadata": {},
   "outputs": [],
   "source": [
    "uma_string = \"São Paulo\""
   ]
  },
  {
   "cell_type": "code",
   "execution_count": null,
   "id": "3686d0a7",
   "metadata": {},
   "outputs": [],
   "source": []
  }
 ],
 "metadata": {
  "kernelspec": {
   "display_name": "Python 3",
   "language": "python",
   "name": "python3"
  },
  "language_info": {
   "codemirror_mode": {
    "name": "ipython",
    "version": 3
   },
   "file_extension": ".py",
   "mimetype": "text/x-python",
   "name": "python",
   "nbconvert_exporter": "python",
   "pygments_lexer": "ipython3",
   "version": "3.7.10"
  }
 },
 "nbformat": 4,
 "nbformat_minor": 5
}
