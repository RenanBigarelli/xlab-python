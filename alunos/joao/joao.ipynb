{
 "cells": [
  {
   "cell_type": "markdown",
   "id": "d88b7db2",
   "metadata": {},
   "source": [
    "### Aula 1 - 09 de abril de 2021\n",
    "\n",
    "####  Introdução ao Jupyter\n",
    "\n",
    "Tópicos:\n",
    "* Uso do Jupyter\n",
    "* Células de código e texto\n",
    "* Interpretador Python como uma calculadora\n",
    "* Acesso em disco vs. acesso em memória (RAM)\n",
    "* Funções **builtin:** `print()`\n",
    "* Diferença entre strings e variáveis\n",
    "* Tipos de dados\n",
    "    * Importância de saber o tipo de dado\n",
    "    * Operadores (exemplo: `+` se comportam diferentemente)\n",
    "    \n",
    "Desafio:\n",
    "* Criar um código, usando operadores matemáticos e variáveis, que converta graus Fahrenheit para Celsius.\n",
    "\n",
    "Para próxima aula:\n",
    "* Criar conta no GitHub"
   ]
  },
  {
   "cell_type": "code",
   "execution_count": null,
   "id": "1bd1e3d3",
   "metadata": {},
   "outputs": [],
   "source": [
    "2 + 2\n",
    "10 - 5\n",
    "5 * 5\n",
    "64 / 4\n",
    "2 ** 3\n",
    "10 % 3\n",
    "25 // 4"
   ]
  },
  {
   "cell_type": "code",
   "execution_count": null,
   "id": "7848de7e",
   "metadata": {},
   "outputs": [],
   "source": [
    "nome = \"Vini\"\n",
    "idade = 26"
   ]
  },
  {
   "cell_type": "code",
   "execution_count": null,
   "id": "82f1b9bf",
   "metadata": {},
   "outputs": [],
   "source": [
    "print(\"Meu nome é:\", nome, \", tenho\", idade, \"anos.\")"
   ]
  },
  {
   "cell_type": "code",
   "execution_count": null,
   "id": "cc248d7b",
   "metadata": {},
   "outputs": [],
   "source": [
    "nome = \"João\""
   ]
  },
  {
   "cell_type": "code",
   "execution_count": null,
   "id": "cffd28e4",
   "metadata": {},
   "outputs": [],
   "source": [
    "print(nome)"
   ]
  },
  {
   "cell_type": "markdown",
   "id": "dea17d79",
   "metadata": {},
   "source": [
    "### Tipos de dados:\n",
    "\n",
    "`str` -> string, texto  \n",
    "`int` -> número inteiro  \n",
    "`float` -> número com vírgula"
   ]
  },
  {
   "cell_type": "code",
   "execution_count": null,
   "id": "d058482c",
   "metadata": {},
   "outputs": [],
   "source": [
    "nome_misterioso = \"3.14\""
   ]
  },
  {
   "cell_type": "code",
   "execution_count": null,
   "id": "cece006f",
   "metadata": {},
   "outputs": [],
   "source": [
    "print(nome_misterioso); type(nome_misterioso)"
   ]
  },
  {
   "cell_type": "code",
   "execution_count": null,
   "id": "ebc22977",
   "metadata": {},
   "outputs": [],
   "source": [
    "rj, *cidades_rj, sp = \"RJ\", \"Rio de Janeiro\", \"Macaé\", \"Niterói\", \"SP\""
   ]
  },
  {
   "cell_type": "markdown",
   "id": "5d66616a",
   "metadata": {},
   "source": [
    "### Aula 2 - 14 de abril de 2021\n",
    "\n",
    "#### Continuação Python básico\n",
    "* Funções Builtin\n",
    "    * `print()`\n",
    "    * `type()`\n",
    "    * `len()`\n",
    "    * `help()`\n",
    "* Variáveis só mudam de valor quando declaramos novamente\n",
    "* Condicionais\n",
    "* Operadores lógicos\n",
    "* Zen of Python\n",
    "* Statements (def, return, etc)\n",
    "\n",
    "\n",
    "**Por que definir funções? Por que não colocar tudo em variáveis?**"
   ]
  },
  {
   "cell_type": "code",
   "execution_count": null,
   "id": "5fe53475",
   "metadata": {},
   "outputs": [],
   "source": [
    "def fahr_to_celsius(fahr):\n",
    "    \"\"\"\n",
    "    Docstring: uma string para 'documentar' nosso código.\n",
    "    Explica o que a função faz e como utilizá-la.\n",
    "    \n",
    "    fahr_to_celsius: converte Fahrenheit para celsius.\n",
    "    \n",
    "    fahr: graus Fahrenheit\n",
    "    \n",
    "    retorna: graus Celsius\n",
    "    \"\"\"\n",
    "    \n",
    "    celsius = (fahr - 32) / 1.8\n",
    "    return celsius"
   ]
  },
  {
   "cell_type": "markdown",
   "id": "fc549bf6",
   "metadata": {},
   "source": [
    "### Desafio para próxima aula\n",
    "* Criar função que, dado uma temperatura em Kelvin, retorn em C, em F, e se está \"Calor\", \"Frio\", \"De boa\"."
   ]
  },
  {
   "cell_type": "markdown",
   "id": "b28e13e6",
   "metadata": {},
   "source": [
    "### Aula 3 - 30 de abril de 2021\n",
    "* Retomar desafio\n",
    "* Diferenciar `print` e `return`\n",
    "* Listas e tuplas\n",
    "    * Tuplas: imutáveis e definidas com parêntese\n",
    "    * Lista: mutáveis e definidas com colchetes\n",
    "* O que são métodos?\n",
    "    * **Funções próprias de uma classe de objetos**\n",
    "    \n",
    "* Listas e strings podem ser fatiadas da mesma forma\n",
    "    **Cuidado com as pegadinhas!**"
   ]
  },
  {
   "cell_type": "code",
   "execution_count": null,
   "id": "9b0f92bb",
   "metadata": {},
   "outputs": [],
   "source": [
    "tupla = (0, 1, \"a\")\n",
    "\n",
    "lista = ['a', 'b', 'c', 'd', 'e']"
   ]
  },
  {
   "cell_type": "code",
   "execution_count": null,
   "id": "98bc8fc5",
   "metadata": {},
   "outputs": [],
   "source": [
    "print(lista)"
   ]
  },
  {
   "cell_type": "code",
   "execution_count": null,
   "id": "5fd12f89",
   "metadata": {},
   "outputs": [],
   "source": [
    "# Duas pegadinhas de indexação de listas\n",
    "lista[0]  # zero-based index\n",
    "lista[0:3]  # non-inclusive slicing"
   ]
  },
  {
   "cell_type": "code",
   "execution_count": null,
   "id": "e152d43b",
   "metadata": {},
   "outputs": [],
   "source": [
    "tamanho = len(lista)\n",
    "lista[-1]"
   ]
  },
  {
   "cell_type": "code",
   "execution_count": null,
   "id": "df99be6e",
   "metadata": {},
   "outputs": [],
   "source": [
    "lista[:3]"
   ]
  },
  {
   "cell_type": "code",
   "execution_count": null,
   "id": "ae517a01",
   "metadata": {},
   "outputs": [],
   "source": [
    "estado = \"São Paulo\""
   ]
  },
  {
   "cell_type": "markdown",
   "id": "ddacfac6",
   "metadata": {},
   "source": [
    "### Aula 4 - 06 de maio de 2021\n",
    "\n",
    "#### For loops e condicionais\n",
    "* Função builtin `range()`\n",
    "* Desafio: inverter palavra\n",
    "* Slicing com `[::]`"
   ]
  },
  {
   "cell_type": "code",
   "execution_count": null,
   "id": "72300c9c",
   "metadata": {},
   "outputs": [],
   "source": [
    "numeros = [2, 3, 5]"
   ]
  },
  {
   "cell_type": "code",
   "execution_count": null,
   "id": "ddff3902",
   "metadata": {},
   "outputs": [],
   "source": [
    "for n in [1, 4, 7]:\n",
    "    # quantas operações eu quiser\n",
    "    quadrado = n ** 2\n",
    "    cubo = n ** 3\n",
    "    print(n, quadrado, cubo)"
   ]
  },
  {
   "cell_type": "code",
   "execution_count": null,
   "id": "45755a19",
   "metadata": {},
   "outputs": [],
   "source": [
    "for n in range(1, 13, 3):\n",
    "    print(n)"
   ]
  },
  {
   "cell_type": "code",
   "execution_count": null,
   "id": "d79df1f2",
   "metadata": {},
   "outputs": [],
   "source": [
    "# variáveis acumuladoras\n",
    "total = 0\n",
    "for number in range(1,11):\n",
    "    total = total + number\n",
    "    \n",
    "print(total)"
   ]
  },
  {
   "cell_type": "code",
   "execution_count": null,
   "id": "ee5e0180",
   "metadata": {},
   "outputs": [],
   "source": [
    "palavra = \"atum\"\n",
    "resultado = \"\"\n",
    "\n",
    "for letra in palavra:\n",
    "    resultado = letra + resultado\n",
    "    \n",
    "print(resultado)"
   ]
  },
  {
   "cell_type": "code",
   "execution_count": null,
   "id": "2ae561b9",
   "metadata": {},
   "outputs": [],
   "source": [
    "# invertendo strings/lists\n",
    "palavra[::-1]  # sintaxe [start:stop:step]"
   ]
  },
  {
   "cell_type": "markdown",
   "id": "fe3bd199",
   "metadata": {},
   "source": [
    "### Exercícios\n",
    "\n",
    "#### 1. Escreva uma função que remova todos os elementos com um determinado valor de uma lista.\n",
    "\n",
    "**Exemplo**\n",
    "```python\n",
    "lista = ['a', 'b', 'c', 'a']\n",
    "remove(lista, 'a')  # retorna ['b','c'].\n",
    "```"
   ]
  },
  {
   "cell_type": "code",
   "execution_count": null,
   "id": "40736bc5",
   "metadata": {},
   "outputs": [],
   "source": []
  },
  {
   "cell_type": "markdown",
   "id": "b018360d",
   "metadata": {},
   "source": [
    "#### 2. Escreva um programa que receba uma lista e retorna a soma de cada elemento elevado ao cubo. Caso haja um elemento que não seja numero, deve retornar uma mensagem de erro."
   ]
  },
  {
   "cell_type": "code",
   "execution_count": null,
   "id": "ddaca518",
   "metadata": {},
   "outputs": [],
   "source": []
  },
  {
   "cell_type": "markdown",
   "id": "f8557ac5",
   "metadata": {},
   "source": [
    "#### 3. Escreva um programa que receba uma frase e retorne a palavra com mais letras `'e'`."
   ]
  },
  {
   "cell_type": "code",
   "execution_count": null,
   "id": "81c17c3d",
   "metadata": {},
   "outputs": [],
   "source": []
  },
  {
   "cell_type": "markdown",
   "id": "a67055e9",
   "metadata": {},
   "source": [
    "#### 4. Escreva um programa que receba uma lista e retorne o valor mínimo e máximo da lista."
   ]
  },
  {
   "cell_type": "code",
   "execution_count": null,
   "id": "1ce322ef",
   "metadata": {},
   "outputs": [],
   "source": []
  },
  {
   "cell_type": "markdown",
   "id": "cf6e1a5b",
   "metadata": {},
   "source": [
    "#### 5. Escreva um programa que receba uma lista de strings e depois imprima quantos elementos contenham uma substring qualquer."
   ]
  },
  {
   "cell_type": "code",
   "execution_count": null,
   "id": "02fa965e",
   "metadata": {},
   "outputs": [],
   "source": []
  },
  {
   "cell_type": "markdown",
   "id": "ebad2502",
   "metadata": {},
   "source": [
    "### Aula 5 - 14 de maio de 2021\n",
    "\n",
    "* Exercícios\n",
    "* Operadores lógicos\n",
    "* Revisão de funções\n",
    "* Introdução à DataFrames\n",
    "    * `df.loc`\n",
    "    * `df.iloc`"
   ]
  },
  {
   "cell_type": "code",
   "execution_count": null,
   "id": "2c38d60f",
   "metadata": {},
   "outputs": [],
   "source": [
    "print(1 > 2)\n",
    "print(2 < 3)\n",
    "print(2 >= 1)\n",
    "print(2 <= 1)\n",
    "print(2 == 2)\n",
    "print(0 != 1)"
   ]
  },
  {
   "cell_type": "markdown",
   "id": "baed18ea",
   "metadata": {},
   "source": [
    "### Aula 6 - 21 de maio de 2021\n",
    "\n",
    "* Pandas: continuação\n",
    "* Localização e condicionais em DataFrames\n",
    "* Análise exploratória de dados\n",
    "    * Métodos de DataFrame\n",
    "    * `head()`\n",
    "    * `tail()`\n",
    "    * `shape`\n",
    "    * `.describe()`\n",
    "    * `.columns`\n",
    "    * `.groupby()`\n",
    "    * Condicionais\n",
    "        * Operador `&`: and\n",
    "        * Operador `|`: or\n",
    "        * Método `.isin`: dentro de alguma coleção (lista, tupla, etc)\n",
    "* Função embutida `dir()`: métodos e atributos em um objeto/biblioteca/módulo\n",
    "    * Equivalente a apertar TAB"
   ]
  },
  {
   "cell_type": "code",
   "execution_count": null,
   "id": "ec766ae7",
   "metadata": {},
   "outputs": [],
   "source": [
    "import pandas as pd"
   ]
  },
  {
   "cell_type": "code",
   "execution_count": null,
   "id": "5b7a13ef",
   "metadata": {},
   "outputs": [],
   "source": [
    "df = pd.read_excel(\"base_teste.xlsx\", )"
   ]
  },
  {
   "cell_type": "code",
   "execution_count": null,
   "id": "2b34bbe5",
   "metadata": {},
   "outputs": [],
   "source": [
    "df.head()"
   ]
  },
  {
   "cell_type": "code",
   "execution_count": null,
   "id": "18b0628a",
   "metadata": {},
   "outputs": [],
   "source": [
    "# primeira linha, colunas: laboratório, marca, data\n",
    "df.loc[0, [\"Laboratório\", \"Marca\", \"Data\"]]"
   ]
  },
  {
   "cell_type": "code",
   "execution_count": null,
   "id": "a56fec73",
   "metadata": {},
   "outputs": [],
   "source": [
    "# condicional\n",
    "df[df[\"Tipo Canal\"] == \"Público\"]"
   ]
  },
  {
   "cell_type": "code",
   "execution_count": null,
   "id": "29a34b0a",
   "metadata": {},
   "outputs": [],
   "source": [
    "df.groupby([\"Tipo Canal\", \"Tipo Auditoria\"]).describe()"
   ]
  },
  {
   "cell_type": "code",
   "execution_count": null,
   "id": "58a64b6d",
   "metadata": {},
   "outputs": [],
   "source": [
    "meses_quarter_movel = [\"Out 2020\", \"Nov 2020\", \"Dez 2020\"]\n",
    "df[df[\"Data\"].isin(meses_quarter_movel)]"
   ]
  },
  {
   "cell_type": "code",
   "execution_count": null,
   "id": "29ac2193",
   "metadata": {},
   "outputs": [],
   "source": [
    "df[\"Quarter_Movel\"] = \"\"\n",
    "qmovel_true_index = df[df[\"Data\"].isin(meses_quarter_movel)].index\n",
    "qmovel_false_index = df[~df[\"Data\"].isin(meses_quarter_movel)].index\n",
    "df.loc[qmovel_true_index, \"Quarter_Movel\"] = True\n",
    "df.loc[qmovel_false_index, \"Quarter_Movel\"] = False"
   ]
  },
  {
   "cell_type": "code",
   "execution_count": null,
   "id": "ebe350ce",
   "metadata": {},
   "outputs": [],
   "source": [
    "for ix, row in df.iterrows():\n",
    "    if row[\"Data\"] in meses_quarter_movel:\n",
    "        df.loc[ix, \"Quarter_Movel\"] = True\n",
    "    else:\n",
    "        df.loc[ix, \"Quarter_Movel\"] = False"
   ]
  }
 ],
 "metadata": {
  "kernelspec": {
   "display_name": "Python 3",
   "language": "python",
   "name": "python3"
  },
  "language_info": {
   "codemirror_mode": {
    "name": "ipython",
    "version": 3
   },
   "file_extension": ".py",
   "mimetype": "text/x-python",
   "name": "python",
   "nbconvert_exporter": "python",
   "pygments_lexer": "ipython3",
   "version": "3.7.10"
  }
 },
 "nbformat": 4,
 "nbformat_minor": 5
}
