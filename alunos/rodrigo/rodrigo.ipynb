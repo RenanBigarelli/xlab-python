{
 "cells": [
  {
   "cell_type": "markdown",
   "id": "a83f6c4e",
   "metadata": {},
   "source": [
    "### Aula 1 - 07 de abril de 2021\n",
    "\n",
    "#### Introdução ao Jupyter\n",
    "* Variáveis\n",
    "* Tipos de dados\n",
    "* Funções builtin\n",
    "    * `print()`\n",
    "    * `type()`\n",
    "    * `len()`\n",
    "    \n",
    "### Aula 2 - 14 de abril de 2021\n",
    "\n",
    "#### Continuação Python básico\n",
    "* Continuação funções builtin\n",
    "    * `help()`\n",
    "* Criando funções\n",
    "\n",
    "**Para próxima aula:**\n",
    "- Pensar em um problema e em uma função para resolvê-lo\n",
    "- Aprender uma nova função builtin do Python"
   ]
  },
  {
   "cell_type": "code",
   "execution_count": null,
   "id": "a3f7f317",
   "metadata": {},
   "outputs": [],
   "source": [
    "def celsius_to_fahr(celsius):   # definição da função com nome e parâmetros de entrada\n",
    "    \"\"\"\n",
    "    Converte Celsius para Fahrenheit.\n",
    "    \"\"\"\n",
    "    \n",
    "    # corpo da função\n",
    "    fahr = celsius * 9/5 + 32\n",
    "    \n",
    "    return fahr  # valor de saída"
   ]
  },
  {
   "cell_type": "code",
   "execution_count": null,
   "id": "45564b98",
   "metadata": {},
   "outputs": [],
   "source": [
    "print(\"Alguma coisa.\")"
   ]
  },
  {
   "cell_type": "code",
   "execution_count": null,
   "id": "7a585e74",
   "metadata": {},
   "outputs": [],
   "source": [
    "celsius_to_fahr(38)"
   ]
  },
  {
   "cell_type": "markdown",
   "id": "921fb9e3",
   "metadata": {},
   "source": [
    "### Aula 3 - 22 de abril de 2021\n",
    "* Retomar atividade da última aula\n",
    "    * Função builtin\n",
    "        * `input()`\n",
    "    * Pandas e Numpy\n",
    "    * Problema para resolver\n",
    "        * Como entrar em um site, e.g. Google?\n",
    "        * Usando a biblioteca `requests`\n",
    "\n",
    "#### Listas e slicing\n",
    "\n",
    "**Pergunta:**\n",
    "* Por que listas são importantes?\n",
    "\n",
    "\n",
    "**Objetivos**\n",
    "* Definindo listas:\n",
    "    * Sintaxe usando colchetes `[]` e valores separados por vírgula\n",
    "* Acessar itens em uma lista\n",
    "    * **Pegadinhas**\n",
    "    * Através do índice `lista[0]` retorna o primeiro valor\n",
    "    * Fatia é **não-inclusiva**\n",
    "* Acessar fatias da lista\n",
    "* Inserir itens na lista\n",
    "* Modificar listas com funções\n",
    "* Função `len()`, do inglês \"length\""
   ]
  },
  {
   "cell_type": "code",
   "execution_count": null,
   "id": "22cca075",
   "metadata": {},
   "outputs": [],
   "source": [
    "x = [0,1,2,3,4,5,6,7,8,9,10]\n",
    "type(x)"
   ]
  },
  {
   "cell_type": "code",
   "execution_count": null,
   "id": "dc35b047",
   "metadata": {},
   "outputs": [],
   "source": [
    "temperaturas = [25, 32, \"Quarenta graus\", 15, 13]\n",
    "\n",
    "print(\"Temperaturas:\", temperaturas)\n",
    "print(\"Comprimento:\", len(temperaturas))"
   ]
  },
  {
   "cell_type": "markdown",
   "id": "5db38a4f",
   "metadata": {},
   "source": [
    "### Acessando listas"
   ]
  },
  {
   "cell_type": "code",
   "execution_count": null,
   "id": "d16903a5",
   "metadata": {},
   "outputs": [],
   "source": [
    "temperaturas = [25, 32, \"Quarenta graus\", [15, 13]]\n",
    "temperaturas[-1]  # último valor\n",
    "temperaturas[0:2]  # fatia não inclusiva"
   ]
  },
  {
   "cell_type": "markdown",
   "id": "313bc959",
   "metadata": {},
   "source": [
    "### É possível acessar strings da mesma forma que listas"
   ]
  },
  {
   "cell_type": "code",
   "execution_count": null,
   "id": "36508350",
   "metadata": {},
   "outputs": [],
   "source": [
    "estado = \"São Paulo\"\n",
    "estado[0:3]\n",
    "estado[0]"
   ]
  },
  {
   "cell_type": "code",
   "execution_count": null,
   "id": "bd22e1c4",
   "metadata": {},
   "outputs": [],
   "source": [
    "temperaturas[0] = -10\n",
    "temperaturas"
   ]
  },
  {
   "cell_type": "markdown",
   "id": "e76ab2fa",
   "metadata": {},
   "source": [
    "### Propriedades de objetos\n",
    "\n",
    "Usando a função `type`, sabemos que tipo de objeto estamos trabalhando, e diferentes objetos têm diferentes propriedades.\n",
    "\n",
    "As listas possuem funções próprias para manipular elas. Uma função de um objeto é chamada de método.\n",
    "\n",
    "Métodos de listas:\n",
    "* `append()`\n",
    "* `insert()`\n",
    "* `pop()`\n",
    "* `reverse()`\n",
    "* `sort()`"
   ]
  },
  {
   "cell_type": "code",
   "execution_count": null,
   "id": "01f03d61",
   "metadata": {},
   "outputs": [],
   "source": [
    "temperaturas = [25, 32, 40, 15, 13]\n",
    "\n",
    "temperaturas.append(100)\n",
    "\n",
    "temperaturas"
   ]
  },
  {
   "cell_type": "code",
   "execution_count": null,
   "id": "4cde7a95",
   "metadata": {},
   "outputs": [],
   "source": [
    "temperaturas.insert(2, -30)"
   ]
  },
  {
   "cell_type": "code",
   "execution_count": null,
   "id": "92307736",
   "metadata": {},
   "outputs": [],
   "source": [
    "temperaturas.pop()"
   ]
  },
  {
   "cell_type": "code",
   "execution_count": null,
   "id": "701145a5",
   "metadata": {},
   "outputs": [],
   "source": [
    "ultima_temp = temperaturas.pop()"
   ]
  },
  {
   "cell_type": "code",
   "execution_count": null,
   "id": "08b6db20",
   "metadata": {},
   "outputs": [],
   "source": [
    "ultima_temp"
   ]
  },
  {
   "cell_type": "code",
   "execution_count": null,
   "id": "4fa47c13",
   "metadata": {},
   "outputs": [],
   "source": [
    "temperaturas.sort()\n",
    "temperaturas.reverse()\n",
    "temperaturas"
   ]
  },
  {
   "cell_type": "code",
   "execution_count": null,
   "id": "0f032f62",
   "metadata": {},
   "outputs": [],
   "source": [
    "lista = [0, \"1\", 2]\n",
    "lista.reverse()\n",
    "lista"
   ]
  },
  {
   "cell_type": "markdown",
   "id": "3bc4ae41",
   "metadata": {},
   "source": [
    "### Aula 4 - 05 de maio de 2021\n",
    "\n",
    "#### Condicionais e `for` loop\n",
    "* Declarações `if`, `else`, `elif`\n",
    "* Operadores lógicos"
   ]
  },
  {
   "cell_type": "code",
   "execution_count": null,
   "id": "87a33038",
   "metadata": {},
   "outputs": [],
   "source": [
    "for t in temperaturas:\n",
    "    # faça alguma coisa SE a temperatura passar de 50 graus\n",
    "    if t >= 40:\n",
    "        print(\"Temperatura muito alta: \", t)\n",
    "    elif t < 20:\n",
    "        print(\"Temperatura muito baixa: \", t)\n",
    "    # elif \n",
    "    else:\n",
    "        print(\"Temperatura adequada: \", t)"
   ]
  },
  {
   "cell_type": "code",
   "execution_count": null,
   "id": "e46ef675",
   "metadata": {},
   "outputs": [],
   "source": [
    "lista = [\"a\", \"b\", \"c\", \"d\", \"e\", 0]\n",
    "\n",
    "for value in lista:\n",
    "    if value == \"a\":\n",
    "        print(\"Letra a!\")\n",
    "    elif value == \"b\":\n",
    "        print(\"Letra b!\")\n",
    "    elif value == \"c\":\n",
    "        print(\"Letra c!\")\n",
    "    else:\n",
    "        print(\"Algum outro valor: \", value)"
   ]
  },
  {
   "cell_type": "code",
   "execution_count": null,
   "id": "81dda97d",
   "metadata": {},
   "outputs": [],
   "source": [
    "temperaturas"
   ]
  },
  {
   "cell_type": "code",
   "execution_count": null,
   "id": "b359c9b2",
   "metadata": {},
   "outputs": [],
   "source": [
    "# Operadores lógicos\n",
    "1 < 2\n",
    "2 > 1\n",
    "2 == 2\n",
    "2 != 3\n",
    "2 >= 2\n",
    "1 <= 2"
   ]
  },
  {
   "cell_type": "markdown",
   "id": "9e381aed",
   "metadata": {},
   "source": [
    "## Exercícios\n",
    "\n",
    "#### 1. Escreva uma função que remova todos os elementos com um determinado valor de uma lista.\n",
    "\n",
    "**Exemplo**\n",
    "```python\n",
    "lista = ['a', 'b', 'c', 'a']\n",
    "remove(lista, 'a')  # retorna ['b','c'].\n",
    "```"
   ]
  },
  {
   "cell_type": "code",
   "execution_count": null,
   "id": "f6dc318d",
   "metadata": {},
   "outputs": [],
   "source": [
    "lista = ['a', 'b', 'c', 'a']"
   ]
  },
  {
   "cell_type": "markdown",
   "id": "69441e68",
   "metadata": {},
   "source": [
    "#### 2. Escreva um programa que receba uma lista e retorna a soma de cada elemento elevado ao cubo. Caso haja um elemento que não seja numero, deve retornar uma mensagem de erro."
   ]
  },
  {
   "cell_type": "code",
   "execution_count": null,
   "id": "0f59820d",
   "metadata": {},
   "outputs": [],
   "source": [
    "def elevar_cubo(lista):\n",
    "    lista_ao_cubo = []\n",
    "    for value in lista:\n",
    "        lista_ao_cubo.append(value ** 3)\n",
    "        \n",
    "    return sum(lista_ao_cubo)\n",
    "\n",
    "\n",
    "uma_lista = [11, 13, 17]\n",
    "\n",
    "elevar_cubo(uma_lista)"
   ]
  },
  {
   "cell_type": "markdown",
   "id": "334a88b1",
   "metadata": {},
   "source": [
    "#### 3. Escreva um programa que receba uma frase e retorne a palavra com mais letras `'e'`."
   ]
  },
  {
   "cell_type": "code",
   "execution_count": null,
   "id": "5b82fdd9",
   "metadata": {},
   "outputs": [],
   "source": []
  },
  {
   "cell_type": "markdown",
   "id": "e64eb370",
   "metadata": {},
   "source": [
    "#### 4. Escreva um programa que receba uma lista e retorne o valor mínimo e máximo da lista."
   ]
  },
  {
   "cell_type": "code",
   "execution_count": null,
   "id": "0476554f",
   "metadata": {},
   "outputs": [],
   "source": []
  },
  {
   "cell_type": "markdown",
   "id": "2e428b5b",
   "metadata": {},
   "source": [
    "#### 5. Escreva um programa que receba uma lista de strings e depois imprima quantos elementos contenham uma substring qualquer."
   ]
  },
  {
   "cell_type": "code",
   "execution_count": null,
   "id": "26bf3897",
   "metadata": {},
   "outputs": [],
   "source": []
  },
  {
   "cell_type": "markdown",
   "id": "2eed2831",
   "metadata": {},
   "source": [
    "### Aula 6 - 12 de maio de 2021\n",
    "* Exercícios\n",
    "    * Definição de funções\n",
    "    * Parâmetros de entrada\n",
    "    * Escopo das funções\n",
    "* Funções [built-in do Python](https://docs.python.org/pt-br/3/library/functions.html)\n",
    "\n",
    "**Próxima aula: sincronizar com GitHub e planilhas**"
   ]
  },
  {
   "cell_type": "code",
   "execution_count": null,
   "id": "08af39f0",
   "metadata": {},
   "outputs": [],
   "source": [
    "# Operadores matemáticos\n",
    "print(2 + 2)\n",
    "print(2 - 1)\n",
    "print(2 / 2)\n",
    "print(2 * 3)\n",
    "print(2 ** 3)\n",
    "print(13 % 5)\n",
    "print(12 // 5)"
   ]
  },
  {
   "cell_type": "markdown",
   "id": "474f17a6",
   "metadata": {},
   "source": [
    "### Aula 7 - 20 de maio de 2021\n",
    "\n",
    "* Instalar Git e sincronizar notebooks\n",
    "* Exercícios"
   ]
  },
  {
   "cell_type": "code",
   "execution_count": null,
   "id": "57653870",
   "metadata": {},
   "outputs": [],
   "source": [
    "# Operadores lógicos\n",
    "x = 10\n",
    "y = 12\n",
    "l = [10, 15, 20]\n",
    "\n",
    "print('x > y is',x > y)\n",
    "print('x < y is',x < y)\n",
    "print('x == y is',x == y)\n",
    "print('x != y is',x != y)\n",
    "print('x >= y is',x >= y)\n",
    "print('x <= y is',x <= y)\n",
    "print('x in l is', x in l)\n",
    "print('y in l is', y in l)"
   ]
  },
  {
   "cell_type": "code",
   "execution_count": null,
   "id": "4fc98df8",
   "metadata": {},
   "outputs": [],
   "source": []
  }
 ],
 "metadata": {
  "kernelspec": {
   "display_name": "Python [conda env:xlab]",
   "language": "python",
   "name": "conda-env-xlab-py"
  },
  "language_info": {
   "codemirror_mode": {
    "name": "ipython",
    "version": 3
   },
   "file_extension": ".py",
   "mimetype": "text/x-python",
   "name": "python",
   "nbconvert_exporter": "python",
   "pygments_lexer": "ipython3",
   "version": "3.9.2"
  }
 },
 "nbformat": 4,
 "nbformat_minor": 5
}
