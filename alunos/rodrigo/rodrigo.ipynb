{
 "cells": [
  {
   "cell_type": "markdown",
   "id": "bed797a1",
   "metadata": {},
   "source": [
    "### Aula 1 - 07 de abril de 2021\n",
    "\n",
    "#### Introdução ao Jupyter\n",
    "* Variáveis\n",
    "* Tipos de dados\n",
    "* Funções builtin\n",
    "    * `print()`\n",
    "    * `type()`\n",
    "    * `len()`\n",
    "    \n",
    "### Aula 2 - 14 de abril de 2021\n",
    "\n",
    "#### Continuação Python básico\n",
    "* Continuação funções builtin\n",
    "    * `help()`\n",
    "* Criando funções\n",
    "\n",
    "**Para próxima aula:**\n",
    "- Pensar em um problema e em uma função para resolvê-lo\n",
    "- Aprender uma nova função builtin do Python"
   ]
  },
  {
   "cell_type": "code",
   "execution_count": null,
   "id": "712ad3a8",
   "metadata": {},
   "outputs": [],
   "source": [
    "def celsius_to_fahr(celsius):   # definição da função com nome e parâmetros de entrada\n",
    "    \"\"\"\n",
    "    Converte Celsius para Fahrenheit.\n",
    "    \"\"\"\n",
    "    \n",
    "    # corpo da função\n",
    "    fahr = celsius * 9/5 + 32\n",
    "    \n",
    "    return fahr  # valor de saída"
   ]
  },
  {
   "cell_type": "code",
   "execution_count": null,
   "id": "98907910",
   "metadata": {},
   "outputs": [],
   "source": [
    "print(\"Alguma coisa.\")"
   ]
  },
  {
   "cell_type": "code",
   "execution_count": null,
   "id": "3df232ad",
   "metadata": {},
   "outputs": [],
   "source": [
    "celsius_to_fahr(38)"
   ]
  },
  {
   "cell_type": "markdown",
   "id": "a6ecb769",
   "metadata": {},
   "source": [
    "### Aula 3 - 22 de abril de 2021\n",
    "* Retomar atividade da última aula\n",
    "    * Função builtin\n",
    "        * `input()`\n",
    "    * Pandas e Numpy\n",
    "    * Problema para resolver\n",
    "        * Como entrar em um site, e.g. Google?\n",
    "        * Usando a biblioteca `requests`\n",
    "\n",
    "#### Listas e slicing\n",
    "\n",
    "**Pergunta:**\n",
    "* Por que listas são importantes?\n",
    "\n",
    "\n",
    "**Objetivos**\n",
    "* Definindo listas:\n",
    "    * Sintaxe usando colchetes `[]` e valores separados por vírgula\n",
    "* Acessar itens em uma lista\n",
    "    * **Pegadinhas**\n",
    "    * Através do índice `lista[0]` retorna o primeiro valor\n",
    "    * Fatia é **não-inclusiva**\n",
    "* Acessar fatias da lista\n",
    "* Inserir itens na lista\n",
    "* Modificar listas com funções\n",
    "* Função `len()`, do inglês \"length\""
   ]
  },
  {
   "cell_type": "code",
   "execution_count": null,
   "id": "bb9f62f7",
   "metadata": {},
   "outputs": [],
   "source": [
    "x = [0,1,2,3,4,5,6,7,8,9,10]\n",
    "type(x)"
   ]
  },
  {
   "cell_type": "code",
   "execution_count": null,
   "id": "84855f52",
   "metadata": {},
   "outputs": [],
   "source": [
    "temperaturas = [25, 32, \"Quarenta graus\", 15, 13]\n",
    "\n",
    "print(\"Temperaturas:\", temperaturas)\n",
    "print(\"Comprimento:\", len(temperaturas))"
   ]
  },
  {
   "cell_type": "markdown",
   "id": "5f76cb0d",
   "metadata": {},
   "source": [
    "### Acessando listas"
   ]
  },
  {
   "cell_type": "code",
   "execution_count": null,
   "id": "3da6487d",
   "metadata": {},
   "outputs": [],
   "source": [
    "temperaturas = [25, 32, \"Quarenta graus\", [15, 13]]\n",
    "temperaturas[-1]  # último valor\n",
    "temperaturas[0:2]  # fatia não inclusiva"
   ]
  },
  {
   "cell_type": "markdown",
   "id": "c228977d",
   "metadata": {},
   "source": [
    "### É possível acessar strings da mesma forma que listas"
   ]
  },
  {
   "cell_type": "code",
   "execution_count": null,
   "id": "869a4c9a",
   "metadata": {},
   "outputs": [],
   "source": [
    "estado = \"São Paulo\"\n",
    "estado[0:3]\n",
    "estado[0]"
   ]
  },
  {
   "cell_type": "code",
   "execution_count": null,
   "id": "b45f9851",
   "metadata": {},
   "outputs": [],
   "source": [
    "temperaturas[0] = -10\n",
    "temperaturas"
   ]
  },
  {
   "cell_type": "markdown",
   "id": "4575e0ad",
   "metadata": {},
   "source": [
    "### Propriedades de objetos\n",
    "\n",
    "Usando a função `type`, sabemos que tipo de objeto estamos trabalhando, e diferentes objetos têm diferentes propriedades.\n",
    "\n",
    "As listas possuem funções próprias para manipular elas. Uma função de um objeto é chamada de método.\n",
    "\n",
    "Métodos de listas:\n",
    "* `append()`\n",
    "* `insert()`\n",
    "* `pop()`\n",
    "* `reverse()`\n",
    "* `sort()`"
   ]
  },
  {
   "cell_type": "code",
   "execution_count": null,
   "id": "af6b17d1",
   "metadata": {},
   "outputs": [],
   "source": [
    "temperaturas = [25, 32, 40, 15, 13]\n",
    "\n",
    "temperaturas.append(100)\n",
    "\n",
    "temperaturas"
   ]
  },
  {
   "cell_type": "code",
   "execution_count": null,
   "id": "60f984f3",
   "metadata": {},
   "outputs": [],
   "source": [
    "temperaturas.insert(2, -30)"
   ]
  },
  {
   "cell_type": "code",
   "execution_count": null,
   "id": "84678c26",
   "metadata": {},
   "outputs": [],
   "source": [
    "temperaturas.pop()"
   ]
  },
  {
   "cell_type": "code",
   "execution_count": null,
   "id": "0c2b789b",
   "metadata": {},
   "outputs": [],
   "source": [
    "ultima_temp = temperaturas.pop()"
   ]
  },
  {
   "cell_type": "code",
   "execution_count": null,
   "id": "668b69a7",
   "metadata": {},
   "outputs": [],
   "source": [
    "ultima_temp"
   ]
  },
  {
   "cell_type": "code",
   "execution_count": null,
   "id": "43a6b3ab",
   "metadata": {},
   "outputs": [],
   "source": [
    "temperaturas.sort()\n",
    "temperaturas.reverse()\n",
    "temperaturas"
   ]
  },
  {
   "cell_type": "code",
   "execution_count": null,
   "id": "36ade9a4",
   "metadata": {},
   "outputs": [],
   "source": [
    "lista = [0, \"1\", 2]\n",
    "lista.reverse()\n",
    "lista"
   ]
  },
  {
   "cell_type": "markdown",
   "id": "978ddb93",
   "metadata": {},
   "source": [
    "### Aula 4 - 05 de maio de 2021\n",
    "\n",
    "#### Condicionais e `for` loop\n",
    "* Declarações `if`, `else`, `elif`\n",
    "* Operadores lógicos"
   ]
  },
  {
   "cell_type": "code",
   "execution_count": null,
   "id": "a44bbc26",
   "metadata": {},
   "outputs": [],
   "source": [
    "for t in temperaturas:\n",
    "    # faça alguma coisa SE a temperatura passar de 50 graus\n",
    "    if t >= 40:\n",
    "        print(\"Temperatura muito alta: \", t)\n",
    "    elif t < 20:\n",
    "        print(\"Temperatura muito baixa: \", t)\n",
    "    # elif \n",
    "    else:\n",
    "        print(\"Temperatura adequada: \", t)"
   ]
  },
  {
   "cell_type": "code",
   "execution_count": null,
   "id": "fc945a73",
   "metadata": {},
   "outputs": [],
   "source": [
    "lista = [\"a\", \"b\", \"c\", \"d\", \"e\", 0]\n",
    "\n",
    "for value in lista:\n",
    "    if value == \"a\":\n",
    "        print(\"Letra a!\")\n",
    "    elif value == \"b\":\n",
    "        print(\"Letra b!\")\n",
    "    elif value == \"c\":\n",
    "        print(\"Letra c!\")\n",
    "    else:\n",
    "        print(\"Algum outro valor: \", value)"
   ]
  },
  {
   "cell_type": "code",
   "execution_count": null,
   "id": "63537fa4",
   "metadata": {},
   "outputs": [],
   "source": [
    "temperaturas"
   ]
  },
  {
   "cell_type": "code",
   "execution_count": null,
   "id": "dcaf5fc3",
   "metadata": {},
   "outputs": [],
   "source": [
    "# Operadores lógicos\n",
    "1 < 2\n",
    "2 > 1\n",
    "2 == 2\n",
    "2 != 3\n",
    "2 >= 2\n",
    "1 <= 2"
   ]
  },
  {
   "cell_type": "markdown",
   "id": "714861a7",
   "metadata": {},
   "source": [
    "## Exercícios\n",
    "\n",
    "#### 1. Escreva uma função que remova todos os elementos com um determinado valor de uma lista.\n",
    "\n",
    "**Exemplo**\n",
    "```python\n",
    "lista = ['a', 'b', 'c', 'a']\n",
    "remove(lista, 'a')  # retorna ['b','c'].\n",
    "```"
   ]
  },
  {
   "cell_type": "code",
   "execution_count": null,
   "id": "dddcdb50",
   "metadata": {},
   "outputs": [],
   "source": [
    "lista = ['a', 'b', 'c', 'a']"
   ]
  },
  {
   "cell_type": "markdown",
   "id": "e6829c69",
   "metadata": {},
   "source": [
    "#### 2. Escreva um programa que receba uma lista e retorna a soma de cada elemento elevado ao cubo. Caso haja um elemento que não seja numero, deve retornar uma mensagem de erro."
   ]
  },
  {
   "cell_type": "code",
   "execution_count": 37,
   "id": "449440b5",
   "metadata": {},
   "outputs": [
    {
     "data": {
      "text/plain": [
       "8441"
      ]
     },
     "execution_count": 37,
     "metadata": {},
     "output_type": "execute_result"
    }
   ],
   "source": [
    "def elevar_cubo(lista):\n",
    "    lista_ao_cubo = []\n",
    "    for value in lista:\n",
    "        lista_ao_cubo.append(value ** 3)\n",
    "        \n",
    "    return sum(lista_ao_cubo)\n",
    "\n",
    "\n",
    "uma_lista = [11, 13, 17]\n",
    "\n",
    "elevar_cubo(uma_lista)"
   ]
  },
  {
   "cell_type": "markdown",
   "id": "5f69adad",
   "metadata": {},
   "source": [
    "#### 3. Escreva um programa que receba uma frase e retorne a palavra com mais letras `'e'`."
   ]
  },
  {
   "cell_type": "code",
   "execution_count": null,
   "id": "f63bf2e3",
   "metadata": {},
   "outputs": [],
   "source": []
  },
  {
   "cell_type": "markdown",
   "id": "c02a2581",
   "metadata": {},
   "source": [
    "#### 4. Escreva um programa que receba uma lista e retorne o valor mínimo e máximo da lista."
   ]
  },
  {
   "cell_type": "code",
   "execution_count": null,
   "id": "3818712b",
   "metadata": {},
   "outputs": [],
   "source": []
  },
  {
   "cell_type": "markdown",
   "id": "77637077",
   "metadata": {},
   "source": [
    "#### 5. Escreva um programa que receba uma lista de strings e depois imprima quantos elementos contenham uma substring qualquer."
   ]
  },
  {
   "cell_type": "code",
   "execution_count": null,
   "id": "8fd28928",
   "metadata": {},
   "outputs": [],
   "source": []
  },
  {
   "cell_type": "markdown",
   "id": "560eceb0",
   "metadata": {},
   "source": [
    "### Aula 6 - 12 de maio de 2021\n",
    "* Exercícios\n",
    "    * Definição de funções\n",
    "    * Parâmetros de entrada\n",
    "    * Escopo das funções\n",
    "* Funções [built-in do Python](https://docs.python.org/pt-br/3/library/functions.html)\n",
    "\n",
    "**Próxima aula: sincronizar com GitHub e planilhas**"
   ]
  },
  {
   "cell_type": "code",
   "execution_count": 43,
   "id": "01f41f6e",
   "metadata": {},
   "outputs": [
    {
     "name": "stdout",
     "output_type": "stream",
     "text": [
      "4\n",
      "1\n",
      "1.0\n",
      "6\n",
      "8\n",
      "3\n",
      "2\n"
     ]
    }
   ],
   "source": [
    "# Operadores matemáticos\n",
    "print(2 + 2)\n",
    "print(2 - 1)\n",
    "print(2 / 2)\n",
    "print(2 * 3)\n",
    "print(2 ** 3)\n",
    "print(13 % 5)\n",
    "print(12 // 5)"
   ]
  },
  {
   "cell_type": "code",
   "execution_count": null,
   "id": "e0c6c9e5",
   "metadata": {},
   "outputs": [],
   "source": []
  }
 ],
 "metadata": {
  "kernelspec": {
   "display_name": "Python [conda env:xlab]",
   "language": "python",
   "name": "conda-env-xlab-py"
  },
  "language_info": {
   "codemirror_mode": {
    "name": "ipython",
    "version": 3
   },
   "file_extension": ".py",
   "mimetype": "text/x-python",
   "name": "python",
   "nbconvert_exporter": "python",
   "pygments_lexer": "ipython3",
   "version": "3.9.2"
  }
 },
 "nbformat": 4,
 "nbformat_minor": 5
}
