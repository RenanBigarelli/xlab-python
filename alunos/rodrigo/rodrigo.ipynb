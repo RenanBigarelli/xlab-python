{
 "cells": [
  {
   "cell_type": "markdown",
   "id": "71fa2ed7",
   "metadata": {},
   "source": [
    "### Aula 1 - 07 de abril de 2021\n",
    "\n",
    "#### Introdução ao Jupyter\n",
    "* Variáveis\n",
    "* Tipos de dados\n",
    "* Funções builtin\n",
    "    * `print()`\n",
    "    * `type()`\n",
    "    * `len()`\n",
    "    \n",
    "### Aula 2 - 14 de abril de 2021\n",
    "\n",
    "#### Continuação Python básico\n",
    "* Continuação funções builtin\n",
    "    * `help()`\n",
    "* Criando funções\n",
    "\n",
    "**Para próxima aula:**\n",
    "- Pensar em um problema e em uma função para resolvê-lo\n",
    "- Aprender uma nova função builtin do Python"
   ]
  },
  {
   "cell_type": "code",
   "execution_count": null,
   "id": "80915b42",
   "metadata": {},
   "outputs": [],
   "source": [
    "def celsius_to_fahr(celsius):   # definição da função com nome e parâmetros de entrada\n",
    "    \"\"\"\n",
    "    Converte Celsius para Fahrenheit.\n",
    "    \"\"\"\n",
    "    \n",
    "    # corpo da função\n",
    "    fahr = celsius * 9/5 + 32\n",
    "    \n",
    "    return fahr  # valor de saída"
   ]
  },
  {
   "cell_type": "code",
   "execution_count": null,
   "id": "c14f8699",
   "metadata": {},
   "outputs": [],
   "source": [
    "print(\"Alguma coisa.\")"
   ]
  },
  {
   "cell_type": "code",
   "execution_count": null,
   "id": "b45f6b18",
   "metadata": {},
   "outputs": [],
   "source": [
    "celsius_to_fahr(38)"
   ]
  },
  {
   "cell_type": "markdown",
   "id": "830e66e1",
   "metadata": {},
   "source": [
    "### Aula 3 - 22 de abril de 2021\n",
    "* Retomar atividade da última aula\n",
    "    * Função builtin\n",
    "        * `input()`\n",
    "    * Pandas e Numpy\n",
    "    * Problema para resolver\n",
    "        * Como entrar em um site, e.g. Google?\n",
    "        * Usando a biblioteca `requests`\n",
    "\n",
    "#### Listas e slicing\n",
    "\n",
    "**Pergunta:**\n",
    "* Por que listas são importantes?\n",
    "\n",
    "\n",
    "**Objetivos**\n",
    "* Definindo listas:\n",
    "    * Sintaxe usando colchetes `[]` e valores separados por vírgula\n",
    "* Acessar itens em uma lista\n",
    "    * **Pegadinhas**\n",
    "    * Através do índice `lista[0]` retorna o primeiro valor\n",
    "    * Fatia é **não-inclusiva**\n",
    "* Acessar fatias da lista\n",
    "* Inserir itens na lista\n",
    "* Modificar listas com funções\n",
    "* Função `len()`, do inglês \"length\""
   ]
  },
  {
   "cell_type": "code",
   "execution_count": null,
   "id": "8ac3b81b",
   "metadata": {},
   "outputs": [],
   "source": [
    "x = [0,1,2,3,4,5,6,7,8,9,10]\n",
    "type(x)"
   ]
  },
  {
   "cell_type": "code",
   "execution_count": null,
   "id": "9a3eb9d0",
   "metadata": {},
   "outputs": [],
   "source": [
    "temperaturas = [25, 32, \"Quarenta graus\", 15, 13]\n",
    "\n",
    "print(\"Temperaturas:\", temperaturas)\n",
    "print(\"Comprimento:\", len(temperaturas))"
   ]
  },
  {
   "cell_type": "markdown",
   "id": "0f0cc197",
   "metadata": {},
   "source": [
    "### Acessando listas"
   ]
  },
  {
   "cell_type": "code",
   "execution_count": null,
   "id": "b107bbf2",
   "metadata": {},
   "outputs": [],
   "source": [
    "temperaturas = [25, 32, \"Quarenta graus\", [15, 13]]\n",
    "temperaturas[-1]  # último valor\n",
    "temperaturas[0:2]  # fatia não inclusiva"
   ]
  },
  {
   "cell_type": "markdown",
   "id": "d87b4e1a",
   "metadata": {},
   "source": [
    "### É possível acessar strings da mesma forma que listas"
   ]
  },
  {
   "cell_type": "code",
   "execution_count": null,
   "id": "fd118e32",
   "metadata": {},
   "outputs": [],
   "source": [
    "estado = \"São Paulo\"\n",
    "estado[0:3]\n",
    "estado[0]"
   ]
  },
  {
   "cell_type": "code",
   "execution_count": null,
   "id": "c7a8cecd",
   "metadata": {},
   "outputs": [],
   "source": [
    "temperaturas[0] = -10\n",
    "temperaturas"
   ]
  },
  {
   "cell_type": "markdown",
   "id": "bf1c2436",
   "metadata": {},
   "source": [
    "### Propriedades de objetos\n",
    "\n",
    "Usando a função `type`, sabemos que tipo de objeto estamos trabalhando, e diferentes objetos têm diferentes propriedades.\n",
    "\n",
    "As listas possuem funções próprias para manipular elas. Uma função de um objeto é chamada de método.\n",
    "\n",
    "Métodos de listas:\n",
    "* `append()`\n",
    "* `insert()`\n",
    "* `pop()`\n",
    "* `reverse()`\n",
    "* `sort()`"
   ]
  },
  {
   "cell_type": "code",
   "execution_count": null,
   "id": "e5ecfd7a",
   "metadata": {},
   "outputs": [],
   "source": [
    "temperaturas = [25, 32, 40, 15, 13]\n",
    "\n",
    "temperaturas.append(100)\n",
    "\n",
    "temperaturas"
   ]
  },
  {
   "cell_type": "code",
   "execution_count": null,
   "id": "b84075e1",
   "metadata": {},
   "outputs": [],
   "source": [
    "temperaturas.insert(2, -30)"
   ]
  },
  {
   "cell_type": "code",
   "execution_count": null,
   "id": "af360c74",
   "metadata": {},
   "outputs": [],
   "source": [
    "temperaturas.pop()"
   ]
  },
  {
   "cell_type": "code",
   "execution_count": null,
   "id": "c503920f",
   "metadata": {},
   "outputs": [],
   "source": [
    "ultima_temp = temperaturas.pop()"
   ]
  },
  {
   "cell_type": "code",
   "execution_count": null,
   "id": "5922f1a5",
   "metadata": {},
   "outputs": [],
   "source": [
    "ultima_temp"
   ]
  },
  {
   "cell_type": "code",
   "execution_count": null,
   "id": "d385b329",
   "metadata": {},
   "outputs": [],
   "source": [
    "temperaturas.sort()\n",
    "temperaturas.reverse()\n",
    "temperaturas"
   ]
  },
  {
   "cell_type": "code",
   "execution_count": null,
   "id": "c3efa97e",
   "metadata": {},
   "outputs": [],
   "source": [
    "lista = [0, \"1\", 2]\n",
    "lista.reverse()\n",
    "lista"
   ]
  },
  {
   "cell_type": "markdown",
   "id": "25941fe8",
   "metadata": {},
   "source": [
    "### Aula 4 - 05 de maio de 2021\n",
    "\n",
    "#### Condicionais e `for` loop\n",
    "* Declarações `if`, `else`, `elif`\n",
    "* Operadores lógicos"
   ]
  },
  {
   "cell_type": "code",
   "execution_count": null,
   "id": "312cc370",
   "metadata": {},
   "outputs": [],
   "source": [
    "for t in temperaturas:\n",
    "    # faça alguma coisa SE a temperatura passar de 50 graus\n",
    "    if t >= 40:\n",
    "        print(\"Temperatura muito alta: \", t)\n",
    "    elif t < 20:\n",
    "        print(\"Temperatura muito baixa: \", t)\n",
    "    # elif \n",
    "    else:\n",
    "        print(\"Temperatura adequada: \", t)"
   ]
  },
  {
   "cell_type": "code",
   "execution_count": null,
   "id": "5a2eee11",
   "metadata": {},
   "outputs": [],
   "source": [
    "lista = [\"a\", \"b\", \"c\", \"d\", \"e\", 0]\n",
    "\n",
    "for value in lista:\n",
    "    if value == \"a\":\n",
    "        print(\"Letra a!\")\n",
    "    elif value == \"b\":\n",
    "        print(\"Letra b!\")\n",
    "    elif value == \"c\":\n",
    "        print(\"Letra c!\")\n",
    "    else:\n",
    "        print(\"Algum outro valor: \", value)"
   ]
  },
  {
   "cell_type": "code",
   "execution_count": null,
   "id": "6ea34e9a",
   "metadata": {},
   "outputs": [],
   "source": [
    "temperaturas"
   ]
  },
  {
   "cell_type": "code",
   "execution_count": null,
   "id": "e7ba465e",
   "metadata": {},
   "outputs": [],
   "source": [
    "# Operadores lógicos\n",
    "1 < 2\n",
    "2 > 1\n",
    "2 == 2\n",
    "2 != 3\n",
    "2 >= 2\n",
    "1 <= 2"
   ]
  },
  {
   "cell_type": "markdown",
   "id": "9a1ee616",
   "metadata": {},
   "source": [
    "## Exercícios\n",
    "\n",
    "#### 1. Escreva uma função que remova todos os elementos com um determinado valor de uma lista.\n",
    "\n",
    "**Exemplo**\n",
    "```python\n",
    "lista = ['a', 'b', 'c', 'a']\n",
    "remove(lista, 'a')  # retorna ['b','c'].\n",
    "```"
   ]
  },
  {
   "cell_type": "code",
   "execution_count": null,
   "id": "dd8221e2",
   "metadata": {},
   "outputs": [],
   "source": [
    "lista = ['a', 'b', 'c', 'a']"
   ]
  },
  {
   "cell_type": "markdown",
   "id": "1ec3a589",
   "metadata": {},
   "source": [
    "#### 2. Escreva um programa que receba uma lista e retorna a soma de cada elemento elevado ao cubo. Caso haja um elemento que não seja numero, deve retornar uma mensagem de erro."
   ]
  },
  {
   "cell_type": "code",
   "execution_count": null,
   "id": "1856dc0c",
   "metadata": {},
   "outputs": [],
   "source": [
    "def elevar_cubo(lista):\n",
    "    lista_ao_cubo = []\n",
    "    for value in lista:\n",
    "        lista_ao_cubo.append(value ** 3)\n",
    "        \n",
    "    return sum(lista_ao_cubo)\n",
    "\n",
    "\n",
    "uma_lista = [11, 13, 17]\n",
    "\n",
    "elevar_cubo(uma_lista)"
   ]
  },
  {
   "cell_type": "markdown",
   "id": "b585c699",
   "metadata": {},
   "source": [
    "#### 3. Escreva um programa que receba uma frase e retorne a palavra com mais letras `'e'`."
   ]
  },
  {
   "cell_type": "code",
   "execution_count": null,
   "id": "acb8c136",
   "metadata": {},
   "outputs": [],
   "source": [
    "def achar_palavra_letras_e(frase):\n",
    "    # separar a frase (string) em uma lista\n",
    "    lista = frase.split()\n",
    "    \n",
    "    # variáveis 'acumuladoras'\n",
    "    palavra_com_mais_letras_e = \"\"\n",
    "    numero_de_letras_e = 0\n",
    "    \n",
    "    for palavra in lista:\n",
    "        e = palavra.count(\"e\")\n",
    "        if e > numero_de_letras_e:\n",
    "            palavra_com_mais_letras_e = palavra\n",
    "            numero_de_letras_e = e\n",
    "            \n",
    "    if numero_de_letras_e > 0:\n",
    "        print(f\"A palavra com mais letras 'e' é '{palavra_com_mais_letras_e}', com {numero_de_letras_e} ocorrências.\")\n",
    "    else:\n",
    "        print(\"Nenhuma palavra com letra 'e'.\")\n",
    "        \n",
    "    return palavra_com_mais_letras_e"
   ]
  },
  {
   "cell_type": "code",
   "execution_count": null,
   "id": "6db40999",
   "metadata": {},
   "outputs": [],
   "source": [
    "achar_palavra_letras_e(\"Um elefante incomoda muita gente. Dois elefantes incomodam muito mais.\")"
   ]
  },
  {
   "cell_type": "markdown",
   "id": "7013fe3b",
   "metadata": {},
   "source": [
    "#### 4. Escreva um programa que receba uma lista e retorne o valor mínimo e máximo da lista."
   ]
  },
  {
   "cell_type": "code",
   "execution_count": null,
   "id": "f357da5d",
   "metadata": {},
   "outputs": [],
   "source": []
  },
  {
   "cell_type": "markdown",
   "id": "69935029",
   "metadata": {},
   "source": [
    "#### 5. Escreva um programa que receba uma lista de strings e depois imprima quantos elementos contenham uma substring qualquer."
   ]
  },
  {
   "cell_type": "code",
   "execution_count": null,
   "id": "8b8950ed",
   "metadata": {},
   "outputs": [],
   "source": []
  },
  {
   "cell_type": "markdown",
   "id": "39c136d8",
   "metadata": {},
   "source": [
    "### Aula 6 - 12 de maio de 2021\n",
    "* Exercícios\n",
    "    * Definição de funções\n",
    "    * Parâmetros de entrada\n",
    "    * Escopo das funções\n",
    "* Funções [built-in do Python](https://docs.python.org/pt-br/3/library/functions.html)\n",
    "\n",
    "**Próxima aula: sincronizar com GitHub e planilhas**"
   ]
  },
  {
   "cell_type": "code",
   "execution_count": null,
   "id": "ade86f76",
   "metadata": {},
   "outputs": [],
   "source": [
    "# Operadores matemáticos\n",
    "print(2 + 2)\n",
    "print(2 - 1)\n",
    "print(2 / 2)\n",
    "print(2 * 3)\n",
    "print(2 ** 3)\n",
    "print(13 % 5)\n",
    "print(12 // 5)"
   ]
  },
  {
   "cell_type": "markdown",
   "id": "4632eaf6",
   "metadata": {},
   "source": [
    "### Aula 7 - 20 de maio de 2021\n",
    "\n",
    "* Revisão de fatias de listas e strings\n",
    "    * Método `str.split()`\n",
    "* Instalar Git e sincronizar notebooks\n",
    "* Exercícios"
   ]
  },
  {
   "cell_type": "code",
   "execution_count": null,
   "id": "1dd69ae6",
   "metadata": {},
   "outputs": [],
   "source": [
    "uma_string = 'aula de hoje'\n",
    "uma_lista = ['Vini', 'Rodrigo', 'Carla', 'Eduardo', 'Mario', 'Elefante']"
   ]
  },
  {
   "cell_type": "code",
   "execution_count": null,
   "id": "59b658bb",
   "metadata": {},
   "outputs": [],
   "source": [
    "uma_string[posicao]\n",
    "uma_string[inicio:fim]\n",
    "uma_string[inicio:fim:degrau]"
   ]
  },
  {
   "cell_type": "code",
   "execution_count": null,
   "id": "b3653021",
   "metadata": {},
   "outputs": [],
   "source": [
    "uma_string[-1]  # posicao\n",
    "uma_lista[2:5]  # inicio:fim  - lembrar: fatia não-inclusiva\n",
    "uma_string[1:6:2]  # inicio:fim:degrau"
   ]
  },
  {
   "cell_type": "code",
   "execution_count": null,
   "id": "d82b5ab2",
   "metadata": {},
   "outputs": [],
   "source": [
    "uma_lista[-2::-2]  # inverter uma lista (degrau ao contrário)"
   ]
  },
  {
   "cell_type": "code",
   "execution_count": null,
   "id": "b5fa4f21",
   "metadata": {},
   "outputs": [],
   "source": [
    "# Operadores lógicos\n",
    "x = 10\n",
    "y = 12\n",
    "l = [10, 15, 20]\n",
    "\n",
    "print('x > y is',x > y)\n",
    "print('x < y is',x < y)\n",
    "print('x == y is',x == y)\n",
    "print('x != y is',x != y)\n",
    "print('x >= y is',x >= y)\n",
    "print('x <= y is',x <= y)\n",
    "print('x in l is', x in l)\n",
    "print('y in l is', y in l)"
   ]
  },
  {
   "cell_type": "code",
   "execution_count": null,
   "id": "9362ebd1",
   "metadata": {},
   "outputs": [],
   "source": []
  }
 ],
 "metadata": {
  "kernelspec": {
   "display_name": "Python [conda env:xlab]",
   "language": "python",
   "name": "conda-env-xlab-py"
  },
  "language_info": {
   "codemirror_mode": {
    "name": "ipython",
    "version": 3
   },
   "file_extension": ".py",
   "mimetype": "text/x-python",
   "name": "python",
   "nbconvert_exporter": "python",
   "pygments_lexer": "ipython3",
   "version": "3.9.2"
  }
 },
 "nbformat": 4,
 "nbformat_minor": 5
}
