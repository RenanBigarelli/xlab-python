{
 "cells": [
  {
   "cell_type": "markdown",
   "id": "b7c6a4ce",
   "metadata": {},
   "source": [
    "### Aula 1 - 07 de abril de 2021\n",
    "\n",
    "#### Introdução ao Jupyter\n",
    "* Variáveis\n",
    "* Tipos de dados\n",
    "* Funções builtin\n",
    "    * `print()`\n",
    "    * `type()`\n",
    "    * `len()`\n",
    "    \n",
    "### Aula 2 - 14 de abril de 2021\n",
    "\n",
    "#### Continuação Python básico\n",
    "* Continuação funções builtin\n",
    "    * `help()`\n",
    "* Criando funções\n",
    "\n",
    "**Para próxima aula:**\n",
    "- Pensar em um problema e em uma função para resolvê-lo\n",
    "- Aprender uma nova função builtin do Python"
   ]
  },
  {
   "cell_type": "code",
   "execution_count": null,
   "id": "39504e4c",
   "metadata": {},
   "outputs": [],
   "source": [
    "def celsius_to_fahr(celsius):   # definição da função com nome e parâmetros de entrada\n",
    "    \"\"\"\n",
    "    Converte Celsius para Fahrenheit.\n",
    "    \"\"\"\n",
    "    \n",
    "    # corpo da função\n",
    "    fahr = celsius * 9/5 + 32\n",
    "    \n",
    "    return fahr  # valor de saída"
   ]
  },
  {
   "cell_type": "code",
   "execution_count": null,
   "id": "152b81a6",
   "metadata": {},
   "outputs": [],
   "source": [
    "print(\"Alguma coisa.\")"
   ]
  },
  {
   "cell_type": "code",
   "execution_count": null,
   "id": "aef74aeb",
   "metadata": {},
   "outputs": [],
   "source": [
    "celsius_to_fahr(38)"
   ]
  },
  {
   "cell_type": "markdown",
   "id": "fa9bf915",
   "metadata": {},
   "source": [
    "### Aula 3 - 22 de abril de 2021\n",
    "* Retomar atividade da última aula\n",
    "    * Função builtin\n",
    "        * `input()`\n",
    "    * Pandas e Numpy\n",
    "    * Problema para resolver\n",
    "        * Como entrar em um site, e.g. Google?\n",
    "        * Usando a biblioteca `requests`\n",
    "\n",
    "#### Listas e slicing\n",
    "\n",
    "**Pergunta:**\n",
    "* Por que listas são importantes?\n",
    "\n",
    "\n",
    "**Objetivos**\n",
    "* Definindo listas:\n",
    "    * Sintaxe usando colchetes `[]` e valores separados por vírgula\n",
    "* Acessar itens em uma lista\n",
    "    * **Pegadinhas**\n",
    "    * Através do índice `lista[0]` retorna o primeiro valor\n",
    "    * Fatia é **não-inclusiva**\n",
    "* Acessar fatias da lista\n",
    "* Inserir itens na lista\n",
    "* Modificar listas com funções\n",
    "* Função `len()`, do inglês \"length\""
   ]
  },
  {
   "cell_type": "code",
   "execution_count": null,
   "id": "3775cd8a",
   "metadata": {},
   "outputs": [],
   "source": [
    "x = [0,1,2,3,4,5,6,7,8,9,10]\n",
    "type(x)"
   ]
  },
  {
   "cell_type": "code",
   "execution_count": null,
   "id": "a82a1e42",
   "metadata": {},
   "outputs": [],
   "source": [
    "temperaturas = [25, 32, \"Quarenta graus\", 15, 13]\n",
    "\n",
    "print(\"Temperaturas:\", temperaturas)\n",
    "print(\"Comprimento:\", len(temperaturas))"
   ]
  },
  {
   "cell_type": "markdown",
   "id": "619eabd0",
   "metadata": {},
   "source": [
    "### Acessando listas"
   ]
  },
  {
   "cell_type": "code",
   "execution_count": null,
   "id": "b4719b4b",
   "metadata": {},
   "outputs": [],
   "source": [
    "temperaturas = [25, 32, \"Quarenta graus\", [15, 13]]\n",
    "temperaturas[-1]  # último valor\n",
    "temperaturas[0:2]  # fatia não inclusiva"
   ]
  },
  {
   "cell_type": "markdown",
   "id": "9825e7fd",
   "metadata": {},
   "source": [
    "### É possível acessar strings da mesma forma que listas"
   ]
  },
  {
   "cell_type": "code",
   "execution_count": null,
   "id": "4886a9bf",
   "metadata": {},
   "outputs": [],
   "source": [
    "estado = \"São Paulo\"\n",
    "estado[0:3]\n",
    "estado[0]"
   ]
  },
  {
   "cell_type": "code",
   "execution_count": null,
   "id": "f3de7d67",
   "metadata": {},
   "outputs": [],
   "source": [
    "temperaturas[0] = -10\n",
    "temperaturas"
   ]
  },
  {
   "cell_type": "markdown",
   "id": "0bdd5d1f",
   "metadata": {},
   "source": [
    "### Propriedades de objetos\n",
    "\n",
    "Usando a função `type`, sabemos que tipo de objeto estamos trabalhando, e diferentes objetos têm diferentes propriedades.\n",
    "\n",
    "As listas possuem funções próprias para manipular elas. Uma função de um objeto é chamada de método.\n",
    "\n",
    "Métodos de listas:\n",
    "* `append()`\n",
    "* `insert()`\n",
    "* `pop()`\n",
    "* `reverse()`\n",
    "* `sort()`"
   ]
  },
  {
   "cell_type": "code",
   "execution_count": null,
   "id": "109cc891",
   "metadata": {},
   "outputs": [],
   "source": [
    "temperaturas = [25, 32, 40, 15, 13]\n",
    "\n",
    "temperaturas.append(100)\n",
    "\n",
    "temperaturas"
   ]
  },
  {
   "cell_type": "code",
   "execution_count": null,
   "id": "410fc2cf",
   "metadata": {},
   "outputs": [],
   "source": [
    "temperaturas.insert(2, -30)"
   ]
  },
  {
   "cell_type": "code",
   "execution_count": null,
   "id": "ffcdbcdb",
   "metadata": {},
   "outputs": [],
   "source": [
    "temperaturas.pop()"
   ]
  },
  {
   "cell_type": "code",
   "execution_count": null,
   "id": "b6c5109e",
   "metadata": {},
   "outputs": [],
   "source": [
    "ultima_temp = temperaturas.pop()"
   ]
  },
  {
   "cell_type": "code",
   "execution_count": null,
   "id": "359a3662",
   "metadata": {},
   "outputs": [],
   "source": [
    "ultima_temp"
   ]
  },
  {
   "cell_type": "code",
   "execution_count": null,
   "id": "8601ec48",
   "metadata": {},
   "outputs": [],
   "source": [
    "temperaturas.sort()\n",
    "temperaturas.reverse()\n",
    "temperaturas"
   ]
  },
  {
   "cell_type": "code",
   "execution_count": null,
   "id": "75fa2cad",
   "metadata": {},
   "outputs": [],
   "source": [
    "lista = [0, \"1\", 2]\n",
    "lista.reverse()\n",
    "lista"
   ]
  },
  {
   "cell_type": "code",
   "execution_count": null,
   "id": "25b6c0f9",
   "metadata": {},
   "outputs": [],
   "source": []
  }
 ],
 "metadata": {
  "kernelspec": {
   "display_name": "Python [conda env:xlab]",
   "language": "python",
   "name": "conda-env-xlab-py"
  },
  "language_info": {
   "codemirror_mode": {
    "name": "ipython",
    "version": 3
   },
   "file_extension": ".py",
   "mimetype": "text/x-python",
   "name": "python",
   "nbconvert_exporter": "python",
   "pygments_lexer": "ipython3",
   "version": "3.9.2"
  }
 },
 "nbformat": 4,
 "nbformat_minor": 5
}
