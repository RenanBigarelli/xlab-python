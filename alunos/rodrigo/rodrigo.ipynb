{
 "cells": [
  {
   "cell_type": "markdown",
   "id": "17c5a145",
   "metadata": {},
   "source": [
    "### Aula 1 - 07 de abril de 2021\n",
    "\n",
    "#### Introdução ao Jupyter\n",
    "* Variáveis\n",
    "* Tipos de dados\n",
    "* Funções builtin\n",
    "    * `print()`\n",
    "    * `type()`\n",
    "    * `len()`\n",
    "    \n",
    "### Aula 2 - 14 de abril de 2021\n",
    "\n",
    "#### Continuação Python básico\n",
    "* Continuação funções builtin\n",
    "    * `help()`\n",
    "* Criando funções\n",
    "\n",
    "**Para próxima aula:**\n",
    "- Pensar em um problema e em uma função para resolvê-lo\n",
    "- Aprender uma nova função builtin do Python"
   ]
  },
  {
   "cell_type": "code",
   "execution_count": null,
   "id": "f3a848aa",
   "metadata": {},
   "outputs": [],
   "source": [
    "def celsius_to_fahr(celsius):   # definição da função com nome e parâmetros de entrada\n",
    "    \"\"\"\n",
    "    Converte Celsius para Fahrenheit.\n",
    "    \"\"\"\n",
    "    \n",
    "    # corpo da função\n",
    "    fahr = celsius * 9/5 + 32\n",
    "    \n",
    "    return fahr  # valor de saída"
   ]
  },
  {
   "cell_type": "code",
   "execution_count": null,
   "id": "3481563e",
   "metadata": {},
   "outputs": [],
   "source": [
    "print(\"Alguma coisa.\")"
   ]
  },
  {
   "cell_type": "code",
   "execution_count": null,
   "id": "d1d337d8",
   "metadata": {},
   "outputs": [],
   "source": [
    "celsius_to_fahr(38)"
   ]
  },
  {
   "cell_type": "markdown",
   "id": "6bf9c060",
   "metadata": {},
   "source": [
    "### Aula 3 - 22 de abril de 2021\n",
    "* Retomar atividade da última aula\n",
    "    * Função builtin\n",
    "        * `input()`\n",
    "    * Pandas e Numpy\n",
    "    * Problema para resolver\n",
    "        * Como entrar em um site, e.g. Google?\n",
    "        * Usando a biblioteca `requests`\n",
    "\n",
    "#### Listas e slicing\n",
    "\n",
    "**Pergunta:**\n",
    "* Por que listas são importantes?\n",
    "\n",
    "\n",
    "**Objetivos**\n",
    "* Definindo listas:\n",
    "    * Sintaxe usando colchetes `[]` e valores separados por vírgula\n",
    "* Acessar itens em uma lista\n",
    "    * **Pegadinhas**\n",
    "    * Através do índice `lista[0]` retorna o primeiro valor\n",
    "    * Fatia é **não-inclusiva**\n",
    "* Acessar fatias da lista\n",
    "* Inserir itens na lista\n",
    "* Modificar listas com funções\n",
    "* Função `len()`, do inglês \"length\""
   ]
  },
  {
   "cell_type": "code",
   "execution_count": null,
   "id": "4736e623",
   "metadata": {},
   "outputs": [],
   "source": [
    "x = [0,1,2,3,4,5,6,7,8,9,10]\n",
    "type(x)"
   ]
  },
  {
   "cell_type": "code",
   "execution_count": null,
   "id": "7a775213",
   "metadata": {},
   "outputs": [],
   "source": [
    "temperaturas = [25, 32, \"Quarenta graus\", 15, 13]\n",
    "\n",
    "print(\"Temperaturas:\", temperaturas)\n",
    "print(\"Comprimento:\", len(temperaturas))"
   ]
  },
  {
   "cell_type": "markdown",
   "id": "aa161f05",
   "metadata": {},
   "source": [
    "### Acessando listas"
   ]
  },
  {
   "cell_type": "code",
   "execution_count": null,
   "id": "204a5fbb",
   "metadata": {},
   "outputs": [],
   "source": [
    "temperaturas = [25, 32, \"Quarenta graus\", [15, 13]]\n",
    "temperaturas[-1]  # último valor\n",
    "temperaturas[0:2]  # fatia não inclusiva"
   ]
  },
  {
   "cell_type": "markdown",
   "id": "8e06473f",
   "metadata": {},
   "source": [
    "### É possível acessar strings da mesma forma que listas"
   ]
  },
  {
   "cell_type": "code",
   "execution_count": null,
   "id": "55d9e6fd",
   "metadata": {},
   "outputs": [],
   "source": [
    "estado = \"São Paulo\"\n",
    "estado[0:3]\n",
    "estado[0]"
   ]
  },
  {
   "cell_type": "code",
   "execution_count": null,
   "id": "6fc658e8",
   "metadata": {},
   "outputs": [],
   "source": [
    "temperaturas[0] = -10\n",
    "temperaturas"
   ]
  },
  {
   "cell_type": "markdown",
   "id": "4c083d85",
   "metadata": {},
   "source": [
    "### Propriedades de objetos\n",
    "\n",
    "Usando a função `type`, sabemos que tipo de objeto estamos trabalhando, e diferentes objetos têm diferentes propriedades.\n",
    "\n",
    "As listas possuem funções próprias para manipular elas. Uma função de um objeto é chamada de método.\n",
    "\n",
    "Métodos de listas:\n",
    "* `append()`\n",
    "* `insert()`\n",
    "* `pop()`\n",
    "* `reverse()`\n",
    "* `sort()`"
   ]
  },
  {
   "cell_type": "code",
   "execution_count": null,
   "id": "d63400dc",
   "metadata": {},
   "outputs": [],
   "source": [
    "temperaturas = [25, 32, 40, 15, 13]\n",
    "\n",
    "temperaturas.append(100)\n",
    "\n",
    "temperaturas"
   ]
  },
  {
   "cell_type": "code",
   "execution_count": null,
   "id": "4d6d19bc",
   "metadata": {},
   "outputs": [],
   "source": [
    "temperaturas.insert(2, -30)"
   ]
  },
  {
   "cell_type": "code",
   "execution_count": null,
   "id": "f3565935",
   "metadata": {},
   "outputs": [],
   "source": [
    "temperaturas.pop()"
   ]
  },
  {
   "cell_type": "code",
   "execution_count": null,
   "id": "2c5e8134",
   "metadata": {},
   "outputs": [],
   "source": [
    "ultima_temp = temperaturas.pop()"
   ]
  },
  {
   "cell_type": "code",
   "execution_count": null,
   "id": "05a147e7",
   "metadata": {},
   "outputs": [],
   "source": [
    "ultima_temp"
   ]
  },
  {
   "cell_type": "code",
   "execution_count": null,
   "id": "b04fb251",
   "metadata": {},
   "outputs": [],
   "source": [
    "temperaturas.sort()\n",
    "temperaturas.reverse()\n",
    "temperaturas"
   ]
  },
  {
   "cell_type": "code",
   "execution_count": null,
   "id": "f6d9b3b4",
   "metadata": {},
   "outputs": [],
   "source": [
    "lista = [0, \"1\", 2]\n",
    "lista.reverse()\n",
    "lista"
   ]
  },
  {
   "cell_type": "markdown",
   "id": "4714e487",
   "metadata": {},
   "source": [
    "### Aula 4 - 05 de maio de 2021\n",
    "\n",
    "#### Condicionais e `for` loop\n",
    "* Declarações `if`, `else`, `elif`\n",
    "* Operadores lógicos"
   ]
  },
  {
   "cell_type": "code",
   "execution_count": null,
   "id": "1e0c5ad1",
   "metadata": {},
   "outputs": [],
   "source": [
    "for t in temperaturas:\n",
    "    # faça alguma coisa SE a temperatura passar de 50 graus\n",
    "    if t >= 40:\n",
    "        print(\"Temperatura muito alta: \", t)\n",
    "    elif t < 20:\n",
    "        print(\"Temperatura muito baixa: \", t)\n",
    "    # elif \n",
    "    else:\n",
    "        print(\"Temperatura adequada: \", t)"
   ]
  },
  {
   "cell_type": "code",
   "execution_count": null,
   "id": "1c8c21f4",
   "metadata": {},
   "outputs": [],
   "source": [
    "lista = [\"a\", \"b\", \"c\", \"d\", \"e\", 0]\n",
    "\n",
    "for value in lista:\n",
    "    if value == \"a\":\n",
    "        print(\"Letra a!\")\n",
    "    elif value == \"b\":\n",
    "        print(\"Letra b!\")\n",
    "    elif value == \"c\":\n",
    "        print(\"Letra c!\")\n",
    "    else:\n",
    "        print(\"Algum outro valor: \", value)"
   ]
  },
  {
   "cell_type": "code",
   "execution_count": null,
   "id": "902224e8",
   "metadata": {},
   "outputs": [],
   "source": [
    "temperaturas"
   ]
  },
  {
   "cell_type": "code",
   "execution_count": null,
   "id": "fe7306ac",
   "metadata": {},
   "outputs": [],
   "source": [
    "# Operadores lógicos\n",
    "1 < 2\n",
    "2 > 1\n",
    "2 == 2\n",
    "2 != 3\n",
    "2 >= 2\n",
    "1 <= 2"
   ]
  },
  {
   "cell_type": "markdown",
   "id": "e7006993",
   "metadata": {},
   "source": [
    "## Exercícios\n",
    "\n",
    "#### 1. Escreva uma função que remova todos os elementos com um determinado valor de uma lista.\n",
    "\n",
    "**Exemplo**\n",
    "```python\n",
    "lista = ['a', 'b', 'c', 'a']\n",
    "remove(lista, 'a')  # retorna ['b','c'].\n",
    "```"
   ]
  },
  {
   "cell_type": "code",
   "execution_count": null,
   "id": "677b1ea6",
   "metadata": {},
   "outputs": [],
   "source": [
    "lista = ['a', 'b', 'c', 'a']"
   ]
  },
  {
   "cell_type": "markdown",
   "id": "f93c1666",
   "metadata": {},
   "source": [
    "#### 2. Escreva um programa que receba uma lista e retorna a soma de cada elemento elevado ao cubo. Caso haja um elemento que não seja numero, deve retornar uma mensagem de erro."
   ]
  },
  {
   "cell_type": "code",
   "execution_count": null,
   "id": "899adbab",
   "metadata": {},
   "outputs": [],
   "source": []
  },
  {
   "cell_type": "markdown",
   "id": "e3bca6d1",
   "metadata": {},
   "source": [
    "#### 3. Escreva um programa que receba uma frase e retorne a palavra com mais letras `'e'`."
   ]
  },
  {
   "cell_type": "code",
   "execution_count": null,
   "id": "24be4321",
   "metadata": {},
   "outputs": [],
   "source": []
  },
  {
   "cell_type": "markdown",
   "id": "8181cb76",
   "metadata": {},
   "source": [
    "#### 4. Escreva um programa que receba uma lista e retorne o valor mínimo e máximo da lista."
   ]
  },
  {
   "cell_type": "code",
   "execution_count": null,
   "id": "115b073e",
   "metadata": {},
   "outputs": [],
   "source": []
  },
  {
   "cell_type": "markdown",
   "id": "861b1cd5",
   "metadata": {},
   "source": [
    "#### 5. Escreva um programa que receba uma lista de strings e depois imprima quantos elementos contenham uma substring qualquer."
   ]
  },
  {
   "cell_type": "code",
   "execution_count": null,
   "id": "7a1377fc",
   "metadata": {},
   "outputs": [],
   "source": []
  }
 ],
 "metadata": {
  "kernelspec": {
   "display_name": "Python [conda env:xlab]",
   "language": "python",
   "name": "conda-env-xlab-py"
  },
  "language_info": {
   "codemirror_mode": {
    "name": "ipython",
    "version": 3
   },
   "file_extension": ".py",
   "mimetype": "text/x-python",
   "name": "python",
   "nbconvert_exporter": "python",
   "pygments_lexer": "ipython3",
   "version": "3.9.2"
  }
 },
 "nbformat": 4,
 "nbformat_minor": 5
}
