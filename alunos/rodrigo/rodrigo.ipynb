{
 "cells": [
  {
   "cell_type": "markdown",
   "id": "21e7bf06",
   "metadata": {},
   "source": [
    "### Aula 1 - 07 de abril de 2021\n",
    "\n",
    "#### Introdução ao Jupyter\n",
    "* Variáveis\n",
    "* Tipos de dados\n",
    "* Funções builtin\n",
    "    * `print()`\n",
    "    * `type()`\n",
    "    * `len()`\n",
    "    \n",
    "### Aula 2 - 14 de abril de 2021\n",
    "\n",
    "#### Continuação Python básico\n",
    "* Continuação funções builtin\n",
    "    * `help()`\n",
    "* Criando funções\n",
    "\n",
    "**Para próxima aula:**\n",
    "- Pensar em um problema e em uma função para resolvê-lo\n",
    "- Aprender uma nova função builtin do Python"
   ]
  },
  {
   "cell_type": "code",
   "execution_count": null,
   "id": "bde3aff3",
   "metadata": {},
   "outputs": [],
   "source": [
    "def celsius_to_fahr(celsius):   # definição da função com nome e parâmetros de entrada\n",
    "    \"\"\"\n",
    "    Converte Celsius para Fahrenheit.\n",
    "    \"\"\"\n",
    "    \n",
    "    # corpo da função\n",
    "    fahr = celsius * 9/5 + 32\n",
    "    \n",
    "    return fahr  # valor de saída"
   ]
  },
  {
   "cell_type": "code",
   "execution_count": null,
   "id": "d77dc1a3",
   "metadata": {},
   "outputs": [],
   "source": [
    "print(\"Alguma coisa.\")"
   ]
  },
  {
   "cell_type": "code",
   "execution_count": null,
   "id": "e1a2e853",
   "metadata": {},
   "outputs": [],
   "source": [
    "celsius_to_fahr(38)"
   ]
  },
  {
   "cell_type": "markdown",
   "id": "d4766b63",
   "metadata": {},
   "source": [
    "### Aula 3 - 22 de abril de 2021\n",
    "* Retomar atividade da última aula\n",
    "    * Função builtin\n",
    "        * `input()`\n",
    "    * Pandas e Numpy\n",
    "    * Problema para resolver\n",
    "        * Como entrar em um site, e.g. Google?\n",
    "        * Usando a biblioteca `requests`\n",
    "\n",
    "#### Listas e slicing\n",
    "\n",
    "**Pergunta:**\n",
    "* Por que listas são importantes?\n",
    "\n",
    "\n",
    "**Objetivos**\n",
    "* Definindo listas:\n",
    "    * Sintaxe usando colchetes `[]` e valores separados por vírgula\n",
    "* Acessar itens em uma lista\n",
    "    * **Pegadinhas**\n",
    "    * Através do índice `lista[0]` retorna o primeiro valor\n",
    "    * Fatia é **não-inclusiva**\n",
    "* Acessar fatias da lista\n",
    "* Inserir itens na lista\n",
    "* Modificar listas com funções\n",
    "* Função `len()`, do inglês \"length\""
   ]
  },
  {
   "cell_type": "code",
   "execution_count": null,
   "id": "2bd70722",
   "metadata": {},
   "outputs": [],
   "source": [
    "x = [0,1,2,3,4,5,6,7,8,9,10]\n",
    "type(x)"
   ]
  },
  {
   "cell_type": "code",
   "execution_count": null,
   "id": "a6f4d811",
   "metadata": {},
   "outputs": [],
   "source": [
    "temperaturas = [25, 32, \"Quarenta graus\", 15, 13]\n",
    "\n",
    "print(\"Temperaturas:\", temperaturas)\n",
    "print(\"Comprimento:\", len(temperaturas))"
   ]
  },
  {
   "cell_type": "markdown",
   "id": "571820b9",
   "metadata": {},
   "source": [
    "### Acessando listas"
   ]
  },
  {
   "cell_type": "code",
   "execution_count": null,
   "id": "502055e5",
   "metadata": {},
   "outputs": [],
   "source": [
    "temperaturas = [25, 32, \"Quarenta graus\", [15, 13]]\n",
    "temperaturas[-1]  # último valor\n",
    "temperaturas[0:2]  # fatia não inclusiva"
   ]
  },
  {
   "cell_type": "markdown",
   "id": "30cf5fc7",
   "metadata": {},
   "source": [
    "### É possível acessar strings da mesma forma que listas"
   ]
  },
  {
   "cell_type": "code",
   "execution_count": null,
   "id": "96e9aa54",
   "metadata": {},
   "outputs": [],
   "source": [
    "estado = \"São Paulo\"\n",
    "estado[0:3]\n",
    "estado[0]"
   ]
  },
  {
   "cell_type": "code",
   "execution_count": null,
   "id": "cf113ced",
   "metadata": {},
   "outputs": [],
   "source": [
    "temperaturas[0] = -10\n",
    "temperaturas"
   ]
  },
  {
   "cell_type": "markdown",
   "id": "de1fc3b6",
   "metadata": {},
   "source": [
    "### Propriedades de objetos\n",
    "\n",
    "Usando a função `type`, sabemos que tipo de objeto estamos trabalhando, e diferentes objetos têm diferentes propriedades.\n",
    "\n",
    "As listas possuem funções próprias para manipular elas. Uma função de um objeto é chamada de método.\n",
    "\n",
    "Métodos de listas:\n",
    "* `append()`\n",
    "* `insert()`\n",
    "* `pop()`\n",
    "* `reverse()`\n",
    "* `sort()`"
   ]
  },
  {
   "cell_type": "code",
   "execution_count": null,
   "id": "c0e4fae1",
   "metadata": {},
   "outputs": [],
   "source": [
    "temperaturas = [25, 32, 40, 15, 13]\n",
    "\n",
    "temperaturas.append(100)\n",
    "\n",
    "temperaturas"
   ]
  },
  {
   "cell_type": "code",
   "execution_count": null,
   "id": "5df81161",
   "metadata": {},
   "outputs": [],
   "source": [
    "temperaturas.insert(2, -30)"
   ]
  },
  {
   "cell_type": "code",
   "execution_count": null,
   "id": "88454fa2",
   "metadata": {},
   "outputs": [],
   "source": [
    "temperaturas.pop()"
   ]
  },
  {
   "cell_type": "code",
   "execution_count": null,
   "id": "50ec7d6e",
   "metadata": {},
   "outputs": [],
   "source": [
    "ultima_temp = temperaturas.pop()"
   ]
  },
  {
   "cell_type": "code",
   "execution_count": null,
   "id": "298ad1f7",
   "metadata": {},
   "outputs": [],
   "source": [
    "ultima_temp"
   ]
  },
  {
   "cell_type": "code",
   "execution_count": null,
   "id": "3aa0e741",
   "metadata": {},
   "outputs": [],
   "source": [
    "temperaturas.sort()\n",
    "temperaturas.reverse()\n",
    "temperaturas"
   ]
  },
  {
   "cell_type": "code",
   "execution_count": null,
   "id": "06e8da48",
   "metadata": {},
   "outputs": [],
   "source": [
    "lista = [0, \"1\", 2]\n",
    "lista.reverse()\n",
    "lista"
   ]
  },
  {
   "cell_type": "markdown",
   "id": "f241a371",
   "metadata": {},
   "source": [
    "### Aula 4 - 05 de maio de 2021\n",
    "\n",
    "#### Condicionais e `for` loop\n",
    "* Declarações `if`, `else`, `elif`\n",
    "* Operadores lógicos"
   ]
  },
  {
   "cell_type": "code",
   "execution_count": null,
   "id": "a1d1a41b",
   "metadata": {},
   "outputs": [],
   "source": [
    "for t in temperaturas:\n",
    "    # faça alguma coisa SE a temperatura passar de 50 graus\n",
    "    if t >= 40:\n",
    "        print(\"Temperatura muito alta: \", t)\n",
    "    elif t < 20:\n",
    "        print(\"Temperatura muito baixa: \", t)\n",
    "    # elif \n",
    "    else:\n",
    "        print(\"Temperatura adequada: \", t)"
   ]
  },
  {
   "cell_type": "code",
   "execution_count": null,
   "id": "cef0e60f",
   "metadata": {},
   "outputs": [],
   "source": [
    "lista = [\"a\", \"b\", \"c\", \"d\", \"e\", 0]\n",
    "\n",
    "for value in lista:\n",
    "    if value == \"a\":\n",
    "        print(\"Letra a!\")\n",
    "    elif value == \"b\":\n",
    "        print(\"Letra b!\")\n",
    "    elif value == \"c\":\n",
    "        print(\"Letra c!\")\n",
    "    else:\n",
    "        print(\"Algum outro valor: \", value)"
   ]
  },
  {
   "cell_type": "code",
   "execution_count": null,
   "id": "28887e1b",
   "metadata": {},
   "outputs": [],
   "source": [
    "temperaturas"
   ]
  },
  {
   "cell_type": "code",
   "execution_count": null,
   "id": "06bfefb0",
   "metadata": {},
   "outputs": [],
   "source": [
    "# Operadores lógicos\n",
    "1 < 2\n",
    "2 > 1\n",
    "2 == 2\n",
    "2 != 3\n",
    "2 >= 2\n",
    "1 <= 2"
   ]
  },
  {
   "cell_type": "markdown",
   "id": "bb37ab45",
   "metadata": {},
   "source": [
    "## Exercícios\n",
    "\n",
    "#### 1. Escreva uma função que remova todos os elementos com um determinado valor de uma lista.\n",
    "\n",
    "**Exemplo**\n",
    "```python\n",
    "lista = ['a', 'b', 'c', 'a']\n",
    "remove(lista, 'a')  # retorna ['b','c'].\n",
    "```"
   ]
  },
  {
   "cell_type": "code",
   "execution_count": null,
   "id": "76cec883",
   "metadata": {},
   "outputs": [],
   "source": [
    "lista = ['a', 'b', 'c', 'a']"
   ]
  },
  {
   "cell_type": "markdown",
   "id": "917bb2b2",
   "metadata": {},
   "source": [
    "#### 2. Escreva um programa que receba uma lista e retorna a soma de cada elemento elevado ao cubo. Caso haja um elemento que não seja numero, deve retornar uma mensagem de erro."
   ]
  },
  {
   "cell_type": "code",
   "execution_count": null,
   "id": "82fa77e7",
   "metadata": {},
   "outputs": [],
   "source": [
    "def elevar_cubo(lista):\n",
    "    lista_ao_cubo = []\n",
    "    for value in lista:\n",
    "        lista_ao_cubo.append(value ** 3)\n",
    "        \n",
    "    return sum(lista_ao_cubo)\n",
    "\n",
    "\n",
    "uma_lista = [11, 13, 17]\n",
    "\n",
    "elevar_cubo(uma_lista)"
   ]
  },
  {
   "cell_type": "markdown",
   "id": "5c98e866",
   "metadata": {},
   "source": [
    "#### 3. Escreva um programa que receba uma frase e retorne a palavra com mais letras `'e'`."
   ]
  },
  {
   "cell_type": "code",
   "execution_count": null,
   "id": "600bd2c1",
   "metadata": {},
   "outputs": [],
   "source": [
    "def achar_palavra_letras_e(frase):\n",
    "    # separar a frase (string) em uma lista\n",
    "    lista = frase.split()\n",
    "    \n",
    "    # variáveis 'acumuladoras'\n",
    "    palavra_com_mais_letras_e = \"\"\n",
    "    numero_de_letras_e = 0\n",
    "    \n",
    "    for palavra in lista:\n",
    "        e = palavra.count(\"e\")\n",
    "        if e > numero_de_letras_e:\n",
    "            palavra_com_mais_letras_e = palavra\n",
    "            numero_de_letras_e = e\n",
    "            \n",
    "    if numero_de_letras_e > 0:\n",
    "        print(f\"A palavra com mais letras 'e' é '{palavra_com_mais_letras_e}', com {numero_de_letras_e} ocorrências.\")\n",
    "    else:\n",
    "        print(\"Nenhuma palavra com letra 'e'.\")\n",
    "        \n",
    "    return palavra_com_mais_letras_e"
   ]
  },
  {
   "cell_type": "code",
   "execution_count": null,
   "id": "d220b00a",
   "metadata": {},
   "outputs": [],
   "source": [
    "achar_palavra_letras_e(\"Um elefante incomoda muita gente. Dois elefantes incomodam muito mais.\")"
   ]
  },
  {
   "cell_type": "markdown",
   "id": "03dfb47d",
   "metadata": {},
   "source": [
    "#### 4. Escreva um programa que receba uma lista e retorne o valor mínimo e máximo da lista."
   ]
  },
  {
   "cell_type": "code",
   "execution_count": null,
   "id": "6e6b1ee7",
   "metadata": {},
   "outputs": [],
   "source": []
  },
  {
   "cell_type": "markdown",
   "id": "afa0036b",
   "metadata": {},
   "source": [
    "#### 5. Escreva um programa que receba uma lista de strings e depois imprima quantos elementos contenham uma substring qualquer."
   ]
  },
  {
   "cell_type": "code",
   "execution_count": null,
   "id": "fdb57014",
   "metadata": {},
   "outputs": [],
   "source": []
  },
  {
   "cell_type": "markdown",
   "id": "3ab9f46e",
   "metadata": {},
   "source": [
    "### Aula 6 - 12 de maio de 2021\n",
    "* Exercícios\n",
    "    * Definição de funções\n",
    "    * Parâmetros de entrada\n",
    "    * Escopo das funções\n",
    "* Funções [built-in do Python](https://docs.python.org/pt-br/3/library/functions.html)\n",
    "\n",
    "**Próxima aula: sincronizar com GitHub e planilhas**"
   ]
  },
  {
   "cell_type": "code",
   "execution_count": null,
   "id": "229760c0",
   "metadata": {},
   "outputs": [],
   "source": [
    "# Operadores matemáticos\n",
    "print(2 + 2)\n",
    "print(2 - 1)\n",
    "print(2 / 2)\n",
    "print(2 * 3)\n",
    "print(2 ** 3)\n",
    "print(13 % 5)\n",
    "print(12 // 5)"
   ]
  },
  {
   "cell_type": "markdown",
   "id": "59e64a4f",
   "metadata": {},
   "source": [
    "### Aula 7 - 20 de maio de 2021\n",
    "\n",
    "* Revisão de fatias de listas e strings\n",
    "    * Método `str.split()`\n",
    "* Instalar Git e sincronizar notebooks\n",
    "* Exercícios"
   ]
  },
  {
   "cell_type": "code",
   "execution_count": null,
   "id": "87995ede",
   "metadata": {},
   "outputs": [],
   "source": [
    "uma_string = 'aula de hoje'\n",
    "uma_lista = ['Vini', 'Rodrigo', 'Carla', 'Eduardo', 'Mario', 'Elefante']"
   ]
  },
  {
   "cell_type": "code",
   "execution_count": null,
   "id": "38163887",
   "metadata": {},
   "outputs": [],
   "source": [
    "uma_string[posicao]\n",
    "uma_string[inicio:fim]\n",
    "uma_string[inicio:fim:degrau]"
   ]
  },
  {
   "cell_type": "code",
   "execution_count": null,
   "id": "787a578b",
   "metadata": {},
   "outputs": [],
   "source": [
    "uma_string[-1]  # posicao\n",
    "uma_lista[2:5]  # inicio:fim  - lembrar: fatia não-inclusiva\n",
    "uma_string[1:6:2]  # inicio:fim:degrau"
   ]
  },
  {
   "cell_type": "code",
   "execution_count": null,
   "id": "a8dbec8e",
   "metadata": {},
   "outputs": [],
   "source": [
    "uma_lista[-2::-2]  # inverter uma lista (degrau ao contrário)"
   ]
  },
  {
   "cell_type": "code",
   "execution_count": null,
   "id": "ddfabd3c",
   "metadata": {},
   "outputs": [],
   "source": [
    "# Operadores lógicos\n",
    "x = 10\n",
    "y = 12\n",
    "l = [10, 15, 20]\n",
    "\n",
    "print('x > y is',x > y)\n",
    "print('x < y is',x < y)\n",
    "print('x == y is',x == y)\n",
    "print('x != y is',x != y)\n",
    "print('x >= y is',x >= y)\n",
    "print('x <= y is',x <= y)\n",
    "print('x in l is', x in l)\n",
    "print('y in l is', y in l)"
   ]
  },
  {
   "cell_type": "markdown",
   "id": "9f81eaf4",
   "metadata": {},
   "source": [
    "### Aula 8 - 26 de maio de 2021\n",
    "\n",
    "* Introdução Pandas\n",
    "* Três usos do TAB\n",
    "    * `pd.` e TAB para ver métodos da biblioteca\n",
    "    * `pd.read_csv()` e Shift + TAB para ajuda da função\n",
    "    * `pd.read_csv('gap` e TAB para completar o nome do arquivo\n",
    "* Conversa sobre arquivos CSV\n",
    "* Atributos e métodos do DataFrame\n",
    "    * `.columns` - nome das colunas\n",
    "    * `.info()` - tipos de dados\n",
    "* Localizando dados\n",
    "    * `.iloc` - indexação por número\n",
    "    * `.loc` - indexação por nome"
   ]
  },
  {
   "cell_type": "code",
   "execution_count": null,
   "id": "71a6b2b4",
   "metadata": {},
   "outputs": [],
   "source": [
    "import pandas as pd"
   ]
  },
  {
   "cell_type": "code",
   "execution_count": null,
   "id": "21ec0cbe",
   "metadata": {},
   "outputs": [],
   "source": [
    "df = pd.read_csv(\"gapminder_all.csv\", index_col=\"country\")"
   ]
  },
  {
   "cell_type": "markdown",
   "id": "b77d4ed6",
   "metadata": {},
   "source": [
    "`.loc` e `.iloc` funcionam da seguinte forma: recebem um (linha) ou dois (linha, coluna) valores que indicam a linha e coluna a serem selecionadas."
   ]
  },
  {
   "cell_type": "code",
   "execution_count": null,
   "id": "4c6d8633",
   "metadata": {},
   "outputs": [],
   "source": [
    "df.head()"
   ]
  },
  {
   "cell_type": "code",
   "execution_count": null,
   "id": "8115e1e5",
   "metadata": {},
   "outputs": [],
   "source": [
    "# com um valor\n",
    "df.loc['Algeria']  # retorna a primeira linha\n",
    "df.iloc[0]  # retorna a primeira linha\n",
    "\n",
    "# com dois valores: linha, coluna\n",
    "df.loc['Algeria', 'continent']\n",
    "df.iloc[0, 0]\n",
    "\n",
    "# para selecionar múltiplas linhas ou colunas,\n",
    "# agrupar em listas\n",
    "df.loc[['Argentina', 'Brazil'], ['continent', 'gdpPercap_2007', 'lifeExp_2007']]"
   ]
  },
  {
   "cell_type": "code",
   "execution_count": null,
   "id": "af2d2f30",
   "metadata": {},
   "outputs": [],
   "source": [
    "# no exemplo anterior, temos um DataFrame\n",
    "type(df.loc[['Argentina', 'Brazil'], ['continent', 'gdpPercap_2007', 'lifeExp_2007']])"
   ]
  },
  {
   "cell_type": "code",
   "execution_count": null,
   "id": "cf78ed4c",
   "metadata": {},
   "outputs": [],
   "source": [
    "# se selecionarmos uma linha ou coluna, temos uma Series\n",
    "type(df.loc['Algeria'])"
   ]
  },
  {
   "cell_type": "code",
   "execution_count": null,
   "id": "ae971019",
   "metadata": {},
   "outputs": [],
   "source": [
    "# se selecionarmos uma única célula, temos o tipo de dado que está lá\n",
    "type(df.loc['Algeria', 'continent'])"
   ]
  },
  {
   "cell_type": "markdown",
   "id": "b8917f57",
   "metadata": {},
   "source": [
    "### Aula 9 - 09 de junho de 2021\n",
    "\n",
    "* Continuação Pandas\n",
    "    * Ideia do DataFrame: matriz (array) com nome de linhas e colunas\n",
    "    * A matriz por baixo do DataFrame é um objeto `numpy.ndarray`, acessável pelo atributo `.values`\n",
    "    * Importância da biblioteca NumPy\n",
    "        * Multiplicação de vetores\n",
    "        * Operações numéricas em geral\n",
    "* Importando bibliotecas\n",
    "    * Biblioteca padrão do Python\n",
    "    * Três formas de importar\n",
    "        * `import math`  # biblioteca inteira (objetos disponíveis com `math.`)\n",
    "        * `from math import cos, pi`  # objetos específicos\n",
    "        * `import math as m`  # com atalho\n",
    "* Como saber como uma biblioteca funciona?\n",
    "    * Documentação oficial\n",
    "        * [Do Python (em português)](https://docs.python.org/pt-br/3/)"
   ]
  },
  {
   "cell_type": "code",
   "execution_count": null,
   "id": "8a7bda76",
   "metadata": {},
   "outputs": [],
   "source": [
    "import pandas as pd\n",
    "import numpy as np"
   ]
  },
  {
   "cell_type": "code",
   "execution_count": null,
   "id": "684e8fa3",
   "metadata": {},
   "outputs": [],
   "source": [
    "df = pd.read_csv(\"gapminder_all.csv\", index_col=\"country\")"
   ]
  },
  {
   "cell_type": "code",
   "execution_count": null,
   "id": "39269ca9",
   "metadata": {},
   "outputs": [],
   "source": [
    "temperaturas = list(range(0, 100))"
   ]
  },
  {
   "cell_type": "code",
   "execution_count": null,
   "id": "e153ee06",
   "metadata": {},
   "outputs": [],
   "source": [
    "[df.index[2],]"
   ]
  },
  {
   "cell_type": "code",
   "execution_count": null,
   "id": "7a42d7a3",
   "metadata": {},
   "outputs": [],
   "source": [
    "dfs = pd.DataFrame([[\"a\",\"b\",\"c\"], [\"d\",\"e\",\"f\"], [\"g\",\"h\",\"i\"]])"
   ]
  },
  {
   "cell_type": "code",
   "execution_count": null,
   "id": "2a471a80",
   "metadata": {},
   "outputs": [],
   "source": [
    "df[~(df['continent'] == \"Europe\") & (df[\"gdpPercap_1957\"] > 1000)]"
   ]
  },
  {
   "cell_type": "code",
   "execution_count": null,
   "id": "b8b2786b",
   "metadata": {},
   "outputs": [],
   "source": [
    "pd.cut(temperaturas, 4)"
   ]
  },
  {
   "cell_type": "code",
   "execution_count": null,
   "id": "c35d6c6e",
   "metadata": {},
   "outputs": [],
   "source": [
    "type(df.values)"
   ]
  },
  {
   "cell_type": "code",
   "execution_count": null,
   "id": "9fd0ff77",
   "metadata": {},
   "outputs": [],
   "source": [
    "lista_1 = [10,20,30,40,\"cinquenta\"]\n",
    "lista_2 = [2,4,6,8,10]"
   ]
  },
  {
   "cell_type": "code",
   "execution_count": null,
   "id": "cafb638b",
   "metadata": {},
   "outputs": [],
   "source": [
    "lista_1 * 2"
   ]
  },
  {
   "cell_type": "code",
   "execution_count": null,
   "id": "d93bb1b3",
   "metadata": {},
   "outputs": [],
   "source": [
    "array_1 = np.array(lista_1)\n",
    "array_2 = np.array(lista_2)"
   ]
  },
  {
   "cell_type": "code",
   "execution_count": null,
   "id": "bd0fffa3",
   "metadata": {},
   "outputs": [],
   "source": [
    "lista_3 = [23, 8439, -2, 0.005, \"cinquenta\"]"
   ]
  },
  {
   "cell_type": "code",
   "execution_count": null,
   "id": "c41d61b3",
   "metadata": {},
   "outputs": [],
   "source": [
    "\"A\" * 3.0"
   ]
  },
  {
   "cell_type": "markdown",
   "id": "6f93c6fc",
   "metadata": {},
   "source": [
    "### Encontro 10 - 16 de junho de 201\n",
    "\n",
    "* Explorando métodos do Pandas\n",
    "    * `pd.cut`\n",
    "    * Importância de ler o help\n",
    "* Métodos de séries\n",
    "    * `df['nome_da_coluna'].value_counts()` <- útil para variáveis categóricas\n",
    "* Starred expressions: ideia de 'espalhar' valores\n",
    "\n",
    "### Ponto-chave\n",
    "\n",
    "**Consultas podem retornar diferentes objetos: scalar, Series ou DataFrame.**\n",
    "\n",
    "### Próxima aula:\n",
    "* Merge, join e concatenate\n",
    "* Groupby\n",
    "* Como obter dados da web?\n",
    "    * Explorar API do GitHub\n",
    "* Trazer problemas para a aula"
   ]
  },
  {
   "cell_type": "code",
   "execution_count": null,
   "id": "ded7ebe8",
   "metadata": {},
   "outputs": [],
   "source": [
    "import pandas as pd\n",
    "\n",
    "df = pd.read_csv(\"gapminder_all.csv\", index_col=\"country\")"
   ]
  },
  {
   "cell_type": "code",
   "execution_count": null,
   "id": "188028e3",
   "metadata": {},
   "outputs": [],
   "source": [
    "df[\"categoria_pop_2007\"] = pd.cut(df[\"pop_2007\"], 3, labels=(\"pouco populoso\", \"população média\",\n",
    "                                                             \"muito populoso\"))"
   ]
  },
  {
   "cell_type": "code",
   "execution_count": null,
   "id": "3dd99c44",
   "metadata": {},
   "outputs": [],
   "source": [
    "df[\"continent\"].value_counts()"
   ]
  },
  {
   "cell_type": "code",
   "execution_count": null,
   "id": "154b3150",
   "metadata": {},
   "outputs": [],
   "source": [
    "df[\"PIB_bruto_2007\"] = df[\"gdpPercap_2007\"] * df[\"pop_2007\"]"
   ]
  },
  {
   "cell_type": "code",
   "execution_count": null,
   "id": "6899bf81",
   "metadata": {},
   "outputs": [],
   "source": [
    "df[\"PIB_bruto_2007\"].describe()"
   ]
  },
  {
   "cell_type": "code",
   "execution_count": null,
   "id": "55031008",
   "metadata": {},
   "outputs": [],
   "source": [
    "df.describe()"
   ]
  },
  {
   "cell_type": "code",
   "execution_count": null,
   "id": "6e940639",
   "metadata": {},
   "outputs": [],
   "source": [
    "a, b, *c = 0, 1, 2, 3, 4, 5, 6"
   ]
  },
  {
   "cell_type": "code",
   "execution_count": null,
   "id": "34377519",
   "metadata": {},
   "outputs": [],
   "source": [
    "lista_de_ranges = [*list(range(0, 11, 2)), *list(range(1,11,2))]\n",
    "\n",
    "print(lista_de_ranges)\n",
    "print(len(lista_de_ranges))"
   ]
  },
  {
   "cell_type": "code",
   "execution_count": null,
   "id": "abe9a63a",
   "metadata": {},
   "outputs": [],
   "source": [
    "todos_menos_3 = [*list(range(3)), *list(range(4, len(df)))]\n",
    "print(todos_menos_3)"
   ]
  },
  {
   "cell_type": "code",
   "execution_count": null,
   "id": "f71b6f51",
   "metadata": {},
   "outputs": [],
   "source": [
    "df.iloc[[*list(range(3)), *list(range(4, len(df)))], :]"
   ]
  },
  {
   "cell_type": "code",
   "execution_count": null,
   "id": "547ff723",
   "metadata": {},
   "outputs": [],
   "source": [
    "df[\"life\"]"
   ]
  },
  {
   "cell_type": "code",
   "execution_count": null,
   "id": "29cb0059",
   "metadata": {},
   "outputs": [],
   "source": [
    "df[\"gdpPercap_1957\"]"
   ]
  },
  {
   "cell_type": "code",
   "execution_count": null,
   "id": "d86382c8",
   "metadata": {},
   "outputs": [],
   "source": [
    "df[df[\"continent\"].isin((\"Africa\", \"Europe\"))]"
   ]
  },
  {
   "cell_type": "code",
   "execution_count": null,
   "id": "6bf0d545",
   "metadata": {},
   "outputs": [],
   "source": [
    "df[df[\"continent\"].isin((\"Africa\", \"Europe\"))]\n",
    "\n",
    "df[(df[\"continent\"] == \"Africa\") & (df[\"continent\"])]"
   ]
  },
  {
   "cell_type": "code",
   "execution_count": null,
   "id": "f36e667f",
   "metadata": {},
   "outputs": [],
   "source": [
    "df[~(df[\"continent\"] == \"Africa\") & (df[\"continent\"] != \"America\")]"
   ]
  },
  {
   "cell_type": "code",
   "execution_count": null,
   "id": "09623929",
   "metadata": {},
   "outputs": [],
   "source": [
    "type(df.loc[\"Brazil\", \"continent\"])"
   ]
  },
  {
   "cell_type": "code",
   "execution_count": null,
   "id": "ae124f6e",
   "metadata": {},
   "outputs": [],
   "source": [
    "type(df.loc[:, \"continent\"])"
   ]
  },
  {
   "cell_type": "code",
   "execution_count": null,
   "id": "797a5313",
   "metadata": {},
   "outputs": [],
   "source": [
    "type(df.loc[:, \"continent\"])"
   ]
  },
  {
   "cell_type": "code",
   "execution_count": null,
   "id": "47547625",
   "metadata": {},
   "outputs": [],
   "source": [
    "type(df.loc[\"Brazil\", :])"
   ]
  },
  {
   "cell_type": "code",
   "execution_count": null,
   "id": "23b00aaa",
   "metadata": {},
   "outputs": [],
   "source": [
    "type(df.loc[[\"Brazil\", \"Australia\"], [\"gdpPercap_2007\", \"pop_2007\"]])"
   ]
  },
  {
   "cell_type": "code",
   "execution_count": null,
   "id": "911d757c",
   "metadata": {},
   "outputs": [],
   "source": [
    "df[df[\"pop_2007\"] == 190010647]"
   ]
  },
  {
   "cell_type": "code",
   "execution_count": null,
   "id": "5c5e299a",
   "metadata": {},
   "outputs": [],
   "source": [
    "df.describe().loc[[\"mean\", \"std\"], [\"pop_1962\", \"pop_2007\"]].astype(int)"
   ]
  },
  {
   "cell_type": "code",
   "execution_count": null,
   "id": "9aa25be2",
   "metadata": {},
   "outputs": [],
   "source": [
    "df.groupby(\"continent\").max()"
   ]
  },
  {
   "cell_type": "code",
   "execution_count": null,
   "id": "287861a0",
   "metadata": {},
   "outputs": [],
   "source": []
  }
 ],
 "metadata": {
  "kernelspec": {
   "display_name": "Python [conda env:xlab]",
   "language": "python",
   "name": "conda-env-xlab-py"
  },
  "language_info": {
   "codemirror_mode": {
    "name": "ipython",
    "version": 3
   },
   "file_extension": ".py",
   "mimetype": "text/x-python",
   "name": "python",
   "nbconvert_exporter": "python",
   "pygments_lexer": "ipython3",
   "version": "3.9.2"
  }
 },
 "nbformat": 4,
 "nbformat_minor": 5
}
