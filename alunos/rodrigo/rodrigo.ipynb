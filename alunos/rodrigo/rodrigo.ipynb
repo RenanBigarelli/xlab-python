{
 "cells": [
  {
   "cell_type": "markdown",
   "id": "f56c6563",
   "metadata": {},
   "source": [
    "### Aula 1 - 07 de abril de 2021\n",
    "\n",
    "#### Introdução ao Jupyter\n",
    "* Variáveis\n",
    "* Tipos de dados\n",
    "* Funções builtin\n",
    "    * `print()`\n",
    "    * `type()`\n",
    "    * `len()`\n",
    "    \n",
    "### Aula 2 - 14 de abril de 2021\n",
    "\n",
    "#### Continuação Python básico\n",
    "* Continuação funções builtin\n",
    "    * `help()`\n",
    "* Criando funções\n",
    "\n",
    "**Para próxima aula:**\n",
    "- Pensar em um problema e em uma função para resolvê-lo\n",
    "- Aprender uma nova função builtin do Python"
   ]
  },
  {
   "cell_type": "code",
   "execution_count": null,
   "id": "6c484f0d",
   "metadata": {},
   "outputs": [],
   "source": [
    "def celsius_to_fahr(celsius):   # definição da função com nome e parâmetros de entrada\n",
    "    \"\"\"\n",
    "    Converte Celsius para Fahrenheit.\n",
    "    \"\"\"\n",
    "    \n",
    "    # corpo da função\n",
    "    fahr = celsius * 9/5 + 32\n",
    "    \n",
    "    return fahr  # valor de saída"
   ]
  },
  {
   "cell_type": "code",
   "execution_count": null,
   "id": "0c191187",
   "metadata": {},
   "outputs": [],
   "source": [
    "print(\"Alguma coisa.\")"
   ]
  },
  {
   "cell_type": "code",
   "execution_count": null,
   "id": "95f3728b",
   "metadata": {},
   "outputs": [],
   "source": [
    "celsius_to_fahr(38)"
   ]
  },
  {
   "cell_type": "markdown",
   "id": "f06d8ce3",
   "metadata": {},
   "source": [
    "### Aula 3 - 22 de abril de 2021\n",
    "* Retomar atividade da última aula\n",
    "    * Função builtin\n",
    "        * `input()`\n",
    "    * Pandas e Numpy\n",
    "    * Problema para resolver\n",
    "        * Como entrar em um site, e.g. Google?\n",
    "        * Usando a biblioteca `requests`\n",
    "\n",
    "#### Listas e slicing\n",
    "\n",
    "**Pergunta:**\n",
    "* Por que listas são importantes?\n",
    "\n",
    "\n",
    "**Objetivos**\n",
    "* Definindo listas:\n",
    "    * Sintaxe usando colchetes `[]` e valores separados por vírgula\n",
    "* Acessar itens em uma lista\n",
    "    * **Pegadinhas**\n",
    "    * Através do índice `lista[0]` retorna o primeiro valor\n",
    "    * Fatia é **não-inclusiva**\n",
    "* Acessar fatias da lista\n",
    "* Inserir itens na lista\n",
    "* Modificar listas com funções\n",
    "* Função `len()`, do inglês \"length\""
   ]
  },
  {
   "cell_type": "code",
   "execution_count": null,
   "id": "1ed0d59d",
   "metadata": {},
   "outputs": [],
   "source": [
    "x = [0,1,2,3,4,5,6,7,8,9,10]\n",
    "type(x)"
   ]
  },
  {
   "cell_type": "code",
   "execution_count": null,
   "id": "b28ddf03",
   "metadata": {},
   "outputs": [],
   "source": [
    "temperaturas = [25, 32, \"Quarenta graus\", 15, 13]\n",
    "\n",
    "print(\"Temperaturas:\", temperaturas)\n",
    "print(\"Comprimento:\", len(temperaturas))"
   ]
  },
  {
   "cell_type": "markdown",
   "id": "82dc6e65",
   "metadata": {},
   "source": [
    "### Acessando listas"
   ]
  },
  {
   "cell_type": "code",
   "execution_count": null,
   "id": "656a8a2b",
   "metadata": {},
   "outputs": [],
   "source": [
    "temperaturas = [25, 32, \"Quarenta graus\", [15, 13]]\n",
    "temperaturas[-1]  # último valor\n",
    "temperaturas[0:2]  # fatia não inclusiva"
   ]
  },
  {
   "cell_type": "markdown",
   "id": "07eabfa4",
   "metadata": {},
   "source": [
    "### É possível acessar strings da mesma forma que listas"
   ]
  },
  {
   "cell_type": "code",
   "execution_count": null,
   "id": "0e5de47b",
   "metadata": {},
   "outputs": [],
   "source": [
    "estado = \"São Paulo\"\n",
    "estado[0:3]\n",
    "estado[0]"
   ]
  },
  {
   "cell_type": "code",
   "execution_count": null,
   "id": "17c5d641",
   "metadata": {},
   "outputs": [],
   "source": [
    "temperaturas[0] = -10\n",
    "temperaturas"
   ]
  },
  {
   "cell_type": "markdown",
   "id": "79e82e6c",
   "metadata": {},
   "source": [
    "### Propriedades de objetos\n",
    "\n",
    "Usando a função `type`, sabemos que tipo de objeto estamos trabalhando, e diferentes objetos têm diferentes propriedades.\n",
    "\n",
    "As listas possuem funções próprias para manipular elas. Uma função de um objeto é chamada de método.\n",
    "\n",
    "Métodos de listas:\n",
    "* `append()`\n",
    "* `insert()`\n",
    "* `pop()`\n",
    "* `reverse()`\n",
    "* `sort()`"
   ]
  },
  {
   "cell_type": "code",
   "execution_count": null,
   "id": "80d73c62",
   "metadata": {},
   "outputs": [],
   "source": [
    "temperaturas = [25, 32, 40, 15, 13]\n",
    "\n",
    "temperaturas.append(100)\n",
    "\n",
    "temperaturas"
   ]
  },
  {
   "cell_type": "code",
   "execution_count": null,
   "id": "70f02ee0",
   "metadata": {},
   "outputs": [],
   "source": [
    "temperaturas.insert(2, -30)"
   ]
  },
  {
   "cell_type": "code",
   "execution_count": null,
   "id": "a91657cf",
   "metadata": {},
   "outputs": [],
   "source": [
    "temperaturas.pop()"
   ]
  },
  {
   "cell_type": "code",
   "execution_count": null,
   "id": "b599b787",
   "metadata": {},
   "outputs": [],
   "source": [
    "ultima_temp = temperaturas.pop()"
   ]
  },
  {
   "cell_type": "code",
   "execution_count": null,
   "id": "82eeb3b7",
   "metadata": {},
   "outputs": [],
   "source": [
    "ultima_temp"
   ]
  },
  {
   "cell_type": "code",
   "execution_count": null,
   "id": "a5ae301d",
   "metadata": {},
   "outputs": [],
   "source": [
    "temperaturas.sort()\n",
    "temperaturas.reverse()\n",
    "temperaturas"
   ]
  },
  {
   "cell_type": "code",
   "execution_count": null,
   "id": "f342858e",
   "metadata": {},
   "outputs": [],
   "source": [
    "lista = [0, \"1\", 2]\n",
    "lista.reverse()\n",
    "lista"
   ]
  },
  {
   "cell_type": "markdown",
   "id": "a803b2f3",
   "metadata": {},
   "source": [
    "### Aula 4 - 05 de maio de 2021\n",
    "\n",
    "#### Condicionais e `for` loop\n",
    "* Declarações `if`, `else`, `elif`\n",
    "* Operadores lógicos"
   ]
  },
  {
   "cell_type": "code",
   "execution_count": null,
   "id": "ea020a77",
   "metadata": {},
   "outputs": [],
   "source": [
    "for t in temperaturas:\n",
    "    # faça alguma coisa SE a temperatura passar de 50 graus\n",
    "    if t >= 40:\n",
    "        print(\"Temperatura muito alta: \", t)\n",
    "    elif t < 20:\n",
    "        print(\"Temperatura muito baixa: \", t)\n",
    "    # elif \n",
    "    else:\n",
    "        print(\"Temperatura adequada: \", t)"
   ]
  },
  {
   "cell_type": "code",
   "execution_count": null,
   "id": "0f18445a",
   "metadata": {},
   "outputs": [],
   "source": [
    "lista = [\"a\", \"b\", \"c\", \"d\", \"e\", 0]\n",
    "\n",
    "for value in lista:\n",
    "    if value == \"a\":\n",
    "        print(\"Letra a!\")\n",
    "    elif value == \"b\":\n",
    "        print(\"Letra b!\")\n",
    "    elif value == \"c\":\n",
    "        print(\"Letra c!\")\n",
    "    else:\n",
    "        print(\"Algum outro valor: \", value)"
   ]
  },
  {
   "cell_type": "code",
   "execution_count": null,
   "id": "e3b9d820",
   "metadata": {},
   "outputs": [],
   "source": [
    "temperaturas"
   ]
  },
  {
   "cell_type": "code",
   "execution_count": null,
   "id": "00a9312e",
   "metadata": {},
   "outputs": [],
   "source": [
    "# Operadores lógicos\n",
    "1 < 2\n",
    "2 > 1\n",
    "2 == 2\n",
    "2 != 3\n",
    "2 >= 2\n",
    "1 <= 2"
   ]
  },
  {
   "cell_type": "markdown",
   "id": "04920213",
   "metadata": {},
   "source": [
    "## Exercícios\n",
    "\n",
    "#### 1. Escreva uma função que remova todos os elementos com um determinado valor de uma lista.\n",
    "\n",
    "**Exemplo**\n",
    "```python\n",
    "lista = ['a', 'b', 'c', 'a']\n",
    "remove(lista, 'a')  # retorna ['b','c'].\n",
    "```"
   ]
  },
  {
   "cell_type": "code",
   "execution_count": null,
   "id": "5cb1c2d5",
   "metadata": {},
   "outputs": [],
   "source": [
    "lista = ['a', 'b', 'c', 'a']"
   ]
  },
  {
   "cell_type": "markdown",
   "id": "b5b9b0e2",
   "metadata": {},
   "source": [
    "#### 2. Escreva um programa que receba uma lista e retorna a soma de cada elemento elevado ao cubo. Caso haja um elemento que não seja numero, deve retornar uma mensagem de erro."
   ]
  },
  {
   "cell_type": "code",
   "execution_count": null,
   "id": "c4bd3326",
   "metadata": {},
   "outputs": [],
   "source": [
    "def elevar_cubo(lista):\n",
    "    lista_ao_cubo = []\n",
    "    for value in lista:\n",
    "        lista_ao_cubo.append(value ** 3)\n",
    "        \n",
    "    return sum(lista_ao_cubo)\n",
    "\n",
    "\n",
    "uma_lista = [11, 13, 17]\n",
    "\n",
    "elevar_cubo(uma_lista)"
   ]
  },
  {
   "cell_type": "markdown",
   "id": "d76e7582",
   "metadata": {},
   "source": [
    "#### 3. Escreva um programa que receba uma frase e retorne a palavra com mais letras `'e'`."
   ]
  },
  {
   "cell_type": "code",
   "execution_count": null,
   "id": "734bd4da",
   "metadata": {},
   "outputs": [],
   "source": [
    "def achar_palavra_letras_e(frase):\n",
    "    # separar a frase (string) em uma lista\n",
    "    lista = frase.split()\n",
    "    \n",
    "    # variáveis 'acumuladoras'\n",
    "    palavra_com_mais_letras_e = \"\"\n",
    "    numero_de_letras_e = 0\n",
    "    \n",
    "    for palavra in lista:\n",
    "        e = palavra.count(\"e\")\n",
    "        if e > numero_de_letras_e:\n",
    "            palavra_com_mais_letras_e = palavra\n",
    "            numero_de_letras_e = e\n",
    "            \n",
    "    if numero_de_letras_e > 0:\n",
    "        print(f\"A palavra com mais letras 'e' é '{palavra_com_mais_letras_e}', com {numero_de_letras_e} ocorrências.\")\n",
    "    else:\n",
    "        print(\"Nenhuma palavra com letra 'e'.\")\n",
    "        \n",
    "    return palavra_com_mais_letras_e"
   ]
  },
  {
   "cell_type": "code",
   "execution_count": null,
   "id": "efcbf487",
   "metadata": {},
   "outputs": [],
   "source": [
    "achar_palavra_letras_e(\"Um elefante incomoda muita gente. Dois elefantes incomodam muito mais.\")"
   ]
  },
  {
   "cell_type": "markdown",
   "id": "a21998e8",
   "metadata": {},
   "source": [
    "#### 4. Escreva um programa que receba uma lista e retorne o valor mínimo e máximo da lista."
   ]
  },
  {
   "cell_type": "code",
   "execution_count": null,
   "id": "2cbb4f90",
   "metadata": {},
   "outputs": [],
   "source": []
  },
  {
   "cell_type": "markdown",
   "id": "bb939ce9",
   "metadata": {},
   "source": [
    "#### 5. Escreva um programa que receba uma lista de strings e depois imprima quantos elementos contenham uma substring qualquer."
   ]
  },
  {
   "cell_type": "code",
   "execution_count": null,
   "id": "821af1c8",
   "metadata": {},
   "outputs": [],
   "source": []
  },
  {
   "cell_type": "markdown",
   "id": "22be10b0",
   "metadata": {},
   "source": [
    "### Aula 6 - 12 de maio de 2021\n",
    "* Exercícios\n",
    "    * Definição de funções\n",
    "    * Parâmetros de entrada\n",
    "    * Escopo das funções\n",
    "* Funções [built-in do Python](https://docs.python.org/pt-br/3/library/functions.html)\n",
    "\n",
    "**Próxima aula: sincronizar com GitHub e planilhas**"
   ]
  },
  {
   "cell_type": "code",
   "execution_count": null,
   "id": "9b5a8fca",
   "metadata": {},
   "outputs": [],
   "source": [
    "# Operadores matemáticos\n",
    "print(2 + 2)\n",
    "print(2 - 1)\n",
    "print(2 / 2)\n",
    "print(2 * 3)\n",
    "print(2 ** 3)\n",
    "print(13 % 5)\n",
    "print(12 // 5)"
   ]
  },
  {
   "cell_type": "markdown",
   "id": "d638ef48",
   "metadata": {},
   "source": [
    "### Aula 7 - 20 de maio de 2021\n",
    "\n",
    "* Revisão de fatias de listas e strings\n",
    "    * Método `str.split()`\n",
    "* Instalar Git e sincronizar notebooks\n",
    "* Exercícios"
   ]
  },
  {
   "cell_type": "code",
   "execution_count": null,
   "id": "0646d36a",
   "metadata": {},
   "outputs": [],
   "source": [
    "uma_string = 'aula de hoje'\n",
    "uma_lista = ['Vini', 'Rodrigo', 'Carla', 'Eduardo', 'Mario', 'Elefante']"
   ]
  },
  {
   "cell_type": "code",
   "execution_count": null,
   "id": "6eb5f410",
   "metadata": {},
   "outputs": [],
   "source": [
    "uma_string[posicao]\n",
    "uma_string[inicio:fim]\n",
    "uma_string[inicio:fim:degrau]"
   ]
  },
  {
   "cell_type": "code",
   "execution_count": null,
   "id": "de160af3",
   "metadata": {},
   "outputs": [],
   "source": [
    "uma_string[-1]  # posicao\n",
    "uma_lista[2:5]  # inicio:fim  - lembrar: fatia não-inclusiva\n",
    "uma_string[1:6:2]  # inicio:fim:degrau"
   ]
  },
  {
   "cell_type": "code",
   "execution_count": null,
   "id": "160538a8",
   "metadata": {},
   "outputs": [],
   "source": [
    "uma_lista[-2::-2]  # inverter uma lista (degrau ao contrário)"
   ]
  },
  {
   "cell_type": "code",
   "execution_count": null,
   "id": "c7091de8",
   "metadata": {},
   "outputs": [],
   "source": [
    "# Operadores lógicos\n",
    "x = 10\n",
    "y = 12\n",
    "l = [10, 15, 20]\n",
    "\n",
    "print('x > y is',x > y)\n",
    "print('x < y is',x < y)\n",
    "print('x == y is',x == y)\n",
    "print('x != y is',x != y)\n",
    "print('x >= y is',x >= y)\n",
    "print('x <= y is',x <= y)\n",
    "print('x in l is', x in l)\n",
    "print('y in l is', y in l)"
   ]
  },
  {
   "cell_type": "markdown",
   "id": "e2edb8b5",
   "metadata": {},
   "source": [
    "### Aula 8 - 26 de maio de 2021\n",
    "\n",
    "* Introdução Pandas\n",
    "* Três usos do TAB\n",
    "    * `pd.` e TAB para ver métodos da biblioteca\n",
    "    * `pd.read_csv()` e Shift + TAB para ajuda da função\n",
    "    * `pd.read_csv('gap` e TAB para completar o nome do arquivo\n",
    "* Conversa sobre arquivos CSV\n",
    "* Atributos e métodos do DataFrame\n",
    "    * `.columns` - nome das colunas\n",
    "    * `.info()` - tipos de dados\n",
    "* Localizando dados\n",
    "    * `.iloc` - indexação por número\n",
    "    * `.loc` - indexação por nome"
   ]
  },
  {
   "cell_type": "code",
   "execution_count": null,
   "id": "bd671460",
   "metadata": {},
   "outputs": [],
   "source": [
    "import pandas as pd"
   ]
  },
  {
   "cell_type": "code",
   "execution_count": null,
   "id": "cd819a54",
   "metadata": {},
   "outputs": [],
   "source": [
    "df = pd.read_csv(\"gapminder_all.csv\", index_col=\"country\")"
   ]
  },
  {
   "cell_type": "markdown",
   "id": "70a8d3b1",
   "metadata": {},
   "source": [
    "`.loc` e `.iloc` funcionam da seguinte forma: recebem um (linha) ou dois (linha, coluna) valores que indicam a linha e coluna a serem selecionadas."
   ]
  },
  {
   "cell_type": "code",
   "execution_count": null,
   "id": "cf8f975d",
   "metadata": {},
   "outputs": [],
   "source": [
    "df.head()"
   ]
  },
  {
   "cell_type": "code",
   "execution_count": null,
   "id": "7a334e21",
   "metadata": {},
   "outputs": [],
   "source": [
    "# com um valor\n",
    "df.loc['Algeria']  # retorna a primeira linha\n",
    "df.iloc[0]  # retorna a primeira linha\n",
    "\n",
    "# com dois valores: linha, coluna\n",
    "df.loc['Algeria', 'continent']\n",
    "df.iloc[0, 0]\n",
    "\n",
    "# para selecionar múltiplas linhas ou colunas,\n",
    "# agrupar em listas\n",
    "df.loc[['Argentina', 'Brazil'], ['continent', 'gdpPercap_2007', 'lifeExp_2007']]"
   ]
  },
  {
   "cell_type": "code",
   "execution_count": null,
   "id": "a183997b",
   "metadata": {},
   "outputs": [],
   "source": [
    "# no exemplo anterior, temos um DataFrame\n",
    "type(df.loc[['Argentina', 'Brazil'], ['continent', 'gdpPercap_2007', 'lifeExp_2007']])"
   ]
  },
  {
   "cell_type": "code",
   "execution_count": null,
   "id": "b2c3bb63",
   "metadata": {},
   "outputs": [],
   "source": [
    "# se selecionarmos uma linha ou coluna, temos uma Series\n",
    "type(df.loc['Algeria'])"
   ]
  },
  {
   "cell_type": "code",
   "execution_count": null,
   "id": "50b062a9",
   "metadata": {},
   "outputs": [],
   "source": [
    "# se selecionarmos uma única célula, temos o tipo de dado que está lá\n",
    "type(df.loc['Algeria', 'continent'])"
   ]
  },
  {
   "cell_type": "code",
   "execution_count": null,
   "id": "52653214",
   "metadata": {},
   "outputs": [],
   "source": []
  }
 ],
 "metadata": {
  "kernelspec": {
   "display_name": "Python [conda env:xlab]",
   "language": "python",
   "name": "conda-env-xlab-py"
  },
  "language_info": {
   "codemirror_mode": {
    "name": "ipython",
    "version": 3
   },
   "file_extension": ".py",
   "mimetype": "text/x-python",
   "name": "python",
   "nbconvert_exporter": "python",
   "pygments_lexer": "ipython3",
   "version": "3.9.2"
  }
 },
 "nbformat": 4,
 "nbformat_minor": 5
}
