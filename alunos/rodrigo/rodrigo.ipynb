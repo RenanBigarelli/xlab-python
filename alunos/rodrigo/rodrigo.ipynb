{
 "cells": [
  {
   "cell_type": "markdown",
   "id": "34be819e",
   "metadata": {},
   "source": [
    "### Aula 1 - 07 de abril de 2021\n",
    "\n",
    "#### Introdução ao Jupyter\n",
    "* Variáveis\n",
    "* Tipos de dados\n",
    "* Funções builtin\n",
    "    * `print()`\n",
    "    * `type()`\n",
    "    * `len()`\n",
    "    \n",
    "### Aula 2 - 14 de abril de 2021\n",
    "\n",
    "#### Continuação Python básico\n",
    "* Continuação funções builtin\n",
    "    * `help()`\n",
    "* Criando funções\n",
    "\n",
    "**Para próxima aula:**\n",
    "- Pensar em um problema e em uma função para resolvê-lo\n",
    "- Aprender uma nova função builtin do Python"
   ]
  },
  {
   "cell_type": "code",
   "execution_count": null,
   "id": "b1785e2f",
   "metadata": {},
   "outputs": [],
   "source": [
    "def celsius_to_fahr(celsius):   # definição da função com nome e parâmetros de entrada\n",
    "    \"\"\"\n",
    "    Converte Celsius para Fahrenheit.\n",
    "    \"\"\"\n",
    "    \n",
    "    # corpo da função\n",
    "    fahr = celsius * 9/5 + 32\n",
    "    \n",
    "    return fahr  # valor de saída"
   ]
  },
  {
   "cell_type": "code",
   "execution_count": null,
   "id": "e6bf4b89",
   "metadata": {},
   "outputs": [],
   "source": [
    "print(\"Alguma coisa.\")"
   ]
  },
  {
   "cell_type": "code",
   "execution_count": null,
   "id": "42539d71",
   "metadata": {},
   "outputs": [],
   "source": [
    "celsius_to_fahr(38)"
   ]
  },
  {
   "cell_type": "markdown",
   "id": "a3547834",
   "metadata": {},
   "source": [
    "### Aula 3 - 22 de abril de 2021\n",
    "* Retomar atividade da última aula\n",
    "    * Função builtin\n",
    "        * `input()`\n",
    "    * Pandas e Numpy\n",
    "    * Problema para resolver\n",
    "        * Como entrar em um site, e.g. Google?\n",
    "        * Usando a biblioteca `requests`\n",
    "\n",
    "#### Listas e slicing\n",
    "\n",
    "**Pergunta:**\n",
    "* Por que listas são importantes?\n",
    "\n",
    "\n",
    "**Objetivos**\n",
    "* Definindo listas:\n",
    "    * Sintaxe usando colchetes `[]` e valores separados por vírgula\n",
    "* Acessar itens em uma lista\n",
    "    * **Pegadinhas**\n",
    "    * Através do índice `lista[0]` retorna o primeiro valor\n",
    "    * Fatia é **não-inclusiva**\n",
    "* Acessar fatias da lista\n",
    "* Inserir itens na lista\n",
    "* Modificar listas com funções\n",
    "* Função `len()`, do inglês \"length\""
   ]
  },
  {
   "cell_type": "code",
   "execution_count": null,
   "id": "cc61b128",
   "metadata": {},
   "outputs": [],
   "source": [
    "x = [0,1,2,3,4,5,6,7,8,9,10]\n",
    "type(x)"
   ]
  },
  {
   "cell_type": "code",
   "execution_count": null,
   "id": "f14434ba",
   "metadata": {},
   "outputs": [],
   "source": [
    "temperaturas = [25, 32, \"Quarenta graus\", 15, 13]\n",
    "\n",
    "print(\"Temperaturas:\", temperaturas)\n",
    "print(\"Comprimento:\", len(temperaturas))"
   ]
  },
  {
   "cell_type": "markdown",
   "id": "575ef362",
   "metadata": {},
   "source": [
    "### Acessando listas"
   ]
  },
  {
   "cell_type": "code",
   "execution_count": null,
   "id": "788bc210",
   "metadata": {},
   "outputs": [],
   "source": [
    "temperaturas = [25, 32, \"Quarenta graus\", [15, 13]]\n",
    "temperaturas[-1]  # último valor\n",
    "temperaturas[0:2]  # fatia não inclusiva"
   ]
  },
  {
   "cell_type": "markdown",
   "id": "c1ab4163",
   "metadata": {},
   "source": [
    "### É possível acessar strings da mesma forma que listas"
   ]
  },
  {
   "cell_type": "code",
   "execution_count": null,
   "id": "13b08db1",
   "metadata": {},
   "outputs": [],
   "source": [
    "estado = \"São Paulo\"\n",
    "estado[0:3]\n",
    "estado[0]"
   ]
  },
  {
   "cell_type": "code",
   "execution_count": null,
   "id": "9a2651eb",
   "metadata": {},
   "outputs": [],
   "source": [
    "temperaturas[0] = -10\n",
    "temperaturas"
   ]
  },
  {
   "cell_type": "markdown",
   "id": "bbde1560",
   "metadata": {},
   "source": [
    "### Propriedades de objetos\n",
    "\n",
    "Usando a função `type`, sabemos que tipo de objeto estamos trabalhando, e diferentes objetos têm diferentes propriedades.\n",
    "\n",
    "As listas possuem funções próprias para manipular elas. Uma função de um objeto é chamada de método.\n",
    "\n",
    "Métodos de listas:\n",
    "* `append()`\n",
    "* `insert()`\n",
    "* `pop()`\n",
    "* `reverse()`\n",
    "* `sort()`"
   ]
  },
  {
   "cell_type": "code",
   "execution_count": 1,
   "id": "106731a6",
   "metadata": {},
   "outputs": [
    {
     "data": {
      "text/plain": [
       "[25, 32, 40, 15, 13, 100]"
      ]
     },
     "execution_count": 1,
     "metadata": {},
     "output_type": "execute_result"
    }
   ],
   "source": [
    "temperaturas = [25, 32, 40, 15, 13]\n",
    "\n",
    "temperaturas.append(100)\n",
    "\n",
    "temperaturas"
   ]
  },
  {
   "cell_type": "code",
   "execution_count": null,
   "id": "51f81234",
   "metadata": {},
   "outputs": [],
   "source": [
    "temperaturas.insert(2, -30)"
   ]
  },
  {
   "cell_type": "code",
   "execution_count": null,
   "id": "17cc7386",
   "metadata": {},
   "outputs": [],
   "source": [
    "temperaturas.pop()"
   ]
  },
  {
   "cell_type": "code",
   "execution_count": null,
   "id": "91deeed0",
   "metadata": {},
   "outputs": [],
   "source": [
    "ultima_temp = temperaturas.pop()"
   ]
  },
  {
   "cell_type": "code",
   "execution_count": null,
   "id": "6a24fa89",
   "metadata": {},
   "outputs": [],
   "source": [
    "ultima_temp"
   ]
  },
  {
   "cell_type": "code",
   "execution_count": null,
   "id": "6a6dd7d8",
   "metadata": {},
   "outputs": [],
   "source": [
    "temperaturas.sort()\n",
    "temperaturas.reverse()\n",
    "temperaturas"
   ]
  },
  {
   "cell_type": "code",
   "execution_count": null,
   "id": "e291bdb1",
   "metadata": {},
   "outputs": [],
   "source": [
    "lista = [0, \"1\", 2]\n",
    "lista.reverse()\n",
    "lista"
   ]
  },
  {
   "cell_type": "markdown",
   "id": "06549d82",
   "metadata": {},
   "source": [
    "### Aula 4 - 05 de maio de 2021\n",
    "\n",
    "#### Condicionais e `for` loop\n",
    "* Declarações `if`, `else`, `elif`"
   ]
  },
  {
   "cell_type": "code",
   "execution_count": 18,
   "id": "5d466bd8",
   "metadata": {},
   "outputs": [
    {
     "name": "stdout",
     "output_type": "stream",
     "text": [
      "Temperatura adequada:  25\n",
      "Temperatura adequada:  32\n",
      "Temperatura muito alta:  40\n",
      "Temperatura muito baixa:  15\n",
      "Temperatura muito baixa:  13\n",
      "Temperatura muito alta:  100\n"
     ]
    }
   ],
   "source": [
    "for t in temperaturas:\n",
    "    # faça alguma coisa SE a temperatura passar de 50 graus\n",
    "    if t >= 40:\n",
    "        print(\"Temperatura muito alta: \", t)\n",
    "    elif t < 20:\n",
    "        print(\"Temperatura muito baixa: \", t)\n",
    "    # elif \n",
    "    else:\n",
    "        print(\"Temperatura adequada: \", t)"
   ]
  },
  {
   "cell_type": "code",
   "execution_count": 19,
   "id": "cbe70833",
   "metadata": {},
   "outputs": [
    {
     "name": "stdout",
     "output_type": "stream",
     "text": [
      "Letra a!\n",
      "Letra b!\n",
      "Letra c!\n",
      "Algum outro valor:  d\n",
      "Algum outro valor:  e\n",
      "Algum outro valor:  0\n"
     ]
    }
   ],
   "source": [
    "lista = [\"a\", \"b\", \"c\", \"d\", \"e\", 0]\n",
    "\n",
    "for value in lista:\n",
    "    if value == \"a\":\n",
    "        print(\"Letra a!\")\n",
    "    elif value == \"b\":\n",
    "        print(\"Letra b!\")\n",
    "    elif value == \"c\":\n",
    "        print(\"Letra c!\")\n",
    "    else:\n",
    "        print(\"Algum outro valor: \", value)"
   ]
  },
  {
   "cell_type": "code",
   "execution_count": 16,
   "id": "4184420d",
   "metadata": {},
   "outputs": [
    {
     "data": {
      "text/plain": [
       "[25, 32, 40, 15, 13, 100]"
      ]
     },
     "execution_count": 16,
     "metadata": {},
     "output_type": "execute_result"
    }
   ],
   "source": [
    "temperaturas"
   ]
  },
  {
   "cell_type": "code",
   "execution_count": 11,
   "id": "218ecaa9",
   "metadata": {},
   "outputs": [
    {
     "data": {
      "text/plain": [
       "[25, 32, 40, 15, 13, 100]"
      ]
     },
     "execution_count": 11,
     "metadata": {},
     "output_type": "execute_result"
    }
   ],
   "source": [
    "# Operadores lógicos\n",
    "1 < 2\n",
    "2 > 1\n",
    "2 == 2\n",
    "2 != 3\n",
    "2 >= 2\n",
    "1 <= 2"
   ]
  },
  {
   "cell_type": "code",
   "execution_count": null,
   "id": "51f6090a",
   "metadata": {},
   "outputs": [],
   "source": []
  }
 ],
 "metadata": {
  "kernelspec": {
   "display_name": "Python [conda env:xlab]",
   "language": "python",
   "name": "conda-env-xlab-py"
  },
  "language_info": {
   "codemirror_mode": {
    "name": "ipython",
    "version": 3
   },
   "file_extension": ".py",
   "mimetype": "text/x-python",
   "name": "python",
   "nbconvert_exporter": "python",
   "pygments_lexer": "ipython3",
   "version": "3.9.2"
  }
 },
 "nbformat": 4,
 "nbformat_minor": 5
}
