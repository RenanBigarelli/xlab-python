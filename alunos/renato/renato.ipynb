{
 "cells": [
  {
   "cell_type": "markdown",
   "id": "b04f05bc",
   "metadata": {},
   "source": [
    "### Aula 1 - 16 de abril de 2021\n",
    "\n",
    "- só meia hora de aula\n",
    "\n",
    "#### Até agora (última aula):\n",
    "* Variáveis\n",
    "* Tipos de dados\n",
    "* Operadores matemáticos\n",
    "* Operadores lógicos\n",
    "* Listas\n",
    "* Dicionários\n",
    "* Zen of Python\n",
    "* `help`\n",
    "* Funções\n",
    "\n",
    "#### Hoje\n",
    "* Revisão funções"
   ]
  },
  {
   "cell_type": "code",
   "execution_count": 2,
   "id": "4afc46f9",
   "metadata": {},
   "outputs": [],
   "source": [
    "def cel_to_fahr(cel):\n",
    "    \"\"\"\n",
    "    Realiza conversão de Celsius para Fahrenheit.\n",
    "    \n",
    "    cel: valor em graus Celsius.\n",
    "    retorna: valor em graus Fahrenheit.\n",
    "    \"\"\"\n",
    "    \n",
    "    fahr = cel * 9/5 + 32\n",
    "    return fahr"
   ]
  },
  {
   "cell_type": "markdown",
   "id": "24975b76",
   "metadata": {},
   "source": [
    "### Aula 2 - 20 de abril\n",
    "\n",
    "**Tópicos de interesse:**\n",
    "- Banco de dados (SQL)\n",
    "- Modelagem (ETL)\n",
    "\n",
    "\n",
    "**Objetivo:** conseguir precisar o que for preciso com Python"
   ]
  },
  {
   "cell_type": "code",
   "execution_count": null,
   "id": "6c62bb09",
   "metadata": {},
   "outputs": [],
   "source": []
  }
 ],
 "metadata": {
  "kernelspec": {
   "display_name": "Python [conda env:xlab]",
   "language": "python",
   "name": "conda-env-xlab-py"
  },
  "language_info": {
   "codemirror_mode": {
    "name": "ipython",
    "version": 3
   },
   "file_extension": ".py",
   "mimetype": "text/x-python",
   "name": "python",
   "nbconvert_exporter": "python",
   "pygments_lexer": "ipython3",
   "version": "3.9.2"
  }
 },
 "nbformat": 4,
 "nbformat_minor": 5
}
