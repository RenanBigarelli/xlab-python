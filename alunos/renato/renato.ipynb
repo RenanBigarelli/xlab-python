{
 "cells": [
  {
   "cell_type": "markdown",
   "id": "4951d5fb",
   "metadata": {},
   "source": [
    "### Aula 1 - 16 de abril de 2021\n",
    "\n",
    "- só meia hora de aula\n",
    "\n",
    "#### Até agora (última aula):\n",
    "* Variáveis\n",
    "* Tipos de dados\n",
    "* Operadores matemáticos\n",
    "* Operadores lógicos\n",
    "* Listas\n",
    "* Dicionários\n",
    "* Zen of Python\n",
    "* `help`\n",
    "* Funções\n",
    "\n",
    "#### Hoje\n",
    "* Revisão funções"
   ]
  },
  {
   "cell_type": "code",
   "execution_count": null,
   "id": "fe132fff",
   "metadata": {},
   "outputs": [],
   "source": [
    "def cel_to_fahr(cel):\n",
    "    \"\"\"\n",
    "    Realiza conversão de Celsius para Fahrenheit.\n",
    "    \n",
    "    cel: valor em graus Celsius.\n",
    "    retorna: valor em graus Fahrenheit.\n",
    "    \"\"\"\n",
    "    \n",
    "    fahr = cel * 9/5 + 32\n",
    "    return fahr"
   ]
  },
  {
   "cell_type": "markdown",
   "id": "fecfbad8",
   "metadata": {},
   "source": [
    "### Aula 2 - 20 de abril\n",
    "\n",
    "**Tópicos de interesse:**\n",
    "- Banco de dados (SQL)\n",
    "- Modelagem (ETL)\n",
    "\n",
    "\n",
    "**Objetivo:** conseguir precisar fazer tarefas diferentes\n",
    "\n",
    "**Observação:** Dificuldade para instalar o Anaconda/VSCode\n",
    "\n",
    "**Próxima aula**\n",
    "* Revisão de sintaxe Python (desafios)\n",
    "* Conectar no [SSMS](https://docs.microsoft.com/en-us/sql/ssms/download-sql-server-management-studio-ssms?view=sql-server-ver15)\n",
    "* Usar o [`pyodbc`](https://towardsdatascience.com/sql-server-with-python-679b8dba69fa)"
   ]
  },
  {
   "cell_type": "markdown",
   "id": "ec36c117",
   "metadata": {},
   "source": [
    "### Aula 3 - 23 de abril\n",
    "* Desafios com listas e funções\n",
    "\n",
    "\n",
    "# Desafios"
   ]
  },
  {
   "cell_type": "markdown",
   "id": "21103e1f",
   "metadata": {},
   "source": [
    "#### 1. Escreva uma função que remova todos os elementos com um determinado valor de uma lista.\n",
    "\n",
    "**Exemplo**\n",
    "```python\n",
    "lista = ['a', 'b', 'c', 'a']\n",
    "remove(lista, 'a')  # retorna ['b','c'].\n",
    "```"
   ]
  },
  {
   "cell_type": "code",
   "execution_count": null,
   "id": "8d4efc8d",
   "metadata": {},
   "outputs": [],
   "source": []
  },
  {
   "cell_type": "markdown",
   "id": "800f4a66",
   "metadata": {},
   "source": [
    "#### 2. Escreva um programa que receba uma lista e retorna a soma de cada elemento elevado ao cubo. Caso haja um elemento que não seja numero, deve retornar uma mensagem de erro."
   ]
  },
  {
   "cell_type": "code",
   "execution_count": null,
   "id": "4f7a5945",
   "metadata": {},
   "outputs": [],
   "source": []
  },
  {
   "cell_type": "markdown",
   "id": "be361090",
   "metadata": {},
   "source": [
    "#### 3. Escreva um programa que receba uma frase e retorne a palavra com mais letras `'e'`."
   ]
  },
  {
   "cell_type": "code",
   "execution_count": null,
   "id": "f1efd691",
   "metadata": {},
   "outputs": [],
   "source": []
  },
  {
   "cell_type": "markdown",
   "id": "d3074a11",
   "metadata": {},
   "source": [
    "#### 4. Escreva um programa que receba uma lista e retorne o valor mínimo e máximo da lista."
   ]
  },
  {
   "cell_type": "code",
   "execution_count": null,
   "id": "3796fdd0",
   "metadata": {},
   "outputs": [],
   "source": []
  },
  {
   "cell_type": "markdown",
   "id": "8ed8bebb",
   "metadata": {},
   "source": [
    "#### 5. Escreva um programa que receba uma lista de strings e depois imprima quantos elementos contenham uma substring qualquer."
   ]
  },
  {
   "cell_type": "code",
   "execution_count": null,
   "id": "79395d46",
   "metadata": {},
   "outputs": [],
   "source": []
  },
  {
   "cell_type": "markdown",
   "id": "9263adaf",
   "metadata": {},
   "source": [
    "#### 6. Escreva um programa que leia um arquivo de texto e escreva o número de linhas em um novo arquivo.\n",
    "\n",
    "**Exemplo**\n",
    "Suponha um arquivo de texto `input.txt` com o seguinte conteúdo:\n",
    "\n",
    "```\n",
    "Beautiful is better than ugly.\n",
    "Explicit is better than implicit.\n",
    "Simple is better than complex.\n",
    "Complex is better than complicated.\n",
    "Flat is better than nested.\n",
    "Sparse is better than dense.\n",
    "```\n",
    "\n",
    "O programa deve escrever um arquivo `output.txt` contendo o número 6."
   ]
  },
  {
   "cell_type": "code",
   "execution_count": null,
   "id": "8952f502",
   "metadata": {},
   "outputs": [],
   "source": []
  }
 ],
 "metadata": {
  "kernelspec": {
   "display_name": "Python [conda env:xlab]",
   "language": "python",
   "name": "conda-env-xlab-py"
  },
  "language_info": {
   "codemirror_mode": {
    "name": "ipython",
    "version": 3
   },
   "file_extension": ".py",
   "mimetype": "text/x-python",
   "name": "python",
   "nbconvert_exporter": "python",
   "pygments_lexer": "ipython3",
   "version": "3.9.2"
  }
 },
 "nbformat": 4,
 "nbformat_minor": 5
}
