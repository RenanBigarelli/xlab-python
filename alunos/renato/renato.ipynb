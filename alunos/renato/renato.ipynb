{
 "cells": [
  {
   "cell_type": "markdown",
   "id": "ca35b994",
   "metadata": {},
   "source": [
    "### Aula 1 - 16 de abril de 2021\n",
    "\n",
    "- só meia hora de aula\n",
    "\n",
    "#### Até agora (última aula):\n",
    "* Variáveis\n",
    "* Tipos de dados\n",
    "* Operadores matemáticos\n",
    "* Operadores lógicos\n",
    "* Listas\n",
    "* Dicionários\n",
    "* Zen of Python\n",
    "* `help`\n",
    "* Funções\n",
    "\n",
    "#### Hoje\n",
    "* Revisão funções"
   ]
  },
  {
   "cell_type": "code",
   "execution_count": null,
   "id": "72cc1d5f",
   "metadata": {},
   "outputs": [],
   "source": [
    "def cel_to_fahr(cel):\n",
    "    \"\"\"\n",
    "    Realiza conversão de Celsius para Fahrenheit.\n",
    "    \n",
    "    cel: valor em graus Celsius.\n",
    "    retorna: valor em graus Fahrenheit.\n",
    "    \"\"\"\n",
    "    \n",
    "    fahr = cel * 9/5 + 32\n",
    "    return fahr"
   ]
  },
  {
   "cell_type": "markdown",
   "id": "fc0b164f",
   "metadata": {},
   "source": [
    "### Aula 2 - 20 de abril\n",
    "\n",
    "**Tópicos de interesse:**\n",
    "- Banco de dados (SQL)\n",
    "- Modelagem (ETL)\n",
    "\n",
    "\n",
    "**Objetivo:** conseguir precisar fazer tarefas diferentes\n",
    "\n",
    "**Observação:** Dificuldade para instalar o Anaconda/VSCode\n",
    "\n",
    "**Próxima aula**\n",
    "* Revisão de sintaxe Python (desafios)\n",
    "* Conectar no [SSMS](https://docs.microsoft.com/en-us/sql/ssms/download-sql-server-management-studio-ssms?view=sql-server-ver15)\n",
    "* Usar o [`pyodbc`](https://towardsdatascience.com/sql-server-with-python-679b8dba69fa)"
   ]
  },
  {
   "cell_type": "markdown",
   "id": "b89a4419",
   "metadata": {},
   "source": [
    "### Aula 3 - 23 de abril\n",
    "* Desafios com listas e funções\n",
    "\n",
    "\n",
    "# Desafios"
   ]
  },
  {
   "cell_type": "markdown",
   "id": "94937eac",
   "metadata": {},
   "source": [
    "#### 1. Escreva uma função que remova todos os elementos com um determinado valor de uma lista.\n",
    "\n",
    "**Exemplo**\n",
    "```python\n",
    "lista = ['a', 'b', 'c', 'a']\n",
    "remove(lista, 'a')  # retorna ['b','c'].\n",
    "```"
   ]
  },
  {
   "cell_type": "code",
   "execution_count": null,
   "id": "8c18f8c4",
   "metadata": {},
   "outputs": [],
   "source": []
  },
  {
   "cell_type": "markdown",
   "id": "31af56d0",
   "metadata": {},
   "source": [
    "#### 2. Escreva um programa que receba uma lista e retorna a soma de cada elemento elevado ao cubo. Caso haja um elemento que não seja numero, deve retornar uma mensagem de erro."
   ]
  },
  {
   "cell_type": "code",
   "execution_count": null,
   "id": "05eac186",
   "metadata": {},
   "outputs": [],
   "source": []
  },
  {
   "cell_type": "markdown",
   "id": "031f4e43",
   "metadata": {},
   "source": [
    "#### 3. Escreva um programa que receba uma frase e retorne a palavra com mais letras `'e'`."
   ]
  },
  {
   "cell_type": "code",
   "execution_count": null,
   "id": "87cf99e5",
   "metadata": {},
   "outputs": [],
   "source": []
  },
  {
   "cell_type": "markdown",
   "id": "6858b4b9",
   "metadata": {},
   "source": [
    "#### 4. Escreva um programa que receba uma lista e retorne o valor mínimo e máximo da lista."
   ]
  },
  {
   "cell_type": "code",
   "execution_count": null,
   "id": "a957c093",
   "metadata": {},
   "outputs": [],
   "source": []
  },
  {
   "cell_type": "markdown",
   "id": "a3408084",
   "metadata": {},
   "source": [
    "#### 5. Escreva um programa que receba uma lista de strings e depois imprima quantos elementos contenham uma substring qualquer."
   ]
  },
  {
   "cell_type": "code",
   "execution_count": null,
   "id": "3a118ae6",
   "metadata": {},
   "outputs": [],
   "source": []
  },
  {
   "cell_type": "markdown",
   "id": "e4313205",
   "metadata": {},
   "source": [
    "#### 6. Escreva um programa que leia um arquivo de texto e escreva o número de linhas em um novo arquivo.\n",
    "\n",
    "**Exemplo**\n",
    "Suponha um arquivo de texto `input.txt` com seis linhas de conteúdo.\n",
    "O programa deve escrever um arquivo `output.txt` contendo o número 6."
   ]
  },
  {
   "cell_type": "code",
   "execution_count": null,
   "id": "42391ef6",
   "metadata": {},
   "outputs": [],
   "source": []
  }
 ],
 "metadata": {
  "kernelspec": {
   "display_name": "Python [conda env:xlab]",
   "language": "python",
   "name": "conda-env-xlab-py"
  },
  "language_info": {
   "codemirror_mode": {
    "name": "ipython",
    "version": 3
   },
   "file_extension": ".py",
   "mimetype": "text/x-python",
   "name": "python",
   "nbconvert_exporter": "python",
   "pygments_lexer": "ipython3",
   "version": "3.9.2"
  }
 },
 "nbformat": 4,
 "nbformat_minor": 5
}
