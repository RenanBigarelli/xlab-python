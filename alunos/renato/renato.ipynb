{
 "cells": [
  {
   "cell_type": "markdown",
   "id": "c846251a",
   "metadata": {},
   "source": [
    "### Aula 1 - 16 de abril de 2021\n",
    "\n",
    "- só meia hora de aula\n",
    "\n",
    "#### Até agora (última aula):\n",
    "* Variáveis\n",
    "* Tipos de dados\n",
    "* Operadores matemáticos\n",
    "* Operadores lógicos\n",
    "* Listas\n",
    "* Dicionários\n",
    "* Zen of Python\n",
    "* `help`\n",
    "* Funções\n",
    "\n",
    "#### Hoje\n",
    "* Revisão funções"
   ]
  },
  {
   "cell_type": "code",
   "execution_count": null,
   "id": "f18e1e2b",
   "metadata": {},
   "outputs": [],
   "source": [
    "def cel_to_fahr(cel):\n",
    "    \"\"\"\n",
    "    Realiza conversão de Celsius para Fahrenheit.\n",
    "    \n",
    "    cel: valor em graus Celsius.\n",
    "    retorna: valor em graus Fahrenheit.\n",
    "    \"\"\"\n",
    "    \n",
    "    fahr = cel * 9/5 + 32\n",
    "    return fahr"
   ]
  },
  {
   "cell_type": "markdown",
   "id": "00a75596",
   "metadata": {},
   "source": [
    "### Aula 2 - 20 de abril\n",
    "\n",
    "**Tópicos de interesse:**\n",
    "- Banco de dados (SQL)\n",
    "- Modelagem (ETL)\n",
    "\n",
    "\n",
    "**Objetivo:** conseguir precisar fazer tarefas diferentes\n",
    "\n",
    "**Observação:** Dificuldade para instalar o Anaconda/VSCode\n",
    "\n",
    "**Próxima aula**\n",
    "* Revisão de sintaxe Python (desafios)\n",
    "* Conectar no [SSMS](https://docs.microsoft.com/en-us/sql/ssms/download-sql-server-management-studio-ssms?view=sql-server-ver15)\n",
    "* Usar o [`pyodbc`](https://towardsdatascience.com/sql-server-with-python-679b8dba69fa)"
   ]
  },
  {
   "cell_type": "markdown",
   "id": "5d906aea",
   "metadata": {},
   "source": [
    "### Aula 3 - 23 de abril\n",
    "* Desafios com listas e funções\n",
    "\n",
    "#### Revisar\n",
    "* Funções built-in\n",
    "    * `print()`\n",
    "    * `type()`\n",
    "    * `len()`\n",
    "* Listas\n",
    "    * Métodos de lista\n",
    "        * `remove()`\n",
    "        * `append()`\n",
    "        * `pop()`\n",
    "    * Como ver os métodos de um objeto?\n",
    "        * Bote o nome do objeto com um ponto e aperte TAB\n",
    "        * `lista.` e `TAB`\n",
    "\n",
    "\n",
    "# Desafios"
   ]
  },
  {
   "cell_type": "markdown",
   "id": "643e3a6e",
   "metadata": {},
   "source": [
    "#### 1. Escreva uma função que remova todos os elementos com um determinado valor de uma lista.\n",
    "\n",
    "**Exemplo**\n",
    "```python\n",
    "lista = ['a', 'b', 'c', 'a']\n",
    "remove(lista, 'a')  # retorna ['b','c'].\n",
    "```"
   ]
  },
  {
   "cell_type": "code",
   "execution_count": null,
   "id": "d66a9a11",
   "metadata": {},
   "outputs": [],
   "source": [
    "# solucao 1\n",
    "lista = ['a', 'b', 'c', 'a']\n",
    "\n",
    "def remove(lista, x):\n",
    "    for value in lista:\n",
    "        if value == x:\n",
    "            lista.remove(x)\n",
    "            \n",
    "    return lista\n",
    "            \n",
    "            \n",
    "# solucao 2 - list comprehension\n",
    "def remove(lista, x):\n",
    "    nova_lista = [value for value in lista if value != x]\n",
    "    return nova_lista\n",
    "\n",
    "\n",
    "remove(lista, 'a')\n",
    "remove(lista, 'b')"
   ]
  },
  {
   "cell_type": "code",
   "execution_count": null,
   "id": "e13ec3b2",
   "metadata": {},
   "outputs": [],
   "source": [
    "# Pegadinhas de lista\n",
    "lista[0]  # indexação do 0\n",
    "lista[:3]  # fatia não-inclusiva"
   ]
  },
  {
   "cell_type": "code",
   "execution_count": null,
   "id": "bf5f84ed",
   "metadata": {},
   "outputs": [],
   "source": [
    "estado = \"São Paulo\""
   ]
  },
  {
   "cell_type": "markdown",
   "id": "32417171",
   "metadata": {},
   "source": [
    "#### 2. Escreva um programa que receba uma lista e retorna a soma de cada elemento elevado ao cubo. Caso haja um elemento que não seja numero, deve retornar uma mensagem de erro."
   ]
  },
  {
   "cell_type": "code",
   "execution_count": null,
   "id": "9aa4e4b5",
   "metadata": {},
   "outputs": [],
   "source": [
    "# dica: usar condicionais"
   ]
  },
  {
   "cell_type": "markdown",
   "id": "7b22931a",
   "metadata": {},
   "source": [
    "#### 3. Escreva um programa que receba uma frase e retorne a palavra com mais letras `'e'`."
   ]
  },
  {
   "cell_type": "code",
   "execution_count": null,
   "id": "ad39df71",
   "metadata": {},
   "outputs": [],
   "source": [
    "# dica: método `str.split()`"
   ]
  },
  {
   "cell_type": "markdown",
   "id": "009d482b",
   "metadata": {},
   "source": [
    "#### 4. Escreva um programa que receba uma lista e retorne o valor mínimo e máximo da lista."
   ]
  },
  {
   "cell_type": "code",
   "execution_count": null,
   "id": "6a9b7a4c",
   "metadata": {},
   "outputs": [],
   "source": [
    "# dica: funções builtin min() e max()"
   ]
  },
  {
   "cell_type": "markdown",
   "id": "147518e6",
   "metadata": {},
   "source": [
    "#### 5. Escreva um programa que receba uma lista de strings e depois imprima quantos elementos contenham uma substring qualquer."
   ]
  },
  {
   "cell_type": "code",
   "execution_count": null,
   "id": "e2dbebb0",
   "metadata": {},
   "outputs": [],
   "source": [
    "# dica: strings podem ser acessadas como listas"
   ]
  },
  {
   "cell_type": "markdown",
   "id": "61c1ac4c",
   "metadata": {},
   "source": [
    "#### 6. Escreva um programa que leia um arquivo de texto e escreva o número de linhas em um novo arquivo.\n",
    "\n",
    "**Exemplo**\n",
    "Suponha um arquivo de texto `input.txt` com seis linhas de conteúdo.\n",
    "O programa deve escrever um arquivo `output.txt` contendo o número 6."
   ]
  },
  {
   "cell_type": "code",
   "execution_count": null,
   "id": "12d00a29",
   "metadata": {},
   "outputs": [],
   "source": [
    "# dica: função builtin `open()`"
   ]
  },
  {
   "cell_type": "markdown",
   "id": "84cf2729",
   "metadata": {},
   "source": [
    "### Aula 4 - 05 de maio de 2021\n",
    "\n",
    "#### `for` loops e condicionais\n",
    "* `if`, `elif`, `else`\n",
    "    * Condições acompanham `if` e `elif`\n",
    "    * Podem ser combinadas usando as palavras `and` e `or`\n",
    "    * `else` pega todas as outras condições\n",
    "* Operadores lógicos"
   ]
  },
  {
   "cell_type": "code",
   "execution_count": null,
   "id": "86f9832f",
   "metadata": {},
   "outputs": [],
   "source": [
    "temperaturas = [0, 10, 20, 30, 40, 50, 100]\n",
    "\n",
    "for valor in temperaturas:\n",
    "    # faz alguma coisa SE depender de uma condição\n",
    "    if valor >= 40:\n",
    "        print(\"Muito quente! Temperatura: \", valor)\n",
    "    elif valor >= 30:\n",
    "        print(\"Um pouco quente. Temperatura: \", valor)\n",
    "    elif valor <= 10:\n",
    "        print(\"Muito frio! Temperatura: \", valor)\n",
    "    else:\n",
    "        print(\"De boa. Temperatura: \", valor)"
   ]
  },
  {
   "cell_type": "code",
   "execution_count": null,
   "id": "38d424f7",
   "metadata": {},
   "outputs": [],
   "source": [
    "# Operadores lógicos\n",
    "1 < 2\n",
    "2 > 1\n",
    "3 == 3\n",
    "2 <= 3\n",
    "3 >= 2\n",
    "1 != 0\n",
    "\"a\" in [0, 1, 2]"
   ]
  },
  {
   "cell_type": "code",
   "execution_count": null,
   "id": "5e1ab90e",
   "metadata": {},
   "outputs": [],
   "source": [
    "massas = [1, 20, 50, 100, 2000, 5000]\n",
    "velocidades = [1, 2000, 30, 100, 1000, 1]\n",
    "\n",
    "i = 0\n",
    "for i in range(6):\n",
    "    if massas[i] > 10 and velocidades[i] > 100:\n",
    "        print(\"Pesado e rápido.\", \"Massa: \", massas[i], \"Velocidade: \", velocidades[i])\n",
    "    elif massas[i] > 10 and velocidades[i] < 100:\n",
    "        print(\"Pesado e devagar\", \"Massa: \", massas[i], \"Velocidade: \", velocidades[i])"
   ]
  },
  {
   "cell_type": "markdown",
   "id": "9786e3f9",
   "metadata": {},
   "source": [
    "**Exercício:**\n",
    "\n",
    "Dada uma lista de nomes, imprimir todos os nomes que começam uma certa letra ou que acabam com uma outra letra.\n",
    "\n",
    "* Imprimir se começar com `'R'`, `'r'` ou com `'m'`.\n",
    "\n",
    "Ou, usando list comprehension, gerar uma nova lista"
   ]
  },
  {
   "cell_type": "code",
   "execution_count": null,
   "id": "a5e7fe71",
   "metadata": {},
   "outputs": [],
   "source": [
    "nomes = [\"Renato\", \"rodrigo\", \"Vinícius\", \"João\", \"Maria\", \"Mariana\"]"
   ]
  },
  {
   "cell_type": "code",
   "execution_count": null,
   "id": "0ea235a3",
   "metadata": {},
   "outputs": [],
   "source": [
    "for nome in nomes:\n",
    "    if nome[0].lower() == 'r' or nome[-1] == 'o':\n",
    "        print(nome)"
   ]
  },
  {
   "cell_type": "code",
   "execution_count": null,
   "id": "9d6cbf1f",
   "metadata": {},
   "outputs": [],
   "source": [
    "nomes_filtrados = [nome for nome in nomes if nome[0].lower() == 'r' or nome[-1] == 'o']\n",
    "nomes_filtrados"
   ]
  },
  {
   "cell_type": "code",
   "execution_count": null,
   "id": "e57122b2",
   "metadata": {},
   "outputs": [],
   "source": []
  }
 ],
 "metadata": {
  "kernelspec": {
   "display_name": "Python [conda env:xlab]",
   "language": "python",
   "name": "conda-env-xlab-py"
  },
  "language_info": {
   "codemirror_mode": {
    "name": "ipython",
    "version": 3
   },
   "file_extension": ".py",
   "mimetype": "text/x-python",
   "name": "python",
   "nbconvert_exporter": "python",
   "pygments_lexer": "ipython3",
   "version": "3.9.2"
  }
 },
 "nbformat": 4,
 "nbformat_minor": 5
}
