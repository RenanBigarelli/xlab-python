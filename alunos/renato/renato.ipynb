{
 "cells": [
  {
   "cell_type": "markdown",
   "id": "13a68644",
   "metadata": {},
   "source": [
    "### Aula 1 - 16 de abril de 2021\n",
    "\n",
    "- só meia hora de aula\n",
    "\n",
    "#### Até agora (última aula):\n",
    "* Variáveis\n",
    "* Tipos de dados\n",
    "* Operadores matemáticos\n",
    "* Operadores lógicos\n",
    "* Listas\n",
    "* Dicionários\n",
    "* Zen of Python\n",
    "* `help`\n",
    "* Funções\n",
    "\n",
    "#### Hoje\n",
    "* Revisão funções"
   ]
  },
  {
   "cell_type": "code",
   "execution_count": null,
   "id": "e1398b6a",
   "metadata": {},
   "outputs": [],
   "source": [
    "def cel_to_fahr(cel):\n",
    "    \"\"\"\n",
    "    Realiza conversão de Celsius para Fahrenheit.\n",
    "    \n",
    "    cel: valor em graus Celsius.\n",
    "    retorna: valor em graus Fahrenheit.\n",
    "    \"\"\"\n",
    "    \n",
    "    fahr = cel * 9/5 + 32\n",
    "    return fahr"
   ]
  },
  {
   "cell_type": "markdown",
   "id": "9b30c977",
   "metadata": {},
   "source": [
    "### Aula 2 - 20 de abril\n",
    "\n",
    "**Tópicos de interesse:**\n",
    "- Banco de dados (SQL)\n",
    "- Modelagem (ETL)\n",
    "\n",
    "\n",
    "**Objetivo:** conseguir precisar fazer tarefas diferentes\n",
    "\n",
    "**Observação:** Dificuldade para instalar o Anaconda/VSCode\n",
    "\n",
    "**Próxima aula**\n",
    "* Revisão de sintaxe Python (desafios)\n",
    "* Conectar no [SSMS](https://docs.microsoft.com/en-us/sql/ssms/download-sql-server-management-studio-ssms?view=sql-server-ver15)\n",
    "* Usar o [`pyodbc`](https://towardsdatascience.com/sql-server-with-python-679b8dba69fa)"
   ]
  },
  {
   "cell_type": "markdown",
   "id": "a7c900ad",
   "metadata": {},
   "source": [
    "### Aula 3 - 23 de abril\n",
    "* Desafios com listas e funções\n",
    "\n",
    "#### Revisar\n",
    "* Funções built-in\n",
    "    * `print()`\n",
    "    * `type()`\n",
    "    * `len()`\n",
    "* Listas\n",
    "    * Métodos de lista\n",
    "        * `remove()`\n",
    "        * `append()`\n",
    "        * `pop()`\n",
    "    * Como ver os métodos de um objeto?\n",
    "        * Bote o nome do objeto com um ponto e aperte TAB\n",
    "        * `lista.` e `TAB`\n",
    "\n",
    "\n",
    "# Desafios"
   ]
  },
  {
   "cell_type": "markdown",
   "id": "d05429c7",
   "metadata": {},
   "source": [
    "#### 1. Escreva uma função que remova todos os elementos com um determinado valor de uma lista.\n",
    "\n",
    "**Exemplo**\n",
    "```python\n",
    "lista = ['a', 'b', 'c', 'a']\n",
    "remove(lista, 'a')  # retorna ['b','c'].\n",
    "```"
   ]
  },
  {
   "cell_type": "code",
   "execution_count": null,
   "id": "8acdc7e3",
   "metadata": {},
   "outputs": [],
   "source": [
    "# solucao 1\n",
    "lista = ['a', 'b', 'c', 'a']\n",
    "\n",
    "def remove(lista, x):\n",
    "    for value in lista:\n",
    "        if value == x:\n",
    "            lista.remove(x)\n",
    "            \n",
    "    return lista\n",
    "            \n",
    "            \n",
    "# solucao 2 - list comprehension\n",
    "def remove(lista, x):\n",
    "    nova_lista = [value for value in lista if value != x]\n",
    "    return nova_lista\n",
    "\n",
    "\n",
    "remove(lista, 'a')"
   ]
  },
  {
   "cell_type": "code",
   "execution_count": null,
   "id": "b2cac416",
   "metadata": {},
   "outputs": [],
   "source": [
    "# Pegadinhas de lista\n",
    "lista[0]  # indexação do 0\n",
    "lista[:3]  # fatia não-inclusiva"
   ]
  },
  {
   "cell_type": "code",
   "execution_count": null,
   "id": "63df8641",
   "metadata": {},
   "outputs": [],
   "source": [
    "estado = \"São Paulo\""
   ]
  },
  {
   "cell_type": "markdown",
   "id": "58cdca24",
   "metadata": {},
   "source": [
    "#### 2. Escreva um programa que receba uma lista e retorna a soma de cada elemento elevado ao cubo. Caso haja um elemento que não seja numero, deve retornar uma mensagem de erro."
   ]
  },
  {
   "cell_type": "code",
   "execution_count": null,
   "id": "c20a0929",
   "metadata": {},
   "outputs": [],
   "source": []
  },
  {
   "cell_type": "markdown",
   "id": "5c5f6416",
   "metadata": {},
   "source": [
    "#### 3. Escreva um programa que receba uma frase e retorne a palavra com mais letras `'e'`."
   ]
  },
  {
   "cell_type": "code",
   "execution_count": null,
   "id": "d683e31a",
   "metadata": {},
   "outputs": [],
   "source": []
  },
  {
   "cell_type": "markdown",
   "id": "d2441795",
   "metadata": {},
   "source": [
    "#### 4. Escreva um programa que receba uma lista e retorne o valor mínimo e máximo da lista."
   ]
  },
  {
   "cell_type": "code",
   "execution_count": null,
   "id": "b5e445f3",
   "metadata": {},
   "outputs": [],
   "source": []
  },
  {
   "cell_type": "markdown",
   "id": "eb25a575",
   "metadata": {},
   "source": [
    "#### 5. Escreva um programa que receba uma lista de strings e depois imprima quantos elementos contenham uma substring qualquer."
   ]
  },
  {
   "cell_type": "code",
   "execution_count": null,
   "id": "191bc8d8",
   "metadata": {},
   "outputs": [],
   "source": []
  },
  {
   "cell_type": "markdown",
   "id": "2765517d",
   "metadata": {},
   "source": [
    "#### 6. Escreva um programa que leia um arquivo de texto e escreva o número de linhas em um novo arquivo.\n",
    "\n",
    "**Exemplo**\n",
    "Suponha um arquivo de texto `input.txt` com seis linhas de conteúdo.\n",
    "O programa deve escrever um arquivo `output.txt` contendo o número 6."
   ]
  },
  {
   "cell_type": "code",
   "execution_count": null,
   "id": "804cf6d5",
   "metadata": {},
   "outputs": [],
   "source": []
  }
 ],
 "metadata": {
  "kernelspec": {
   "display_name": "Python [conda env:xlab]",
   "language": "python",
   "name": "conda-env-xlab-py"
  },
  "language_info": {
   "codemirror_mode": {
    "name": "ipython",
    "version": 3
   },
   "file_extension": ".py",
   "mimetype": "text/x-python",
   "name": "python",
   "nbconvert_exporter": "python",
   "pygments_lexer": "ipython3",
   "version": "3.9.2"
  }
 },
 "nbformat": 4,
 "nbformat_minor": 5
}
