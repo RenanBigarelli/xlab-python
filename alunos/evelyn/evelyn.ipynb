{
 "cells": [
  {
   "cell_type": "markdown",
   "id": "f60895a8",
   "metadata": {},
   "source": [
    "### Aula 1 - 25 de maio de 2021\n",
    "\n",
    "* Códigos e bibliotecas conhecidas\n",
    "* Sintaxe\n",
    "    * Variáveis\n",
    "    * Tipos de dados\n",
    "    * Funções embutidas"
   ]
  },
  {
   "cell_type": "code",
   "execution_count": null,
   "id": "79a499d7",
   "metadata": {},
   "outputs": [],
   "source": []
  }
 ],
 "metadata": {
  "kernelspec": {
   "display_name": "Python [conda env:xlab]",
   "language": "python",
   "name": "conda-env-xlab-py"
  },
  "language_info": {
   "codemirror_mode": {
    "name": "ipython",
    "version": 3
   },
   "file_extension": ".py",
   "mimetype": "text/x-python",
   "name": "python",
   "nbconvert_exporter": "python",
   "pygments_lexer": "ipython3",
   "version": "3.9.2"
  }
 },
 "nbformat": 4,
 "nbformat_minor": 5
}
