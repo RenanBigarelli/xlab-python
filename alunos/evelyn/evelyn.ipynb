{
 "cells": [
  {
   "cell_type": "markdown",
   "id": "c57ed52b",
   "metadata": {},
   "source": [
    "### Aula 1 - 25 de maio de 2021\n",
    "\n",
    "* Códigos e bibliotecas conhecidas\n",
    "* Sintaxe\n",
    "    * Operadores aritméticos\n",
    "    * Variáveis\n",
    "    * Tipos de dados\n",
    "        * Numéricos: `int` e `float`\n",
    "        * Texto: `str`\n",
    "    * Funções embutidas\n",
    "        * `print()`\n",
    "        * `type()`\n",
    "    * Funções customizadas\n",
    "    * Diferença `print` e `return`\n",
    "    \n",
    "### Ponto-chave\n",
    "\n",
    "**Existem 3 tipos básicos de dados: `int`, `float` e `str`. As operações possíveis dependem do tipo de dado.**"
   ]
  },
  {
   "cell_type": "markdown",
   "id": "fbfa4d7b",
   "metadata": {},
   "source": [
    "#### Conversão de temperatura\n",
    "\n",
    "Como usar Python para converter temperaturas de graus Celsius (C) para graus Fahrenheit (F)?\n",
    "\n",
    "**Fórmula:** (0°C × 9/5) + 32 = 32°F\n",
    "\n",
    "Se eu tenho o valor 40 graus Celsius, é equivalente a quantos graus Fahrenheit?"
   ]
  },
  {
   "cell_type": "code",
   "execution_count": null,
   "id": "eca953a7",
   "metadata": {},
   "outputs": [],
   "source": [
    "celsius = 40\n",
    "fahr = (celsius * 9/5) + 32"
   ]
  },
  {
   "cell_type": "code",
   "execution_count": null,
   "id": "8828f7da",
   "metadata": {},
   "outputs": [],
   "source": [
    "def converter_celsius_fahr(celsius):\n",
    "    \"\"\"\n",
    "    Converte temperatura de Celsius para Fahrenheit.\n",
    "    \"\"\"\n",
    "    fahr = (celsius * 9/5) + 32\n",
    "    return fahr"
   ]
  },
  {
   "cell_type": "code",
   "execution_count": null,
   "id": "4a18ae1f",
   "metadata": {},
   "outputs": [],
   "source": [
    "fahr = converter_celsius_fahr(40)"
   ]
  },
  {
   "cell_type": "code",
   "execution_count": null,
   "id": "1c52abdb",
   "metadata": {},
   "outputs": [],
   "source": [
    "quatro = 2 + 2\n",
    "\n",
    "outro_quatro = print(2 + 2)"
   ]
  },
  {
   "cell_type": "code",
   "execution_count": null,
   "id": "a9819f9b",
   "metadata": {},
   "outputs": [],
   "source": [
    "type(outro_quatro)"
   ]
  },
  {
   "cell_type": "code",
   "execution_count": null,
   "id": "4233fd3a",
   "metadata": {},
   "outputs": [],
   "source": [
    "print(celsius, \"graus Celsius são\", fahr, \"graus Fahr.\")"
   ]
  },
  {
   "cell_type": "code",
   "execution_count": null,
   "id": "adab4fc0",
   "metadata": {},
   "outputs": [],
   "source": [
    "\"40 \" + \"graus Celsius\""
   ]
  },
  {
   "cell_type": "code",
   "execution_count": null,
   "id": "73ef1aa1",
   "metadata": {},
   "outputs": [],
   "source": [
    "type(fahr)"
   ]
  },
  {
   "cell_type": "code",
   "execution_count": null,
   "id": "378fe5c6",
   "metadata": {},
   "outputs": [],
   "source": [
    "type(True)"
   ]
  },
  {
   "cell_type": "markdown",
   "id": "be391741",
   "metadata": {},
   "source": [
    "### Aula 2 - 9 de junho de 2021\n",
    "\n",
    "* Revisão Aula 1\n",
    "* Bibliotecas\n",
    "    * **Explorando bibliotecas com TAB e `help()`**\n",
    "    * Acessar objetos da biblioteca com `math.` e TAB\n",
    "    * Três formas de conseguir ajuda\n",
    "        * `math.cos?`\n",
    "        * `help(math.cos)`\n",
    "        * `math.cos??`\n",
    "    * Várias formas de importar bibliotecas\n",
    "        * `import math`  # biblioteca inteira\n",
    "        * `import math as m`  # usando atalhos\n",
    "        * `from math import cos, pi`  # funções específicas\n",
    "* Estilo de código\n",
    "    * Boas práticas de import\n",
    "    * PEP-8\n",
    "    * Black\n",
    "* Pandas\n",
    "    * `df.columns` -> índice das colunas\n",
    "    * `df.index` -> índice das linhas\n",
    "    * `df.values` -> \"dados brutos\", matriz/array NumPy por baixo do DataFrame\n",
    "    \n",
    "### Ponto-chave\n",
    "\n",
    "**Ideia de DataFrame como matriz com nome de linhas e colunas (índices)**"
   ]
  },
  {
   "cell_type": "code",
   "execution_count": null,
   "id": "d75e80a4",
   "metadata": {},
   "outputs": [],
   "source": [
    "import json\n",
    "import pandas as pd"
   ]
  },
  {
   "cell_type": "code",
   "execution_count": null,
   "id": "7a793206",
   "metadata": {},
   "outputs": [],
   "source": [
    "df = pd.read_csv(\"gapminder_all.csv\", index_col=\"country\")"
   ]
  },
  {
   "cell_type": "markdown",
   "id": "b85612a1",
   "metadata": {},
   "source": [
    "### Encontro 3 - 16 de junho de 2021\n",
    "\n",
    "* DataFrames Pandas\n",
    "* Que operações no Pandas?\n",
    "    * Puxar dados do lake\n",
    "        * Formato Parquet, JSON ou CSV\n",
    "        * Estrutura já é possível de ver no HDFS\n",
    "    * Fazer ingestão\n",
    "    * Usar um filtro\n",
    "    * Fazer select\n",
    "* Explorando objetos\n",
    "    * `df.` + TAB\n",
    "    * Função embutida `dir()`\n",
    "    * Diferença entre métodos (funções específicas da classe) e atributos (valores da classe)\n",
    "* Métodos de DataFrame\n",
    "    * `df.head()`\n",
    "    * `df.tail()`\n",
    "    * df.columns\n",
    "    * df.index\n",
    "    * df.info()\n",
    "    * df.T\n",
    "    * df.describe()\n",
    "* Indexando e fatiando DataFrames\n",
    "    * `df.loc  # fatiando por nome`\n",
    "    * `df.iloc  # fatiando por número`\n",
    "    * Diferença entre `()` (chamar funções/métodos) e `[]` (fatias)\n",
    "    * Sempre na ordem linha, coluna\n",
    "\n",
    "### Notas\n",
    "* Pandas chama strings de `object`\n",
    "\n",
    "### Ponto-chave\n",
    "- **Diferença entre operações entre listas e estruturas de dados do Pandas e NumPy**\n",
    "- **Fatiando com `loc` e `iloc`**\n",
    "\n",
    "### Planejamento\n",
    "- **Aula 4:** aprofundar indexação e fatias\n",
    "- **Aula 5:** Merge, join e concatenate\n",
    "- **Aula 6 em diante:** Retornar sintaxe básica (listas, loops e condicionais)\n",
    "___"
   ]
  },
  {
   "cell_type": "code",
   "execution_count": null,
   "id": "3bf44df8",
   "metadata": {},
   "outputs": [],
   "source": [
    "df.loc\n",
    "df.iloc"
   ]
  },
  {
   "cell_type": "code",
   "execution_count": null,
   "id": "998e68e8",
   "metadata": {},
   "outputs": [],
   "source": [
    "type(df.loc[\"Brazil\", \"continent\"])"
   ]
  },
  {
   "cell_type": "code",
   "execution_count": null,
   "id": "e40a4562",
   "metadata": {},
   "outputs": [],
   "source": [
    "df.iloc[2, 0]"
   ]
  },
  {
   "cell_type": "code",
   "execution_count": null,
   "id": "c7a725e3",
   "metadata": {},
   "outputs": [],
   "source": [
    "query = df.iloc[[0,], [0,]]\n",
    "print(query)\n",
    "print(type(query))"
   ]
  },
  {
   "cell_type": "code",
   "execution_count": null,
   "id": "2376d160",
   "metadata": {},
   "outputs": [],
   "source": [
    "type(df.loc[\"Angola\", [\"gdpPercap_1952\", \"gdpPercap_1957\"]])"
   ]
  },
  {
   "cell_type": "code",
   "execution_count": null,
   "id": "d97530a6",
   "metadata": {},
   "outputs": [],
   "source": [
    "df.head()"
   ]
  },
  {
   "cell_type": "code",
   "execution_count": null,
   "id": "3aa52670",
   "metadata": {},
   "outputs": [],
   "source": []
  },
  {
   "cell_type": "code",
   "execution_count": null,
   "id": "af7dfb15",
   "metadata": {},
   "outputs": [],
   "source": []
  },
  {
   "cell_type": "code",
   "execution_count": null,
   "id": "a384c1cb",
   "metadata": {},
   "outputs": [],
   "source": []
  },
  {
   "cell_type": "code",
   "execution_count": null,
   "id": "6ccac0e8",
   "metadata": {},
   "outputs": [],
   "source": []
  },
  {
   "cell_type": "code",
   "execution_count": null,
   "id": "b2fe58ab",
   "metadata": {},
   "outputs": [],
   "source": [
    "df.head()"
   ]
  },
  {
   "cell_type": "code",
   "execution_count": null,
   "id": "63d9033b",
   "metadata": {},
   "outputs": [],
   "source": [
    "a = pd.Series([0, 1, 2])\n",
    "b = pd.Series([3, 4, 5])\n",
    "c = 3\n",
    "\n",
    "print(a + b)\n",
    "print(a * c)"
   ]
  },
  {
   "cell_type": "code",
   "execution_count": null,
   "id": "8d77e035",
   "metadata": {},
   "outputs": [],
   "source": [
    "df.head()"
   ]
  },
  {
   "cell_type": "code",
   "execution_count": null,
   "id": "1a9079b4",
   "metadata": {},
   "outputs": [],
   "source": [
    "type(df[\"continent\"])"
   ]
  },
  {
   "cell_type": "code",
   "execution_count": null,
   "id": "4a98aca6",
   "metadata": {},
   "outputs": [],
   "source": [
    "df[\"gdpPercap_1952\"].head()"
   ]
  },
  {
   "cell_type": "code",
   "execution_count": null,
   "id": "04d29f33",
   "metadata": {},
   "outputs": [],
   "source": [
    "pd.DataFrame"
   ]
  },
  {
   "cell_type": "code",
   "execution_count": null,
   "id": "7e667bac",
   "metadata": {},
   "outputs": [],
   "source": [
    "CamelCase\n",
    "meuObjeto\n",
    "\n",
    "snake_case"
   ]
  },
  {
   "cell_type": "code",
   "execution_count": null,
   "id": "75739f2e",
   "metadata": {},
   "outputs": [],
   "source": [
    "df.shape"
   ]
  },
  {
   "cell_type": "code",
   "execution_count": null,
   "id": "10d20e26",
   "metadata": {},
   "outputs": [],
   "source": [
    "lista = ['a', 'b', 'c']"
   ]
  },
  {
   "cell_type": "code",
   "execution_count": null,
   "id": "e111a848",
   "metadata": {},
   "outputs": [],
   "source": [
    "print(lista)"
   ]
  },
  {
   "cell_type": "code",
   "execution_count": null,
   "id": "c0e9c4a8",
   "metadata": {},
   "outputs": [],
   "source": [
    "lista.append('d')"
   ]
  },
  {
   "cell_type": "code",
   "execution_count": null,
   "id": "affc5bb0",
   "metadata": {},
   "outputs": [],
   "source": [
    "print(lista)"
   ]
  },
  {
   "cell_type": "code",
   "execution_count": null,
   "id": "36cf86c2",
   "metadata": {},
   "outputs": [],
   "source": [
    "tupla = ('a', 'b', 'c')"
   ]
  },
  {
   "cell_type": "code",
   "execution_count": null,
   "id": "2fea7eb5",
   "metadata": {},
   "outputs": [],
   "source": [
    "lista[0] = \"primeiro item\""
   ]
  },
  {
   "cell_type": "code",
   "execution_count": null,
   "id": "e5a1a2bc",
   "metadata": {},
   "outputs": [],
   "source": [
    "lista"
   ]
  },
  {
   "cell_type": "code",
   "execution_count": null,
   "id": "bb3a3413",
   "metadata": {},
   "outputs": [],
   "source": [
    "tupla[0] = \"primeiro item\""
   ]
  },
  {
   "cell_type": "markdown",
   "id": "024f7d9d",
   "metadata": {},
   "source": [
    "### Encontro 4 - 23 de junho de 2021\n",
    "\n",
    "* Retomar semana passada\n",
    "* Separadores em arquivos tabulares\n",
    "    * `'\\n'` -> nova linha\n",
    "    * `'\\t'` -> tab\n",
    "* Mexendo com DataFrames\n",
    "    * Indexação\n",
    "    * Fatias\n",
    "    * Condicionais\n",
    "    * Quando eu executo uma comparação de uma série com um valor, ele retorna a série e valores True/False para cada célula, e.x.: `df['continent'] == 'Africa']`\n",
    "    * Operadores de condicionais:\n",
    "        * `&` equivalente a 'and'\n",
    "        * `|` equivalente a 'or'\n",
    "        \n",
    "* Criando um script para separar continentes (ou qualquer coluna) em diferentes arquivos\n",
    "* `sys.argv` -> lista de parâmetros passados para o programa/script\n",
    "* `breakpoint()` -> 'entrar' no meio do programa para verificar o estado (útil para debuggar)\n",
    "\n",
    "### Pontos-chave\n",
    "* Diferença no retorno de selecionar um ponto (uma única célula), um vetor (uma série no eixo vertical ou horizontal), ou uma tabela (um subconjunto do DataFrame).\n",
    "* Posso filtrar / selecionar um DataFrame baseado em condicionais\n",
    "* Posso escrever um script Python para automatizar uma tarefa de processamento de dados\n",
    "\n",
    "### Planejamento\n",
    "- **Aula 5:** Retornar sintaxe básica (listas, loops e condicionais)\n",
    "- **Aula 6:** Merge, join e concatenate"
   ]
  },
  {
   "cell_type": "code",
   "execution_count": null,
   "id": "3bf5efb1",
   "metadata": {},
   "outputs": [],
   "source": [
    "import pandas as pd"
   ]
  },
  {
   "cell_type": "code",
   "execution_count": null,
   "id": "cc1555ff",
   "metadata": {},
   "outputs": [],
   "source": [
    "df = pd.read_csv('gapminder_all.csv', index_col='country')"
   ]
  },
  {
   "cell_type": "code",
   "execution_count": null,
   "id": "aa4d931a",
   "metadata": {},
   "outputs": [],
   "source": [
    "df.loc['Brazil', 'continent']"
   ]
  },
  {
   "cell_type": "code",
   "execution_count": null,
   "id": "e3c31b56",
   "metadata": {},
   "outputs": [],
   "source": [
    "countries = ['Brazil', 'Jamaica', 'United States']\n",
    "type(df.loc[countries, 'continent'])"
   ]
  },
  {
   "cell_type": "code",
   "execution_count": null,
   "id": "cc0b0769",
   "metadata": {},
   "outputs": [],
   "source": [
    "type(df.loc[countries, ['lifeExp_1957', 'lifeExp_2007']])"
   ]
  },
  {
   "cell_type": "code",
   "execution_count": null,
   "id": "95cd98d7",
   "metadata": {},
   "outputs": [],
   "source": [
    "continents = ['Americas', 'Africa']\n",
    "df['continent'].isin(continent)"
   ]
  },
  {
   "cell_type": "code",
   "execution_count": null,
   "id": "41eeb90b",
   "metadata": {},
   "outputs": [],
   "source": [
    "df['continent'] == 'Africa'"
   ]
  },
  {
   "cell_type": "code",
   "execution_count": null,
   "id": "d3dec4a8",
   "metadata": {},
   "outputs": [],
   "source": [
    "df[(df['continent'] == 'Africa') | (df['continent'] == 'Americas')]"
   ]
  },
  {
   "cell_type": "code",
   "execution_count": null,
   "id": "6e4660ba",
   "metadata": {},
   "outputs": [],
   "source": [
    "continents = list(df['continent'].unique())\n",
    "continents"
   ]
  },
  {
   "cell_type": "code",
   "execution_count": null,
   "id": "b125fe89",
   "metadata": {},
   "outputs": [],
   "source": [
    "for item in continents:\n",
    "    df_item = df[df['continent'] == item]\n",
    "    file_name = 'gapminder_' + item + '.csv'\n",
    "    df_item.to_csv(file_name)\n",
    "    print(\"Escreveu DataFrame com continente\", item, \"em\", file_name)"
   ]
  },
  {
   "cell_type": "code",
   "execution_count": null,
   "id": "08127f98",
   "metadata": {},
   "outputs": [],
   "source": [
    "df[df['continent'] == 'Africa']"
   ]
  },
  {
   "cell_type": "code",
   "execution_count": null,
   "id": "ca5bd4de",
   "metadata": {},
   "outputs": [],
   "source": []
  }
 ],
 "metadata": {
  "kernelspec": {
   "display_name": "Python [conda env:xlab]",
   "language": "python",
   "name": "conda-env-xlab-py"
  },
  "language_info": {
   "codemirror_mode": {
    "name": "ipython",
    "version": 3
   },
   "file_extension": ".py",
   "mimetype": "text/x-python",
   "name": "python",
   "nbconvert_exporter": "python",
   "pygments_lexer": "ipython3",
   "version": "3.9.2"
  }
 },
 "nbformat": 4,
 "nbformat_minor": 5
}
