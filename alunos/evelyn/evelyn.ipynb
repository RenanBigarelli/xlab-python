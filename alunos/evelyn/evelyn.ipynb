{
 "cells": [
  {
   "cell_type": "markdown",
   "id": "1292de40",
   "metadata": {},
   "source": [
    "### Aula 1 - 25 de maio de 2021\n",
    "\n",
    "* Códigos e bibliotecas conhecidas\n",
    "* Sintaxe\n",
    "    * Operadores aritméticos\n",
    "    * Variáveis\n",
    "    * Tipos de dados\n",
    "        * Numéricos: `int` e `float`\n",
    "        * Texto: `str`\n",
    "    * Funções embutidas\n",
    "        * `print()`\n",
    "        * `type()`\n",
    "    * Funções customizadas\n",
    "    * Diferença `print` e `return`\n",
    "    \n",
    "### Ponto-chave\n",
    "\n",
    "**Existem 3 tipos básicos de dados: `int`, `float` e `str`. As operações possíveis dependem do tipo de dado.**"
   ]
  },
  {
   "cell_type": "markdown",
   "id": "e38dd644",
   "metadata": {},
   "source": [
    "#### Conversão de temperatura\n",
    "\n",
    "Como usar Python para converter temperaturas de graus Celsius (C) para graus Fahrenheit (F)?\n",
    "\n",
    "**Fórmula:** (0°C × 9/5) + 32 = 32°F\n",
    "\n",
    "Se eu tenho o valor 40 graus Celsius, é equivalente a quantos graus Fahrenheit?"
   ]
  },
  {
   "cell_type": "code",
   "execution_count": null,
   "id": "ed27ee0a",
   "metadata": {},
   "outputs": [],
   "source": [
    "celsius = 40\n",
    "fahr = (celsius * 9/5) + 32"
   ]
  },
  {
   "cell_type": "code",
   "execution_count": null,
   "id": "50a05b7f",
   "metadata": {},
   "outputs": [],
   "source": [
    "def converter_celsius_fahr(celsius):\n",
    "    \"\"\"\n",
    "    Converte temperatura de Celsius para Fahrenheit.\n",
    "    \"\"\"\n",
    "    fahr = (celsius * 9/5) + 32\n",
    "    return fahr"
   ]
  },
  {
   "cell_type": "code",
   "execution_count": null,
   "id": "9a1dfa15",
   "metadata": {},
   "outputs": [],
   "source": [
    "fahr = converter_celsius_fahr(40)"
   ]
  },
  {
   "cell_type": "code",
   "execution_count": null,
   "id": "0909895f",
   "metadata": {},
   "outputs": [],
   "source": [
    "quatro = 2 + 2\n",
    "\n",
    "outro_quatro = print(2 + 2)"
   ]
  },
  {
   "cell_type": "code",
   "execution_count": null,
   "id": "14444c08",
   "metadata": {},
   "outputs": [],
   "source": [
    "type(outro_quatro)"
   ]
  },
  {
   "cell_type": "code",
   "execution_count": null,
   "id": "aa65db89",
   "metadata": {},
   "outputs": [],
   "source": [
    "print(celsius, \"graus Celsius são\", fahr, \"graus Fahr.\")"
   ]
  },
  {
   "cell_type": "code",
   "execution_count": null,
   "id": "971aa38f",
   "metadata": {},
   "outputs": [],
   "source": [
    "\"40 \" + \"graus Celsius\""
   ]
  },
  {
   "cell_type": "code",
   "execution_count": null,
   "id": "a3541685",
   "metadata": {},
   "outputs": [],
   "source": [
    "type(fahr)"
   ]
  },
  {
   "cell_type": "code",
   "execution_count": null,
   "id": "ab562e8a",
   "metadata": {},
   "outputs": [],
   "source": [
    "type(True)"
   ]
  },
  {
   "cell_type": "markdown",
   "id": "57c6f040",
   "metadata": {},
   "source": [
    "### Aula 2 - 9 de junho de 2021\n",
    "\n",
    "* Revisão Aula 1\n",
    "* Bibliotecas\n",
    "    * **Explorando bibliotecas com TAB e `help()`**\n",
    "    * Acessar objetos da biblioteca com `math.` e TAB\n",
    "    * Três formas de conseguir ajuda\n",
    "        * `math.cos?`\n",
    "        * `help(math.cos)`\n",
    "        * `math.cos??`\n",
    "    * Várias formas de importar bibliotecas\n",
    "        * `import math`  # biblioteca inteira\n",
    "        * `import math as m`  # usando atalhos\n",
    "        * `from math import cos, pi`  # funções específicas\n",
    "* Estilo de código\n",
    "    * Boas práticas de import\n",
    "    * PEP-8\n",
    "    * Black\n",
    "* Pandas\n",
    "    * `df.columns` -> índice das colunas\n",
    "    * `df.index` -> índice das linhas\n",
    "    * `df.values` -> \"dados brutos\", matriz/array NumPy por baixo do DataFrame\n",
    "    \n",
    "### Ponto-chave\n",
    "\n",
    "**Ideia de DataFrame como matriz com nome de linhas e colunas (índices)**"
   ]
  },
  {
   "cell_type": "code",
   "execution_count": null,
   "id": "d3877bf7",
   "metadata": {},
   "outputs": [],
   "source": [
    "import json\n",
    "import pandas as pd"
   ]
  },
  {
   "cell_type": "code",
   "execution_count": null,
   "id": "71dd5870",
   "metadata": {},
   "outputs": [],
   "source": [
    "df = pd.read_csv(\"gapminder_all.csv\", index_col=\"country\")"
   ]
  },
  {
   "cell_type": "markdown",
   "id": "bf2c0dce",
   "metadata": {},
   "source": [
    "### Encontro 3 - 16 de junho de 2021\n",
    "\n",
    "* DataFrames Pandas\n",
    "* Que operações no Pandas?\n",
    "    * Puxar dados do lake\n",
    "        * Formato Parquet, JSON ou CSV\n",
    "        * Estrutura já é possível de ver no HDFS\n",
    "    * Fazer ingestão\n",
    "    * Usar um filtro\n",
    "    * Fazer select\n",
    "* Explorando objetos\n",
    "    * `df.` + TAB\n",
    "    * Função embutida `dir()`\n",
    "    * Diferença entre métodos (funções específicas da classe) e atributos (valores da classe)\n",
    "* Métodos de DataFrame\n",
    "    * `df.head()`\n",
    "    * `df.tail()`\n",
    "    * df.columns\n",
    "    * df.index\n",
    "    * df.info()\n",
    "    * df.T\n",
    "    * df.describe()\n",
    "* Indexando e fatiando DataFrames\n",
    "    * `df.loc  # fatiando por nome`\n",
    "    * `df.iloc  # fatiando por número`\n",
    "    * Diferença entre `()` (chamar funções/métodos) e `[]` (fatias)\n",
    "    * Sempre na ordem linha, coluna\n",
    "\n",
    "### Notas\n",
    "* Pandas chama strings de `object`\n",
    "\n",
    "### Ponto-chave\n",
    "- **Diferença entre operações entre listas e estruturas de dados do Pandas e NumPy**\n",
    "- **Fatiando com `loc` e `iloc`**\n",
    "\n",
    "### Planejamento\n",
    "- **Aula 4:** aprofundar indexação e fatias\n",
    "- **Aula 5:** Merge, join e concatenate\n",
    "- **Aula 6 em diante:** Retornar sintaxe básica (listas, loops e condicionais)\n",
    "___"
   ]
  },
  {
   "cell_type": "code",
   "execution_count": null,
   "id": "0e0e185d",
   "metadata": {},
   "outputs": [],
   "source": [
    "df.loc\n",
    "df.iloc"
   ]
  },
  {
   "cell_type": "code",
   "execution_count": null,
   "id": "005ab0e8",
   "metadata": {},
   "outputs": [],
   "source": [
    "type(df.loc[\"Brazil\", \"continent\"])"
   ]
  },
  {
   "cell_type": "code",
   "execution_count": null,
   "id": "a71e6fbb",
   "metadata": {},
   "outputs": [],
   "source": [
    "df.iloc[2, 0]"
   ]
  },
  {
   "cell_type": "code",
   "execution_count": null,
   "id": "8824ef78",
   "metadata": {},
   "outputs": [],
   "source": [
    "query = df.iloc[[0,], [0,]]\n",
    "print(query)\n",
    "print(type(query))"
   ]
  },
  {
   "cell_type": "code",
   "execution_count": null,
   "id": "6e582420",
   "metadata": {},
   "outputs": [],
   "source": [
    "type(df.loc[\"Angola\", [\"gdpPercap_1952\", \"gdpPercap_1957\"]])"
   ]
  },
  {
   "cell_type": "code",
   "execution_count": null,
   "id": "be12713a",
   "metadata": {},
   "outputs": [],
   "source": [
    "df.head()"
   ]
  },
  {
   "cell_type": "code",
   "execution_count": null,
   "id": "98203b4a",
   "metadata": {},
   "outputs": [],
   "source": []
  },
  {
   "cell_type": "code",
   "execution_count": null,
   "id": "96864bba",
   "metadata": {},
   "outputs": [],
   "source": []
  },
  {
   "cell_type": "code",
   "execution_count": null,
   "id": "29fd23b3",
   "metadata": {},
   "outputs": [],
   "source": []
  },
  {
   "cell_type": "code",
   "execution_count": null,
   "id": "e8a61b47",
   "metadata": {},
   "outputs": [],
   "source": []
  },
  {
   "cell_type": "code",
   "execution_count": null,
   "id": "ecce2dbb",
   "metadata": {},
   "outputs": [],
   "source": [
    "df.head()"
   ]
  },
  {
   "cell_type": "code",
   "execution_count": null,
   "id": "44a6fb99",
   "metadata": {},
   "outputs": [],
   "source": [
    "a = pd.Series([0, 1, 2])\n",
    "b = pd.Series([3, 4, 5])\n",
    "c = 3\n",
    "\n",
    "print(a + b)\n",
    "print(a * c)"
   ]
  },
  {
   "cell_type": "code",
   "execution_count": null,
   "id": "08fc19b4",
   "metadata": {},
   "outputs": [],
   "source": [
    "df.head()"
   ]
  },
  {
   "cell_type": "code",
   "execution_count": null,
   "id": "1b41fa3b",
   "metadata": {},
   "outputs": [],
   "source": [
    "type(df[\"continent\"])"
   ]
  },
  {
   "cell_type": "code",
   "execution_count": null,
   "id": "23713936",
   "metadata": {},
   "outputs": [],
   "source": [
    "df[\"gdpPercap_1952\"].head()"
   ]
  },
  {
   "cell_type": "code",
   "execution_count": null,
   "id": "7c274abe",
   "metadata": {},
   "outputs": [],
   "source": [
    "pd.DataFrame"
   ]
  },
  {
   "cell_type": "code",
   "execution_count": null,
   "id": "b96db3fe",
   "metadata": {},
   "outputs": [],
   "source": [
    "CamelCase\n",
    "meuObjeto\n",
    "\n",
    "snake_case"
   ]
  },
  {
   "cell_type": "code",
   "execution_count": null,
   "id": "f5eaf0ee",
   "metadata": {},
   "outputs": [],
   "source": [
    "df.shape"
   ]
  },
  {
   "cell_type": "code",
   "execution_count": null,
   "id": "24a14369",
   "metadata": {},
   "outputs": [],
   "source": [
    "lista = ['a', 'b', 'c']"
   ]
  },
  {
   "cell_type": "code",
   "execution_count": null,
   "id": "d2811d3b",
   "metadata": {},
   "outputs": [],
   "source": [
    "print(lista)"
   ]
  },
  {
   "cell_type": "code",
   "execution_count": null,
   "id": "8891005b",
   "metadata": {},
   "outputs": [],
   "source": [
    "lista.append('d')"
   ]
  },
  {
   "cell_type": "code",
   "execution_count": null,
   "id": "85a2a3ef",
   "metadata": {},
   "outputs": [],
   "source": [
    "print(lista)"
   ]
  },
  {
   "cell_type": "code",
   "execution_count": null,
   "id": "6b0b7c97",
   "metadata": {},
   "outputs": [],
   "source": [
    "tupla = ('a', 'b', 'c')"
   ]
  },
  {
   "cell_type": "code",
   "execution_count": null,
   "id": "c201e4f9",
   "metadata": {},
   "outputs": [],
   "source": [
    "lista[0] = \"primeiro item\""
   ]
  },
  {
   "cell_type": "code",
   "execution_count": null,
   "id": "8ec9db05",
   "metadata": {},
   "outputs": [],
   "source": [
    "lista"
   ]
  },
  {
   "cell_type": "code",
   "execution_count": null,
   "id": "b56ffa29",
   "metadata": {},
   "outputs": [],
   "source": [
    "tupla[0] = \"primeiro item\""
   ]
  }
 ],
 "metadata": {
  "kernelspec": {
   "display_name": "Python [conda env:xlab]",
   "language": "python",
   "name": "conda-env-xlab-py"
  },
  "language_info": {
   "codemirror_mode": {
    "name": "ipython",
    "version": 3
   },
   "file_extension": ".py",
   "mimetype": "text/x-python",
   "name": "python",
   "nbconvert_exporter": "python",
   "pygments_lexer": "ipython3",
   "version": "3.9.2"
  }
 },
 "nbformat": 4,
 "nbformat_minor": 5
}
