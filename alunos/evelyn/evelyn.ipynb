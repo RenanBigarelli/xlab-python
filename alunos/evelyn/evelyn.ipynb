{
 "cells": [
  {
   "cell_type": "markdown",
   "id": "a3009169",
   "metadata": {},
   "source": [
    "### Aula 1 - 25 de maio de 2021\n",
    "\n",
    "* Códigos e bibliotecas conhecidas\n",
    "* Sintaxe\n",
    "    * Operadores aritméticos\n",
    "    * Variáveis\n",
    "    * Tipos de dados\n",
    "    * Funções embutidas\n",
    "        * `print()`\n",
    "        * `type()`\n",
    "    * Funções customizadas\n",
    "    * Diferença `print` e `return`"
   ]
  },
  {
   "cell_type": "markdown",
   "id": "e973c04d",
   "metadata": {},
   "source": [
    "#### Conversão de temperatura\n",
    "\n",
    "Como usar Python para converter temperaturas de graus Celsius (C) para graus Fahrenheit (F)?\n",
    "\n",
    "**Fórmula:** (0°C × 9/5) + 32 = 32°F\n",
    "\n",
    "Se eu tenho o valor 40 graus Celsius, é equivalente a quantos graus Fahrenheit?"
   ]
  },
  {
   "cell_type": "code",
   "execution_count": null,
   "id": "c6c7f78e",
   "metadata": {},
   "outputs": [],
   "source": [
    "celsius = 40\n",
    "fahr = (celsius * 9/5) + 32"
   ]
  },
  {
   "cell_type": "code",
   "execution_count": null,
   "id": "9274157f",
   "metadata": {},
   "outputs": [],
   "source": [
    "def converter_celsius_fahr(celsius):\n",
    "    \"\"\"\n",
    "    Converte temperatura de Celsius para Fahrenheit.\n",
    "    \"\"\"\n",
    "    fahr = (celsius * 9/5) + 32\n",
    "    return fahr"
   ]
  },
  {
   "cell_type": "code",
   "execution_count": null,
   "id": "d61d7c39",
   "metadata": {},
   "outputs": [],
   "source": [
    "fahr = converter_celsius_fahr(40)"
   ]
  },
  {
   "cell_type": "code",
   "execution_count": null,
   "id": "e3354b4f",
   "metadata": {},
   "outputs": [],
   "source": [
    "quatro = 2 + 2\n",
    "\n",
    "outro_quatro = print(2 + 2)"
   ]
  },
  {
   "cell_type": "code",
   "execution_count": null,
   "id": "8d48b3cd",
   "metadata": {},
   "outputs": [],
   "source": [
    "type(outro_quatro)"
   ]
  },
  {
   "cell_type": "code",
   "execution_count": null,
   "id": "42d44299",
   "metadata": {},
   "outputs": [],
   "source": [
    "print(celsius, \"graus Celsius são\", fahr, \"graus Fahr.\")"
   ]
  },
  {
   "cell_type": "code",
   "execution_count": null,
   "id": "fd14b4e4",
   "metadata": {},
   "outputs": [],
   "source": [
    "\"40 \" + \"graus Celsius\""
   ]
  },
  {
   "cell_type": "code",
   "execution_count": null,
   "id": "78a19595",
   "metadata": {},
   "outputs": [],
   "source": [
    "type(fahr)"
   ]
  },
  {
   "cell_type": "code",
   "execution_count": null,
   "id": "244cb4b1",
   "metadata": {},
   "outputs": [],
   "source": [
    "type(True)"
   ]
  },
  {
   "cell_type": "markdown",
   "id": "833eec50",
   "metadata": {},
   "source": [
    "### Aula 2 - 9 de junho de 2021\n",
    "\n",
    "* Aula 1\n",
    "* Bibliotecas\n",
    "    * **Explorando bibliotecas com TAB e `help()`**\n",
    "    * Acessar objetos da biblioteca com `math.` e TAB\n",
    "    * Três formas de conseguir ajuda\n",
    "        * `math.cos?`\n",
    "        * `help(math.cos)`\n",
    "        * `math.cos??`\n",
    "    * Várias formas de importar bibliotecas\n",
    "        * `import math`  # biblioteca inteira\n",
    "        * `import math as m`  # usando atalhos\n",
    "        * `from math import cos, pi`  # funções específicas\n",
    "* Estilo de código\n",
    "    * Boas práticas de import\n",
    "    * PEP-8\n",
    "    * Black\n",
    "* Pandas\n",
    "    * Ideia de DataFrame como matriz com nome de linhas e colunas (índices)\n",
    "    * `df.columns` -> índice das colunas\n",
    "    * `df.index` -> índice das linhas\n",
    "    * `df.values` -> \"dados brutos\", matriz/array NumPy por baixo do DataFrame"
   ]
  },
  {
   "cell_type": "code",
   "execution_count": null,
   "id": "5f498c2a",
   "metadata": {},
   "outputs": [],
   "source": [
    "import json\n",
    "import pandas as pd"
   ]
  },
  {
   "cell_type": "code",
   "execution_count": null,
   "id": "c2e54f59",
   "metadata": {},
   "outputs": [],
   "source": [
    "df = pd.read_csv(\"gapminder_all.csv\", index_col=\"country\")"
   ]
  }
 ],
 "metadata": {
  "kernelspec": {
   "display_name": "Python [conda env:xlab]",
   "language": "python",
   "name": "conda-env-xlab-py"
  },
  "language_info": {
   "codemirror_mode": {
    "name": "ipython",
    "version": 3
   },
   "file_extension": ".py",
   "mimetype": "text/x-python",
   "name": "python",
   "nbconvert_exporter": "python",
   "pygments_lexer": "ipython3",
   "version": "3.9.2"
  }
 },
 "nbformat": 4,
 "nbformat_minor": 5
}
