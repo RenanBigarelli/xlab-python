{
 "cells": [
  {
   "cell_type": "markdown",
   "id": "0934d5ed",
   "metadata": {},
   "source": [
    "### Aula 1 - 25 de maio de 2021\n",
    "\n",
    "* Códigos e bibliotecas conhecidas\n",
    "* Sintaxe\n",
    "    * Operadores aritméticos\n",
    "    * Variáveis\n",
    "    * Tipos de dados\n",
    "        * Numéricos: `int` e `float`\n",
    "        * Texto: `str`\n",
    "    * Funções embutidas\n",
    "        * `print()`\n",
    "        * `type()`\n",
    "    * Funções customizadas\n",
    "    * Diferença `print` e `return`\n",
    "    \n",
    "### Ponto-chave\n",
    "\n",
    "**Existem 3 tipos básicos de dados: `int`, `float` e `str`. As operações possíveis dependem do tipo de dado.**"
   ]
  },
  {
   "cell_type": "markdown",
   "id": "2dbb6d4e",
   "metadata": {},
   "source": [
    "#### Conversão de temperatura\n",
    "\n",
    "Como usar Python para converter temperaturas de graus Celsius (C) para graus Fahrenheit (F)?\n",
    "\n",
    "**Fórmula:** (0°C × 9/5) + 32 = 32°F\n",
    "\n",
    "Se eu tenho o valor 40 graus Celsius, é equivalente a quantos graus Fahrenheit?"
   ]
  },
  {
   "cell_type": "code",
   "execution_count": null,
   "id": "6aed0fbc",
   "metadata": {},
   "outputs": [],
   "source": [
    "celsius = 40\n",
    "fahr = (celsius * 9/5) + 32"
   ]
  },
  {
   "cell_type": "code",
   "execution_count": null,
   "id": "4f4cdd48",
   "metadata": {},
   "outputs": [],
   "source": [
    "def converter_celsius_fahr(celsius):\n",
    "    \"\"\"\n",
    "    Converte temperatura de Celsius para Fahrenheit.\n",
    "    \"\"\"\n",
    "    fahr = (celsius * 9/5) + 32\n",
    "    return fahr"
   ]
  },
  {
   "cell_type": "code",
   "execution_count": null,
   "id": "e9a2503d",
   "metadata": {},
   "outputs": [],
   "source": [
    "fahr = converter_celsius_fahr(40)"
   ]
  },
  {
   "cell_type": "code",
   "execution_count": null,
   "id": "b9d4a86f",
   "metadata": {},
   "outputs": [],
   "source": [
    "quatro = 2 + 2\n",
    "\n",
    "outro_quatro = print(2 + 2)"
   ]
  },
  {
   "cell_type": "code",
   "execution_count": null,
   "id": "55d9af36",
   "metadata": {},
   "outputs": [],
   "source": [
    "type(outro_quatro)"
   ]
  },
  {
   "cell_type": "code",
   "execution_count": null,
   "id": "fccba7a3",
   "metadata": {},
   "outputs": [],
   "source": [
    "print(celsius, \"graus Celsius são\", fahr, \"graus Fahr.\")"
   ]
  },
  {
   "cell_type": "code",
   "execution_count": null,
   "id": "28ad9639",
   "metadata": {},
   "outputs": [],
   "source": [
    "\"40 \" + \"graus Celsius\""
   ]
  },
  {
   "cell_type": "code",
   "execution_count": null,
   "id": "191cb7c9",
   "metadata": {},
   "outputs": [],
   "source": [
    "type(fahr)"
   ]
  },
  {
   "cell_type": "code",
   "execution_count": null,
   "id": "8718b26e",
   "metadata": {},
   "outputs": [],
   "source": [
    "type(True)"
   ]
  },
  {
   "cell_type": "markdown",
   "id": "c56ca27a",
   "metadata": {},
   "source": [
    "### Aula 2 - 9 de junho de 2021\n",
    "\n",
    "* Revisão Aula 1\n",
    "* Bibliotecas\n",
    "    * **Explorando bibliotecas com TAB e `help()`**\n",
    "    * Acessar objetos da biblioteca com `math.` e TAB\n",
    "    * Três formas de conseguir ajuda\n",
    "        * `math.cos?`\n",
    "        * `help(math.cos)`\n",
    "        * `math.cos??`\n",
    "    * Várias formas de importar bibliotecas\n",
    "        * `import math`  # biblioteca inteira\n",
    "        * `import math as m`  # usando atalhos\n",
    "        * `from math import cos, pi`  # funções específicas\n",
    "* Estilo de código\n",
    "    * Boas práticas de import\n",
    "    * PEP-8\n",
    "    * Black\n",
    "* Pandas\n",
    "    * `df.columns` -> índice das colunas\n",
    "    * `df.index` -> índice das linhas\n",
    "    * `df.values` -> \"dados brutos\", matriz/array NumPy por baixo do DataFrame\n",
    "    \n",
    "### Ponto-chave\n",
    "\n",
    "**Ideia de DataFrame como matriz com nome de linhas e colunas (índices)**"
   ]
  },
  {
   "cell_type": "code",
   "execution_count": 1,
   "id": "ab94e92d",
   "metadata": {},
   "outputs": [],
   "source": [
    "import json\n",
    "import pandas as pd"
   ]
  },
  {
   "cell_type": "code",
   "execution_count": 59,
   "id": "5efe6cef",
   "metadata": {},
   "outputs": [],
   "source": [
    "df = pd.read_csv(\"gapminder_all.csv\", index_col=\"country\")"
   ]
  },
  {
   "cell_type": "markdown",
   "id": "688293bd",
   "metadata": {},
   "source": [
    "### Encontro 3 - 16 de junho de 2021\n",
    "\n",
    "* DataFrames Pandas\n",
    "* Que operações no Pandas?\n",
    "    * Puxar dados do lake\n",
    "        * Formato Parquet, JSON ou CSV\n",
    "        * Estrutura já é possível de ver no HDFS\n",
    "    * Fazer ingestão\n",
    "    * Usar um filtro\n",
    "    * Fazer select\n",
    "* Explorando objetos\n",
    "    * `df.` + TAB\n",
    "    * Função embutida `dir()`\n",
    "    * Diferença entre métodos (funções específicas da classe) e atributos (valores da classe)\n",
    "* Métodos de DataFrame\n",
    "    * `df.head()`\n",
    "    * `df.tail()`\n",
    "    * df.columns\n",
    "    * df.index\n",
    "    * df.info()\n",
    "    * df.T\n",
    "    * df.describe()\n",
    "* Indexando e fatiando DataFrames\n",
    "    * `df.loc  # fatiando por nome`\n",
    "    * `df.iloc  # fatiando por número`\n",
    "    * Diferença entre `()` (chamar funções/métodos) e `[]` (fatias)\n",
    "    * Sempre na ordem linha, coluna\n",
    "\n",
    "### Notas\n",
    "* Pandas chama strings de `object`\n",
    "\n",
    "### Ponto-chave\n",
    "**Diferença entre operações entre listas e estruturas de dados do Pandas e NumPy**\n",
    "___"
   ]
  },
  {
   "cell_type": "code",
   "execution_count": 68,
   "id": "3fc897d4",
   "metadata": {},
   "outputs": [
    {
     "data": {
      "text/plain": [
       "country\n",
       "Algeria            2449.008185\n",
       "Angola             3520.610273\n",
       "Benin              1062.752200\n",
       "Botswana            851.241141\n",
       "Burkina Faso        543.255241\n",
       "                      ...     \n",
       "Switzerland       14734.232750\n",
       "Turkey             1969.100980\n",
       "United Kingdom     9979.508487\n",
       "Australia         10039.595640\n",
       "New Zealand       10556.575660\n",
       "Name: gdpPercap_1952, Length: 142, dtype: float64"
      ]
     },
     "execution_count": 68,
     "metadata": {},
     "output_type": "execute_result"
    }
   ],
   "source": [
    "df.loc\n",
    "df.iloc"
   ]
  },
  {
   "cell_type": "code",
   "execution_count": 83,
   "id": "298ee528",
   "metadata": {},
   "outputs": [
    {
     "data": {
      "text/plain": [
       "str"
      ]
     },
     "execution_count": 83,
     "metadata": {},
     "output_type": "execute_result"
    }
   ],
   "source": [
    "type(df.loc[\"Brazil\", \"continent\"])"
   ]
  },
  {
   "cell_type": "code",
   "execution_count": 76,
   "id": "fbac34eb",
   "metadata": {},
   "outputs": [
    {
     "data": {
      "text/plain": [
       "'Africa'"
      ]
     },
     "execution_count": 76,
     "metadata": {},
     "output_type": "execute_result"
    }
   ],
   "source": [
    "df.iloc[2, 0]"
   ]
  },
  {
   "cell_type": "code",
   "execution_count": 97,
   "id": "e4814e74",
   "metadata": {},
   "outputs": [
    {
     "name": "stdout",
     "output_type": "stream",
     "text": [
      "        continent\n",
      "country          \n",
      "Algeria    Africa\n",
      "<class 'pandas.core.frame.DataFrame'>\n"
     ]
    }
   ],
   "source": [
    "query = df.iloc[[0,], [0,]]\n",
    "print(query)\n",
    "print(type(query))"
   ]
  },
  {
   "cell_type": "code",
   "execution_count": 91,
   "id": "f3055bff",
   "metadata": {},
   "outputs": [
    {
     "data": {
      "text/plain": [
       "pandas.core.series.Series"
      ]
     },
     "execution_count": 91,
     "metadata": {},
     "output_type": "execute_result"
    }
   ],
   "source": [
    "type(df.loc[\"Angola\", [\"gdpPercap_1952\", \"gdpPercap_1957\"]])"
   ]
  },
  {
   "cell_type": "code",
   "execution_count": 79,
   "id": "2280042d",
   "metadata": {},
   "outputs": [
    {
     "data": {
      "text/html": [
       "<div>\n",
       "<style scoped>\n",
       "    .dataframe tbody tr th:only-of-type {\n",
       "        vertical-align: middle;\n",
       "    }\n",
       "\n",
       "    .dataframe tbody tr th {\n",
       "        vertical-align: top;\n",
       "    }\n",
       "\n",
       "    .dataframe thead th {\n",
       "        text-align: right;\n",
       "    }\n",
       "</style>\n",
       "<table border=\"1\" class=\"dataframe\">\n",
       "  <thead>\n",
       "    <tr style=\"text-align: right;\">\n",
       "      <th></th>\n",
       "      <th>continent</th>\n",
       "      <th>gdpPercap_1952</th>\n",
       "      <th>gdpPercap_1957</th>\n",
       "      <th>gdpPercap_1962</th>\n",
       "      <th>gdpPercap_1967</th>\n",
       "      <th>gdpPercap_1972</th>\n",
       "      <th>gdpPercap_1977</th>\n",
       "      <th>gdpPercap_1982</th>\n",
       "      <th>gdpPercap_1987</th>\n",
       "      <th>gdpPercap_1992</th>\n",
       "      <th>...</th>\n",
       "      <th>pop_1962</th>\n",
       "      <th>pop_1967</th>\n",
       "      <th>pop_1972</th>\n",
       "      <th>pop_1977</th>\n",
       "      <th>pop_1982</th>\n",
       "      <th>pop_1987</th>\n",
       "      <th>pop_1992</th>\n",
       "      <th>pop_1997</th>\n",
       "      <th>pop_2002</th>\n",
       "      <th>pop_2007</th>\n",
       "    </tr>\n",
       "    <tr>\n",
       "      <th>country</th>\n",
       "      <th></th>\n",
       "      <th></th>\n",
       "      <th></th>\n",
       "      <th></th>\n",
       "      <th></th>\n",
       "      <th></th>\n",
       "      <th></th>\n",
       "      <th></th>\n",
       "      <th></th>\n",
       "      <th></th>\n",
       "      <th></th>\n",
       "      <th></th>\n",
       "      <th></th>\n",
       "      <th></th>\n",
       "      <th></th>\n",
       "      <th></th>\n",
       "      <th></th>\n",
       "      <th></th>\n",
       "      <th></th>\n",
       "      <th></th>\n",
       "      <th></th>\n",
       "    </tr>\n",
       "  </thead>\n",
       "  <tbody>\n",
       "    <tr>\n",
       "      <th>Algeria</th>\n",
       "      <td>Africa</td>\n",
       "      <td>2449.008185</td>\n",
       "      <td>3013.976023</td>\n",
       "      <td>2550.816880</td>\n",
       "      <td>3246.991771</td>\n",
       "      <td>4182.663766</td>\n",
       "      <td>4910.416756</td>\n",
       "      <td>5745.160213</td>\n",
       "      <td>5681.358539</td>\n",
       "      <td>5023.216647</td>\n",
       "      <td>...</td>\n",
       "      <td>11000948.0</td>\n",
       "      <td>12760499.0</td>\n",
       "      <td>14760787.0</td>\n",
       "      <td>17152804.0</td>\n",
       "      <td>20033753.0</td>\n",
       "      <td>23254956.0</td>\n",
       "      <td>26298373.0</td>\n",
       "      <td>29072015.0</td>\n",
       "      <td>31287142</td>\n",
       "      <td>33333216</td>\n",
       "    </tr>\n",
       "    <tr>\n",
       "      <th>Angola</th>\n",
       "      <td>Africa</td>\n",
       "      <td>3520.610273</td>\n",
       "      <td>3827.940465</td>\n",
       "      <td>4269.276742</td>\n",
       "      <td>5522.776375</td>\n",
       "      <td>5473.288005</td>\n",
       "      <td>3008.647355</td>\n",
       "      <td>2756.953672</td>\n",
       "      <td>2430.208311</td>\n",
       "      <td>2627.845685</td>\n",
       "      <td>...</td>\n",
       "      <td>4826015.0</td>\n",
       "      <td>5247469.0</td>\n",
       "      <td>5894858.0</td>\n",
       "      <td>6162675.0</td>\n",
       "      <td>7016384.0</td>\n",
       "      <td>7874230.0</td>\n",
       "      <td>8735988.0</td>\n",
       "      <td>9875024.0</td>\n",
       "      <td>10866106</td>\n",
       "      <td>12420476</td>\n",
       "    </tr>\n",
       "    <tr>\n",
       "      <th>Benin</th>\n",
       "      <td>Africa</td>\n",
       "      <td>1062.752200</td>\n",
       "      <td>959.601080</td>\n",
       "      <td>949.499064</td>\n",
       "      <td>1035.831411</td>\n",
       "      <td>1085.796879</td>\n",
       "      <td>1029.161251</td>\n",
       "      <td>1277.897616</td>\n",
       "      <td>1225.856010</td>\n",
       "      <td>1191.207681</td>\n",
       "      <td>...</td>\n",
       "      <td>2151895.0</td>\n",
       "      <td>2427334.0</td>\n",
       "      <td>2761407.0</td>\n",
       "      <td>3168267.0</td>\n",
       "      <td>3641603.0</td>\n",
       "      <td>4243788.0</td>\n",
       "      <td>4981671.0</td>\n",
       "      <td>6066080.0</td>\n",
       "      <td>7026113</td>\n",
       "      <td>8078314</td>\n",
       "    </tr>\n",
       "    <tr>\n",
       "      <th>Botswana</th>\n",
       "      <td>Africa</td>\n",
       "      <td>851.241141</td>\n",
       "      <td>918.232535</td>\n",
       "      <td>983.653976</td>\n",
       "      <td>1214.709294</td>\n",
       "      <td>2263.611114</td>\n",
       "      <td>3214.857818</td>\n",
       "      <td>4551.142150</td>\n",
       "      <td>6205.883850</td>\n",
       "      <td>7954.111645</td>\n",
       "      <td>...</td>\n",
       "      <td>512764.0</td>\n",
       "      <td>553541.0</td>\n",
       "      <td>619351.0</td>\n",
       "      <td>781472.0</td>\n",
       "      <td>970347.0</td>\n",
       "      <td>1151184.0</td>\n",
       "      <td>1342614.0</td>\n",
       "      <td>1536536.0</td>\n",
       "      <td>1630347</td>\n",
       "      <td>1639131</td>\n",
       "    </tr>\n",
       "    <tr>\n",
       "      <th>Burkina Faso</th>\n",
       "      <td>Africa</td>\n",
       "      <td>543.255241</td>\n",
       "      <td>617.183465</td>\n",
       "      <td>722.512021</td>\n",
       "      <td>794.826560</td>\n",
       "      <td>854.735976</td>\n",
       "      <td>743.387037</td>\n",
       "      <td>807.198586</td>\n",
       "      <td>912.063142</td>\n",
       "      <td>931.752773</td>\n",
       "      <td>...</td>\n",
       "      <td>4919632.0</td>\n",
       "      <td>5127935.0</td>\n",
       "      <td>5433886.0</td>\n",
       "      <td>5889574.0</td>\n",
       "      <td>6634596.0</td>\n",
       "      <td>7586551.0</td>\n",
       "      <td>8878303.0</td>\n",
       "      <td>10352843.0</td>\n",
       "      <td>12251209</td>\n",
       "      <td>14326203</td>\n",
       "    </tr>\n",
       "  </tbody>\n",
       "</table>\n",
       "<p>5 rows × 37 columns</p>\n",
       "</div>"
      ],
      "text/plain": [
       "             continent  gdpPercap_1952  gdpPercap_1957  gdpPercap_1962  \\\n",
       "country                                                                  \n",
       "Algeria         Africa     2449.008185     3013.976023     2550.816880   \n",
       "Angola          Africa     3520.610273     3827.940465     4269.276742   \n",
       "Benin           Africa     1062.752200      959.601080      949.499064   \n",
       "Botswana        Africa      851.241141      918.232535      983.653976   \n",
       "Burkina Faso    Africa      543.255241      617.183465      722.512021   \n",
       "\n",
       "              gdpPercap_1967  gdpPercap_1972  gdpPercap_1977  gdpPercap_1982  \\\n",
       "country                                                                        \n",
       "Algeria          3246.991771     4182.663766     4910.416756     5745.160213   \n",
       "Angola           5522.776375     5473.288005     3008.647355     2756.953672   \n",
       "Benin            1035.831411     1085.796879     1029.161251     1277.897616   \n",
       "Botswana         1214.709294     2263.611114     3214.857818     4551.142150   \n",
       "Burkina Faso      794.826560      854.735976      743.387037      807.198586   \n",
       "\n",
       "              gdpPercap_1987  gdpPercap_1992  ...    pop_1962    pop_1967  \\\n",
       "country                                       ...                           \n",
       "Algeria          5681.358539     5023.216647  ...  11000948.0  12760499.0   \n",
       "Angola           2430.208311     2627.845685  ...   4826015.0   5247469.0   \n",
       "Benin            1225.856010     1191.207681  ...   2151895.0   2427334.0   \n",
       "Botswana         6205.883850     7954.111645  ...    512764.0    553541.0   \n",
       "Burkina Faso      912.063142      931.752773  ...   4919632.0   5127935.0   \n",
       "\n",
       "                pop_1972    pop_1977    pop_1982    pop_1987    pop_1992  \\\n",
       "country                                                                    \n",
       "Algeria       14760787.0  17152804.0  20033753.0  23254956.0  26298373.0   \n",
       "Angola         5894858.0   6162675.0   7016384.0   7874230.0   8735988.0   \n",
       "Benin          2761407.0   3168267.0   3641603.0   4243788.0   4981671.0   \n",
       "Botswana        619351.0    781472.0    970347.0   1151184.0   1342614.0   \n",
       "Burkina Faso   5433886.0   5889574.0   6634596.0   7586551.0   8878303.0   \n",
       "\n",
       "                pop_1997  pop_2002  pop_2007  \n",
       "country                                       \n",
       "Algeria       29072015.0  31287142  33333216  \n",
       "Angola         9875024.0  10866106  12420476  \n",
       "Benin          6066080.0   7026113   8078314  \n",
       "Botswana       1536536.0   1630347   1639131  \n",
       "Burkina Faso  10352843.0  12251209  14326203  \n",
       "\n",
       "[5 rows x 37 columns]"
      ]
     },
     "execution_count": 79,
     "metadata": {},
     "output_type": "execute_result"
    }
   ],
   "source": [
    "df.head()"
   ]
  },
  {
   "cell_type": "code",
   "execution_count": null,
   "id": "cf587d51",
   "metadata": {},
   "outputs": [],
   "source": []
  },
  {
   "cell_type": "code",
   "execution_count": null,
   "id": "7255a7df",
   "metadata": {},
   "outputs": [],
   "source": []
  },
  {
   "cell_type": "code",
   "execution_count": null,
   "id": "644f96dc",
   "metadata": {},
   "outputs": [],
   "source": []
  },
  {
   "cell_type": "code",
   "execution_count": null,
   "id": "712e1654",
   "metadata": {},
   "outputs": [],
   "source": []
  },
  {
   "cell_type": "code",
   "execution_count": 33,
   "id": "f6262999",
   "metadata": {},
   "outputs": [
    {
     "data": {
      "text/html": [
       "<div>\n",
       "<style scoped>\n",
       "    .dataframe tbody tr th:only-of-type {\n",
       "        vertical-align: middle;\n",
       "    }\n",
       "\n",
       "    .dataframe tbody tr th {\n",
       "        vertical-align: top;\n",
       "    }\n",
       "\n",
       "    .dataframe thead th {\n",
       "        text-align: right;\n",
       "    }\n",
       "</style>\n",
       "<table border=\"1\" class=\"dataframe\">\n",
       "  <thead>\n",
       "    <tr style=\"text-align: right;\">\n",
       "      <th></th>\n",
       "      <th>continent</th>\n",
       "      <th>gdpPercap_1952</th>\n",
       "      <th>gdpPercap_1957</th>\n",
       "      <th>gdpPercap_1962</th>\n",
       "      <th>gdpPercap_1967</th>\n",
       "      <th>gdpPercap_1972</th>\n",
       "      <th>gdpPercap_1977</th>\n",
       "      <th>gdpPercap_1982</th>\n",
       "      <th>gdpPercap_1987</th>\n",
       "      <th>gdpPercap_1992</th>\n",
       "      <th>...</th>\n",
       "      <th>pop_1962</th>\n",
       "      <th>pop_1967</th>\n",
       "      <th>pop_1972</th>\n",
       "      <th>pop_1977</th>\n",
       "      <th>pop_1982</th>\n",
       "      <th>pop_1987</th>\n",
       "      <th>pop_1992</th>\n",
       "      <th>pop_1997</th>\n",
       "      <th>pop_2002</th>\n",
       "      <th>pop_2007</th>\n",
       "    </tr>\n",
       "    <tr>\n",
       "      <th>country</th>\n",
       "      <th></th>\n",
       "      <th></th>\n",
       "      <th></th>\n",
       "      <th></th>\n",
       "      <th></th>\n",
       "      <th></th>\n",
       "      <th></th>\n",
       "      <th></th>\n",
       "      <th></th>\n",
       "      <th></th>\n",
       "      <th></th>\n",
       "      <th></th>\n",
       "      <th></th>\n",
       "      <th></th>\n",
       "      <th></th>\n",
       "      <th></th>\n",
       "      <th></th>\n",
       "      <th></th>\n",
       "      <th></th>\n",
       "      <th></th>\n",
       "      <th></th>\n",
       "    </tr>\n",
       "  </thead>\n",
       "  <tbody>\n",
       "    <tr>\n",
       "      <th>Algeria</th>\n",
       "      <td>Africa</td>\n",
       "      <td>2449.008185</td>\n",
       "      <td>3013.976023</td>\n",
       "      <td>2550.816880</td>\n",
       "      <td>3246.991771</td>\n",
       "      <td>4182.663766</td>\n",
       "      <td>4910.416756</td>\n",
       "      <td>5745.160213</td>\n",
       "      <td>5681.358539</td>\n",
       "      <td>5023.216647</td>\n",
       "      <td>...</td>\n",
       "      <td>11000948.0</td>\n",
       "      <td>12760499.0</td>\n",
       "      <td>14760787.0</td>\n",
       "      <td>17152804.0</td>\n",
       "      <td>20033753.0</td>\n",
       "      <td>23254956.0</td>\n",
       "      <td>26298373.0</td>\n",
       "      <td>29072015.0</td>\n",
       "      <td>31287142</td>\n",
       "      <td>33333216</td>\n",
       "    </tr>\n",
       "    <tr>\n",
       "      <th>Angola</th>\n",
       "      <td>Africa</td>\n",
       "      <td>3520.610273</td>\n",
       "      <td>3827.940465</td>\n",
       "      <td>4269.276742</td>\n",
       "      <td>5522.776375</td>\n",
       "      <td>5473.288005</td>\n",
       "      <td>3008.647355</td>\n",
       "      <td>2756.953672</td>\n",
       "      <td>2430.208311</td>\n",
       "      <td>2627.845685</td>\n",
       "      <td>...</td>\n",
       "      <td>4826015.0</td>\n",
       "      <td>5247469.0</td>\n",
       "      <td>5894858.0</td>\n",
       "      <td>6162675.0</td>\n",
       "      <td>7016384.0</td>\n",
       "      <td>7874230.0</td>\n",
       "      <td>8735988.0</td>\n",
       "      <td>9875024.0</td>\n",
       "      <td>10866106</td>\n",
       "      <td>12420476</td>\n",
       "    </tr>\n",
       "    <tr>\n",
       "      <th>Benin</th>\n",
       "      <td>Africa</td>\n",
       "      <td>1062.752200</td>\n",
       "      <td>959.601080</td>\n",
       "      <td>949.499064</td>\n",
       "      <td>1035.831411</td>\n",
       "      <td>1085.796879</td>\n",
       "      <td>1029.161251</td>\n",
       "      <td>1277.897616</td>\n",
       "      <td>1225.856010</td>\n",
       "      <td>1191.207681</td>\n",
       "      <td>...</td>\n",
       "      <td>2151895.0</td>\n",
       "      <td>2427334.0</td>\n",
       "      <td>2761407.0</td>\n",
       "      <td>3168267.0</td>\n",
       "      <td>3641603.0</td>\n",
       "      <td>4243788.0</td>\n",
       "      <td>4981671.0</td>\n",
       "      <td>6066080.0</td>\n",
       "      <td>7026113</td>\n",
       "      <td>8078314</td>\n",
       "    </tr>\n",
       "    <tr>\n",
       "      <th>Botswana</th>\n",
       "      <td>Africa</td>\n",
       "      <td>851.241141</td>\n",
       "      <td>918.232535</td>\n",
       "      <td>983.653976</td>\n",
       "      <td>1214.709294</td>\n",
       "      <td>2263.611114</td>\n",
       "      <td>3214.857818</td>\n",
       "      <td>4551.142150</td>\n",
       "      <td>6205.883850</td>\n",
       "      <td>7954.111645</td>\n",
       "      <td>...</td>\n",
       "      <td>512764.0</td>\n",
       "      <td>553541.0</td>\n",
       "      <td>619351.0</td>\n",
       "      <td>781472.0</td>\n",
       "      <td>970347.0</td>\n",
       "      <td>1151184.0</td>\n",
       "      <td>1342614.0</td>\n",
       "      <td>1536536.0</td>\n",
       "      <td>1630347</td>\n",
       "      <td>1639131</td>\n",
       "    </tr>\n",
       "    <tr>\n",
       "      <th>Burkina Faso</th>\n",
       "      <td>Africa</td>\n",
       "      <td>543.255241</td>\n",
       "      <td>617.183465</td>\n",
       "      <td>722.512021</td>\n",
       "      <td>794.826560</td>\n",
       "      <td>854.735976</td>\n",
       "      <td>743.387037</td>\n",
       "      <td>807.198586</td>\n",
       "      <td>912.063142</td>\n",
       "      <td>931.752773</td>\n",
       "      <td>...</td>\n",
       "      <td>4919632.0</td>\n",
       "      <td>5127935.0</td>\n",
       "      <td>5433886.0</td>\n",
       "      <td>5889574.0</td>\n",
       "      <td>6634596.0</td>\n",
       "      <td>7586551.0</td>\n",
       "      <td>8878303.0</td>\n",
       "      <td>10352843.0</td>\n",
       "      <td>12251209</td>\n",
       "      <td>14326203</td>\n",
       "    </tr>\n",
       "  </tbody>\n",
       "</table>\n",
       "<p>5 rows × 37 columns</p>\n",
       "</div>"
      ],
      "text/plain": [
       "             continent  gdpPercap_1952  gdpPercap_1957  gdpPercap_1962  \\\n",
       "country                                                                  \n",
       "Algeria         Africa     2449.008185     3013.976023     2550.816880   \n",
       "Angola          Africa     3520.610273     3827.940465     4269.276742   \n",
       "Benin           Africa     1062.752200      959.601080      949.499064   \n",
       "Botswana        Africa      851.241141      918.232535      983.653976   \n",
       "Burkina Faso    Africa      543.255241      617.183465      722.512021   \n",
       "\n",
       "              gdpPercap_1967  gdpPercap_1972  gdpPercap_1977  gdpPercap_1982  \\\n",
       "country                                                                        \n",
       "Algeria          3246.991771     4182.663766     4910.416756     5745.160213   \n",
       "Angola           5522.776375     5473.288005     3008.647355     2756.953672   \n",
       "Benin            1035.831411     1085.796879     1029.161251     1277.897616   \n",
       "Botswana         1214.709294     2263.611114     3214.857818     4551.142150   \n",
       "Burkina Faso      794.826560      854.735976      743.387037      807.198586   \n",
       "\n",
       "              gdpPercap_1987  gdpPercap_1992  ...    pop_1962    pop_1967  \\\n",
       "country                                       ...                           \n",
       "Algeria          5681.358539     5023.216647  ...  11000948.0  12760499.0   \n",
       "Angola           2430.208311     2627.845685  ...   4826015.0   5247469.0   \n",
       "Benin            1225.856010     1191.207681  ...   2151895.0   2427334.0   \n",
       "Botswana         6205.883850     7954.111645  ...    512764.0    553541.0   \n",
       "Burkina Faso      912.063142      931.752773  ...   4919632.0   5127935.0   \n",
       "\n",
       "                pop_1972    pop_1977    pop_1982    pop_1987    pop_1992  \\\n",
       "country                                                                    \n",
       "Algeria       14760787.0  17152804.0  20033753.0  23254956.0  26298373.0   \n",
       "Angola         5894858.0   6162675.0   7016384.0   7874230.0   8735988.0   \n",
       "Benin          2761407.0   3168267.0   3641603.0   4243788.0   4981671.0   \n",
       "Botswana        619351.0    781472.0    970347.0   1151184.0   1342614.0   \n",
       "Burkina Faso   5433886.0   5889574.0   6634596.0   7586551.0   8878303.0   \n",
       "\n",
       "                pop_1997  pop_2002  pop_2007  \n",
       "country                                       \n",
       "Algeria       29072015.0  31287142  33333216  \n",
       "Angola         9875024.0  10866106  12420476  \n",
       "Benin          6066080.0   7026113   8078314  \n",
       "Botswana       1536536.0   1630347   1639131  \n",
       "Burkina Faso  10352843.0  12251209  14326203  \n",
       "\n",
       "[5 rows x 37 columns]"
      ]
     },
     "execution_count": 33,
     "metadata": {},
     "output_type": "execute_result"
    }
   ],
   "source": [
    "df.head()"
   ]
  },
  {
   "cell_type": "code",
   "execution_count": 45,
   "id": "cee089b4",
   "metadata": {},
   "outputs": [
    {
     "data": {
      "text/plain": [
       "array([0, 3, 6])"
      ]
     },
     "execution_count": 45,
     "metadata": {},
     "output_type": "execute_result"
    }
   ],
   "source": [
    "a = pd.Series([0, 1, 2])\n",
    "b = pd.Series([3, 4, 5])\n",
    "c = 3\n",
    "\n",
    "print(a + b)\n",
    "print(a * c)"
   ]
  },
  {
   "cell_type": "code",
   "execution_count": 51,
   "id": "9271d983",
   "metadata": {},
   "outputs": [
    {
     "data": {
      "text/html": [
       "<div>\n",
       "<style scoped>\n",
       "    .dataframe tbody tr th:only-of-type {\n",
       "        vertical-align: middle;\n",
       "    }\n",
       "\n",
       "    .dataframe tbody tr th {\n",
       "        vertical-align: top;\n",
       "    }\n",
       "\n",
       "    .dataframe thead th {\n",
       "        text-align: right;\n",
       "    }\n",
       "</style>\n",
       "<table border=\"1\" class=\"dataframe\">\n",
       "  <thead>\n",
       "    <tr style=\"text-align: right;\">\n",
       "      <th></th>\n",
       "      <th>continent</th>\n",
       "      <th>gdpPercap_1952</th>\n",
       "      <th>gdpPercap_1957</th>\n",
       "      <th>gdpPercap_1962</th>\n",
       "      <th>gdpPercap_1967</th>\n",
       "      <th>gdpPercap_1972</th>\n",
       "      <th>gdpPercap_1977</th>\n",
       "      <th>gdpPercap_1982</th>\n",
       "      <th>gdpPercap_1987</th>\n",
       "      <th>gdpPercap_1992</th>\n",
       "      <th>...</th>\n",
       "      <th>pop_1962</th>\n",
       "      <th>pop_1967</th>\n",
       "      <th>pop_1972</th>\n",
       "      <th>pop_1977</th>\n",
       "      <th>pop_1982</th>\n",
       "      <th>pop_1987</th>\n",
       "      <th>pop_1992</th>\n",
       "      <th>pop_1997</th>\n",
       "      <th>pop_2002</th>\n",
       "      <th>pop_2007</th>\n",
       "    </tr>\n",
       "    <tr>\n",
       "      <th>country</th>\n",
       "      <th></th>\n",
       "      <th></th>\n",
       "      <th></th>\n",
       "      <th></th>\n",
       "      <th></th>\n",
       "      <th></th>\n",
       "      <th></th>\n",
       "      <th></th>\n",
       "      <th></th>\n",
       "      <th></th>\n",
       "      <th></th>\n",
       "      <th></th>\n",
       "      <th></th>\n",
       "      <th></th>\n",
       "      <th></th>\n",
       "      <th></th>\n",
       "      <th></th>\n",
       "      <th></th>\n",
       "      <th></th>\n",
       "      <th></th>\n",
       "      <th></th>\n",
       "    </tr>\n",
       "  </thead>\n",
       "  <tbody>\n",
       "    <tr>\n",
       "      <th>Algeria</th>\n",
       "      <td>Africa</td>\n",
       "      <td>2449.008185</td>\n",
       "      <td>3013.976023</td>\n",
       "      <td>2550.816880</td>\n",
       "      <td>3246.991771</td>\n",
       "      <td>4182.663766</td>\n",
       "      <td>4910.416756</td>\n",
       "      <td>5745.160213</td>\n",
       "      <td>5681.358539</td>\n",
       "      <td>5023.216647</td>\n",
       "      <td>...</td>\n",
       "      <td>11000948.0</td>\n",
       "      <td>12760499.0</td>\n",
       "      <td>14760787.0</td>\n",
       "      <td>17152804.0</td>\n",
       "      <td>20033753.0</td>\n",
       "      <td>23254956.0</td>\n",
       "      <td>26298373.0</td>\n",
       "      <td>29072015.0</td>\n",
       "      <td>31287142</td>\n",
       "      <td>33333216</td>\n",
       "    </tr>\n",
       "    <tr>\n",
       "      <th>Angola</th>\n",
       "      <td>Africa</td>\n",
       "      <td>3520.610273</td>\n",
       "      <td>3827.940465</td>\n",
       "      <td>4269.276742</td>\n",
       "      <td>5522.776375</td>\n",
       "      <td>5473.288005</td>\n",
       "      <td>3008.647355</td>\n",
       "      <td>2756.953672</td>\n",
       "      <td>2430.208311</td>\n",
       "      <td>2627.845685</td>\n",
       "      <td>...</td>\n",
       "      <td>4826015.0</td>\n",
       "      <td>5247469.0</td>\n",
       "      <td>5894858.0</td>\n",
       "      <td>6162675.0</td>\n",
       "      <td>7016384.0</td>\n",
       "      <td>7874230.0</td>\n",
       "      <td>8735988.0</td>\n",
       "      <td>9875024.0</td>\n",
       "      <td>10866106</td>\n",
       "      <td>12420476</td>\n",
       "    </tr>\n",
       "    <tr>\n",
       "      <th>Benin</th>\n",
       "      <td>Africa</td>\n",
       "      <td>1062.752200</td>\n",
       "      <td>959.601080</td>\n",
       "      <td>949.499064</td>\n",
       "      <td>1035.831411</td>\n",
       "      <td>1085.796879</td>\n",
       "      <td>1029.161251</td>\n",
       "      <td>1277.897616</td>\n",
       "      <td>1225.856010</td>\n",
       "      <td>1191.207681</td>\n",
       "      <td>...</td>\n",
       "      <td>2151895.0</td>\n",
       "      <td>2427334.0</td>\n",
       "      <td>2761407.0</td>\n",
       "      <td>3168267.0</td>\n",
       "      <td>3641603.0</td>\n",
       "      <td>4243788.0</td>\n",
       "      <td>4981671.0</td>\n",
       "      <td>6066080.0</td>\n",
       "      <td>7026113</td>\n",
       "      <td>8078314</td>\n",
       "    </tr>\n",
       "    <tr>\n",
       "      <th>Botswana</th>\n",
       "      <td>Africa</td>\n",
       "      <td>851.241141</td>\n",
       "      <td>918.232535</td>\n",
       "      <td>983.653976</td>\n",
       "      <td>1214.709294</td>\n",
       "      <td>2263.611114</td>\n",
       "      <td>3214.857818</td>\n",
       "      <td>4551.142150</td>\n",
       "      <td>6205.883850</td>\n",
       "      <td>7954.111645</td>\n",
       "      <td>...</td>\n",
       "      <td>512764.0</td>\n",
       "      <td>553541.0</td>\n",
       "      <td>619351.0</td>\n",
       "      <td>781472.0</td>\n",
       "      <td>970347.0</td>\n",
       "      <td>1151184.0</td>\n",
       "      <td>1342614.0</td>\n",
       "      <td>1536536.0</td>\n",
       "      <td>1630347</td>\n",
       "      <td>1639131</td>\n",
       "    </tr>\n",
       "    <tr>\n",
       "      <th>Burkina Faso</th>\n",
       "      <td>Africa</td>\n",
       "      <td>543.255241</td>\n",
       "      <td>617.183465</td>\n",
       "      <td>722.512021</td>\n",
       "      <td>794.826560</td>\n",
       "      <td>854.735976</td>\n",
       "      <td>743.387037</td>\n",
       "      <td>807.198586</td>\n",
       "      <td>912.063142</td>\n",
       "      <td>931.752773</td>\n",
       "      <td>...</td>\n",
       "      <td>4919632.0</td>\n",
       "      <td>5127935.0</td>\n",
       "      <td>5433886.0</td>\n",
       "      <td>5889574.0</td>\n",
       "      <td>6634596.0</td>\n",
       "      <td>7586551.0</td>\n",
       "      <td>8878303.0</td>\n",
       "      <td>10352843.0</td>\n",
       "      <td>12251209</td>\n",
       "      <td>14326203</td>\n",
       "    </tr>\n",
       "  </tbody>\n",
       "</table>\n",
       "<p>5 rows × 37 columns</p>\n",
       "</div>"
      ],
      "text/plain": [
       "             continent  gdpPercap_1952  gdpPercap_1957  gdpPercap_1962  \\\n",
       "country                                                                  \n",
       "Algeria         Africa     2449.008185     3013.976023     2550.816880   \n",
       "Angola          Africa     3520.610273     3827.940465     4269.276742   \n",
       "Benin           Africa     1062.752200      959.601080      949.499064   \n",
       "Botswana        Africa      851.241141      918.232535      983.653976   \n",
       "Burkina Faso    Africa      543.255241      617.183465      722.512021   \n",
       "\n",
       "              gdpPercap_1967  gdpPercap_1972  gdpPercap_1977  gdpPercap_1982  \\\n",
       "country                                                                        \n",
       "Algeria          3246.991771     4182.663766     4910.416756     5745.160213   \n",
       "Angola           5522.776375     5473.288005     3008.647355     2756.953672   \n",
       "Benin            1035.831411     1085.796879     1029.161251     1277.897616   \n",
       "Botswana         1214.709294     2263.611114     3214.857818     4551.142150   \n",
       "Burkina Faso      794.826560      854.735976      743.387037      807.198586   \n",
       "\n",
       "              gdpPercap_1987  gdpPercap_1992  ...    pop_1962    pop_1967  \\\n",
       "country                                       ...                           \n",
       "Algeria          5681.358539     5023.216647  ...  11000948.0  12760499.0   \n",
       "Angola           2430.208311     2627.845685  ...   4826015.0   5247469.0   \n",
       "Benin            1225.856010     1191.207681  ...   2151895.0   2427334.0   \n",
       "Botswana         6205.883850     7954.111645  ...    512764.0    553541.0   \n",
       "Burkina Faso      912.063142      931.752773  ...   4919632.0   5127935.0   \n",
       "\n",
       "                pop_1972    pop_1977    pop_1982    pop_1987    pop_1992  \\\n",
       "country                                                                    \n",
       "Algeria       14760787.0  17152804.0  20033753.0  23254956.0  26298373.0   \n",
       "Angola         5894858.0   6162675.0   7016384.0   7874230.0   8735988.0   \n",
       "Benin          2761407.0   3168267.0   3641603.0   4243788.0   4981671.0   \n",
       "Botswana        619351.0    781472.0    970347.0   1151184.0   1342614.0   \n",
       "Burkina Faso   5433886.0   5889574.0   6634596.0   7586551.0   8878303.0   \n",
       "\n",
       "                pop_1997  pop_2002  pop_2007  \n",
       "country                                       \n",
       "Algeria       29072015.0  31287142  33333216  \n",
       "Angola         9875024.0  10866106  12420476  \n",
       "Benin          6066080.0   7026113   8078314  \n",
       "Botswana       1536536.0   1630347   1639131  \n",
       "Burkina Faso  10352843.0  12251209  14326203  \n",
       "\n",
       "[5 rows x 37 columns]"
      ]
     },
     "execution_count": 51,
     "metadata": {},
     "output_type": "execute_result"
    }
   ],
   "source": [
    "df.head()"
   ]
  },
  {
   "cell_type": "code",
   "execution_count": 52,
   "id": "5f202d29",
   "metadata": {},
   "outputs": [
    {
     "data": {
      "text/plain": [
       "pandas.core.series.Series"
      ]
     },
     "execution_count": 52,
     "metadata": {},
     "output_type": "execute_result"
    }
   ],
   "source": [
    "type(df[\"continent\"])"
   ]
  },
  {
   "cell_type": "code",
   "execution_count": 62,
   "id": "c03bc187",
   "metadata": {},
   "outputs": [
    {
     "data": {
      "text/plain": [
       "country\n",
       "Algeria         2449.008185\n",
       "Angola          3520.610273\n",
       "Benin           1062.752200\n",
       "Botswana         851.241141\n",
       "Burkina Faso     543.255241\n",
       "Name: gdpPercap_1952, dtype: float64"
      ]
     },
     "execution_count": 62,
     "metadata": {},
     "output_type": "execute_result"
    }
   ],
   "source": [
    "df[\"gdpPercap_1952\"].head()"
   ]
  },
  {
   "cell_type": "code",
   "execution_count": null,
   "id": "d22c1d98",
   "metadata": {},
   "outputs": [],
   "source": [
    "pd.DataFrame"
   ]
  },
  {
   "cell_type": "code",
   "execution_count": null,
   "id": "f730a908",
   "metadata": {},
   "outputs": [],
   "source": [
    "CamelCase\n",
    "meuObjeto\n",
    "\n",
    "snake_case"
   ]
  },
  {
   "cell_type": "code",
   "execution_count": 28,
   "id": "e8959235",
   "metadata": {},
   "outputs": [
    {
     "data": {
      "text/plain": [
       "(142, 37)"
      ]
     },
     "execution_count": 28,
     "metadata": {},
     "output_type": "execute_result"
    }
   ],
   "source": [
    "df.shape"
   ]
  },
  {
   "cell_type": "code",
   "execution_count": 18,
   "id": "9c527485",
   "metadata": {},
   "outputs": [],
   "source": [
    "lista = ['a', 'b', 'c']"
   ]
  },
  {
   "cell_type": "code",
   "execution_count": 19,
   "id": "1324662c",
   "metadata": {},
   "outputs": [
    {
     "name": "stdout",
     "output_type": "stream",
     "text": [
      "['a', 'b', 'c']\n"
     ]
    }
   ],
   "source": [
    "print(lista)"
   ]
  },
  {
   "cell_type": "code",
   "execution_count": 20,
   "id": "2d78ee96",
   "metadata": {},
   "outputs": [],
   "source": [
    "lista.append('d')"
   ]
  },
  {
   "cell_type": "code",
   "execution_count": 21,
   "id": "5d7b0312",
   "metadata": {},
   "outputs": [
    {
     "name": "stdout",
     "output_type": "stream",
     "text": [
      "['a', 'b', 'c', 'd']\n"
     ]
    }
   ],
   "source": [
    "print(lista)"
   ]
  },
  {
   "cell_type": "code",
   "execution_count": 22,
   "id": "9c58223c",
   "metadata": {},
   "outputs": [],
   "source": [
    "tupla = ('a', 'b', 'c')"
   ]
  },
  {
   "cell_type": "code",
   "execution_count": 25,
   "id": "63a5b39e",
   "metadata": {},
   "outputs": [],
   "source": [
    "lista[0] = \"primeiro item\""
   ]
  },
  {
   "cell_type": "code",
   "execution_count": 26,
   "id": "1fd32157",
   "metadata": {},
   "outputs": [
    {
     "data": {
      "text/plain": [
       "['primeiro item', 'b', 'c', 'd']"
      ]
     },
     "execution_count": 26,
     "metadata": {},
     "output_type": "execute_result"
    }
   ],
   "source": [
    "lista"
   ]
  },
  {
   "cell_type": "code",
   "execution_count": 27,
   "id": "5d941662",
   "metadata": {},
   "outputs": [
    {
     "ename": "TypeError",
     "evalue": "'tuple' object does not support item assignment",
     "output_type": "error",
     "traceback": [
      "\u001b[0;31m---------------------------------------------------------------------------\u001b[0m",
      "\u001b[0;31mTypeError\u001b[0m                                 Traceback (most recent call last)",
      "\u001b[0;32m<ipython-input-27-2b60c7d7a725>\u001b[0m in \u001b[0;36m<module>\u001b[0;34m\u001b[0m\n\u001b[0;32m----> 1\u001b[0;31m \u001b[0mtupla\u001b[0m\u001b[0;34m[\u001b[0m\u001b[0;36m0\u001b[0m\u001b[0;34m]\u001b[0m \u001b[0;34m=\u001b[0m \u001b[0;34m\"primeiro item\"\u001b[0m\u001b[0;34m\u001b[0m\u001b[0;34m\u001b[0m\u001b[0m\n\u001b[0m",
      "\u001b[0;31mTypeError\u001b[0m: 'tuple' object does not support item assignment"
     ]
    }
   ],
   "source": [
    "tupla[0] = \"primeiro item\""
   ]
  }
 ],
 "metadata": {
  "kernelspec": {
   "display_name": "Python [conda env:xlab]",
   "language": "python",
   "name": "conda-env-xlab-py"
  },
  "language_info": {
   "codemirror_mode": {
    "name": "ipython",
    "version": 3
   },
   "file_extension": ".py",
   "mimetype": "text/x-python",
   "name": "python",
   "nbconvert_exporter": "python",
   "pygments_lexer": "ipython3",
   "version": "3.9.2"
  }
 },
 "nbformat": 4,
 "nbformat_minor": 5
}
