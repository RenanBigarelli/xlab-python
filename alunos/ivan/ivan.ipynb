{
 "cells": [
  {
   "cell_type": "markdown",
   "id": "87231586",
   "metadata": {},
   "source": [
    "### Aula 1 - 26 de maio de 2021\n",
    "\n",
    "* Introdução ao Jupyter\n",
    "* Usando o Python como uma calculadora\n",
    "* Operadores aritméticos\n",
    "    * Os 4 básicos: `+`, `-`, `*`, `/`\n",
    "    * Outros: `%`, `//`, `**`\n",
    "* Variáveis\n",
    "* Tipos de dados\n",
    "    * `int`\n",
    "    * `float`\n",
    "    * `str`\n",
    "* Funções embutidas\n",
    "    * `type()`\n",
    "    * `print()`\n",
    "    * `round()`\n",
    "    * `str()`\n",
    "* Importância dos tipos de dados\n",
    "    * Conversão para string\n",
    "    \n",
    "* Três maneiras de usar variáveis com o `print`\n",
    "    * Usando o operador `+`\n",
    "    * Usando `print(\"uma string\", variavel, \"outra string\")`\n",
    "    * Usando F-strings **(avançado)**\n",
    "\n",
    "\n",
    "\n",
    "\n",
    "**Próxima aula:** diferença de `print` e `return`\n",
    "\n",
    "### Aula 2 - 02 de junho de 2021\n",
    "\n",
    "* Funções embutidas\n",
    "    * [Documentação do Python](https://docs.python.org/pt-br/3/library/functions.html)\n",
    "* Funções definidas pelo usuário\n",
    "    * Quatro componentes na definição\n",
    "        * `def`, nome da função, parâmetros, e `:`\n",
    "    * Diferença entre `print()` e `return`\n",
    "* O que significa `string[0]`?\n",
    "    * Sintaxe para escolher objetos da sequência pelo **índice**\n",
    "    * Dois detalhes para lembrar:\n",
    "        * Começa do zero (índice baseado em zero, ou zero-based index)\n",
    "        * Fatia não-inclusiva\n",
    "    * Sintaxe de fatia\n",
    "        * `sequencia[indice]`\n",
    "        * `sequencia[inicio:fim]`\n",
    "        * `sequencia[:6]` início até posição 5\n",
    "        * `sequencia[-10:]` últimos 10 itens\n",
    "        * `sequencia[1:6:2]` pulando de dois em dois\n",
    "\n",
    "**Próxima aula:** Listas, fatiando e indexando."
   ]
  },
  {
   "cell_type": "code",
   "execution_count": null,
   "id": "db827d98",
   "metadata": {},
   "outputs": [],
   "source": [
    "def concatenar_strings(string1, string2):\n",
    "    print(string1 + string2)"
   ]
  },
  {
   "cell_type": "code",
   "execution_count": null,
   "id": "96a14b2e",
   "metadata": {},
   "outputs": [],
   "source": [
    "string_um = \"Santa \"\n",
    "string_dois = \"Catarina\"\n",
    "\n",
    "concatenar_strings(\"Santa \", \"Catarina\")"
   ]
  },
  {
   "cell_type": "code",
   "execution_count": null,
   "id": "1826d62d",
   "metadata": {},
   "outputs": [],
   "source": [
    "def retornar_strings(string1, string2):\n",
    "    return string1 + string2"
   ]
  },
  {
   "cell_type": "code",
   "execution_count": null,
   "id": "681c3089",
   "metadata": {},
   "outputs": [],
   "source": [
    "retornar_strings(\"São \", \"Paulo\")"
   ]
  },
  {
   "cell_type": "code",
   "execution_count": null,
   "id": "db510509",
   "metadata": {},
   "outputs": [],
   "source": [
    "estado = retornar_strings(\"São \", \"Paulo\")\n",
    "print(\"O valor de 'estado' é\", estado)"
   ]
  },
  {
   "cell_type": "code",
   "execution_count": null,
   "id": "9c4b3b77",
   "metadata": {},
   "outputs": [],
   "source": [
    "estado = concatenar_strings(\"São \", \"Paulo\")"
   ]
  },
  {
   "cell_type": "code",
   "execution_count": null,
   "id": "70d65550",
   "metadata": {},
   "outputs": [],
   "source": [
    "print(\"O valor de 'estado' é\", estado)"
   ]
  },
  {
   "cell_type": "code",
   "execution_count": null,
   "id": "2050121a",
   "metadata": {},
   "outputs": [],
   "source": [
    "string2"
   ]
  },
  {
   "cell_type": "code",
   "execution_count": null,
   "id": "f3d9ba05",
   "metadata": {},
   "outputs": [],
   "source": [
    "string3 = print(\"Catarina\")"
   ]
  },
  {
   "cell_type": "code",
   "execution_count": null,
   "id": "79308308",
   "metadata": {},
   "outputs": [],
   "source": [
    "def pegar_primeira_letra_da_string(string):  # recebe um dado de entrada\n",
    "    \n",
    "    # faz alguma coisa\n",
    "    primeira_letra = string[0]\n",
    "    print(\"A primeira letra é\", primeira_letra)\n",
    "    \n",
    "    return primeira_letra  # retorna um dado de saída"
   ]
  },
  {
   "cell_type": "code",
   "execution_count": null,
   "id": "94450a17",
   "metadata": {},
   "outputs": [],
   "source": [
    "pegar_primeira_letra_da_string(\"Brasil\")"
   ]
  },
  {
   "cell_type": "code",
   "execution_count": null,
   "id": "c2178074",
   "metadata": {},
   "outputs": [],
   "source": [
    "sequencia = \"Brasil é penta\""
   ]
  },
  {
   "cell_type": "code",
   "execution_count": null,
   "id": "fed8e756",
   "metadata": {},
   "outputs": [],
   "source": [
    "sequencia[0]"
   ]
  },
  {
   "cell_type": "code",
   "execution_count": null,
   "id": "1641acd0",
   "metadata": {},
   "outputs": [],
   "source": [
    "# Fatiando sequências\n",
    "sequencia[inicio:fim]\n",
    "sequencia[inicio:fim:degrau]"
   ]
  },
  {
   "cell_type": "code",
   "execution_count": null,
   "id": "1e776063",
   "metadata": {},
   "outputs": [],
   "source": [
    "len(sequencia)  # len() vem de length"
   ]
  },
  {
   "cell_type": "code",
   "execution_count": null,
   "id": "a7a8325c",
   "metadata": {},
   "outputs": [],
   "source": [
    "tamanho_da_sequencia = len(sequencia)"
   ]
  },
  {
   "cell_type": "code",
   "execution_count": null,
   "id": "d7523aa9",
   "metadata": {},
   "outputs": [],
   "source": [
    "sequencia[-5:]"
   ]
  },
  {
   "cell_type": "code",
   "execution_count": null,
   "id": "13636f04",
   "metadata": {},
   "outputs": [],
   "source": [
    "nome = \"Ivan\""
   ]
  },
  {
   "cell_type": "code",
   "execution_count": null,
   "id": "67544b49",
   "metadata": {},
   "outputs": [],
   "source": [
    "nome[::-1]"
   ]
  },
  {
   "cell_type": "code",
   "execution_count": null,
   "id": "1fb9ddaa",
   "metadata": {},
   "outputs": [],
   "source": [
    "sequencia"
   ]
  },
  {
   "cell_type": "code",
   "execution_count": null,
   "id": "9ed2a5a2",
   "metadata": {},
   "outputs": [],
   "source": [
    "nome_do_estado = [\"Rio\", \"de\", \"Janeiro\", 21]\n",
    "nome_do_estado[0]"
   ]
  },
  {
   "cell_type": "code",
   "execution_count": null,
   "id": "9c72f79a",
   "metadata": {},
   "outputs": [],
   "source": [
    "print(\"O DDD do estado do\", nome_do_estado[0], \"é\", nome_do_estado[-1])"
   ]
  },
  {
   "cell_type": "markdown",
   "id": "d8297daf",
   "metadata": {},
   "source": [
    "### Aula 3 - 09 de junho de 2021\n",
    "\n",
    "#### Listas\n",
    "* Ideias das listas\n",
    "    * Coleção de objetos\n",
    "    * Mantém a ordenação\n",
    "    * São **mutáveis**\n",
    "* Criando listas\n",
    "    * Função embutida `list()`\n",
    "* Indexando e fatiando\n",
    "* Métodos de lista\n",
    "    * `.append()`\n",
    "    * `.remove()`\n",
    "    * `.pop()`\n",
    "    * `.insert()`\n",
    "    * `.sort()`\n",
    "    \n",
    "### Próxima aula:\n",
    "\n",
    "* Condicionais\n",
    "* `for` loops\n",
    "* Problema com `lista.remove()` no `for` loop\n",
    "    * Resposta [nesse link](https://stackoverflow.com/questions/742371/why-does-python-skip-elements-when-i-modify-a-list-while-iterating-over-it)\n",
    "    * Quando eu removo um item da lista, eu \"pulo\" o próximo item na iteração, por que eu encurtei a lista\n",
    "    * Moral da história: não modificar a lista em um for loop\n",
    "    * Usar list comprehensions no lugar\n",
    "\n",
    "#### Importante\n",
    "**As operações no Python dependem do tipo do dado.**  \n",
    "**Exemplo: tente multiplicar listas ou strings.**\n",
    "* Para multiplicar coleções de valores numéricos, preciso usar a NumPy"
   ]
  },
  {
   "cell_type": "code",
   "execution_count": null,
   "id": "6b1585e5",
   "metadata": {},
   "outputs": [],
   "source": [
    "lista = [10, 20, 30, 40, \"cinquenta\"]\n",
    "lista_2 = [100, 200, 300, 400, 500]"
   ]
  },
  {
   "cell_type": "code",
   "execution_count": null,
   "id": "e3740b5b",
   "metadata": {},
   "outputs": [],
   "source": [
    "# Para multiplicar vetores numéricos, é necessário a NumPy (Numerical Python)\n",
    "import numpy as np\n",
    "\n",
    "lista_de_numeros = [10,20,30,40,50]\n",
    "lista_de_numeros_dois = [2,3,4,5,6,7]\n",
    "arranjo = np.array(lista_de_numeros)\n",
    "arranjo_dois = np.array(lista_de_numeros_dois)"
   ]
  },
  {
   "cell_type": "code",
   "execution_count": null,
   "id": "615cc6a4",
   "metadata": {},
   "outputs": [],
   "source": [
    "lista[-1] = 60"
   ]
  },
  {
   "cell_type": "code",
   "execution_count": null,
   "id": "14ec4b5e",
   "metadata": {},
   "outputs": [],
   "source": [
    "string = \"cinquenta\""
   ]
  },
  {
   "cell_type": "code",
   "execution_count": null,
   "id": "e83461c7",
   "metadata": {},
   "outputs": [],
   "source": [
    "string = string[:-1]"
   ]
  },
  {
   "cell_type": "code",
   "execution_count": null,
   "id": "7b8a57d6",
   "metadata": {},
   "outputs": [],
   "source": [
    "lista.append(100)"
   ]
  },
  {
   "cell_type": "code",
   "execution_count": null,
   "id": "0ebf44d5",
   "metadata": {},
   "outputs": [],
   "source": [
    "lista.append(\"duzentos\")"
   ]
  },
  {
   "cell_type": "code",
   "execution_count": null,
   "id": "5b9e0da7",
   "metadata": {},
   "outputs": [],
   "source": [
    "lista.pop()"
   ]
  },
  {
   "cell_type": "code",
   "execution_count": null,
   "id": "21cba6d7",
   "metadata": {},
   "outputs": [],
   "source": [
    "lista = [10, 20, 30, 40, 50, 60, 10, 21, 31, 100, 200, 300]\n",
    "\n",
    "for item in lista:  # usar lista[:] para um fix\n",
    "    print(item, lista.index(item))\n",
    "    if item > 50:\n",
    "        lista.remove(item)\n",
    "\n",
    "print(lista)"
   ]
  },
  {
   "cell_type": "code",
   "execution_count": null,
   "id": "9c9ab48f",
   "metadata": {},
   "outputs": [],
   "source": [
    "lista\n"
   ]
  },
  {
   "cell_type": "code",
   "execution_count": null,
   "id": "18bfad1e",
   "metadata": {},
   "outputs": [],
   "source": [
    "lista = lista[::-1]\n",
    "lista.sort(reverse=True)"
   ]
  },
  {
   "cell_type": "code",
   "execution_count": null,
   "id": "d170887f",
   "metadata": {},
   "outputs": [],
   "source": [
    "lista = [0, 10, 35, 22, \"uma string\"]"
   ]
  },
  {
   "cell_type": "code",
   "execution_count": null,
   "id": "2c775481",
   "metadata": {},
   "outputs": [],
   "source": [
    "lista_de_listas = [0, 22, [\"a\", \"b\", \"c\", \"d\"]]"
   ]
  },
  {
   "cell_type": "markdown",
   "id": "65a67ebf",
   "metadata": {},
   "source": [
    "### Encontro 4 - 16 de junho de 2021\n",
    "\n",
    "* Diferença entre criar um ponteiro vs cópia de uma lista\n",
    "    * `lista_dois = lista_um[:]`\n",
    "    * `lista_dois = lista_um.copy()`\n",
    "* `for` loops, condicionais\n",
    "    * Posso combinar declarações booleanas com `and` e `or`"
   ]
  },
  {
   "cell_type": "code",
   "execution_count": null,
   "id": "39c957d7",
   "metadata": {},
   "outputs": [],
   "source": [
    "lista = [10, 20, 30, 40, 50]\n",
    "\n",
    "\n",
    "for item in lista[:]:  # usar lista[:] para um fix\n",
    "    # print(item, lista.index(item))\n",
    "    if item > 25:\n",
    "        lista.remove(item)\n",
    "\n",
    "print(lista)"
   ]
  },
  {
   "cell_type": "code",
   "execution_count": null,
   "id": "7dfe18e1",
   "metadata": {},
   "outputs": [],
   "source": [
    "lista_um[:]"
   ]
  },
  {
   "cell_type": "code",
   "execution_count": null,
   "id": "4388b9d8",
   "metadata": {},
   "outputs": [],
   "source": [
    "pesos = [10, 20, 30, 40, 50, 60, 70, 80, 90, 100]\n",
    "\n",
    "for peso in pesos:\n",
    "    if peso < 30:\n",
    "        print(\"Peso menor que 30!\")\n",
    "        if peso < 20:\n",
    "            print(\"Peso menor 20!\")"
   ]
  },
  {
   "cell_type": "code",
   "execution_count": null,
   "id": "651b1979",
   "metadata": {
    "scrolled": true,
    "tags": []
   },
   "outputs": [],
   "source": [
    "massa_e_velocidades = [(60.0, 10), (12.0, 10)]\n",
    "\n",
    "for massa, velocidade in massa_e_velocidades:\n",
    "    print(massa, velocidade)\n",
    "    if (massa > 50) or (velocidade > 5) and ():\n",
    "        print(\"Objeto pesado e rápido.\")"
   ]
  },
  {
   "cell_type": "markdown",
   "id": "4a5ece29",
   "metadata": {},
   "source": [
    "### Pandas e DataFrames\n",
    "\n",
    "* Diferença métodos e atributos\n",
    "* Métodos de DataFrame\n",
    "    * `df.head()`\n",
    "    * `df.info()`\n",
    "    * `df.describe()`\n",
    "\n",
    "### Ponto-chave\n",
    "**Pensar num DataFrame como uma matriz cujo as linhas e colunas tem nomes.**"
   ]
  },
  {
   "cell_type": "code",
   "execution_count": null,
   "id": "756207d3",
   "metadata": {},
   "outputs": [],
   "source": [
    "import pandas as pd"
   ]
  },
  {
   "cell_type": "code",
   "execution_count": null,
   "id": "ca4dbbcc",
   "metadata": {},
   "outputs": [],
   "source": [
    "df = pd.read_csv(\"gapminder_all.csv\", index_col=\"country\")"
   ]
  },
  {
   "cell_type": "code",
   "execution_count": null,
   "id": "85d9ac9d",
   "metadata": {},
   "outputs": [],
   "source": [
    "len(df.columns)"
   ]
  },
  {
   "cell_type": "code",
   "execution_count": null,
   "id": "e835589d",
   "metadata": {},
   "outputs": [],
   "source": [
    "type(df)"
   ]
  },
  {
   "cell_type": "code",
   "execution_count": null,
   "id": "11c71960",
   "metadata": {},
   "outputs": [],
   "source": [
    "type(df.values)"
   ]
  },
  {
   "cell_type": "code",
   "execution_count": null,
   "id": "c1597588",
   "metadata": {},
   "outputs": [],
   "source": [
    "df.head()"
   ]
  },
  {
   "cell_type": "code",
   "execution_count": null,
   "id": "ad83aca3",
   "metadata": {},
   "outputs": [],
   "source": [
    "df.head()\n",
    "# df.info()\n",
    "df.describe()"
   ]
  },
  {
   "cell_type": "code",
   "execution_count": null,
   "id": "cb4d8a6d",
   "metadata": {},
   "outputs": [],
   "source": [
    "df.shape"
   ]
  },
  {
   "cell_type": "markdown",
   "id": "1c73326c",
   "metadata": {},
   "source": [
    "### Encontro 5 - 23 de junho de 2021\n",
    "\n",
    "* Uso do NumPy\n",
    "    * Tipos numéricos do NumPy (`float64` e `int64`)\n",
    "* Fatiando, filtrando e indexando DataFrames\n",
    "    * `.loc` -> nome de linhas e colunas\n",
    "    * `.iloc` -> posição numérica da linha e da coluna\n",
    "* NumPy como base do Pandas (`ndarray`)\n",
    "\n",
    "### Pontos-chave\n",
    "* Diferentes consultas retornam diferentes valores dependendo da dimensão:\n",
    "    * Ponto (0 dimensões) = valor da célula\n",
    "    * Vetor (1 dimensão) = `pd.Series`\n",
    "    * Campo (2 dimensões) = `pd.DataFrame`\n",
    "* Objetos são compostos por atributos, que podem ter tipos distintos"
   ]
  },
  {
   "cell_type": "code",
   "execution_count": null,
   "id": "495f82c6",
   "metadata": {},
   "outputs": [],
   "source": [
    "lista = [23, 564, 7, 20, 932, -4]"
   ]
  },
  {
   "cell_type": "code",
   "execution_count": null,
   "id": "34adf94f",
   "metadata": {},
   "outputs": [],
   "source": [
    "lista_dois = []\n",
    "\n",
    "for item in lista:\n",
    "    lista_dois.append(item * 2)"
   ]
  },
  {
   "cell_type": "code",
   "execution_count": null,
   "id": "08b6ca5f",
   "metadata": {},
   "outputs": [],
   "source": [
    "arranjo = np.array(lista)\n",
    "arranjo_2 = arranjo * 2"
   ]
  },
  {
   "cell_type": "code",
   "execution_count": null,
   "id": "21f4216c",
   "metadata": {},
   "outputs": [],
   "source": [
    "import pandas as pd\n",
    "import numpy as np"
   ]
  },
  {
   "cell_type": "code",
   "execution_count": null,
   "id": "15e9c987",
   "metadata": {},
   "outputs": [],
   "source": [
    "df = pd.read_csv(\"gapminder_all.csv\", index_col='country')"
   ]
  },
  {
   "cell_type": "code",
   "execution_count": null,
   "id": "67c3f462",
   "metadata": {},
   "outputs": [],
   "source": [
    "df.loc['Brazil', 'continent']"
   ]
  },
  {
   "cell_type": "code",
   "execution_count": null,
   "id": "3026269d",
   "metadata": {},
   "outputs": [],
   "source": [
    "type(df.values)"
   ]
  },
  {
   "cell_type": "code",
   "execution_count": null,
   "id": "cd57bdc3",
   "metadata": {},
   "outputs": [],
   "source": [
    "df.loc['Brazil', 'continent']"
   ]
  },
  {
   "cell_type": "code",
   "execution_count": null,
   "id": "ff892082",
   "metadata": {},
   "outputs": [],
   "source": [
    "df.iloc[0, 0]"
   ]
  },
  {
   "cell_type": "code",
   "execution_count": null,
   "id": "98002a7b",
   "metadata": {},
   "outputs": [],
   "source": [
    "# Múltiplas linhas e colunas\n",
    "countries = ['United States', 'Jamaica']\n",
    "df.loc[countries, 'continent']"
   ]
  },
  {
   "cell_type": "code",
   "execution_count": null,
   "id": "14793873",
   "metadata": {},
   "outputs": [],
   "source": [
    "lifeExp_cols = ['lifeExp_1957', 'lifeExp_1987', 'lifeExp_2007']\n",
    "df.loc['Brazil', lifeExp_cols]"
   ]
  },
  {
   "cell_type": "code",
   "execution_count": null,
   "id": "6d6bcfbe",
   "metadata": {},
   "outputs": [],
   "source": [
    "df.loc[countries, lifeExp_cols]"
   ]
  },
  {
   "cell_type": "code",
   "execution_count": null,
   "id": "5396d8bb",
   "metadata": {},
   "outputs": [],
   "source": [
    "df.loc['Brazil', 'continent']"
   ]
  },
  {
   "cell_type": "code",
   "execution_count": null,
   "id": "564d5468",
   "metadata": {},
   "outputs": [],
   "source": [
    "type(df.loc['Brazil', 'continent'])"
   ]
  },
  {
   "cell_type": "code",
   "execution_count": null,
   "id": "c8f00f3a",
   "metadata": {},
   "outputs": [],
   "source": [
    "df.loc[countries, 'continent']"
   ]
  },
  {
   "cell_type": "code",
   "execution_count": null,
   "id": "c63e9ef1",
   "metadata": {},
   "outputs": [],
   "source": [
    "type(df.loc[countries, 'continent'])"
   ]
  },
  {
   "cell_type": "code",
   "execution_count": null,
   "id": "e325f5d0",
   "metadata": {},
   "outputs": [],
   "source": [
    "df.loc[countries, lifeExp_cols]"
   ]
  },
  {
   "cell_type": "code",
   "execution_count": null,
   "id": "fe3e8f87",
   "metadata": {},
   "outputs": [],
   "source": [
    "type(df.loc[countries, lifeExp_cols])"
   ]
  },
  {
   "cell_type": "code",
   "execution_count": null,
   "id": "0bc460e8",
   "metadata": {},
   "outputs": [],
   "source": [
    "df.loc[['Brazil'], ['continent']]"
   ]
  },
  {
   "cell_type": "code",
   "execution_count": null,
   "id": "78ec4ce2",
   "metadata": {},
   "outputs": [],
   "source": [
    "class Book:\n",
    "    \"\"\"\n",
    "    Classe para representar um livro.\n",
    "    \"\"\"\n",
    "    def __init__(self, title, authors, pages):\n",
    "        self.title = title\n",
    "        self.authors = authors\n",
    "        self.pages = pages\n",
    "        "
   ]
  },
  {
   "cell_type": "code",
   "execution_count": null,
   "id": "bd9ab055",
   "metadata": {},
   "outputs": [],
   "source": [
    "livro = Book(\"Senhor dos Anéis\", [\"JRR Tolkien\", \"Christian Tolkien\"], 1278)"
   ]
  },
  {
   "cell_type": "code",
   "execution_count": null,
   "id": "f76e54d8",
   "metadata": {},
   "outputs": [],
   "source": [
    "type(livro.title)"
   ]
  },
  {
   "cell_type": "code",
   "execution_count": null,
   "id": "b138150c",
   "metadata": {},
   "outputs": [],
   "source": [
    "type(livro.authors)"
   ]
  },
  {
   "cell_type": "code",
   "execution_count": null,
   "id": "e4d64588",
   "metadata": {},
   "outputs": [],
   "source": [
    "type(livro.pages)"
   ]
  },
  {
   "cell_type": "code",
   "execution_count": null,
   "id": "919078fc",
   "metadata": {},
   "outputs": [],
   "source": []
  }
 ],
 "metadata": {
  "kernelspec": {
   "display_name": "Python [conda env:xlab]",
   "language": "python",
   "name": "conda-env-xlab-py"
  },
  "language_info": {
   "codemirror_mode": {
    "name": "ipython",
    "version": 3
   },
   "file_extension": ".py",
   "mimetype": "text/x-python",
   "name": "python",
   "nbconvert_exporter": "python",
   "pygments_lexer": "ipython3",
   "version": "3.9.2"
  }
 },
 "nbformat": 4,
 "nbformat_minor": 5
}
