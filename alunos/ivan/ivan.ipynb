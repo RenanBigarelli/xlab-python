{
 "cells": [
  {
   "cell_type": "markdown",
   "id": "66aa12c5",
   "metadata": {},
   "source": [
    "### Aula 1 - 26 de maio de 2021\n",
    "\n",
    "* Introdução ao Jupyter\n",
    "* Usando o Python como uma calculadora\n",
    "* Operadores aritméticos\n",
    "    * Os 4 básicos: `+`, `-`, `*`, `/`\n",
    "    * Outros: `%`, `//`, `**`\n",
    "* Variáveis\n",
    "* Tipos de dados\n",
    "    * `int`\n",
    "    * `float`\n",
    "    * `str`\n",
    "* Funções embutidas\n",
    "    * `type()`\n",
    "    * `print()`\n",
    "    * `round()`\n",
    "    * `str()`\n",
    "* Importância dos tipos de dados\n",
    "    * Conversão para string\n",
    "    \n",
    "* Três maneiras de usar variáveis com o `print`\n",
    "    * Usando o operador `+`\n",
    "    * Usando `print(\"uma string\", variavel, \"outra string\")`\n",
    "    * Usando F-strings **(avançado)**\n",
    "\n",
    "\n",
    "\n",
    "\n",
    "**Próxima aula:** diferença de `print` e `return`\n",
    "\n",
    "### Aula 2 - 02 de junho de 2021\n",
    "\n",
    "* Funções embutidas\n",
    "    * [Documentação do Python](https://docs.python.org/pt-br/3/library/functions.html)\n",
    "* Funções definidas pelo usuário\n",
    "    * Quatro componentes na definição\n",
    "        * `def`, nome da função, parâmetros, e `:`\n",
    "    * Diferença entre `print()` e `return`\n",
    "* O que significa `string[0]`?\n",
    "    * Sintaxe para escolher objetos da sequência pelo **índice**\n",
    "    * Dois detalhes para lembrar:\n",
    "        * Começa do zero (índice baseado em zero, ou zero-based index)\n",
    "        * Fatia não-inclusiva\n",
    "    * Sintaxe de fatia\n",
    "        * `sequencia[indice]`\n",
    "        * `sequencia[inicio:fim]`\n",
    "        * `sequencia[:6]` início até posição 5\n",
    "        * `sequencia[-10:]` últimos 10 itens\n",
    "        * `sequencia[1:6:2]` pulando de dois em dois\n",
    "\n",
    "**Próxima aula:** Listas, fatiando e indexando."
   ]
  },
  {
   "cell_type": "code",
   "execution_count": null,
   "id": "6124490c",
   "metadata": {},
   "outputs": [],
   "source": [
    "def concatenar_strings(string1, string2):\n",
    "    print(string1 + string2)"
   ]
  },
  {
   "cell_type": "code",
   "execution_count": null,
   "id": "717ba98d",
   "metadata": {},
   "outputs": [],
   "source": [
    "string_um = \"Santa \"\n",
    "string_dois = \"Catarina\"\n",
    "\n",
    "concatenar_strings(\"Santa \", \"Catarina\")"
   ]
  },
  {
   "cell_type": "code",
   "execution_count": null,
   "id": "06dc5b69",
   "metadata": {},
   "outputs": [],
   "source": [
    "def retornar_strings(string1, string2):\n",
    "    return string1 + string2"
   ]
  },
  {
   "cell_type": "code",
   "execution_count": null,
   "id": "95ee1890",
   "metadata": {},
   "outputs": [],
   "source": [
    "retornar_strings(\"São \", \"Paulo\")"
   ]
  },
  {
   "cell_type": "code",
   "execution_count": null,
   "id": "c4c0f180",
   "metadata": {},
   "outputs": [],
   "source": [
    "estado = retornar_strings(\"São \", \"Paulo\")\n",
    "print(\"O valor de 'estado' é\", estado)"
   ]
  },
  {
   "cell_type": "code",
   "execution_count": null,
   "id": "0c5e314e",
   "metadata": {},
   "outputs": [],
   "source": [
    "estado = concatenar_strings(\"São \", \"Paulo\")"
   ]
  },
  {
   "cell_type": "code",
   "execution_count": null,
   "id": "22caf093",
   "metadata": {},
   "outputs": [],
   "source": [
    "print(\"O valor de 'estado' é\", estado)"
   ]
  },
  {
   "cell_type": "code",
   "execution_count": null,
   "id": "8e6057ea",
   "metadata": {},
   "outputs": [],
   "source": [
    "string2"
   ]
  },
  {
   "cell_type": "code",
   "execution_count": null,
   "id": "7e4808b6",
   "metadata": {},
   "outputs": [],
   "source": [
    "string3 = print(\"Catarina\")"
   ]
  },
  {
   "cell_type": "code",
   "execution_count": null,
   "id": "7539e074",
   "metadata": {},
   "outputs": [],
   "source": [
    "def pegar_primeira_letra_da_string(string):  # recebe um dado de entrada\n",
    "    \n",
    "    # faz alguma coisa\n",
    "    primeira_letra = string[0]\n",
    "    print(\"A primeira letra é\", primeira_letra)\n",
    "    \n",
    "    return primeira_letra  # retorna um dado de saída"
   ]
  },
  {
   "cell_type": "code",
   "execution_count": null,
   "id": "e87aa2da",
   "metadata": {},
   "outputs": [],
   "source": [
    "pegar_primeira_letra_da_string(\"Brasil\")"
   ]
  },
  {
   "cell_type": "code",
   "execution_count": null,
   "id": "39e8e044",
   "metadata": {},
   "outputs": [],
   "source": [
    "sequencia = \"Brasil é penta\""
   ]
  },
  {
   "cell_type": "code",
   "execution_count": null,
   "id": "67de4172",
   "metadata": {},
   "outputs": [],
   "source": [
    "sequencia[0]"
   ]
  },
  {
   "cell_type": "code",
   "execution_count": null,
   "id": "c940f37f",
   "metadata": {},
   "outputs": [],
   "source": [
    "# Fatiando sequências\n",
    "sequencia[inicio:fim]\n",
    "sequencia[inicio:fim:degrau]"
   ]
  },
  {
   "cell_type": "code",
   "execution_count": null,
   "id": "fac5dcbc",
   "metadata": {},
   "outputs": [],
   "source": [
    "len(sequencia)  # len() vem de length"
   ]
  },
  {
   "cell_type": "code",
   "execution_count": null,
   "id": "1a4e843a",
   "metadata": {},
   "outputs": [],
   "source": [
    "tamanho_da_sequencia = len(sequencia)"
   ]
  },
  {
   "cell_type": "code",
   "execution_count": null,
   "id": "6558fff2",
   "metadata": {},
   "outputs": [],
   "source": [
    "sequencia[-5:]"
   ]
  },
  {
   "cell_type": "code",
   "execution_count": null,
   "id": "3c0dc1f7",
   "metadata": {},
   "outputs": [],
   "source": [
    "nome = \"Ivan\""
   ]
  },
  {
   "cell_type": "code",
   "execution_count": null,
   "id": "86e18e2c",
   "metadata": {},
   "outputs": [],
   "source": [
    "nome[::-1]"
   ]
  },
  {
   "cell_type": "code",
   "execution_count": null,
   "id": "61385d6f",
   "metadata": {},
   "outputs": [],
   "source": [
    "sequencia"
   ]
  },
  {
   "cell_type": "code",
   "execution_count": null,
   "id": "b4784c6e",
   "metadata": {},
   "outputs": [],
   "source": [
    "nome_do_estado = [\"Rio\", \"de\", \"Janeiro\", 21]\n",
    "nome_do_estado[0]"
   ]
  },
  {
   "cell_type": "code",
   "execution_count": null,
   "id": "1e76bc5c",
   "metadata": {},
   "outputs": [],
   "source": [
    "print(\"O DDD do estado do\", nome_do_estado[0], \"é\", nome_do_estado[-1])"
   ]
  },
  {
   "cell_type": "markdown",
   "id": "2c542711",
   "metadata": {},
   "source": [
    "### Aula 3 - 09 de junho de 2021\n",
    "\n",
    "#### Listas\n",
    "* Ideias das listas\n",
    "    * Coleção de objetos\n",
    "    * Mantém a ordenação\n",
    "    * São **mutáveis**\n",
    "* Criando listas\n",
    "    * Função embutida `list()`\n",
    "* Indexando e fatiando\n",
    "* Métodos de lista\n",
    "    * `.append()`\n",
    "    * `.remove()`\n",
    "    * `.pop()`\n",
    "    * `.insert()`\n",
    "    * `.sort()`\n",
    "    \n",
    "### Próxima aula:\n",
    "\n",
    "* Condicionais\n",
    "* `for` loops\n",
    "* Problema com `lista.remove()` no `for` loop\n",
    "    * Resposta [nesse link](https://stackoverflow.com/questions/742371/why-does-python-skip-elements-when-i-modify-a-list-while-iterating-over-it)\n",
    "    * Quando eu removo um item da lista, eu \"pulo\" o próximo item na iteração, por que eu encurtei a lista\n",
    "    * Moral da história: não modificar a lista em um for loop\n",
    "    * Usar list comprehensions no lugar\n",
    "\n",
    "#### Importante\n",
    "**As operações no Python dependem do tipo do dado.**  \n",
    "**Exemplo: tente multiplicar listas ou strings.**\n",
    "* Para multiplicar coleções de valores numéricos, preciso usar a NumPy"
   ]
  },
  {
   "cell_type": "code",
   "execution_count": null,
   "id": "344ce757",
   "metadata": {},
   "outputs": [],
   "source": [
    "lista = [10, 20, 30, 40, \"cinquenta\"]\n",
    "lista_2 = [100, 200, 300, 400, 500]"
   ]
  },
  {
   "cell_type": "code",
   "execution_count": null,
   "id": "0c9820fc",
   "metadata": {},
   "outputs": [],
   "source": [
    "# Para multiplicar vetores numéricos, é necessário a NumPy (Numerical Python)\n",
    "import numpy as np\n",
    "\n",
    "lista_de_numeros = [10,20,30,40,50]\n",
    "lista_de_numeros_dois = [2,3,4,5,6,7]\n",
    "arranjo = np.array(lista_de_numeros)\n",
    "arranjo_dois = np.array(lista_de_numeros_dois)"
   ]
  },
  {
   "cell_type": "code",
   "execution_count": null,
   "id": "85d58130",
   "metadata": {},
   "outputs": [],
   "source": [
    "lista[-1] = 60"
   ]
  },
  {
   "cell_type": "code",
   "execution_count": null,
   "id": "126a78cc",
   "metadata": {},
   "outputs": [],
   "source": [
    "string = \"cinquenta\""
   ]
  },
  {
   "cell_type": "code",
   "execution_count": null,
   "id": "a3fd7e0a",
   "metadata": {},
   "outputs": [],
   "source": [
    "string = string[:-1]"
   ]
  },
  {
   "cell_type": "code",
   "execution_count": null,
   "id": "dd062790",
   "metadata": {},
   "outputs": [],
   "source": [
    "lista.append(100)"
   ]
  },
  {
   "cell_type": "code",
   "execution_count": null,
   "id": "6c84a2cd",
   "metadata": {},
   "outputs": [],
   "source": [
    "lista.append(\"duzentos\")"
   ]
  },
  {
   "cell_type": "code",
   "execution_count": null,
   "id": "f9a55dbe",
   "metadata": {},
   "outputs": [],
   "source": [
    "lista.pop()"
   ]
  },
  {
   "cell_type": "code",
   "execution_count": null,
   "id": "80763e7d",
   "metadata": {},
   "outputs": [],
   "source": [
    "lista = [10, 20, 30, 40, 50, 60, 10, 21, 31, 100, 200, 300]\n",
    "\n",
    "for item in lista:  # usar lista[:] para um fix\n",
    "    print(item, lista.index(item))\n",
    "    if item > 50:\n",
    "        lista.remove(item)\n",
    "\n",
    "print(lista)"
   ]
  },
  {
   "cell_type": "code",
   "execution_count": null,
   "id": "7067e772",
   "metadata": {},
   "outputs": [],
   "source": [
    "lista\n"
   ]
  },
  {
   "cell_type": "code",
   "execution_count": null,
   "id": "d504ac79",
   "metadata": {},
   "outputs": [],
   "source": [
    "lista = lista[::-1]\n",
    "lista.sort(reverse=True)"
   ]
  },
  {
   "cell_type": "code",
   "execution_count": null,
   "id": "24353a4f",
   "metadata": {},
   "outputs": [],
   "source": [
    "lista = [0, 10, 35, 22, \"uma string\"]"
   ]
  },
  {
   "cell_type": "code",
   "execution_count": null,
   "id": "76a78878",
   "metadata": {},
   "outputs": [],
   "source": [
    "lista_de_listas = [0, 22, [\"a\", \"b\", \"c\", \"d\"]]"
   ]
  },
  {
   "cell_type": "markdown",
   "id": "bf43845c",
   "metadata": {},
   "source": [
    "### Encontro 4 - 16 de junho de 2021\n",
    "\n",
    "* Diferença entre criar um ponteiro vs cópia de uma lista\n",
    "    * `lista_dois = lista_um[:]`\n",
    "    * `lista_dois = lista_um.copy()`\n",
    "* `for` loops, condicionais\n",
    "    * Posso combinar declarações booleanas com `and` e `or`"
   ]
  },
  {
   "cell_type": "code",
   "execution_count": null,
   "id": "c01c39b7",
   "metadata": {},
   "outputs": [],
   "source": [
    "lista = [10, 20, 30, 40, 50]\n",
    "\n",
    "\n",
    "for item in lista[:]:  # usar lista[:] para um fix\n",
    "    # print(item, lista.index(item))\n",
    "    if item > 25:\n",
    "        lista.remove(item)\n",
    "\n",
    "print(lista)"
   ]
  },
  {
   "cell_type": "code",
   "execution_count": null,
   "id": "ede9a39f",
   "metadata": {},
   "outputs": [],
   "source": [
    "lista_um[:]"
   ]
  },
  {
   "cell_type": "code",
   "execution_count": null,
   "id": "50574c74",
   "metadata": {},
   "outputs": [],
   "source": [
    "pesos = [10, 20, 30, 40, 50, 60, 70, 80, 90, 100]\n",
    "\n",
    "for peso in pesos:\n",
    "    if peso < 30:\n",
    "        print(\"Peso menor que 30!\")\n",
    "        if peso < 20:\n",
    "            print(\"Peso menor 20!\")"
   ]
  },
  {
   "cell_type": "code",
   "execution_count": null,
   "id": "ab62ef44",
   "metadata": {
    "scrolled": true,
    "tags": []
   },
   "outputs": [],
   "source": [
    "massa_e_velocidades = [(60.0, 10), (12.0, 10)]\n",
    "\n",
    "for massa, velocidade in massa_e_velocidades:\n",
    "    print(massa, velocidade)\n",
    "    if (massa > 50) or (velocidade > 5) and ():\n",
    "        print(\"Objeto pesado e rápido.\")"
   ]
  },
  {
   "cell_type": "markdown",
   "id": "8ad00af4",
   "metadata": {},
   "source": [
    "### Pandas e DataFrames\n",
    "\n",
    "* Diferença métodos e atributos\n",
    "* Métodos de DataFrame\n",
    "    * `df.head()`\n",
    "    * `df.info()\n",
    "\n",
    "### Ponto-chave\n",
    "**Pensar num DataFrame como uma matriz cujo as linhas e colunas tem nomes.**\n",
    "\n",
    "### Próxima aula\n",
    "* Fatiando, filtrando e indexando DataFrames\n",
    "* NumPy como base do Pandas (`ndarray`)"
   ]
  },
  {
   "cell_type": "code",
   "execution_count": null,
   "id": "5234844d",
   "metadata": {},
   "outputs": [],
   "source": [
    "import pandas as pd"
   ]
  },
  {
   "cell_type": "code",
   "execution_count": null,
   "id": "29564d05",
   "metadata": {},
   "outputs": [],
   "source": [
    "df = pd.read_csv(\"gapminder_all.csv\", index_col=\"country\")"
   ]
  },
  {
   "cell_type": "code",
   "execution_count": null,
   "id": "abef7591",
   "metadata": {},
   "outputs": [],
   "source": [
    "len(df.columns)"
   ]
  },
  {
   "cell_type": "code",
   "execution_count": null,
   "id": "441d7b00",
   "metadata": {},
   "outputs": [],
   "source": [
    "type(df)"
   ]
  },
  {
   "cell_type": "code",
   "execution_count": null,
   "id": "332e7c1f",
   "metadata": {},
   "outputs": [],
   "source": [
    "type(df.values)"
   ]
  },
  {
   "cell_type": "code",
   "execution_count": null,
   "id": "b9155208",
   "metadata": {},
   "outputs": [],
   "source": [
    "df.head()"
   ]
  },
  {
   "cell_type": "code",
   "execution_count": null,
   "id": "94d121b3",
   "metadata": {},
   "outputs": [],
   "source": [
    "df.head()\n",
    "# df.info()\n",
    "df.describe()"
   ]
  },
  {
   "cell_type": "code",
   "execution_count": null,
   "id": "bf08680a",
   "metadata": {},
   "outputs": [],
   "source": [
    "df.shape"
   ]
  },
  {
   "cell_type": "code",
   "execution_count": null,
   "id": "76766529",
   "metadata": {},
   "outputs": [],
   "source": []
  }
 ],
 "metadata": {
  "kernelspec": {
   "display_name": "Python [conda env:xlab]",
   "language": "python",
   "name": "conda-env-xlab-py"
  },
  "language_info": {
   "codemirror_mode": {
    "name": "ipython",
    "version": 3
   },
   "file_extension": ".py",
   "mimetype": "text/x-python",
   "name": "python",
   "nbconvert_exporter": "python",
   "pygments_lexer": "ipython3",
   "version": "3.9.2"
  }
 },
 "nbformat": 4,
 "nbformat_minor": 5
}
