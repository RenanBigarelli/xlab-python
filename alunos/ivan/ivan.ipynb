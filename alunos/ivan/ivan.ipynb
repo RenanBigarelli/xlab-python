{
 "cells": [
  {
   "cell_type": "markdown",
   "id": "e70a87d5",
   "metadata": {},
   "source": [
    "### Aula 1 - 26 de maio de 2021\n",
    "\n",
    "* Introdução ao Jupyter\n",
    "* Usando o Python como uma calculadora\n",
    "* Operadores aritméticos\n",
    "    * Os 4 básicos: `+`, `-`, `*`, `/`\n",
    "    * Outros: `%`, `//`, `**`\n",
    "* Variáveis\n",
    "* Tipos de dados\n",
    "    * `int`\n",
    "    * `float`\n",
    "    * `str`\n",
    "* Funções embutidas\n",
    "    * `type()`\n",
    "    * `print()`\n",
    "    * `round()`\n",
    "    * `str()`\n",
    "* Importância dos tipos de dados\n",
    "    * Conversão para string\n",
    "    \n",
    "* Três maneiras de usar variáveis com o `print`\n",
    "    * Usando o operador `+`\n",
    "    * Usando `print(\"uma string\", variavel, \"outra string\")`\n",
    "    * Usando F-strings **(avançado)**\n",
    "\n",
    "\n",
    "\n",
    "\n",
    "**Próxima aula:** diferença de `print` e `return`\n",
    "\n",
    "### Aula 2 - 02 de junho de 2021\n",
    "\n",
    "* Funções embutidas\n",
    "    * [Documentação do Python](https://docs.python.org/pt-br/3/library/functions.html)\n",
    "* Funções definidas pelo usuário\n",
    "    * Quatro componentes na definição\n",
    "        * `def`, nome da função, parâmetros, e `:`\n",
    "    * Diferença entre `print()` e `return`\n",
    "* O que significa `string[0]`?\n",
    "    * Sintaxe para escolher objetos da sequência pelo **índice**\n",
    "    * Dois detalhes para lembrar:\n",
    "        * Começa do zero (índice baseado em zero, ou zero-based index)\n",
    "        * Fatia não-inclusiva\n",
    "    * Sintaxe de fatia\n",
    "        * `sequencia[indice]`\n",
    "        * `sequencia[inicio:fim]`\n",
    "        * `sequencia[:6]` início até posição 5\n",
    "        * `sequencia[-10:]` últimos 10 itens\n",
    "        * `sequencia[1:6:2]` pulando de dois em dois\n",
    "\n",
    "**Próxima aula:** Listas, fatiando e indexando."
   ]
  },
  {
   "cell_type": "code",
   "execution_count": null,
   "id": "425c370d",
   "metadata": {},
   "outputs": [],
   "source": [
    "def concatenar_strings(string1, string2):\n",
    "    print(string1 + string2)"
   ]
  },
  {
   "cell_type": "code",
   "execution_count": null,
   "id": "b1daedcf",
   "metadata": {},
   "outputs": [],
   "source": [
    "string_um = \"Santa \"\n",
    "string_dois = \"Catarina\"\n",
    "\n",
    "concatenar_strings(\"Santa \", \"Catarina\")"
   ]
  },
  {
   "cell_type": "code",
   "execution_count": null,
   "id": "a4c93cbb",
   "metadata": {},
   "outputs": [],
   "source": [
    "def retornar_strings(string1, string2):\n",
    "    return string1 + string2"
   ]
  },
  {
   "cell_type": "code",
   "execution_count": null,
   "id": "e11219d3",
   "metadata": {},
   "outputs": [],
   "source": [
    "retornar_strings(\"São \", \"Paulo\")"
   ]
  },
  {
   "cell_type": "code",
   "execution_count": null,
   "id": "9c785bdf",
   "metadata": {},
   "outputs": [],
   "source": [
    "estado = retornar_strings(\"São \", \"Paulo\")\n",
    "print(\"O valor de 'estado' é\", estado)"
   ]
  },
  {
   "cell_type": "code",
   "execution_count": null,
   "id": "f578b6d0",
   "metadata": {},
   "outputs": [],
   "source": [
    "estado = concatenar_strings(\"São \", \"Paulo\")"
   ]
  },
  {
   "cell_type": "code",
   "execution_count": null,
   "id": "87666f97",
   "metadata": {},
   "outputs": [],
   "source": [
    "print(\"O valor de 'estado' é\", estado)"
   ]
  },
  {
   "cell_type": "code",
   "execution_count": null,
   "id": "fd1249f6",
   "metadata": {},
   "outputs": [],
   "source": [
    "string2"
   ]
  },
  {
   "cell_type": "code",
   "execution_count": null,
   "id": "e1b65570",
   "metadata": {},
   "outputs": [],
   "source": [
    "string3 = print(\"Catarina\")"
   ]
  },
  {
   "cell_type": "code",
   "execution_count": null,
   "id": "560caa55",
   "metadata": {},
   "outputs": [],
   "source": [
    "def pegar_primeira_letra_da_string(string):  # recebe um dado de entrada\n",
    "    \n",
    "    # faz alguma coisa\n",
    "    primeira_letra = string[0]\n",
    "    print(\"A primeira letra é\", primeira_letra)\n",
    "    \n",
    "    return primeira_letra  # retorna um dado de saída"
   ]
  },
  {
   "cell_type": "code",
   "execution_count": null,
   "id": "e3a38b71",
   "metadata": {},
   "outputs": [],
   "source": [
    "pegar_primeira_letra_da_string(\"Brasil\")"
   ]
  },
  {
   "cell_type": "code",
   "execution_count": null,
   "id": "555f3556",
   "metadata": {},
   "outputs": [],
   "source": [
    "sequencia = \"Brasil é penta\""
   ]
  },
  {
   "cell_type": "code",
   "execution_count": null,
   "id": "1e1276f6",
   "metadata": {},
   "outputs": [],
   "source": [
    "sequencia[0]"
   ]
  },
  {
   "cell_type": "code",
   "execution_count": null,
   "id": "35b95260",
   "metadata": {},
   "outputs": [],
   "source": [
    "# Fatiando sequências\n",
    "sequencia[inicio:fim]\n",
    "sequencia[inicio:fim:degrau]"
   ]
  },
  {
   "cell_type": "code",
   "execution_count": null,
   "id": "ab16d17f",
   "metadata": {},
   "outputs": [],
   "source": [
    "len(sequencia)  # len() vem de length"
   ]
  },
  {
   "cell_type": "code",
   "execution_count": null,
   "id": "ddee5cb8",
   "metadata": {},
   "outputs": [],
   "source": [
    "tamanho_da_sequencia = len(sequencia)"
   ]
  },
  {
   "cell_type": "code",
   "execution_count": null,
   "id": "2633fb42",
   "metadata": {},
   "outputs": [],
   "source": [
    "sequencia[-5:]"
   ]
  },
  {
   "cell_type": "code",
   "execution_count": null,
   "id": "d282aa36",
   "metadata": {},
   "outputs": [],
   "source": [
    "nome = \"Ivan\""
   ]
  },
  {
   "cell_type": "code",
   "execution_count": null,
   "id": "d88fbe24",
   "metadata": {},
   "outputs": [],
   "source": [
    "nome[::-1]"
   ]
  },
  {
   "cell_type": "code",
   "execution_count": null,
   "id": "f257d35e",
   "metadata": {},
   "outputs": [],
   "source": [
    "sequencia"
   ]
  },
  {
   "cell_type": "code",
   "execution_count": null,
   "id": "303b42ad",
   "metadata": {},
   "outputs": [],
   "source": [
    "nome_do_estado = [\"Rio\", \"de\", \"Janeiro\", 21]\n",
    "nome_do_estado[0]"
   ]
  },
  {
   "cell_type": "code",
   "execution_count": null,
   "id": "926be4ab",
   "metadata": {},
   "outputs": [],
   "source": [
    "print(\"O DDD do estado do\", nome_do_estado[0], \"é\", nome_do_estado[-1])"
   ]
  },
  {
   "cell_type": "markdown",
   "id": "f8054135",
   "metadata": {},
   "source": [
    "### Aula 3 - 09 de junho de 2021\n",
    "\n",
    "#### Listas\n",
    "* Ideias das listas\n",
    "    * Coleção de objetos\n",
    "    * Mantém a ordenação\n",
    "    * São **mutáveis**\n",
    "* Criando listas\n",
    "    * Função embutida `list()`\n",
    "* Indexando e fatiando\n",
    "* Métodos de lista\n",
    "    * `.append()`\n",
    "    * `.remove()`\n",
    "    * `.pop()`\n",
    "    * `.insert()`\n",
    "    * `.sort()`\n",
    "    \n",
    "### Próxima aula:\n",
    "\n",
    "* Condicionais\n",
    "* `for` loops\n",
    "* Problema com `lista.remove()` no `for` loop\n",
    "    * Resposta [nesse link](https://stackoverflow.com/questions/742371/why-does-python-skip-elements-when-i-modify-a-list-while-iterating-over-it)\n",
    "    * Quando eu removo um item da lista, eu \"pulo\" o próximo item na iteração, por que eu encurtei a lista\n",
    "    * Moral da história: não modificar a lista em um for loop\n",
    "    * Usar list comprehensions no lugar\n",
    "\n",
    "#### Importante\n",
    "**As operações no Python dependem do tipo do dado.**  \n",
    "**Exemplo: tente multiplicar listas ou strings.**\n",
    "* Para multiplicar coleções de valores numéricos, preciso usar a NumPy"
   ]
  },
  {
   "cell_type": "code",
   "execution_count": null,
   "id": "b362a56e",
   "metadata": {},
   "outputs": [],
   "source": [
    "lista = [10, 20, 30, 40, \"cinquenta\"]\n",
    "lista_2 = [100, 200, 300, 400, 500]"
   ]
  },
  {
   "cell_type": "code",
   "execution_count": null,
   "id": "3ccf1ca3",
   "metadata": {},
   "outputs": [],
   "source": [
    "# Para multiplicar vetores numéricos, é necessário a NumPy (Numerical Python)\n",
    "import numpy as np\n",
    "\n",
    "lista_de_numeros = [10,20,30,40,50]\n",
    "lista_de_numeros_dois = [2,3,4,5,6,7]\n",
    "arranjo = np.array(lista_de_numeros)\n",
    "arranjo_dois = np.array(lista_de_numeros_dois)"
   ]
  },
  {
   "cell_type": "code",
   "execution_count": null,
   "id": "060c8af6",
   "metadata": {},
   "outputs": [],
   "source": [
    "lista[-1] = 60"
   ]
  },
  {
   "cell_type": "code",
   "execution_count": null,
   "id": "6173422c",
   "metadata": {},
   "outputs": [],
   "source": [
    "string = \"cinquenta\""
   ]
  },
  {
   "cell_type": "code",
   "execution_count": null,
   "id": "cddb6a97",
   "metadata": {},
   "outputs": [],
   "source": [
    "string = string[:-1]"
   ]
  },
  {
   "cell_type": "code",
   "execution_count": null,
   "id": "ca566e90",
   "metadata": {},
   "outputs": [],
   "source": [
    "lista.append(100)"
   ]
  },
  {
   "cell_type": "code",
   "execution_count": null,
   "id": "19804373",
   "metadata": {},
   "outputs": [],
   "source": [
    "lista.append(\"duzentos\")"
   ]
  },
  {
   "cell_type": "code",
   "execution_count": null,
   "id": "7304ec25",
   "metadata": {},
   "outputs": [],
   "source": [
    "lista.pop()"
   ]
  },
  {
   "cell_type": "code",
   "execution_count": null,
   "id": "4396a38c",
   "metadata": {},
   "outputs": [],
   "source": [
    "lista = [10, 20, 30, 40, 50, 60, 10, 21, 31, 100, 200, 300]\n",
    "\n",
    "for item in lista:  # usar lista[:] para um fix\n",
    "    print(item, lista.index(item))\n",
    "    if item > 50:\n",
    "        lista.remove(item)\n",
    "\n",
    "print(lista)"
   ]
  },
  {
   "cell_type": "code",
   "execution_count": null,
   "id": "6ab32f61",
   "metadata": {},
   "outputs": [],
   "source": [
    "lista\n"
   ]
  },
  {
   "cell_type": "code",
   "execution_count": null,
   "id": "1c16433c",
   "metadata": {},
   "outputs": [],
   "source": [
    "lista = lista[::-1]\n",
    "lista.sort(reverse=True)"
   ]
  },
  {
   "cell_type": "code",
   "execution_count": null,
   "id": "96b9bc22",
   "metadata": {},
   "outputs": [],
   "source": [
    "lista = [0, 10, 35, 22, \"uma string\"]"
   ]
  },
  {
   "cell_type": "code",
   "execution_count": null,
   "id": "d20e20ff",
   "metadata": {},
   "outputs": [],
   "source": [
    "lista_de_listas = [0, 22, [\"a\", \"b\", \"c\", \"d\"]]"
   ]
  },
  {
   "cell_type": "markdown",
   "id": "79d07958",
   "metadata": {},
   "source": [
    "### Encontro 4 - 16 de junho de 2021\n",
    "\n",
    "* Diferença entre criar um ponteiro vs cópia de uma lista\n",
    "    * `lista_dois = lista_um[:]`\n",
    "    * `lista_dois = lista_um.copy()`\n",
    "* `for` loops, condicionais\n",
    "    * Posso combinar declarações booleanas com `and` e `or`"
   ]
  },
  {
   "cell_type": "code",
   "execution_count": null,
   "id": "6c82d74e",
   "metadata": {},
   "outputs": [],
   "source": [
    "lista = [10, 20, 30, 40, 50]\n",
    "\n",
    "\n",
    "for item in lista[:]:  # usar lista[:] para um fix\n",
    "    # print(item, lista.index(item))\n",
    "    if item > 25:\n",
    "        lista.remove(item)\n",
    "\n",
    "print(lista)"
   ]
  },
  {
   "cell_type": "code",
   "execution_count": null,
   "id": "db39b255",
   "metadata": {},
   "outputs": [],
   "source": [
    "lista_um[:]"
   ]
  },
  {
   "cell_type": "code",
   "execution_count": null,
   "id": "0b87ca80",
   "metadata": {},
   "outputs": [],
   "source": [
    "pesos = [10, 20, 30, 40, 50, 60, 70, 80, 90, 100]\n",
    "\n",
    "for peso in pesos:\n",
    "    if peso < 30:\n",
    "        print(\"Peso menor que 30!\")\n",
    "        if peso < 20:\n",
    "            print(\"Peso menor 20!\")"
   ]
  },
  {
   "cell_type": "code",
   "execution_count": null,
   "id": "3414bae8",
   "metadata": {
    "scrolled": true,
    "tags": []
   },
   "outputs": [],
   "source": [
    "massa_e_velocidades = [(60.0, 10), (12.0, 10)]\n",
    "\n",
    "for massa, velocidade in massa_e_velocidades:\n",
    "    print(massa, velocidade)\n",
    "    if (massa > 50) or (velocidade > 5) and ():\n",
    "        print(\"Objeto pesado e rápido.\")"
   ]
  },
  {
   "cell_type": "markdown",
   "id": "9200ccaf",
   "metadata": {},
   "source": [
    "### Pandas e DataFrames\n",
    "\n",
    "* Diferença métodos e atributos\n",
    "* Métodos de DataFrame\n",
    "    * `df.head()`\n",
    "    * `df.info()`\n",
    "    * `df.describe()`\n",
    "\n",
    "### Ponto-chave\n",
    "**Pensar num DataFrame como uma matriz cujo as linhas e colunas tem nomes.**"
   ]
  },
  {
   "cell_type": "code",
   "execution_count": null,
   "id": "8ab0e617",
   "metadata": {},
   "outputs": [],
   "source": [
    "import pandas as pd"
   ]
  },
  {
   "cell_type": "code",
   "execution_count": null,
   "id": "dd915ed4",
   "metadata": {},
   "outputs": [],
   "source": [
    "df = pd.read_csv(\"gapminder_all.csv\", index_col=\"country\")"
   ]
  },
  {
   "cell_type": "code",
   "execution_count": null,
   "id": "e348fbb0",
   "metadata": {},
   "outputs": [],
   "source": [
    "len(df.columns)"
   ]
  },
  {
   "cell_type": "code",
   "execution_count": null,
   "id": "d774a424",
   "metadata": {},
   "outputs": [],
   "source": [
    "type(df)"
   ]
  },
  {
   "cell_type": "code",
   "execution_count": null,
   "id": "de03c671",
   "metadata": {},
   "outputs": [],
   "source": [
    "type(df.values)"
   ]
  },
  {
   "cell_type": "code",
   "execution_count": null,
   "id": "294764de",
   "metadata": {},
   "outputs": [],
   "source": [
    "df.head()"
   ]
  },
  {
   "cell_type": "code",
   "execution_count": null,
   "id": "85283cee",
   "metadata": {},
   "outputs": [],
   "source": [
    "df.head()\n",
    "# df.info()\n",
    "df.describe()"
   ]
  },
  {
   "cell_type": "code",
   "execution_count": null,
   "id": "0367fd45",
   "metadata": {},
   "outputs": [],
   "source": [
    "df.shape"
   ]
  },
  {
   "cell_type": "markdown",
   "id": "f59ad38d",
   "metadata": {},
   "source": [
    "### Encontro 5 - 23 de junho de 2021\n",
    "\n",
    "* Uso do NumPy\n",
    "    * Tipos numéricos do NumPy (`float64` e `int64`)\n",
    "* Fatiando, filtrando e indexando DataFrames\n",
    "    * `.loc` -> nome de linhas e colunas\n",
    "    * `.iloc` -> posição numérica da linha e da coluna\n",
    "* NumPy como base do Pandas (`ndarray`)\n",
    "\n",
    "### Pontos-chave\n",
    "* Diferentes consultas retornam diferentes valores dependendo da dimensão:\n",
    "    * Ponto (0 dimensões) = valor da célula\n",
    "    * Vetor (1 dimensão) = `pd.Series`\n",
    "    * Campo (2 dimensões) = `pd.DataFrame`\n",
    "* Objetos são compostos por atributos, que podem ter tipos distintos"
   ]
  },
  {
   "cell_type": "code",
   "execution_count": null,
   "id": "4c71631a",
   "metadata": {},
   "outputs": [],
   "source": [
    "lista = [23, 564, 7, 20, 932, -4]"
   ]
  },
  {
   "cell_type": "code",
   "execution_count": null,
   "id": "05f744f3",
   "metadata": {},
   "outputs": [],
   "source": [
    "lista_dois = []\n",
    "\n",
    "for item in lista:\n",
    "    lista_dois.append(item * 2)"
   ]
  },
  {
   "cell_type": "code",
   "execution_count": null,
   "id": "6c983cc6",
   "metadata": {},
   "outputs": [],
   "source": [
    "arranjo = np.array(lista)\n",
    "arranjo_2 = arranjo * 2"
   ]
  },
  {
   "cell_type": "code",
   "execution_count": null,
   "id": "45b7e5e0",
   "metadata": {},
   "outputs": [],
   "source": [
    "import pandas as pd\n",
    "import numpy as np"
   ]
  },
  {
   "cell_type": "code",
   "execution_count": null,
   "id": "993a9aa5",
   "metadata": {},
   "outputs": [],
   "source": [
    "df = pd.read_csv(\"gapminder_all.csv\", index_col='country')"
   ]
  },
  {
   "cell_type": "code",
   "execution_count": null,
   "id": "9ce3c401",
   "metadata": {},
   "outputs": [],
   "source": [
    "df.loc['Brazil', 'continent']"
   ]
  },
  {
   "cell_type": "code",
   "execution_count": null,
   "id": "f56589e3",
   "metadata": {},
   "outputs": [],
   "source": [
    "type(df.values)"
   ]
  },
  {
   "cell_type": "code",
   "execution_count": null,
   "id": "967c3e81",
   "metadata": {},
   "outputs": [],
   "source": [
    "df.loc['Brazil', 'continent']"
   ]
  },
  {
   "cell_type": "code",
   "execution_count": null,
   "id": "ae600ab6",
   "metadata": {},
   "outputs": [],
   "source": [
    "df.iloc[0, 0]"
   ]
  },
  {
   "cell_type": "code",
   "execution_count": null,
   "id": "d22d1090",
   "metadata": {},
   "outputs": [],
   "source": [
    "# Múltiplas linhas e colunas\n",
    "countries = ['United States', 'Jamaica']\n",
    "df.loc[countries, 'continent']"
   ]
  },
  {
   "cell_type": "code",
   "execution_count": null,
   "id": "5c6e58f5",
   "metadata": {},
   "outputs": [],
   "source": [
    "lifeExp_cols = ['lifeExp_1957', 'lifeExp_1987', 'lifeExp_2007']\n",
    "df.loc['Brazil', lifeExp_cols]"
   ]
  },
  {
   "cell_type": "code",
   "execution_count": null,
   "id": "d4776edc",
   "metadata": {},
   "outputs": [],
   "source": [
    "df.loc[countries, lifeExp_cols]"
   ]
  },
  {
   "cell_type": "code",
   "execution_count": null,
   "id": "5f331bcc",
   "metadata": {},
   "outputs": [],
   "source": [
    "df.loc['Brazil', 'continent']"
   ]
  },
  {
   "cell_type": "code",
   "execution_count": null,
   "id": "f11f2a05",
   "metadata": {},
   "outputs": [],
   "source": [
    "type(df.loc['Brazil', 'continent'])"
   ]
  },
  {
   "cell_type": "code",
   "execution_count": null,
   "id": "d7e55ecf",
   "metadata": {},
   "outputs": [],
   "source": [
    "df.loc[countries, 'continent']"
   ]
  },
  {
   "cell_type": "code",
   "execution_count": null,
   "id": "b6c8a0dd",
   "metadata": {},
   "outputs": [],
   "source": [
    "type(df.loc[countries, 'continent'])"
   ]
  },
  {
   "cell_type": "code",
   "execution_count": null,
   "id": "e0c1a1ce",
   "metadata": {},
   "outputs": [],
   "source": [
    "df.loc[countries, lifeExp_cols]"
   ]
  },
  {
   "cell_type": "code",
   "execution_count": null,
   "id": "00fbed15",
   "metadata": {},
   "outputs": [],
   "source": [
    "type(df.loc[countries, lifeExp_cols])"
   ]
  },
  {
   "cell_type": "code",
   "execution_count": null,
   "id": "24cce69d",
   "metadata": {},
   "outputs": [],
   "source": [
    "df.loc[['Brazil'], ['continent']]"
   ]
  },
  {
   "cell_type": "code",
   "execution_count": null,
   "id": "c19e4d53",
   "metadata": {},
   "outputs": [],
   "source": [
    "class Book:\n",
    "    \"\"\"\n",
    "    Classe para representar um livro.\n",
    "    \"\"\"\n",
    "    def __init__(self, title, authors, pages):\n",
    "        self.title = title\n",
    "        self.authors = authors\n",
    "        self.pages = pages\n",
    "        "
   ]
  },
  {
   "cell_type": "code",
   "execution_count": null,
   "id": "76cdbad5",
   "metadata": {},
   "outputs": [],
   "source": [
    "livro = Book(\"Senhor dos Anéis\", [\"JRR Tolkien\", \"Christian Tolkien\"], 1278)"
   ]
  },
  {
   "cell_type": "code",
   "execution_count": null,
   "id": "c9f0f245",
   "metadata": {},
   "outputs": [],
   "source": [
    "type(livro.title)"
   ]
  },
  {
   "cell_type": "code",
   "execution_count": null,
   "id": "2dc39984",
   "metadata": {},
   "outputs": [],
   "source": [
    "type(livro.authors)"
   ]
  },
  {
   "cell_type": "code",
   "execution_count": null,
   "id": "3096da55",
   "metadata": {},
   "outputs": [],
   "source": [
    "type(livro.pages)"
   ]
  },
  {
   "cell_type": "markdown",
   "id": "5b0ea608",
   "metadata": {},
   "source": [
    "### Encontro 6 - 30 de junho de 2021\n",
    "\n",
    "* Continuação Pandas\n",
    "* Condicionais\n",
    "* `merge` e `concat`\n",
    "\n",
    "### Pontos-chave\n",
    "* Posso filtrar meu DataFrame com condicionais\n",
    "    * Posso combinar condicionais com  os operadores `&` (AND) e `|` (OR)\n",
    "* Posso concatenar e fazer join em DataFrames com `merge` e `concat`"
   ]
  },
  {
   "cell_type": "code",
   "execution_count": null,
   "id": "53531470",
   "metadata": {},
   "outputs": [],
   "source": [
    "import pandas as pd"
   ]
  },
  {
   "cell_type": "code",
   "execution_count": null,
   "id": "73d108c9",
   "metadata": {},
   "outputs": [],
   "source": [
    "df = pd.read_csv(\"gapminder_all.csv\", index_col=\"country\")"
   ]
  },
  {
   "cell_type": "code",
   "execution_count": null,
   "id": "df80bd88",
   "metadata": {},
   "outputs": [],
   "source": [
    "cond1 = df['continent'] == 'Europe'\n",
    "cond2 = df['pop_2007'] > 10e6\n",
    "cond3 = df['continent'] == 'Americas'\n",
    "df[cond1 & cond2]  # operador AND\n",
    "df[cond1 | cond2]  # operador OR"
   ]
  },
  {
   "cell_type": "code",
   "execution_count": null,
   "id": "222583d6",
   "metadata": {},
   "outputs": [],
   "source": [
    "# não esquecer dos parênteses para evitar erros!\n",
    "df[(df['continent'] == 'Europe') & (df['pop_2007'] > 10e6)]"
   ]
  },
  {
   "cell_type": "code",
   "execution_count": null,
   "id": "168bab7a",
   "metadata": {},
   "outputs": [],
   "source": [
    "europa = df[cond1]\n",
    "americas = df[cond3]\n",
    "asia = df[df['continent'] == 'Asia']"
   ]
  },
  {
   "cell_type": "code",
   "execution_count": null,
   "id": "1fc8b29d",
   "metadata": {},
   "outputs": [],
   "source": [
    "paises = pd.concat([europa, americas, asia])"
   ]
  },
  {
   "cell_type": "code",
   "execution_count": null,
   "id": "84fc375e",
   "metadata": {},
   "outputs": [],
   "source": [
    "gdp_cols, life_cols, pop_cols, outras_colunas = [], [], [], []\n",
    "\n",
    "for coluna in df.columns:\n",
    "    if 'gdp' in coluna:\n",
    "        gdp_cols.append(coluna)\n",
    "    elif 'life' in coluna:\n",
    "        life_cols.append(coluna)\n",
    "    elif 'pop' in coluna:\n",
    "        pop_cols.append(coluna)\n",
    "    else:\n",
    "        outras_colunas.append(coluna)"
   ]
  },
  {
   "cell_type": "code",
   "execution_count": null,
   "id": "c7aac9dd",
   "metadata": {},
   "outputs": [],
   "source": [
    "gdp_df, life_df, pop_df = df[gdp_cols], df[life_cols], df[pop_cols]"
   ]
  },
  {
   "cell_type": "code",
   "execution_count": null,
   "id": "c4a7b665",
   "metadata": {},
   "outputs": [],
   "source": [
    "pd.concat([life_df, pop_df, gdp_df], axis=1)"
   ]
  },
  {
   "cell_type": "code",
   "execution_count": null,
   "id": "cae8eb82",
   "metadata": {},
   "outputs": [],
   "source": [
    "df = pd.read_csv(\"gapminder_all.csv\")"
   ]
  },
  {
   "cell_type": "code",
   "execution_count": null,
   "id": "9dd60357",
   "metadata": {},
   "outputs": [],
   "source": [
    "gdp_df, life_df, pop_df = df[['country'] + gdp_cols], df[['country'] + life_cols], df[['country'] + pop_cols]"
   ]
  },
  {
   "cell_type": "code",
   "execution_count": null,
   "id": "e0928b87",
   "metadata": {},
   "outputs": [],
   "source": [
    "df_mergeado = gdp_df.merge(life_df, on='country')"
   ]
  },
  {
   "cell_type": "code",
   "execution_count": null,
   "id": "a7f19b43",
   "metadata": {},
   "outputs": [],
   "source": [
    "df_mergeado = df_mergeado.merge(pop_df, on='country')"
   ]
  },
  {
   "cell_type": "code",
   "execution_count": null,
   "id": "bf3b3fd1",
   "metadata": {},
   "outputs": [],
   "source": [
    "pop_df.copy().rename(columns={\"country\": \"nation\"}, inplace=True)"
   ]
  },
  {
   "cell_type": "code",
   "execution_count": null,
   "id": "13584e32",
   "metadata": {},
   "outputs": [],
   "source": [
    "gdp_df.merge(pop_df, left_on='country', right_on='nation')"
   ]
  },
  {
   "cell_type": "code",
   "execution_count": null,
   "id": "34dc8442",
   "metadata": {},
   "outputs": [],
   "source": [
    "# merge pelo index\n",
    "df = pd.read_csv(\"gapminder_all.csv\", index_col='country')"
   ]
  },
  {
   "cell_type": "code",
   "execution_count": null,
   "id": "c9c2d141",
   "metadata": {},
   "outputs": [],
   "source": [
    "gdp_df, life_df, pop_df = df[gdp_cols], df[life_cols], df[pop_cols]"
   ]
  },
  {
   "cell_type": "code",
   "execution_count": null,
   "id": "769e7f12",
   "metadata": {},
   "outputs": [],
   "source": [
    "gdp_df.merge(life_df, left_index=True, right_index=True)"
   ]
  },
  {
   "cell_type": "code",
   "execution_count": null,
   "id": "7b68e1a7",
   "metadata": {},
   "outputs": [],
   "source": []
  }
 ],
 "metadata": {
  "kernelspec": {
   "display_name": "Python [conda env:xlab]",
   "language": "python",
   "name": "conda-env-xlab-py"
  },
  "language_info": {
   "codemirror_mode": {
    "name": "ipython",
    "version": 3
   },
   "file_extension": ".py",
   "mimetype": "text/x-python",
   "name": "python",
   "nbconvert_exporter": "python",
   "pygments_lexer": "ipython3",
   "version": "3.9.2"
  }
 },
 "nbformat": 4,
 "nbformat_minor": 5
}
