{
 "cells": [
  {
   "cell_type": "markdown",
   "id": "9b27aca4",
   "metadata": {},
   "source": [
    "### Aula 1 - 26 de maio de 2021\n",
    "\n",
    "* Introdução ao Jupyter\n",
    "* Usando o Python como uma calculadora\n",
    "* Operadores aritméticos\n",
    "    * Os 4 básicos: `+`, `-`, `*`, `/`\n",
    "    * Outros: `%`, `//`, `**`\n",
    "* Variáveis\n",
    "* Tipos de dados\n",
    "    * `int`\n",
    "    * `float`\n",
    "    * `str`\n",
    "* Funções embutidas\n",
    "    * `type()`\n",
    "    * `print()`\n",
    "    * `round()`\n",
    "    * `str()`\n",
    "* Importância dos tipos de dados\n",
    "    * Conversão para string\n",
    "    \n",
    "* Três maneiras de usar variáveis com o `print`\n",
    "    * Usando o operador `+`\n",
    "    * Usando `print(\"uma string\", variavel, \"outra string\")`\n",
    "    * Usando F-strings **(avançado)**\n",
    "\n",
    "**Próxima aula:** diferença de `print` e `return`"
   ]
  },
  {
   "cell_type": "code",
   "execution_count": null,
   "id": "3aca7831",
   "metadata": {},
   "outputs": [],
   "source": []
  }
 ],
 "metadata": {
  "kernelspec": {
   "display_name": "Python [conda env:xlab]",
   "language": "python",
   "name": "conda-env-xlab-py"
  },
  "language_info": {
   "codemirror_mode": {
    "name": "ipython",
    "version": 3
   },
   "file_extension": ".py",
   "mimetype": "text/x-python",
   "name": "python",
   "nbconvert_exporter": "python",
   "pygments_lexer": "ipython3",
   "version": "3.9.2"
  }
 },
 "nbformat": 4,
 "nbformat_minor": 5
}
