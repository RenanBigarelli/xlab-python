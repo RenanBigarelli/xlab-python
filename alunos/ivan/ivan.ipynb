{
 "cells": [
  {
   "cell_type": "markdown",
   "id": "1cab884a",
   "metadata": {},
   "source": [
    "### Aula 1 - 26 de maio de 2021\n",
    "\n",
    "* Introdução ao Jupyter\n",
    "* Usando o Python como uma calculadora\n",
    "* Operadores aritméticos\n",
    "    * Os 4 básicos: `+`, `-`, `*`, `/`\n",
    "    * Outros: `%`, `//`, `**`\n",
    "* Variáveis\n",
    "* Tipos de dados\n",
    "    * `int`\n",
    "    * `float`\n",
    "    * `str`\n",
    "* Funções embutidas\n",
    "    * `type()`\n",
    "    * `print()`\n",
    "    * `round()`\n",
    "    * `str()`\n",
    "* Importância dos tipos de dados\n",
    "    * Conversão para string\n",
    "    \n",
    "* Três maneiras de usar variáveis com o `print`\n",
    "    * Usando o operador `+`\n",
    "    * Usando `print(\"uma string\", variavel, \"outra string\")`\n",
    "    * Usando F-strings **(avançado)**\n",
    "\n",
    "\n",
    "\n",
    "\n",
    "**Próxima aula:** diferença de `print` e `return`\n",
    "\n",
    "### Aula 2 - 02 de junho de 2021\n",
    "\n",
    "* Funções embutidas\n",
    "    * [Documentação do Python](https://docs.python.org/pt-br/3/library/functions.html)\n",
    "* Funções definidas pelo usuário\n",
    "    * Quatro componentes na definição\n",
    "        * `def`, nome da função, parâmetros, e `:`\n",
    "    * Diferença entre `print()` e `return`\n",
    "* O que significa `string[0]`?\n",
    "    * Sintaxe para escolher objetos da sequência pelo **índice**\n",
    "    * Dois detalhes para lembrar:\n",
    "        * Começa do zero (índice baseado em zero, ou zero-based index)\n",
    "        * Fatia não-inclusiva\n",
    "    * Sintaxe de fatia\n",
    "        * `sequencia[indice]`\n",
    "        * `sequencia[inicio:fim]`\n",
    "        * `sequencia[:6]` início até posição 5\n",
    "        * `sequencia[-10:]` últimos 10 itens\n",
    "        * `sequencia[1:6:2]` pulando de dois em dois\n",
    "\n",
    "**Próxima aula:** Listas, fatiando e indexando."
   ]
  },
  {
   "cell_type": "code",
   "execution_count": null,
   "id": "ffcfc2e5",
   "metadata": {},
   "outputs": [],
   "source": [
    "def concatenar_strings(string1, string2):\n",
    "    print(string1 + string2)"
   ]
  },
  {
   "cell_type": "code",
   "execution_count": null,
   "id": "429e1d91",
   "metadata": {},
   "outputs": [],
   "source": [
    "string_um = \"Santa \"\n",
    "string_dois = \"Catarina\"\n",
    "\n",
    "concatenar_strings(\"Santa \", \"Catarina\")"
   ]
  },
  {
   "cell_type": "code",
   "execution_count": null,
   "id": "94d9453a",
   "metadata": {},
   "outputs": [],
   "source": [
    "def retornar_strings(string1, string2):\n",
    "    return string1 + string2"
   ]
  },
  {
   "cell_type": "code",
   "execution_count": null,
   "id": "2cb2f539",
   "metadata": {},
   "outputs": [],
   "source": [
    "retornar_strings(\"São \", \"Paulo\")"
   ]
  },
  {
   "cell_type": "code",
   "execution_count": null,
   "id": "12b1092a",
   "metadata": {},
   "outputs": [],
   "source": [
    "estado = retornar_strings(\"São \", \"Paulo\")\n",
    "print(\"O valor de 'estado' é\", estado)"
   ]
  },
  {
   "cell_type": "code",
   "execution_count": null,
   "id": "6e122b55",
   "metadata": {},
   "outputs": [],
   "source": [
    "estado = concatenar_strings(\"São \", \"Paulo\")"
   ]
  },
  {
   "cell_type": "code",
   "execution_count": null,
   "id": "82330c34",
   "metadata": {},
   "outputs": [],
   "source": [
    "print(\"O valor de 'estado' é\", estado)"
   ]
  },
  {
   "cell_type": "code",
   "execution_count": null,
   "id": "bbaba936",
   "metadata": {},
   "outputs": [],
   "source": [
    "string2"
   ]
  },
  {
   "cell_type": "code",
   "execution_count": null,
   "id": "0bdc2b3f",
   "metadata": {},
   "outputs": [],
   "source": [
    "string3 = print(\"Catarina\")"
   ]
  },
  {
   "cell_type": "code",
   "execution_count": null,
   "id": "310cf392",
   "metadata": {},
   "outputs": [],
   "source": [
    "def pegar_primeira_letra_da_string(string):  # recebe um dado de entrada\n",
    "    \n",
    "    # faz alguma coisa\n",
    "    primeira_letra = string[0]\n",
    "    print(\"A primeira letra é\", primeira_letra)\n",
    "    \n",
    "    return primeira_letra  # retorna um dado de saída"
   ]
  },
  {
   "cell_type": "code",
   "execution_count": null,
   "id": "3928fe08",
   "metadata": {},
   "outputs": [],
   "source": [
    "pegar_primeira_letra_da_string(\"Brasil\")"
   ]
  },
  {
   "cell_type": "code",
   "execution_count": null,
   "id": "aeddb606",
   "metadata": {},
   "outputs": [],
   "source": [
    "sequencia = \"Brasil é penta\""
   ]
  },
  {
   "cell_type": "code",
   "execution_count": null,
   "id": "5a64e45d",
   "metadata": {},
   "outputs": [],
   "source": [
    "sequencia[0]"
   ]
  },
  {
   "cell_type": "code",
   "execution_count": null,
   "id": "480bab9c",
   "metadata": {},
   "outputs": [],
   "source": [
    "# Fatiando sequências\n",
    "sequencia[inicio:fim]\n",
    "sequencia[inicio:fim:degrau]"
   ]
  },
  {
   "cell_type": "code",
   "execution_count": null,
   "id": "98690245",
   "metadata": {},
   "outputs": [],
   "source": [
    "len(sequencia)  # len() vem de length"
   ]
  },
  {
   "cell_type": "code",
   "execution_count": null,
   "id": "982fb49a",
   "metadata": {},
   "outputs": [],
   "source": [
    "tamanho_da_sequencia = len(sequencia)"
   ]
  },
  {
   "cell_type": "code",
   "execution_count": null,
   "id": "79809cde",
   "metadata": {},
   "outputs": [],
   "source": [
    "sequencia[-5:]"
   ]
  },
  {
   "cell_type": "code",
   "execution_count": null,
   "id": "44d9fde5",
   "metadata": {},
   "outputs": [],
   "source": [
    "nome = \"Ivan\""
   ]
  },
  {
   "cell_type": "code",
   "execution_count": null,
   "id": "7d9df829",
   "metadata": {},
   "outputs": [],
   "source": [
    "nome[::-1]"
   ]
  },
  {
   "cell_type": "code",
   "execution_count": null,
   "id": "94cf6bbc",
   "metadata": {},
   "outputs": [],
   "source": [
    "sequencia"
   ]
  },
  {
   "cell_type": "code",
   "execution_count": null,
   "id": "8e63dfb7",
   "metadata": {},
   "outputs": [],
   "source": [
    "nome_do_estado = [\"Rio\", \"de\", \"Janeiro\", 21]\n",
    "nome_do_estado[0]"
   ]
  },
  {
   "cell_type": "code",
   "execution_count": null,
   "id": "50eafc8a",
   "metadata": {},
   "outputs": [],
   "source": [
    "print(\"O DDD do estado do\", nome_do_estado[0], \"é\", nome_do_estado[-1])"
   ]
  },
  {
   "cell_type": "code",
   "execution_count": null,
   "id": "865915f6",
   "metadata": {},
   "outputs": [],
   "source": []
  }
 ],
 "metadata": {
  "kernelspec": {
   "display_name": "Python [conda env:xlab]",
   "language": "python",
   "name": "conda-env-xlab-py"
  },
  "language_info": {
   "codemirror_mode": {
    "name": "ipython",
    "version": 3
   },
   "file_extension": ".py",
   "mimetype": "text/x-python",
   "name": "python",
   "nbconvert_exporter": "python",
   "pygments_lexer": "ipython3",
   "version": "3.9.2"
  }
 },
 "nbformat": 4,
 "nbformat_minor": 5
}
