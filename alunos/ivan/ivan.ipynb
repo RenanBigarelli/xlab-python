{
 "cells": [
  {
   "cell_type": "markdown",
   "id": "ca90224c",
   "metadata": {},
   "source": [
    "### Aula 1 - 26 de maio de 2021\n",
    "\n",
    "* Introdução ao Jupyter\n",
    "* Usando o Python como uma calculadora\n",
    "* Operadores aritméticos\n",
    "    * Os 4 básicos: `+`, `-`, `*`, `/`\n",
    "    * Outros: `%`, `//`, `**`\n",
    "* Variáveis\n",
    "* Tipos de dados\n",
    "    * `int`\n",
    "    * `float`\n",
    "    * `str`\n",
    "* Funções embutidas\n",
    "    * `type()`\n",
    "    * `print()`\n",
    "    * `round()`\n",
    "    * `str()`\n",
    "* Importância dos tipos de dados\n",
    "    * Conversão para string\n",
    "    \n",
    "* Três maneiras de usar variáveis com o `print`\n",
    "    * Usando o operador `+`\n",
    "    * Usando `print(\"uma string\", variavel, \"outra string\")`\n",
    "    * Usando F-strings **(avançado)**\n",
    "\n",
    "\n",
    "\n",
    "\n",
    "**Próxima aula:** diferença de `print` e `return`\n",
    "\n",
    "### Aula 2 - 02 de junho de 2021\n",
    "\n",
    "* Funções embutidas\n",
    "    * [Documentação do Python](https://docs.python.org/pt-br/3/library/functions.html)\n",
    "* Funções definidas pelo usuário\n",
    "    * Quatro componentes na definição\n",
    "        * `def`, nome da função, parâmetros, e `:`\n",
    "    * Diferença entre `print()` e `return`\n",
    "* O que significa `string[0]`?\n",
    "    * Sintaxe para escolher objetos da sequência pelo **índice**\n",
    "    * Dois detalhes para lembrar:\n",
    "        * Começa do zero (índice baseado em zero, ou zero-based index)\n",
    "        * Fatia não-inclusiva\n",
    "    * Sintaxe de fatia\n",
    "        * `sequencia[indice]`\n",
    "        * `sequencia[inicio:fim]`\n",
    "        * `sequencia[:6]` início até posição 5\n",
    "        * `sequencia[-10:]` últimos 10 itens\n",
    "        * `sequencia[1:6:2]` pulando de dois em dois\n",
    "\n",
    "**Próxima aula:** Listas, fatiando e indexando."
   ]
  },
  {
   "cell_type": "code",
   "execution_count": null,
   "id": "db5d3ac2",
   "metadata": {},
   "outputs": [],
   "source": [
    "def concatenar_strings(string1, string2):\n",
    "    print(string1 + string2)"
   ]
  },
  {
   "cell_type": "code",
   "execution_count": null,
   "id": "ff63b183",
   "metadata": {},
   "outputs": [],
   "source": [
    "string_um = \"Santa \"\n",
    "string_dois = \"Catarina\"\n",
    "\n",
    "concatenar_strings(\"Santa \", \"Catarina\")"
   ]
  },
  {
   "cell_type": "code",
   "execution_count": null,
   "id": "3e25b295",
   "metadata": {},
   "outputs": [],
   "source": [
    "def retornar_strings(string1, string2):\n",
    "    return string1 + string2"
   ]
  },
  {
   "cell_type": "code",
   "execution_count": null,
   "id": "74da60cc",
   "metadata": {},
   "outputs": [],
   "source": [
    "retornar_strings(\"São \", \"Paulo\")"
   ]
  },
  {
   "cell_type": "code",
   "execution_count": null,
   "id": "b6f43ae8",
   "metadata": {},
   "outputs": [],
   "source": [
    "estado = retornar_strings(\"São \", \"Paulo\")\n",
    "print(\"O valor de 'estado' é\", estado)"
   ]
  },
  {
   "cell_type": "code",
   "execution_count": null,
   "id": "707c771b",
   "metadata": {},
   "outputs": [],
   "source": [
    "estado = concatenar_strings(\"São \", \"Paulo\")"
   ]
  },
  {
   "cell_type": "code",
   "execution_count": null,
   "id": "7202a421",
   "metadata": {},
   "outputs": [],
   "source": [
    "print(\"O valor de 'estado' é\", estado)"
   ]
  },
  {
   "cell_type": "code",
   "execution_count": null,
   "id": "4a25b549",
   "metadata": {},
   "outputs": [],
   "source": [
    "string2"
   ]
  },
  {
   "cell_type": "code",
   "execution_count": null,
   "id": "51470fa6",
   "metadata": {},
   "outputs": [],
   "source": [
    "string3 = print(\"Catarina\")"
   ]
  },
  {
   "cell_type": "code",
   "execution_count": null,
   "id": "ca0397da",
   "metadata": {},
   "outputs": [],
   "source": [
    "def pegar_primeira_letra_da_string(string):  # recebe um dado de entrada\n",
    "    \n",
    "    # faz alguma coisa\n",
    "    primeira_letra = string[0]\n",
    "    print(\"A primeira letra é\", primeira_letra)\n",
    "    \n",
    "    return primeira_letra  # retorna um dado de saída"
   ]
  },
  {
   "cell_type": "code",
   "execution_count": null,
   "id": "b2bf3689",
   "metadata": {},
   "outputs": [],
   "source": [
    "pegar_primeira_letra_da_string(\"Brasil\")"
   ]
  },
  {
   "cell_type": "code",
   "execution_count": null,
   "id": "742c9b9a",
   "metadata": {},
   "outputs": [],
   "source": [
    "sequencia = \"Brasil é penta\""
   ]
  },
  {
   "cell_type": "code",
   "execution_count": null,
   "id": "00978152",
   "metadata": {},
   "outputs": [],
   "source": [
    "sequencia[0]"
   ]
  },
  {
   "cell_type": "code",
   "execution_count": null,
   "id": "8eb9d34f",
   "metadata": {},
   "outputs": [],
   "source": [
    "# Fatiando sequências\n",
    "sequencia[inicio:fim]\n",
    "sequencia[inicio:fim:degrau]"
   ]
  },
  {
   "cell_type": "code",
   "execution_count": null,
   "id": "797283b4",
   "metadata": {},
   "outputs": [],
   "source": [
    "len(sequencia)  # len() vem de length"
   ]
  },
  {
   "cell_type": "code",
   "execution_count": null,
   "id": "78acc50c",
   "metadata": {},
   "outputs": [],
   "source": [
    "tamanho_da_sequencia = len(sequencia)"
   ]
  },
  {
   "cell_type": "code",
   "execution_count": null,
   "id": "5ee1ad2a",
   "metadata": {},
   "outputs": [],
   "source": [
    "sequencia[-5:]"
   ]
  },
  {
   "cell_type": "code",
   "execution_count": null,
   "id": "f06b17e6",
   "metadata": {},
   "outputs": [],
   "source": [
    "nome = \"Ivan\""
   ]
  },
  {
   "cell_type": "code",
   "execution_count": null,
   "id": "5dedfd7b",
   "metadata": {},
   "outputs": [],
   "source": [
    "nome[::-1]"
   ]
  },
  {
   "cell_type": "code",
   "execution_count": null,
   "id": "69801844",
   "metadata": {},
   "outputs": [],
   "source": [
    "sequencia"
   ]
  },
  {
   "cell_type": "code",
   "execution_count": null,
   "id": "d97d5980",
   "metadata": {},
   "outputs": [],
   "source": [
    "nome_do_estado = [\"Rio\", \"de\", \"Janeiro\", 21]\n",
    "nome_do_estado[0]"
   ]
  },
  {
   "cell_type": "code",
   "execution_count": null,
   "id": "fdef0569",
   "metadata": {},
   "outputs": [],
   "source": [
    "print(\"O DDD do estado do\", nome_do_estado[0], \"é\", nome_do_estado[-1])"
   ]
  },
  {
   "cell_type": "markdown",
   "id": "3041a46b",
   "metadata": {},
   "source": [
    "### Aula 3 - 09 de junho de 2021\n",
    "\n",
    "#### Listas\n",
    "* Ideias das listas\n",
    "    * Coleção de objetos\n",
    "    * Mantém a ordenação\n",
    "    * São **mutáveis**\n",
    "* Criando listas\n",
    "    * Função embutida `list()`\n",
    "* Indexando e fatiando\n",
    "* Métodos de lista\n",
    "    * `.append()`\n",
    "    * `.remove()`\n",
    "    * `.pop()`\n",
    "    * `.insert()`\n",
    "    * `.sort()`\n",
    "    \n",
    "### Próxima aula:\n",
    "\n",
    "* Condicionais\n",
    "* `for` loops\n",
    "* Problema com `lista.remove()` no `for` loop\n",
    "\n",
    "#### Importante\n",
    "**As operações no Python dependem do tipo do dado.**  \n",
    "**Exemplo: tente multiplicar listas ou strings.**\n",
    "* Para multiplicar coleções de valores numéricos, preciso usar a NumPy"
   ]
  },
  {
   "cell_type": "code",
   "execution_count": null,
   "id": "6c62a314",
   "metadata": {},
   "outputs": [],
   "source": [
    "lista = [10, 20, 30, 40, \"cinquenta\"]\n",
    "lista_2 = [100, 200, 300, 400, 500]"
   ]
  },
  {
   "cell_type": "code",
   "execution_count": null,
   "id": "c56c2a97",
   "metadata": {},
   "outputs": [],
   "source": [
    "# Para multiplicar vetores numéricos, é necessário a NumPy (Numerical Python)\n",
    "import numpy as np\n",
    "\n",
    "lista_de_numeros = [10,20,30,40,50]\n",
    "lista_de_numeros_dois = [2,3,4,5,6,7]\n",
    "arranjo = np.array(lista_de_numeros)\n",
    "arranjo_dois = np.array(lista_de_numeros_dois)"
   ]
  },
  {
   "cell_type": "code",
   "execution_count": null,
   "id": "19db855c",
   "metadata": {},
   "outputs": [],
   "source": [
    "lista[-1] = 60"
   ]
  },
  {
   "cell_type": "code",
   "execution_count": null,
   "id": "d81bc1d5",
   "metadata": {},
   "outputs": [],
   "source": [
    "string = \"cinquenta\""
   ]
  },
  {
   "cell_type": "code",
   "execution_count": null,
   "id": "569f89b4",
   "metadata": {},
   "outputs": [],
   "source": [
    "string = string[:-1]"
   ]
  },
  {
   "cell_type": "code",
   "execution_count": null,
   "id": "eee88bae",
   "metadata": {},
   "outputs": [],
   "source": [
    "lista.append(100)"
   ]
  },
  {
   "cell_type": "code",
   "execution_count": null,
   "id": "c2b0683e",
   "metadata": {},
   "outputs": [],
   "source": [
    "lista.append(\"duzentos\")"
   ]
  },
  {
   "cell_type": "code",
   "execution_count": null,
   "id": "ef4d87b3",
   "metadata": {},
   "outputs": [],
   "source": [
    "lista.pop()"
   ]
  },
  {
   "cell_type": "code",
   "execution_count": null,
   "id": "bfe9242f",
   "metadata": {},
   "outputs": [],
   "source": [
    "lista = [10, 20, 30, 40, 50, 60, 100, 200, 300]"
   ]
  },
  {
   "cell_type": "code",
   "execution_count": null,
   "id": "e272e4bc",
   "metadata": {},
   "outputs": [],
   "source": [
    "for item in lista:\n",
    "    if item > 50:\n",
    "        lista.remove(item)"
   ]
  },
  {
   "cell_type": "code",
   "execution_count": null,
   "id": "5c8b2262",
   "metadata": {},
   "outputs": [],
   "source": [
    "lista\n"
   ]
  },
  {
   "cell_type": "code",
   "execution_count": null,
   "id": "8ff93fea",
   "metadata": {},
   "outputs": [],
   "source": [
    "lista = lista[::-1]\n",
    "lista.sort(reverse=True)"
   ]
  },
  {
   "cell_type": "code",
   "execution_count": null,
   "id": "c7eb6179",
   "metadata": {},
   "outputs": [],
   "source": [
    "lista = [0, 10, 35, 22, \"uma string\"]"
   ]
  },
  {
   "cell_type": "code",
   "execution_count": null,
   "id": "017d04da",
   "metadata": {},
   "outputs": [],
   "source": [
    "lista_de_listas = [0, 22, [\"a\", \"b\", \"c\", \"d\"]]"
   ]
  },
  {
   "cell_type": "code",
   "execution_count": null,
   "id": "7a778085",
   "metadata": {},
   "outputs": [],
   "source": []
  }
 ],
 "metadata": {
  "kernelspec": {
   "display_name": "Python [conda env:xlab]",
   "language": "python",
   "name": "conda-env-xlab-py"
  },
  "language_info": {
   "codemirror_mode": {
    "name": "ipython",
    "version": 3
   },
   "file_extension": ".py",
   "mimetype": "text/x-python",
   "name": "python",
   "nbconvert_exporter": "python",
   "pygments_lexer": "ipython3",
   "version": "3.9.2"
  }
 },
 "nbformat": 4,
 "nbformat_minor": 5
}
