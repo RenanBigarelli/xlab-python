{
 "cells": [
  {
   "cell_type": "markdown",
   "id": "a90f0cf1",
   "metadata": {},
   "source": [
    "### Encontro 1 - 01 de julho de 2021\n",
    "\n",
    "* Usando o JupyterLab\n",
    "    * Tipos de célula\n",
    "    * Atalhos do teclado\n",
    "* Revisão Python básico\n",
    "    * Jogo de pergunta/resposta\n",
    "        * Interpretador Python sempre RETORNA algo (pode ser nada).\n",
    "    * Variáveis\n",
    "    * Tipos de dados\n",
    "        * `str` -> texto (\"a string of characters\")\n",
    "        * `int` -> inteiro\n",
    "        * `float` -> número com vírgula (ponto flutuante)\n",
    "        * `bool` -> `True` ou `False`\n",
    "        * __Também servem como funções built-in!__\n",
    "    * Operadores matemáticos\n",
    "    * Operadores lógicos\n",
    "* Funções embutidas (_built-in_)\n",
    "    * [Docs Python](https://docs.python.org/pt-br/3/library/functions.html) \n",
    "    * `type()`\n",
    "    * `print()`\n",
    "    \n",
    "### Ponto-chave\n",
    "* O tipo de um objeto determina as operações que posso fazer com ele.\n",
    "* Objetos podem ser de tipos diferentes e compartilhar propriedades em comum."
   ]
  },
  {
   "cell_type": "code",
   "execution_count": null,
   "id": "ac9aca71",
   "metadata": {},
   "outputs": [],
   "source": [
    "# operadores matemáticos\n",
    "2 + 2\n",
    "2 - 2\n",
    "2 * 2\n",
    "2 / 2\n",
    "2 ** 3  # power\n",
    "10 % 3  # modulo\n",
    "10 // 3  # floor division"
   ]
  },
  {
   "cell_type": "code",
   "execution_count": null,
   "id": "59df042a",
   "metadata": {},
   "outputs": [],
   "source": [
    "resultado = 10 // 3"
   ]
  },
  {
   "cell_type": "code",
   "execution_count": null,
   "id": "27b3c7d3",
   "metadata": {},
   "outputs": [],
   "source": [
    "resultado"
   ]
  },
  {
   "cell_type": "code",
   "execution_count": null,
   "id": "b2e63e51",
   "metadata": {},
   "outputs": [],
   "source": [
    "resultado_print = print(resultado)"
   ]
  },
  {
   "cell_type": "code",
   "execution_count": null,
   "id": "2e8bd669",
   "metadata": {},
   "outputs": [],
   "source": [
    "print(resultado_print)"
   ]
  },
  {
   "cell_type": "code",
   "execution_count": null,
   "id": "18fc1359",
   "metadata": {},
   "outputs": [],
   "source": [
    "resultado = '2' + 2"
   ]
  },
  {
   "cell_type": "code",
   "execution_count": null,
   "id": "858737dd",
   "metadata": {},
   "outputs": [],
   "source": [
    "'2' + '2'"
   ]
  },
  {
   "cell_type": "code",
   "execution_count": null,
   "id": "b74e2b02",
   "metadata": {},
   "outputs": [],
   "source": [
    "2.0 + 2.5"
   ]
  },
  {
   "cell_type": "code",
   "execution_count": null,
   "id": "f56db8d3",
   "metadata": {},
   "outputs": [],
   "source": [
    "2 + 2.5"
   ]
  },
  {
   "cell_type": "code",
   "execution_count": null,
   "id": "0088dcd7",
   "metadata": {},
   "outputs": [],
   "source": [
    "10 / 5"
   ]
  },
  {
   "cell_type": "code",
   "execution_count": null,
   "id": "7ab47553",
   "metadata": {},
   "outputs": [],
   "source": [
    "2 * 2"
   ]
  },
  {
   "cell_type": "code",
   "execution_count": null,
   "id": "86225b57",
   "metadata": {},
   "outputs": [],
   "source": [
    "type(2 * 2.5)"
   ]
  },
  {
   "cell_type": "code",
   "execution_count": null,
   "id": "573bc8e9",
   "metadata": {},
   "outputs": [],
   "source": [
    "float(2)"
   ]
  },
  {
   "cell_type": "code",
   "execution_count": null,
   "id": "7985ae53",
   "metadata": {},
   "outputs": [],
   "source": [
    "int(2.5)"
   ]
  },
  {
   "cell_type": "code",
   "execution_count": null,
   "id": "f0d0aab2",
   "metadata": {},
   "outputs": [],
   "source": [
    "str(3.14) + \" é o número Pi\""
   ]
  },
  {
   "cell_type": "code",
   "execution_count": null,
   "id": "d428cb28",
   "metadata": {},
   "outputs": [],
   "source": [
    "type(1 > 0)"
   ]
  },
  {
   "cell_type": "code",
   "execution_count": null,
   "id": "772387e1",
   "metadata": {},
   "outputs": [],
   "source": [
    "bool(1)"
   ]
  },
  {
   "cell_type": "code",
   "execution_count": null,
   "id": "f3f0102d",
   "metadata": {},
   "outputs": [],
   "source": [
    "bool(0)"
   ]
  },
  {
   "cell_type": "code",
   "execution_count": null,
   "id": "7b413dcb",
   "metadata": {},
   "outputs": [],
   "source": [
    "bool(0)"
   ]
  },
  {
   "cell_type": "code",
   "execution_count": null,
   "id": "c5378b49",
   "metadata": {},
   "outputs": [],
   "source": [
    "1 > 0"
   ]
  },
  {
   "cell_type": "code",
   "execution_count": null,
   "id": "e287ff3f",
   "metadata": {},
   "outputs": [],
   "source": [
    "1 < 0"
   ]
  },
  {
   "cell_type": "code",
   "execution_count": null,
   "id": "ba4b7eb3",
   "metadata": {},
   "outputs": [],
   "source": [
    "1 == 1"
   ]
  },
  {
   "cell_type": "code",
   "execution_count": null,
   "id": "c5b13c35",
   "metadata": {},
   "outputs": [],
   "source": [
    "1 != 0"
   ]
  },
  {
   "cell_type": "code",
   "execution_count": null,
   "id": "7401cd9d",
   "metadata": {},
   "outputs": [],
   "source": [
    "1 >= 0"
   ]
  },
  {
   "cell_type": "code",
   "execution_count": null,
   "id": "fa94797a",
   "metadata": {},
   "outputs": [],
   "source": [
    "0 <= 1"
   ]
  },
  {
   "cell_type": "code",
   "execution_count": null,
   "id": "2378fa35",
   "metadata": {},
   "outputs": [],
   "source": [
    "'A' * 3"
   ]
  },
  {
   "cell_type": "code",
   "execution_count": null,
   "id": "86753b7c",
   "metadata": {},
   "outputs": [],
   "source": [
    "'A' * 3.0  # dá erro"
   ]
  },
  {
   "cell_type": "code",
   "execution_count": null,
   "id": "6700b68c",
   "metadata": {},
   "outputs": [],
   "source": [
    "['a', 'b', 'c'] * 3.0  # listas e strings são ambas 'sequências'"
   ]
  },
  {
   "cell_type": "code",
   "execution_count": null,
   "id": "53c07781",
   "metadata": {},
   "outputs": [],
   "source": [
    "lista_com_varios_tipos = ['uma_string',\n",
    "                          42,\n",
    "                          3.14,\n",
    "                          ['outra_listra', 'outra_lista']\n",
    "                         ]  # no entanto, listas podem ter valores de qualquer tipo"
   ]
  },
  {
   "cell_type": "code",
   "execution_count": null,
   "id": "0d57f629",
   "metadata": {},
   "outputs": [],
   "source": [
    "frutas = ['maçã', 'laranja', 'banana']\n",
    "palavra = 'amendoim'"
   ]
  },
  {
   "cell_type": "code",
   "execution_count": null,
   "id": "0065761b",
   "metadata": {},
   "outputs": [],
   "source": [
    "for fruta in frutas:\n",
    "    print(fruta)"
   ]
  },
  {
   "cell_type": "code",
   "execution_count": null,
   "id": "aab6ca50",
   "metadata": {},
   "outputs": [],
   "source": [
    "for letra in palavra:\n",
    "    print(letra)"
   ]
  },
  {
   "cell_type": "code",
   "execution_count": null,
   "id": "7d194737",
   "metadata": {},
   "outputs": [],
   "source": [
    "print(frutas[0] == 'maçã')\n",
    "print(palavra[0] == 'a')"
   ]
  },
  {
   "cell_type": "markdown",
   "id": "10c69b26-a2fc-4b4e-8c3d-fa5ea78338b7",
   "metadata": {},
   "source": [
    "### Encontro 2 - 06 de julho de 2021\n",
    "\n",
    "### Estudo\n",
    "* Exercícios HackerRank\n",
    "* Funções embutidas\n",
    "    * `len()`\n",
    "    * `max()`\n",
    "    * `min()`\n",
    "    * `range()`\n",
    "    * `help()`\n",
    "* Condicionais\n",
    "* Bibliotecas\n",
    "    * `time`\n",
    "* Site [QuantConnect](http://quantconnect.com)\n",
    "    * Cloud com dados\n",
    "\n",
    "### Conteúdo\n",
    "* Funções\n",
    "    * **Para que servem funções?** Para abstrair tarefas dentro do nosso programa, assim evitando a duplicação de informação.\n",
    "* Bibliotecas\n",
    "    * Três formas de importar bibliotecas\n",
    "        * Lib inteira `import math`\n",
    "        * Funções específicas `from math import cos, pi`\n",
    "        * Com atalho `import math as m`\n",
    "* Pedindo ajuda\n",
    "    * Três formas diferentes\n",
    "        * Com a função embutida `help(funcao)`\n",
    "        * `funcao?` -> mostra a docstring\n",
    "        * `funcao??` -> mostra docstring + código fonte\n",
    "    * Usando a tecla TAB\n",
    "* Zen do Python\n",
    "    * Filosofia por trás da linguagem com princípios para escrever código bonito/Pythonico\n",
    "    * `import this`\n",
    "    \n",
    "### Homework\n",
    "\n",
    "Usando o módulo `math` e dado uma esfera de raio `r`, criar funções para:\n",
    "- determinar a circunferência\n",
    "- determinar a área\n",
    "- determinar o volume\n",
    "- imprimir todas essas informações"
   ]
  },
  {
   "cell_type": "markdown",
   "id": "202f92bd-7310-41d2-9cb6-acb9425a114b",
   "metadata": {},
   "source": [
    "#### Exemplo de função\n",
    "\n",
    "Quero escrever uma função que diz se um ano é bissexto ou não.\n",
    "\n",
    "Um ano é bissexto se:\n",
    " - é divisível por 4, a não ser que\n",
    " - seja divisível por 100, a não ser que seja divisível por 400\n",
    " \n",
    "**Entrada:** um ano (`int`)  \n",
    "**O que faz:** faz as operações para determinar se o ano é bissexto  \n",
    "**Saída:** `bool`"
   ]
  },
  {
   "cell_type": "code",
   "execution_count": null,
   "id": "2467e373-9d15-4dad-971e-29240d9a4680",
   "metadata": {},
   "outputs": [],
   "source": [
    "import this"
   ]
  },
  {
   "cell_type": "code",
   "execution_count": null,
   "id": "7dcd6e8d-c3d2-4e86-9d97-5603b76b1d79",
   "metadata": {},
   "outputs": [],
   "source": [
    "def calcular_bissexto(ano):\n",
    "    \"\"\"\n",
    "    Calcula se um ano é bissexto ou não.\n",
    "    \n",
    "    args:\n",
    "        ano -> ano dado como inteiro (int)\n",
    "        \n",
    "    retorna:\n",
    "        bool -> se o ano é bissexto (True) ou não (False)\n",
    "    \"\"\"\n",
    "    divisivel_por_4 = ano % 4 == 0  # bool\n",
    "    divisivel_por_100 = ano % 100 == 0  # bool\n",
    "    divisivel_por_400 = ano % 400 == 0  # bool\n",
    "    \n",
    "    bissexto = divisivel_por_4 and (divisivel_por_400 or not divisivel_por_100)\n",
    "    return bissexto"
   ]
  },
  {
   "cell_type": "code",
   "execution_count": null,
   "id": "456c2509-594b-4128-9dff-cddd951502d7",
   "metadata": {},
   "outputs": [],
   "source": [
    "def assar_bolo(farinha, ovos, acucar, tempo_de_forno):\n",
    "    massa = farinha + ovos + acucar\n",
    "    bolo = Forno.assar(massa, tempo_de_forno)\n",
    "    \n",
    "    return bolo"
   ]
  },
  {
   "cell_type": "code",
   "execution_count": null,
   "id": "82fb6114-2ffb-490c-b44a-e5e423004148",
   "metadata": {},
   "outputs": [],
   "source": [
    "import math  # importa a lib inteira (acessar com math.)\n",
    "from math import cos, pi  # importo funções específicas\n",
    "import math as m  # como atalho"
   ]
  },
  {
   "cell_type": "code",
   "execution_count": null,
   "id": "0cb23b07-cd57-4af4-8635-7fdf8bea4246",
   "metadata": {},
   "outputs": [],
   "source": []
  }
 ],
 "metadata": {
  "kernelspec": {
   "display_name": "Python [conda env:xlab]",
   "language": "python",
   "name": "conda-env-xlab-py"
  },
  "language_info": {
   "codemirror_mode": {
    "name": "ipython",
    "version": 3
   },
   "file_extension": ".py",
   "mimetype": "text/x-python",
   "name": "python",
   "nbconvert_exporter": "python",
   "pygments_lexer": "ipython3",
   "version": "3.9.2"
  }
 },
 "nbformat": 4,
 "nbformat_minor": 5
}
