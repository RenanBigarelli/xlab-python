{
 "cells": [
  {
   "cell_type": "markdown",
   "id": "4a645dd7",
   "metadata": {},
   "source": [
    "### Encontro 1 - 01 de julho de 2021\n",
    "\n",
    "* Usando o JupyterLab\n",
    "    * Tipos de célula\n",
    "    * Atalhos do teclado\n",
    "* Revisão Python básico\n",
    "    * Jogo de pergunta/resposta\n",
    "        * Interpretador Python sempre RETORNA algo (pode ser nada).\n",
    "    * Variáveis\n",
    "    * Tipos de dados\n",
    "        * `str` -> texto (\"a string of characters\")\n",
    "        * `int` -> inteiro\n",
    "        * `float` -> número com vírgula (ponto flutuante)\n",
    "        * `bool` -> `True` ou `False`\n",
    "        * __Também servem como funções built-in!__\n",
    "    * Operadores matemáticos\n",
    "    * Operadores lógicos\n",
    "* Funções embutidas (_built-in_)\n",
    "    * [Docs Python](https://docs.python.org/pt-br/3/library/functions.html) \n",
    "    * `type()`\n",
    "    * `print()`\n",
    "    \n",
    "### Ponto-chave\n",
    "* O tipo de um objeto determina as operações que posso fazer com ele.\n",
    "* Objetos podem ser de tipos diferentes e compartilhar propriedades em comum.\n",
    "\n",
    "### Próxima aula\n",
    "* Pedindo ajuda\n",
    "    * Diferentes maneiras\n",
    "    * Tecla `TAB`"
   ]
  },
  {
   "cell_type": "code",
   "execution_count": null,
   "id": "6a666f87",
   "metadata": {},
   "outputs": [],
   "source": [
    "# operadores matemáticos\n",
    "2 + 2\n",
    "2 - 2\n",
    "2 * 2\n",
    "2 / 2\n",
    "2 ** 3  # power\n",
    "10 % 3  # modulo\n",
    "10 // 3  # floor division"
   ]
  },
  {
   "cell_type": "code",
   "execution_count": null,
   "id": "5e5f8a0c",
   "metadata": {},
   "outputs": [],
   "source": [
    "resultado = 10 // 3"
   ]
  },
  {
   "cell_type": "code",
   "execution_count": null,
   "id": "26eed945",
   "metadata": {},
   "outputs": [],
   "source": [
    "resultado"
   ]
  },
  {
   "cell_type": "code",
   "execution_count": null,
   "id": "f9ef939e",
   "metadata": {},
   "outputs": [],
   "source": [
    "resultado_print = print(resultado)"
   ]
  },
  {
   "cell_type": "code",
   "execution_count": null,
   "id": "cec0aeb9",
   "metadata": {},
   "outputs": [],
   "source": [
    "print(resultado_print)"
   ]
  },
  {
   "cell_type": "code",
   "execution_count": null,
   "id": "a67ffd1a",
   "metadata": {},
   "outputs": [],
   "source": [
    "resultado = '2' + 2"
   ]
  },
  {
   "cell_type": "code",
   "execution_count": null,
   "id": "3c7bc2eb",
   "metadata": {},
   "outputs": [],
   "source": [
    "'2' + '2'"
   ]
  },
  {
   "cell_type": "code",
   "execution_count": null,
   "id": "1fa34a8d",
   "metadata": {},
   "outputs": [],
   "source": [
    "2.0 + 2.5"
   ]
  },
  {
   "cell_type": "code",
   "execution_count": null,
   "id": "052117b8",
   "metadata": {},
   "outputs": [],
   "source": [
    "2 + 2.5"
   ]
  },
  {
   "cell_type": "code",
   "execution_count": null,
   "id": "7105b504",
   "metadata": {},
   "outputs": [],
   "source": [
    "10 / 5"
   ]
  },
  {
   "cell_type": "code",
   "execution_count": null,
   "id": "901d0f56",
   "metadata": {},
   "outputs": [],
   "source": [
    "2 * 2"
   ]
  },
  {
   "cell_type": "code",
   "execution_count": null,
   "id": "a64e48ae",
   "metadata": {},
   "outputs": [],
   "source": [
    "type(2 * 2.5)"
   ]
  },
  {
   "cell_type": "code",
   "execution_count": null,
   "id": "c446e33a",
   "metadata": {},
   "outputs": [],
   "source": [
    "float(2)"
   ]
  },
  {
   "cell_type": "code",
   "execution_count": null,
   "id": "e3797376",
   "metadata": {},
   "outputs": [],
   "source": [
    "int(2.5)"
   ]
  },
  {
   "cell_type": "code",
   "execution_count": null,
   "id": "e7030fa3",
   "metadata": {},
   "outputs": [],
   "source": [
    "str(3.14) + \" é o número Pi\""
   ]
  },
  {
   "cell_type": "code",
   "execution_count": null,
   "id": "93a867e9",
   "metadata": {},
   "outputs": [],
   "source": [
    "type(1 > 0)"
   ]
  },
  {
   "cell_type": "code",
   "execution_count": null,
   "id": "41e4649c",
   "metadata": {},
   "outputs": [],
   "source": [
    "bool(1)"
   ]
  },
  {
   "cell_type": "code",
   "execution_count": null,
   "id": "5eb6ea96",
   "metadata": {},
   "outputs": [],
   "source": [
    "bool(0)"
   ]
  },
  {
   "cell_type": "code",
   "execution_count": null,
   "id": "aa061728",
   "metadata": {},
   "outputs": [],
   "source": [
    "bool(0)"
   ]
  },
  {
   "cell_type": "code",
   "execution_count": null,
   "id": "d787a702",
   "metadata": {},
   "outputs": [],
   "source": [
    "1 > 0"
   ]
  },
  {
   "cell_type": "code",
   "execution_count": null,
   "id": "cc3659f1",
   "metadata": {},
   "outputs": [],
   "source": [
    "1 < 0"
   ]
  },
  {
   "cell_type": "code",
   "execution_count": null,
   "id": "daedce79",
   "metadata": {},
   "outputs": [],
   "source": [
    "1 == 1"
   ]
  },
  {
   "cell_type": "code",
   "execution_count": null,
   "id": "6750d6aa",
   "metadata": {},
   "outputs": [],
   "source": [
    "1 != 0"
   ]
  },
  {
   "cell_type": "code",
   "execution_count": null,
   "id": "dba02bcd",
   "metadata": {},
   "outputs": [],
   "source": [
    "1 >= 0"
   ]
  },
  {
   "cell_type": "code",
   "execution_count": null,
   "id": "b7879ab6",
   "metadata": {},
   "outputs": [],
   "source": [
    "0 <= 1"
   ]
  },
  {
   "cell_type": "code",
   "execution_count": null,
   "id": "ea2d34e6",
   "metadata": {},
   "outputs": [],
   "source": [
    "'A' * 3"
   ]
  },
  {
   "cell_type": "code",
   "execution_count": null,
   "id": "28aa66d5",
   "metadata": {},
   "outputs": [],
   "source": [
    "'A' * 3.0  # dá erro"
   ]
  },
  {
   "cell_type": "code",
   "execution_count": null,
   "id": "9d075caa",
   "metadata": {},
   "outputs": [],
   "source": [
    "['a', 'b', 'c'] * 3.0  # listas e strings são ambas 'sequências'"
   ]
  },
  {
   "cell_type": "code",
   "execution_count": null,
   "id": "ac97720a",
   "metadata": {},
   "outputs": [],
   "source": [
    "lista_com_varios_tipos = ['uma_string',\n",
    "                          42,\n",
    "                          3.14,\n",
    "                          ['outra_listra', 'outra_lista']\n",
    "                         ]  # no entanto, listas podem ter valores de qualquer tipo"
   ]
  },
  {
   "cell_type": "code",
   "execution_count": null,
   "id": "57ac02fb",
   "metadata": {},
   "outputs": [],
   "source": [
    "frutas = ['maçã', 'laranja', 'banana']\n",
    "palavra = 'amendoim'"
   ]
  },
  {
   "cell_type": "code",
   "execution_count": null,
   "id": "de3c46e9",
   "metadata": {},
   "outputs": [],
   "source": [
    "for fruta in frutas:\n",
    "    print(fruta)"
   ]
  },
  {
   "cell_type": "code",
   "execution_count": null,
   "id": "23616151",
   "metadata": {},
   "outputs": [],
   "source": [
    "for letra in palavra:\n",
    "    print(letra)"
   ]
  },
  {
   "cell_type": "code",
   "execution_count": null,
   "id": "de91bea0",
   "metadata": {},
   "outputs": [],
   "source": [
    "print(frutas[0] == 'maçã')\n",
    "print(palavra[0] == 'a')"
   ]
  },
  {
   "cell_type": "code",
   "execution_count": null,
   "id": "ac4c86fa",
   "metadata": {},
   "outputs": [],
   "source": []
  }
 ],
 "metadata": {
  "kernelspec": {
   "display_name": "Python [conda env:xlab]",
   "language": "python",
   "name": "conda-env-xlab-py"
  },
  "language_info": {
   "codemirror_mode": {
    "name": "ipython",
    "version": 3
   },
   "file_extension": ".py",
   "mimetype": "text/x-python",
   "name": "python",
   "nbconvert_exporter": "python",
   "pygments_lexer": "ipython3",
   "version": "3.9.2"
  }
 },
 "nbformat": 4,
 "nbformat_minor": 5
}
